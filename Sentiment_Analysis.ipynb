{
  "nbformat": 4,
  "nbformat_minor": 0,
  "metadata": {
    "colab": {
      "name": "Sentiment_Analysis.ipynb",
      "provenance": [],
      "collapsed_sections": []
    },
    "kernelspec": {
      "name": "python3",
      "display_name": "Python 3"
    },
    "widgets": {
      "application/vnd.jupyter.widget-state+json": {
        "5aff945cf0ed44e49642ae5e7bc29af7": {
          "model_module": "@jupyter-widgets/controls",
          "model_name": "HBoxModel",
          "state": {
            "_view_name": "HBoxView",
            "_dom_classes": [],
            "_model_name": "HBoxModel",
            "_view_module": "@jupyter-widgets/controls",
            "_model_module_version": "1.5.0",
            "_view_count": null,
            "_view_module_version": "1.5.0",
            "box_style": "",
            "layout": "IPY_MODEL_915e97332c8d41e8b8bf64744fa8685e",
            "_model_module": "@jupyter-widgets/controls",
            "children": [
              "IPY_MODEL_9c08b6ea49414763828c3fe65eebf943",
              "IPY_MODEL_a0870b48d06d49c1875a309feb76a3dc"
            ]
          }
        },
        "915e97332c8d41e8b8bf64744fa8685e": {
          "model_module": "@jupyter-widgets/base",
          "model_name": "LayoutModel",
          "state": {
            "_view_name": "LayoutView",
            "grid_template_rows": null,
            "right": null,
            "justify_content": null,
            "_view_module": "@jupyter-widgets/base",
            "overflow": null,
            "_model_module_version": "1.2.0",
            "_view_count": null,
            "flex_flow": null,
            "width": null,
            "min_width": null,
            "border": null,
            "align_items": null,
            "bottom": null,
            "_model_module": "@jupyter-widgets/base",
            "top": null,
            "grid_column": null,
            "overflow_y": null,
            "overflow_x": null,
            "grid_auto_flow": null,
            "grid_area": null,
            "grid_template_columns": null,
            "flex": null,
            "_model_name": "LayoutModel",
            "justify_items": null,
            "grid_row": null,
            "max_height": null,
            "align_content": null,
            "visibility": null,
            "align_self": null,
            "height": null,
            "min_height": null,
            "padding": null,
            "grid_auto_rows": null,
            "grid_gap": null,
            "max_width": null,
            "order": null,
            "_view_module_version": "1.2.0",
            "grid_template_areas": null,
            "object_position": null,
            "object_fit": null,
            "grid_auto_columns": null,
            "margin": null,
            "display": null,
            "left": null
          }
        },
        "9c08b6ea49414763828c3fe65eebf943": {
          "model_module": "@jupyter-widgets/controls",
          "model_name": "IntProgressModel",
          "state": {
            "_view_name": "ProgressView",
            "style": "IPY_MODEL_0ad31d95b78e4384b9d8c99348cc18c8",
            "_dom_classes": [],
            "description": "Dl Completed...: 100%",
            "_model_name": "IntProgressModel",
            "bar_style": "success",
            "max": 1,
            "_view_module": "@jupyter-widgets/controls",
            "_model_module_version": "1.5.0",
            "value": 1,
            "_view_count": null,
            "_view_module_version": "1.5.0",
            "orientation": "horizontal",
            "min": 0,
            "description_tooltip": null,
            "_model_module": "@jupyter-widgets/controls",
            "layout": "IPY_MODEL_ec8bbad4335241d2a968ef111756c569"
          }
        },
        "a0870b48d06d49c1875a309feb76a3dc": {
          "model_module": "@jupyter-widgets/controls",
          "model_name": "HTMLModel",
          "state": {
            "_view_name": "HTMLView",
            "style": "IPY_MODEL_776ddd981a1946d2a82adb7b0c212dc8",
            "_dom_classes": [],
            "description": "",
            "_model_name": "HTMLModel",
            "placeholder": "​",
            "_view_module": "@jupyter-widgets/controls",
            "_model_module_version": "1.5.0",
            "value": " 1/1 [00:04&lt;00:00,  4.41s/ url]",
            "_view_count": null,
            "_view_module_version": "1.5.0",
            "description_tooltip": null,
            "_model_module": "@jupyter-widgets/controls",
            "layout": "IPY_MODEL_1d996ef81ac94597b8083e6688338016"
          }
        },
        "0ad31d95b78e4384b9d8c99348cc18c8": {
          "model_module": "@jupyter-widgets/controls",
          "model_name": "ProgressStyleModel",
          "state": {
            "_view_name": "StyleView",
            "_model_name": "ProgressStyleModel",
            "description_width": "initial",
            "_view_module": "@jupyter-widgets/base",
            "_model_module_version": "1.5.0",
            "_view_count": null,
            "_view_module_version": "1.2.0",
            "bar_color": null,
            "_model_module": "@jupyter-widgets/controls"
          }
        },
        "ec8bbad4335241d2a968ef111756c569": {
          "model_module": "@jupyter-widgets/base",
          "model_name": "LayoutModel",
          "state": {
            "_view_name": "LayoutView",
            "grid_template_rows": null,
            "right": null,
            "justify_content": null,
            "_view_module": "@jupyter-widgets/base",
            "overflow": null,
            "_model_module_version": "1.2.0",
            "_view_count": null,
            "flex_flow": null,
            "width": null,
            "min_width": null,
            "border": null,
            "align_items": null,
            "bottom": null,
            "_model_module": "@jupyter-widgets/base",
            "top": null,
            "grid_column": null,
            "overflow_y": null,
            "overflow_x": null,
            "grid_auto_flow": null,
            "grid_area": null,
            "grid_template_columns": null,
            "flex": null,
            "_model_name": "LayoutModel",
            "justify_items": null,
            "grid_row": null,
            "max_height": null,
            "align_content": null,
            "visibility": null,
            "align_self": null,
            "height": null,
            "min_height": null,
            "padding": null,
            "grid_auto_rows": null,
            "grid_gap": null,
            "max_width": null,
            "order": null,
            "_view_module_version": "1.2.0",
            "grid_template_areas": null,
            "object_position": null,
            "object_fit": null,
            "grid_auto_columns": null,
            "margin": null,
            "display": null,
            "left": null
          }
        },
        "776ddd981a1946d2a82adb7b0c212dc8": {
          "model_module": "@jupyter-widgets/controls",
          "model_name": "DescriptionStyleModel",
          "state": {
            "_view_name": "StyleView",
            "_model_name": "DescriptionStyleModel",
            "description_width": "",
            "_view_module": "@jupyter-widgets/base",
            "_model_module_version": "1.5.0",
            "_view_count": null,
            "_view_module_version": "1.2.0",
            "_model_module": "@jupyter-widgets/controls"
          }
        },
        "1d996ef81ac94597b8083e6688338016": {
          "model_module": "@jupyter-widgets/base",
          "model_name": "LayoutModel",
          "state": {
            "_view_name": "LayoutView",
            "grid_template_rows": null,
            "right": null,
            "justify_content": null,
            "_view_module": "@jupyter-widgets/base",
            "overflow": null,
            "_model_module_version": "1.2.0",
            "_view_count": null,
            "flex_flow": null,
            "width": null,
            "min_width": null,
            "border": null,
            "align_items": null,
            "bottom": null,
            "_model_module": "@jupyter-widgets/base",
            "top": null,
            "grid_column": null,
            "overflow_y": null,
            "overflow_x": null,
            "grid_auto_flow": null,
            "grid_area": null,
            "grid_template_columns": null,
            "flex": null,
            "_model_name": "LayoutModel",
            "justify_items": null,
            "grid_row": null,
            "max_height": null,
            "align_content": null,
            "visibility": null,
            "align_self": null,
            "height": null,
            "min_height": null,
            "padding": null,
            "grid_auto_rows": null,
            "grid_gap": null,
            "max_width": null,
            "order": null,
            "_view_module_version": "1.2.0",
            "grid_template_areas": null,
            "object_position": null,
            "object_fit": null,
            "grid_auto_columns": null,
            "margin": null,
            "display": null,
            "left": null
          }
        },
        "1c43c78d608449bea65919b0311b4c33": {
          "model_module": "@jupyter-widgets/controls",
          "model_name": "HBoxModel",
          "state": {
            "_view_name": "HBoxView",
            "_dom_classes": [],
            "_model_name": "HBoxModel",
            "_view_module": "@jupyter-widgets/controls",
            "_model_module_version": "1.5.0",
            "_view_count": null,
            "_view_module_version": "1.5.0",
            "box_style": "",
            "layout": "IPY_MODEL_85c35b46582241c5b52d6cb77b6b8252",
            "_model_module": "@jupyter-widgets/controls",
            "children": [
              "IPY_MODEL_458a1816fc5e4fe392281ed695b91ec2",
              "IPY_MODEL_d78df088ca844b79a4af076b6416ff5c"
            ]
          }
        },
        "85c35b46582241c5b52d6cb77b6b8252": {
          "model_module": "@jupyter-widgets/base",
          "model_name": "LayoutModel",
          "state": {
            "_view_name": "LayoutView",
            "grid_template_rows": null,
            "right": null,
            "justify_content": null,
            "_view_module": "@jupyter-widgets/base",
            "overflow": null,
            "_model_module_version": "1.2.0",
            "_view_count": null,
            "flex_flow": null,
            "width": null,
            "min_width": null,
            "border": null,
            "align_items": null,
            "bottom": null,
            "_model_module": "@jupyter-widgets/base",
            "top": null,
            "grid_column": null,
            "overflow_y": null,
            "overflow_x": null,
            "grid_auto_flow": null,
            "grid_area": null,
            "grid_template_columns": null,
            "flex": null,
            "_model_name": "LayoutModel",
            "justify_items": null,
            "grid_row": null,
            "max_height": null,
            "align_content": null,
            "visibility": null,
            "align_self": null,
            "height": null,
            "min_height": null,
            "padding": null,
            "grid_auto_rows": null,
            "grid_gap": null,
            "max_width": null,
            "order": null,
            "_view_module_version": "1.2.0",
            "grid_template_areas": null,
            "object_position": null,
            "object_fit": null,
            "grid_auto_columns": null,
            "margin": null,
            "display": null,
            "left": null
          }
        },
        "458a1816fc5e4fe392281ed695b91ec2": {
          "model_module": "@jupyter-widgets/controls",
          "model_name": "IntProgressModel",
          "state": {
            "_view_name": "ProgressView",
            "style": "IPY_MODEL_b0f41c0d90834e409270f659fa894462",
            "_dom_classes": [],
            "description": "Dl Size...: 100%",
            "_model_name": "IntProgressModel",
            "bar_style": "success",
            "max": 1,
            "_view_module": "@jupyter-widgets/controls",
            "_model_module_version": "1.5.0",
            "value": 1,
            "_view_count": null,
            "_view_module_version": "1.5.0",
            "orientation": "horizontal",
            "min": 0,
            "description_tooltip": null,
            "_model_module": "@jupyter-widgets/controls",
            "layout": "IPY_MODEL_0ad03bd12cf84960a66f0bf379c331f6"
          }
        },
        "d78df088ca844b79a4af076b6416ff5c": {
          "model_module": "@jupyter-widgets/controls",
          "model_name": "HTMLModel",
          "state": {
            "_view_name": "HTMLView",
            "style": "IPY_MODEL_ce7f5deafe0c42d78044946fa49fc76e",
            "_dom_classes": [],
            "description": "",
            "_model_name": "HTMLModel",
            "placeholder": "​",
            "_view_module": "@jupyter-widgets/controls",
            "_model_module_version": "1.5.0",
            "value": " 16/16 [00:04&lt;00:00,  3.66 MiB/s]",
            "_view_count": null,
            "_view_module_version": "1.5.0",
            "description_tooltip": null,
            "_model_module": "@jupyter-widgets/controls",
            "layout": "IPY_MODEL_209072093ec546d28c82b99e817f079c"
          }
        },
        "b0f41c0d90834e409270f659fa894462": {
          "model_module": "@jupyter-widgets/controls",
          "model_name": "ProgressStyleModel",
          "state": {
            "_view_name": "StyleView",
            "_model_name": "ProgressStyleModel",
            "description_width": "initial",
            "_view_module": "@jupyter-widgets/base",
            "_model_module_version": "1.5.0",
            "_view_count": null,
            "_view_module_version": "1.2.0",
            "bar_color": null,
            "_model_module": "@jupyter-widgets/controls"
          }
        },
        "0ad03bd12cf84960a66f0bf379c331f6": {
          "model_module": "@jupyter-widgets/base",
          "model_name": "LayoutModel",
          "state": {
            "_view_name": "LayoutView",
            "grid_template_rows": null,
            "right": null,
            "justify_content": null,
            "_view_module": "@jupyter-widgets/base",
            "overflow": null,
            "_model_module_version": "1.2.0",
            "_view_count": null,
            "flex_flow": null,
            "width": null,
            "min_width": null,
            "border": null,
            "align_items": null,
            "bottom": null,
            "_model_module": "@jupyter-widgets/base",
            "top": null,
            "grid_column": null,
            "overflow_y": null,
            "overflow_x": null,
            "grid_auto_flow": null,
            "grid_area": null,
            "grid_template_columns": null,
            "flex": null,
            "_model_name": "LayoutModel",
            "justify_items": null,
            "grid_row": null,
            "max_height": null,
            "align_content": null,
            "visibility": null,
            "align_self": null,
            "height": null,
            "min_height": null,
            "padding": null,
            "grid_auto_rows": null,
            "grid_gap": null,
            "max_width": null,
            "order": null,
            "_view_module_version": "1.2.0",
            "grid_template_areas": null,
            "object_position": null,
            "object_fit": null,
            "grid_auto_columns": null,
            "margin": null,
            "display": null,
            "left": null
          }
        },
        "ce7f5deafe0c42d78044946fa49fc76e": {
          "model_module": "@jupyter-widgets/controls",
          "model_name": "DescriptionStyleModel",
          "state": {
            "_view_name": "StyleView",
            "_model_name": "DescriptionStyleModel",
            "description_width": "",
            "_view_module": "@jupyter-widgets/base",
            "_model_module_version": "1.5.0",
            "_view_count": null,
            "_view_module_version": "1.2.0",
            "_model_module": "@jupyter-widgets/controls"
          }
        },
        "209072093ec546d28c82b99e817f079c": {
          "model_module": "@jupyter-widgets/base",
          "model_name": "LayoutModel",
          "state": {
            "_view_name": "LayoutView",
            "grid_template_rows": null,
            "right": null,
            "justify_content": null,
            "_view_module": "@jupyter-widgets/base",
            "overflow": null,
            "_model_module_version": "1.2.0",
            "_view_count": null,
            "flex_flow": null,
            "width": null,
            "min_width": null,
            "border": null,
            "align_items": null,
            "bottom": null,
            "_model_module": "@jupyter-widgets/base",
            "top": null,
            "grid_column": null,
            "overflow_y": null,
            "overflow_x": null,
            "grid_auto_flow": null,
            "grid_area": null,
            "grid_template_columns": null,
            "flex": null,
            "_model_name": "LayoutModel",
            "justify_items": null,
            "grid_row": null,
            "max_height": null,
            "align_content": null,
            "visibility": null,
            "align_self": null,
            "height": null,
            "min_height": null,
            "padding": null,
            "grid_auto_rows": null,
            "grid_gap": null,
            "max_width": null,
            "order": null,
            "_view_module_version": "1.2.0",
            "grid_template_areas": null,
            "object_position": null,
            "object_fit": null,
            "grid_auto_columns": null,
            "margin": null,
            "display": null,
            "left": null
          }
        },
        "744385a4f2d041959f85734d7deb2961": {
          "model_module": "@jupyter-widgets/controls",
          "model_name": "HBoxModel",
          "state": {
            "_view_name": "HBoxView",
            "_dom_classes": [],
            "_model_name": "HBoxModel",
            "_view_module": "@jupyter-widgets/controls",
            "_model_module_version": "1.5.0",
            "_view_count": null,
            "_view_module_version": "1.5.0",
            "box_style": "",
            "layout": "IPY_MODEL_191a671986344c2aaefd232019a2bd47",
            "_model_module": "@jupyter-widgets/controls",
            "children": [
              "IPY_MODEL_421e0625a7e845c3a8c5d0530c77c643",
              "IPY_MODEL_5caf59bb19d64989a032d1ef840d5f84"
            ]
          }
        },
        "191a671986344c2aaefd232019a2bd47": {
          "model_module": "@jupyter-widgets/base",
          "model_name": "LayoutModel",
          "state": {
            "_view_name": "LayoutView",
            "grid_template_rows": null,
            "right": null,
            "justify_content": null,
            "_view_module": "@jupyter-widgets/base",
            "overflow": null,
            "_model_module_version": "1.2.0",
            "_view_count": null,
            "flex_flow": null,
            "width": null,
            "min_width": null,
            "border": null,
            "align_items": null,
            "bottom": null,
            "_model_module": "@jupyter-widgets/base",
            "top": null,
            "grid_column": null,
            "overflow_y": null,
            "overflow_x": null,
            "grid_auto_flow": null,
            "grid_area": null,
            "grid_template_columns": null,
            "flex": null,
            "_model_name": "LayoutModel",
            "justify_items": null,
            "grid_row": null,
            "max_height": null,
            "align_content": null,
            "visibility": null,
            "align_self": null,
            "height": null,
            "min_height": null,
            "padding": null,
            "grid_auto_rows": null,
            "grid_gap": null,
            "max_width": null,
            "order": null,
            "_view_module_version": "1.2.0",
            "grid_template_areas": null,
            "object_position": null,
            "object_fit": null,
            "grid_auto_columns": null,
            "margin": null,
            "display": null,
            "left": null
          }
        },
        "421e0625a7e845c3a8c5d0530c77c643": {
          "model_module": "@jupyter-widgets/controls",
          "model_name": "IntProgressModel",
          "state": {
            "_view_name": "ProgressView",
            "style": "IPY_MODEL_b9998b68286a49a89444b0a60ac9a292",
            "_dom_classes": [],
            "description": "Extraction completed...: 100%",
            "_model_name": "IntProgressModel",
            "bar_style": "success",
            "max": 1,
            "_view_module": "@jupyter-widgets/controls",
            "_model_module_version": "1.5.0",
            "value": 1,
            "_view_count": null,
            "_view_module_version": "1.5.0",
            "orientation": "horizontal",
            "min": 0,
            "description_tooltip": null,
            "_model_module": "@jupyter-widgets/controls",
            "layout": "IPY_MODEL_ea0a4df136fa47e89b247fbd3a75714d"
          }
        },
        "5caf59bb19d64989a032d1ef840d5f84": {
          "model_module": "@jupyter-widgets/controls",
          "model_name": "HTMLModel",
          "state": {
            "_view_name": "HTMLView",
            "style": "IPY_MODEL_55deb523692a4cd598a73d8f5621929c",
            "_dom_classes": [],
            "description": "",
            "_model_name": "HTMLModel",
            "placeholder": "​",
            "_view_module": "@jupyter-widgets/controls",
            "_model_module_version": "1.5.0",
            "value": " 1/1 [00:04&lt;00:00,  4.33s/ file]",
            "_view_count": null,
            "_view_module_version": "1.5.0",
            "description_tooltip": null,
            "_model_module": "@jupyter-widgets/controls",
            "layout": "IPY_MODEL_e00916de38f7486bb1da738db9407e90"
          }
        },
        "b9998b68286a49a89444b0a60ac9a292": {
          "model_module": "@jupyter-widgets/controls",
          "model_name": "ProgressStyleModel",
          "state": {
            "_view_name": "StyleView",
            "_model_name": "ProgressStyleModel",
            "description_width": "initial",
            "_view_module": "@jupyter-widgets/base",
            "_model_module_version": "1.5.0",
            "_view_count": null,
            "_view_module_version": "1.2.0",
            "bar_color": null,
            "_model_module": "@jupyter-widgets/controls"
          }
        },
        "ea0a4df136fa47e89b247fbd3a75714d": {
          "model_module": "@jupyter-widgets/base",
          "model_name": "LayoutModel",
          "state": {
            "_view_name": "LayoutView",
            "grid_template_rows": null,
            "right": null,
            "justify_content": null,
            "_view_module": "@jupyter-widgets/base",
            "overflow": null,
            "_model_module_version": "1.2.0",
            "_view_count": null,
            "flex_flow": null,
            "width": null,
            "min_width": null,
            "border": null,
            "align_items": null,
            "bottom": null,
            "_model_module": "@jupyter-widgets/base",
            "top": null,
            "grid_column": null,
            "overflow_y": null,
            "overflow_x": null,
            "grid_auto_flow": null,
            "grid_area": null,
            "grid_template_columns": null,
            "flex": null,
            "_model_name": "LayoutModel",
            "justify_items": null,
            "grid_row": null,
            "max_height": null,
            "align_content": null,
            "visibility": null,
            "align_self": null,
            "height": null,
            "min_height": null,
            "padding": null,
            "grid_auto_rows": null,
            "grid_gap": null,
            "max_width": null,
            "order": null,
            "_view_module_version": "1.2.0",
            "grid_template_areas": null,
            "object_position": null,
            "object_fit": null,
            "grid_auto_columns": null,
            "margin": null,
            "display": null,
            "left": null
          }
        },
        "55deb523692a4cd598a73d8f5621929c": {
          "model_module": "@jupyter-widgets/controls",
          "model_name": "DescriptionStyleModel",
          "state": {
            "_view_name": "StyleView",
            "_model_name": "DescriptionStyleModel",
            "description_width": "",
            "_view_module": "@jupyter-widgets/base",
            "_model_module_version": "1.5.0",
            "_view_count": null,
            "_view_module_version": "1.2.0",
            "_model_module": "@jupyter-widgets/controls"
          }
        },
        "e00916de38f7486bb1da738db9407e90": {
          "model_module": "@jupyter-widgets/base",
          "model_name": "LayoutModel",
          "state": {
            "_view_name": "LayoutView",
            "grid_template_rows": null,
            "right": null,
            "justify_content": null,
            "_view_module": "@jupyter-widgets/base",
            "overflow": null,
            "_model_module_version": "1.2.0",
            "_view_count": null,
            "flex_flow": null,
            "width": null,
            "min_width": null,
            "border": null,
            "align_items": null,
            "bottom": null,
            "_model_module": "@jupyter-widgets/base",
            "top": null,
            "grid_column": null,
            "overflow_y": null,
            "overflow_x": null,
            "grid_auto_flow": null,
            "grid_area": null,
            "grid_template_columns": null,
            "flex": null,
            "_model_name": "LayoutModel",
            "justify_items": null,
            "grid_row": null,
            "max_height": null,
            "align_content": null,
            "visibility": null,
            "align_self": null,
            "height": null,
            "min_height": null,
            "padding": null,
            "grid_auto_rows": null,
            "grid_gap": null,
            "max_width": null,
            "order": null,
            "_view_module_version": "1.2.0",
            "grid_template_areas": null,
            "object_position": null,
            "object_fit": null,
            "grid_auto_columns": null,
            "margin": null,
            "display": null,
            "left": null
          }
        },
        "5ddf217a9d944074b8b1bdde35096ce7": {
          "model_module": "@jupyter-widgets/controls",
          "model_name": "HBoxModel",
          "state": {
            "_view_name": "HBoxView",
            "_dom_classes": [],
            "_model_name": "HBoxModel",
            "_view_module": "@jupyter-widgets/controls",
            "_model_module_version": "1.5.0",
            "_view_count": null,
            "_view_module_version": "1.5.0",
            "box_style": "",
            "layout": "IPY_MODEL_8b9e24541e1847c69ebc7b40f01f61ea",
            "_model_module": "@jupyter-widgets/controls",
            "children": [
              "IPY_MODEL_564735f2c16e41cb83007a05f6ff5619",
              "IPY_MODEL_7cdb70a4c1454e3db4c3f75547bb4a51"
            ]
          }
        },
        "8b9e24541e1847c69ebc7b40f01f61ea": {
          "model_module": "@jupyter-widgets/base",
          "model_name": "LayoutModel",
          "state": {
            "_view_name": "LayoutView",
            "grid_template_rows": null,
            "right": null,
            "justify_content": null,
            "_view_module": "@jupyter-widgets/base",
            "overflow": null,
            "_model_module_version": "1.2.0",
            "_view_count": null,
            "flex_flow": null,
            "width": null,
            "min_width": null,
            "border": null,
            "align_items": null,
            "bottom": null,
            "_model_module": "@jupyter-widgets/base",
            "top": null,
            "grid_column": null,
            "overflow_y": null,
            "overflow_x": null,
            "grid_auto_flow": null,
            "grid_area": null,
            "grid_template_columns": null,
            "flex": null,
            "_model_name": "LayoutModel",
            "justify_items": null,
            "grid_row": null,
            "max_height": null,
            "align_content": null,
            "visibility": null,
            "align_self": null,
            "height": null,
            "min_height": null,
            "padding": null,
            "grid_auto_rows": null,
            "grid_gap": null,
            "max_width": null,
            "order": null,
            "_view_module_version": "1.2.0",
            "grid_template_areas": null,
            "object_position": null,
            "object_fit": null,
            "grid_auto_columns": null,
            "margin": null,
            "display": null,
            "left": null
          }
        },
        "564735f2c16e41cb83007a05f6ff5619": {
          "model_module": "@jupyter-widgets/controls",
          "model_name": "IntProgressModel",
          "state": {
            "_view_name": "ProgressView",
            "style": "IPY_MODEL_d56dd007ed574d0db30372fe5ff771c1",
            "_dom_classes": [],
            "description": "",
            "_model_name": "IntProgressModel",
            "bar_style": "info",
            "max": 1,
            "_view_module": "@jupyter-widgets/controls",
            "_model_module_version": "1.5.0",
            "value": 1,
            "_view_count": null,
            "_view_module_version": "1.5.0",
            "orientation": "horizontal",
            "min": 0,
            "description_tooltip": null,
            "_model_module": "@jupyter-widgets/controls",
            "layout": "IPY_MODEL_eccb3aaac2a146ce88d845b22f7157e6"
          }
        },
        "7cdb70a4c1454e3db4c3f75547bb4a51": {
          "model_module": "@jupyter-widgets/controls",
          "model_name": "HTMLModel",
          "state": {
            "_view_name": "HTMLView",
            "style": "IPY_MODEL_3fb349fc11a6430ea5234d119db4bdc3",
            "_dom_classes": [],
            "description": "",
            "_model_name": "HTMLModel",
            "placeholder": "​",
            "_view_module": "@jupyter-widgets/controls",
            "_model_module_version": "1.5.0",
            "value": " 85981/0 [01:51&lt;00:00, 763.30 examples/s]",
            "_view_count": null,
            "_view_module_version": "1.5.0",
            "description_tooltip": null,
            "_model_module": "@jupyter-widgets/controls",
            "layout": "IPY_MODEL_2ab4229a5b9647a5af4f5f566257b5fb"
          }
        },
        "d56dd007ed574d0db30372fe5ff771c1": {
          "model_module": "@jupyter-widgets/controls",
          "model_name": "ProgressStyleModel",
          "state": {
            "_view_name": "StyleView",
            "_model_name": "ProgressStyleModel",
            "description_width": "initial",
            "_view_module": "@jupyter-widgets/base",
            "_model_module_version": "1.5.0",
            "_view_count": null,
            "_view_module_version": "1.2.0",
            "bar_color": null,
            "_model_module": "@jupyter-widgets/controls"
          }
        },
        "eccb3aaac2a146ce88d845b22f7157e6": {
          "model_module": "@jupyter-widgets/base",
          "model_name": "LayoutModel",
          "state": {
            "_view_name": "LayoutView",
            "grid_template_rows": null,
            "right": null,
            "justify_content": null,
            "_view_module": "@jupyter-widgets/base",
            "overflow": null,
            "_model_module_version": "1.2.0",
            "_view_count": null,
            "flex_flow": null,
            "width": null,
            "min_width": null,
            "border": null,
            "align_items": null,
            "bottom": null,
            "_model_module": "@jupyter-widgets/base",
            "top": null,
            "grid_column": null,
            "overflow_y": null,
            "overflow_x": null,
            "grid_auto_flow": null,
            "grid_area": null,
            "grid_template_columns": null,
            "flex": null,
            "_model_name": "LayoutModel",
            "justify_items": null,
            "grid_row": null,
            "max_height": null,
            "align_content": null,
            "visibility": null,
            "align_self": null,
            "height": null,
            "min_height": null,
            "padding": null,
            "grid_auto_rows": null,
            "grid_gap": null,
            "max_width": null,
            "order": null,
            "_view_module_version": "1.2.0",
            "grid_template_areas": null,
            "object_position": null,
            "object_fit": null,
            "grid_auto_columns": null,
            "margin": null,
            "display": null,
            "left": null
          }
        },
        "3fb349fc11a6430ea5234d119db4bdc3": {
          "model_module": "@jupyter-widgets/controls",
          "model_name": "DescriptionStyleModel",
          "state": {
            "_view_name": "StyleView",
            "_model_name": "DescriptionStyleModel",
            "description_width": "",
            "_view_module": "@jupyter-widgets/base",
            "_model_module_version": "1.5.0",
            "_view_count": null,
            "_view_module_version": "1.2.0",
            "_model_module": "@jupyter-widgets/controls"
          }
        },
        "2ab4229a5b9647a5af4f5f566257b5fb": {
          "model_module": "@jupyter-widgets/base",
          "model_name": "LayoutModel",
          "state": {
            "_view_name": "LayoutView",
            "grid_template_rows": null,
            "right": null,
            "justify_content": null,
            "_view_module": "@jupyter-widgets/base",
            "overflow": null,
            "_model_module_version": "1.2.0",
            "_view_count": null,
            "flex_flow": null,
            "width": null,
            "min_width": null,
            "border": null,
            "align_items": null,
            "bottom": null,
            "_model_module": "@jupyter-widgets/base",
            "top": null,
            "grid_column": null,
            "overflow_y": null,
            "overflow_x": null,
            "grid_auto_flow": null,
            "grid_area": null,
            "grid_template_columns": null,
            "flex": null,
            "_model_name": "LayoutModel",
            "justify_items": null,
            "grid_row": null,
            "max_height": null,
            "align_content": null,
            "visibility": null,
            "align_self": null,
            "height": null,
            "min_height": null,
            "padding": null,
            "grid_auto_rows": null,
            "grid_gap": null,
            "max_width": null,
            "order": null,
            "_view_module_version": "1.2.0",
            "grid_template_areas": null,
            "object_position": null,
            "object_fit": null,
            "grid_auto_columns": null,
            "margin": null,
            "display": null,
            "left": null
          }
        },
        "1596ab9efa4a4cfeaeebb945ef92866f": {
          "model_module": "@jupyter-widgets/controls",
          "model_name": "HBoxModel",
          "state": {
            "_view_name": "HBoxView",
            "_dom_classes": [],
            "_model_name": "HBoxModel",
            "_view_module": "@jupyter-widgets/controls",
            "_model_module_version": "1.5.0",
            "_view_count": null,
            "_view_module_version": "1.5.0",
            "box_style": "",
            "layout": "IPY_MODEL_ef27c7d869dc436ebbef1715fc304aa9",
            "_model_module": "@jupyter-widgets/controls",
            "children": [
              "IPY_MODEL_904af2e9a8dc4fe4bd065ffbbabce659",
              "IPY_MODEL_b3f5316ecc4e477ebed1ae784be4af0b"
            ]
          }
        },
        "ef27c7d869dc436ebbef1715fc304aa9": {
          "model_module": "@jupyter-widgets/base",
          "model_name": "LayoutModel",
          "state": {
            "_view_name": "LayoutView",
            "grid_template_rows": null,
            "right": null,
            "justify_content": null,
            "_view_module": "@jupyter-widgets/base",
            "overflow": null,
            "_model_module_version": "1.2.0",
            "_view_count": null,
            "flex_flow": null,
            "width": null,
            "min_width": null,
            "border": null,
            "align_items": null,
            "bottom": null,
            "_model_module": "@jupyter-widgets/base",
            "top": null,
            "grid_column": null,
            "overflow_y": null,
            "overflow_x": null,
            "grid_auto_flow": null,
            "grid_area": null,
            "grid_template_columns": null,
            "flex": null,
            "_model_name": "LayoutModel",
            "justify_items": null,
            "grid_row": null,
            "max_height": null,
            "align_content": null,
            "visibility": null,
            "align_self": null,
            "height": null,
            "min_height": null,
            "padding": null,
            "grid_auto_rows": null,
            "grid_gap": null,
            "max_width": null,
            "order": null,
            "_view_module_version": "1.2.0",
            "grid_template_areas": null,
            "object_position": null,
            "object_fit": null,
            "grid_auto_columns": null,
            "margin": null,
            "display": null,
            "left": null
          }
        },
        "904af2e9a8dc4fe4bd065ffbbabce659": {
          "model_module": "@jupyter-widgets/controls",
          "model_name": "IntProgressModel",
          "state": {
            "_view_name": "ProgressView",
            "style": "IPY_MODEL_b834df0a22994335a3496438c4b85b8f",
            "_dom_classes": [],
            "description": " 89%",
            "_model_name": "IntProgressModel",
            "bar_style": "danger",
            "max": 85981,
            "_view_module": "@jupyter-widgets/controls",
            "_model_module_version": "1.5.0",
            "value": 76348,
            "_view_count": null,
            "_view_module_version": "1.5.0",
            "orientation": "horizontal",
            "min": 0,
            "description_tooltip": null,
            "_model_module": "@jupyter-widgets/controls",
            "layout": "IPY_MODEL_95f64015161b4994883b9aae58e2c0bd"
          }
        },
        "b3f5316ecc4e477ebed1ae784be4af0b": {
          "model_module": "@jupyter-widgets/controls",
          "model_name": "HTMLModel",
          "state": {
            "_view_name": "HTMLView",
            "style": "IPY_MODEL_b1d286f8da984998b57195147e7f0a9f",
            "_dom_classes": [],
            "description": "",
            "_model_name": "HTMLModel",
            "placeholder": "​",
            "_view_module": "@jupyter-widgets/controls",
            "_model_module_version": "1.5.0",
            "value": " 76348/85981 [00:00&lt;12:54, 12.44 examples/s]",
            "_view_count": null,
            "_view_module_version": "1.5.0",
            "description_tooltip": null,
            "_model_module": "@jupyter-widgets/controls",
            "layout": "IPY_MODEL_14c05748c2a245888eaf2c096d760ac3"
          }
        },
        "b834df0a22994335a3496438c4b85b8f": {
          "model_module": "@jupyter-widgets/controls",
          "model_name": "ProgressStyleModel",
          "state": {
            "_view_name": "StyleView",
            "_model_name": "ProgressStyleModel",
            "description_width": "initial",
            "_view_module": "@jupyter-widgets/base",
            "_model_module_version": "1.5.0",
            "_view_count": null,
            "_view_module_version": "1.2.0",
            "bar_color": null,
            "_model_module": "@jupyter-widgets/controls"
          }
        },
        "95f64015161b4994883b9aae58e2c0bd": {
          "model_module": "@jupyter-widgets/base",
          "model_name": "LayoutModel",
          "state": {
            "_view_name": "LayoutView",
            "grid_template_rows": null,
            "right": null,
            "justify_content": null,
            "_view_module": "@jupyter-widgets/base",
            "overflow": null,
            "_model_module_version": "1.2.0",
            "_view_count": null,
            "flex_flow": null,
            "width": null,
            "min_width": null,
            "border": null,
            "align_items": null,
            "bottom": null,
            "_model_module": "@jupyter-widgets/base",
            "top": null,
            "grid_column": null,
            "overflow_y": null,
            "overflow_x": null,
            "grid_auto_flow": null,
            "grid_area": null,
            "grid_template_columns": null,
            "flex": null,
            "_model_name": "LayoutModel",
            "justify_items": null,
            "grid_row": null,
            "max_height": null,
            "align_content": null,
            "visibility": null,
            "align_self": null,
            "height": null,
            "min_height": null,
            "padding": null,
            "grid_auto_rows": null,
            "grid_gap": null,
            "max_width": null,
            "order": null,
            "_view_module_version": "1.2.0",
            "grid_template_areas": null,
            "object_position": null,
            "object_fit": null,
            "grid_auto_columns": null,
            "margin": null,
            "display": null,
            "left": null
          }
        },
        "b1d286f8da984998b57195147e7f0a9f": {
          "model_module": "@jupyter-widgets/controls",
          "model_name": "DescriptionStyleModel",
          "state": {
            "_view_name": "StyleView",
            "_model_name": "DescriptionStyleModel",
            "description_width": "",
            "_view_module": "@jupyter-widgets/base",
            "_model_module_version": "1.5.0",
            "_view_count": null,
            "_view_module_version": "1.2.0",
            "_model_module": "@jupyter-widgets/controls"
          }
        },
        "14c05748c2a245888eaf2c096d760ac3": {
          "model_module": "@jupyter-widgets/base",
          "model_name": "LayoutModel",
          "state": {
            "_view_name": "LayoutView",
            "grid_template_rows": null,
            "right": null,
            "justify_content": null,
            "_view_module": "@jupyter-widgets/base",
            "overflow": null,
            "_model_module_version": "1.2.0",
            "_view_count": null,
            "flex_flow": null,
            "width": null,
            "min_width": null,
            "border": null,
            "align_items": null,
            "bottom": null,
            "_model_module": "@jupyter-widgets/base",
            "top": null,
            "grid_column": null,
            "overflow_y": null,
            "overflow_x": null,
            "grid_auto_flow": null,
            "grid_area": null,
            "grid_template_columns": null,
            "flex": null,
            "_model_name": "LayoutModel",
            "justify_items": null,
            "grid_row": null,
            "max_height": null,
            "align_content": null,
            "visibility": null,
            "align_self": null,
            "height": null,
            "min_height": null,
            "padding": null,
            "grid_auto_rows": null,
            "grid_gap": null,
            "max_width": null,
            "order": null,
            "_view_module_version": "1.2.0",
            "grid_template_areas": null,
            "object_position": null,
            "object_fit": null,
            "grid_auto_columns": null,
            "margin": null,
            "display": null,
            "left": null
          }
        },
        "8e09b9bf81c740d2ae1d234fa52e5c32": {
          "model_module": "@jupyter-widgets/controls",
          "model_name": "HBoxModel",
          "state": {
            "_view_name": "HBoxView",
            "_dom_classes": [],
            "_model_name": "HBoxModel",
            "_view_module": "@jupyter-widgets/controls",
            "_model_module_version": "1.5.0",
            "_view_count": null,
            "_view_module_version": "1.5.0",
            "box_style": "",
            "layout": "IPY_MODEL_6196aa51303c44809f65cee6bc43cd67",
            "_model_module": "@jupyter-widgets/controls",
            "children": [
              "IPY_MODEL_1f919fcfff2148a2982316b3239af9fd",
              "IPY_MODEL_5da1d6948454423ba63c1fa169f6f00f"
            ]
          }
        },
        "6196aa51303c44809f65cee6bc43cd67": {
          "model_module": "@jupyter-widgets/base",
          "model_name": "LayoutModel",
          "state": {
            "_view_name": "LayoutView",
            "grid_template_rows": null,
            "right": null,
            "justify_content": null,
            "_view_module": "@jupyter-widgets/base",
            "overflow": null,
            "_model_module_version": "1.2.0",
            "_view_count": null,
            "flex_flow": null,
            "width": null,
            "min_width": null,
            "border": null,
            "align_items": null,
            "bottom": null,
            "_model_module": "@jupyter-widgets/base",
            "top": null,
            "grid_column": null,
            "overflow_y": null,
            "overflow_x": null,
            "grid_auto_flow": null,
            "grid_area": null,
            "grid_template_columns": null,
            "flex": null,
            "_model_name": "LayoutModel",
            "justify_items": null,
            "grid_row": null,
            "max_height": null,
            "align_content": null,
            "visibility": null,
            "align_self": null,
            "height": null,
            "min_height": null,
            "padding": null,
            "grid_auto_rows": null,
            "grid_gap": null,
            "max_width": null,
            "order": null,
            "_view_module_version": "1.2.0",
            "grid_template_areas": null,
            "object_position": null,
            "object_fit": null,
            "grid_auto_columns": null,
            "margin": null,
            "display": null,
            "left": null
          }
        },
        "1f919fcfff2148a2982316b3239af9fd": {
          "model_module": "@jupyter-widgets/controls",
          "model_name": "IntProgressModel",
          "state": {
            "_view_name": "ProgressView",
            "style": "IPY_MODEL_bb513aad15104819ac4c6de5ef4ed6d7",
            "_dom_classes": [],
            "description": "Computing statistics...: 100%",
            "_model_name": "IntProgressModel",
            "bar_style": "success",
            "max": 1,
            "_view_module": "@jupyter-widgets/controls",
            "_model_module_version": "1.5.0",
            "value": 1,
            "_view_count": null,
            "_view_module_version": "1.5.0",
            "orientation": "horizontal",
            "min": 0,
            "description_tooltip": null,
            "_model_module": "@jupyter-widgets/controls",
            "layout": "IPY_MODEL_8effd661d5894fe184382e3c231d2d80"
          }
        },
        "5da1d6948454423ba63c1fa169f6f00f": {
          "model_module": "@jupyter-widgets/controls",
          "model_name": "HTMLModel",
          "state": {
            "_view_name": "HTMLView",
            "style": "IPY_MODEL_cc803d108cae451c8923ecfa2e8d8be5",
            "_dom_classes": [],
            "description": "",
            "_model_name": "HTMLModel",
            "placeholder": "​",
            "_view_module": "@jupyter-widgets/controls",
            "_model_module_version": "1.5.0",
            "value": " 1/1 [03:48&lt;00:00, 228.93s/ split]",
            "_view_count": null,
            "_view_module_version": "1.5.0",
            "description_tooltip": null,
            "_model_module": "@jupyter-widgets/controls",
            "layout": "IPY_MODEL_60f613ddc22d469ca768124642497b01"
          }
        },
        "bb513aad15104819ac4c6de5ef4ed6d7": {
          "model_module": "@jupyter-widgets/controls",
          "model_name": "ProgressStyleModel",
          "state": {
            "_view_name": "StyleView",
            "_model_name": "ProgressStyleModel",
            "description_width": "initial",
            "_view_module": "@jupyter-widgets/base",
            "_model_module_version": "1.5.0",
            "_view_count": null,
            "_view_module_version": "1.2.0",
            "bar_color": null,
            "_model_module": "@jupyter-widgets/controls"
          }
        },
        "8effd661d5894fe184382e3c231d2d80": {
          "model_module": "@jupyter-widgets/base",
          "model_name": "LayoutModel",
          "state": {
            "_view_name": "LayoutView",
            "grid_template_rows": null,
            "right": null,
            "justify_content": null,
            "_view_module": "@jupyter-widgets/base",
            "overflow": null,
            "_model_module_version": "1.2.0",
            "_view_count": null,
            "flex_flow": null,
            "width": null,
            "min_width": null,
            "border": null,
            "align_items": null,
            "bottom": null,
            "_model_module": "@jupyter-widgets/base",
            "top": null,
            "grid_column": null,
            "overflow_y": null,
            "overflow_x": null,
            "grid_auto_flow": null,
            "grid_area": null,
            "grid_template_columns": null,
            "flex": null,
            "_model_name": "LayoutModel",
            "justify_items": null,
            "grid_row": null,
            "max_height": null,
            "align_content": null,
            "visibility": null,
            "align_self": null,
            "height": null,
            "min_height": null,
            "padding": null,
            "grid_auto_rows": null,
            "grid_gap": null,
            "max_width": null,
            "order": null,
            "_view_module_version": "1.2.0",
            "grid_template_areas": null,
            "object_position": null,
            "object_fit": null,
            "grid_auto_columns": null,
            "margin": null,
            "display": null,
            "left": null
          }
        },
        "cc803d108cae451c8923ecfa2e8d8be5": {
          "model_module": "@jupyter-widgets/controls",
          "model_name": "DescriptionStyleModel",
          "state": {
            "_view_name": "StyleView",
            "_model_name": "DescriptionStyleModel",
            "description_width": "",
            "_view_module": "@jupyter-widgets/base",
            "_model_module_version": "1.5.0",
            "_view_count": null,
            "_view_module_version": "1.2.0",
            "_model_module": "@jupyter-widgets/controls"
          }
        },
        "60f613ddc22d469ca768124642497b01": {
          "model_module": "@jupyter-widgets/base",
          "model_name": "LayoutModel",
          "state": {
            "_view_name": "LayoutView",
            "grid_template_rows": null,
            "right": null,
            "justify_content": null,
            "_view_module": "@jupyter-widgets/base",
            "overflow": null,
            "_model_module_version": "1.2.0",
            "_view_count": null,
            "flex_flow": null,
            "width": null,
            "min_width": null,
            "border": null,
            "align_items": null,
            "bottom": null,
            "_model_module": "@jupyter-widgets/base",
            "top": null,
            "grid_column": null,
            "overflow_y": null,
            "overflow_x": null,
            "grid_auto_flow": null,
            "grid_area": null,
            "grid_template_columns": null,
            "flex": null,
            "_model_name": "LayoutModel",
            "justify_items": null,
            "grid_row": null,
            "max_height": null,
            "align_content": null,
            "visibility": null,
            "align_self": null,
            "height": null,
            "min_height": null,
            "padding": null,
            "grid_auto_rows": null,
            "grid_gap": null,
            "max_width": null,
            "order": null,
            "_view_module_version": "1.2.0",
            "grid_template_areas": null,
            "object_position": null,
            "object_fit": null,
            "grid_auto_columns": null,
            "margin": null,
            "display": null,
            "left": null
          }
        },
        "9b72ffcd578b4032af9e19d5838cfd4a": {
          "model_module": "@jupyter-widgets/controls",
          "model_name": "HBoxModel",
          "state": {
            "_view_name": "HBoxView",
            "_dom_classes": [],
            "_model_name": "HBoxModel",
            "_view_module": "@jupyter-widgets/controls",
            "_model_module_version": "1.5.0",
            "_view_count": null,
            "_view_module_version": "1.5.0",
            "box_style": "",
            "layout": "IPY_MODEL_747d8f5aeda04aa396e49c8c5018379e",
            "_model_module": "@jupyter-widgets/controls",
            "children": [
              "IPY_MODEL_28fb3503a3b74b10a85086afc2cab814",
              "IPY_MODEL_069cad51b16f402e9735654d3db48890"
            ]
          }
        },
        "747d8f5aeda04aa396e49c8c5018379e": {
          "model_module": "@jupyter-widgets/base",
          "model_name": "LayoutModel",
          "state": {
            "_view_name": "LayoutView",
            "grid_template_rows": null,
            "right": null,
            "justify_content": null,
            "_view_module": "@jupyter-widgets/base",
            "overflow": null,
            "_model_module_version": "1.2.0",
            "_view_count": null,
            "flex_flow": null,
            "width": null,
            "min_width": null,
            "border": null,
            "align_items": null,
            "bottom": null,
            "_model_module": "@jupyter-widgets/base",
            "top": null,
            "grid_column": null,
            "overflow_y": null,
            "overflow_x": null,
            "grid_auto_flow": null,
            "grid_area": null,
            "grid_template_columns": null,
            "flex": null,
            "_model_name": "LayoutModel",
            "justify_items": null,
            "grid_row": null,
            "max_height": null,
            "align_content": null,
            "visibility": null,
            "align_self": null,
            "height": null,
            "min_height": null,
            "padding": null,
            "grid_auto_rows": null,
            "grid_gap": null,
            "max_width": null,
            "order": null,
            "_view_module_version": "1.2.0",
            "grid_template_areas": null,
            "object_position": null,
            "object_fit": null,
            "grid_auto_columns": null,
            "margin": null,
            "display": null,
            "left": null
          }
        },
        "28fb3503a3b74b10a85086afc2cab814": {
          "model_module": "@jupyter-widgets/controls",
          "model_name": "IntProgressModel",
          "state": {
            "_view_name": "ProgressView",
            "style": "IPY_MODEL_77c3b88c32e54908ae90f91b0cb9ed1a",
            "_dom_classes": [],
            "description": "",
            "_model_name": "IntProgressModel",
            "bar_style": "info",
            "max": 1,
            "_view_module": "@jupyter-widgets/controls",
            "_model_module_version": "1.5.0",
            "value": 1,
            "_view_count": null,
            "_view_module_version": "1.5.0",
            "orientation": "horizontal",
            "min": 0,
            "description_tooltip": null,
            "_model_module": "@jupyter-widgets/controls",
            "layout": "IPY_MODEL_b23f2b5f8fe74f92a268b1cc7a88be73"
          }
        },
        "069cad51b16f402e9735654d3db48890": {
          "model_module": "@jupyter-widgets/controls",
          "model_name": "HTMLModel",
          "state": {
            "_view_name": "HTMLView",
            "style": "IPY_MODEL_89b2b49791da441d81881ffa23e58c2b",
            "_dom_classes": [],
            "description": "",
            "_model_name": "HTMLModel",
            "placeholder": "​",
            "_view_module": "@jupyter-widgets/controls",
            "_model_module_version": "1.5.0",
            "value": " 85981/? [00:45&lt;00:00, 1997.36 examples/s]",
            "_view_count": null,
            "_view_module_version": "1.5.0",
            "description_tooltip": null,
            "_model_module": "@jupyter-widgets/controls",
            "layout": "IPY_MODEL_b963ca77a77f44dba2176190fc4ab657"
          }
        },
        "77c3b88c32e54908ae90f91b0cb9ed1a": {
          "model_module": "@jupyter-widgets/controls",
          "model_name": "ProgressStyleModel",
          "state": {
            "_view_name": "StyleView",
            "_model_name": "ProgressStyleModel",
            "description_width": "initial",
            "_view_module": "@jupyter-widgets/base",
            "_model_module_version": "1.5.0",
            "_view_count": null,
            "_view_module_version": "1.2.0",
            "bar_color": null,
            "_model_module": "@jupyter-widgets/controls"
          }
        },
        "b23f2b5f8fe74f92a268b1cc7a88be73": {
          "model_module": "@jupyter-widgets/base",
          "model_name": "LayoutModel",
          "state": {
            "_view_name": "LayoutView",
            "grid_template_rows": null,
            "right": null,
            "justify_content": null,
            "_view_module": "@jupyter-widgets/base",
            "overflow": null,
            "_model_module_version": "1.2.0",
            "_view_count": null,
            "flex_flow": null,
            "width": null,
            "min_width": null,
            "border": null,
            "align_items": null,
            "bottom": null,
            "_model_module": "@jupyter-widgets/base",
            "top": null,
            "grid_column": null,
            "overflow_y": null,
            "overflow_x": null,
            "grid_auto_flow": null,
            "grid_area": null,
            "grid_template_columns": null,
            "flex": null,
            "_model_name": "LayoutModel",
            "justify_items": null,
            "grid_row": null,
            "max_height": null,
            "align_content": null,
            "visibility": null,
            "align_self": null,
            "height": null,
            "min_height": null,
            "padding": null,
            "grid_auto_rows": null,
            "grid_gap": null,
            "max_width": null,
            "order": null,
            "_view_module_version": "1.2.0",
            "grid_template_areas": null,
            "object_position": null,
            "object_fit": null,
            "grid_auto_columns": null,
            "margin": null,
            "display": null,
            "left": null
          }
        },
        "89b2b49791da441d81881ffa23e58c2b": {
          "model_module": "@jupyter-widgets/controls",
          "model_name": "DescriptionStyleModel",
          "state": {
            "_view_name": "StyleView",
            "_model_name": "DescriptionStyleModel",
            "description_width": "",
            "_view_module": "@jupyter-widgets/base",
            "_model_module_version": "1.5.0",
            "_view_count": null,
            "_view_module_version": "1.2.0",
            "_model_module": "@jupyter-widgets/controls"
          }
        },
        "b963ca77a77f44dba2176190fc4ab657": {
          "model_module": "@jupyter-widgets/base",
          "model_name": "LayoutModel",
          "state": {
            "_view_name": "LayoutView",
            "grid_template_rows": null,
            "right": null,
            "justify_content": null,
            "_view_module": "@jupyter-widgets/base",
            "overflow": null,
            "_model_module_version": "1.2.0",
            "_view_count": null,
            "flex_flow": null,
            "width": null,
            "min_width": null,
            "border": null,
            "align_items": null,
            "bottom": null,
            "_model_module": "@jupyter-widgets/base",
            "top": null,
            "grid_column": null,
            "overflow_y": null,
            "overflow_x": null,
            "grid_auto_flow": null,
            "grid_area": null,
            "grid_template_columns": null,
            "flex": null,
            "_model_name": "LayoutModel",
            "justify_items": null,
            "grid_row": null,
            "max_height": null,
            "align_content": null,
            "visibility": null,
            "align_self": null,
            "height": null,
            "min_height": null,
            "padding": null,
            "grid_auto_rows": null,
            "grid_gap": null,
            "max_width": null,
            "order": null,
            "_view_module_version": "1.2.0",
            "grid_template_areas": null,
            "object_position": null,
            "object_fit": null,
            "grid_auto_columns": null,
            "margin": null,
            "display": null,
            "left": null
          }
        }
      }
    }
  },
  "cells": [
    {
      "cell_type": "code",
      "metadata": {
        "id": "l8jCv3PReKex",
        "colab_type": "code",
        "colab": {}
      },
      "source": [
        "#Sentiment Analysis using GBM"
      ],
      "execution_count": 0,
      "outputs": []
    },
    {
      "cell_type": "code",
      "metadata": {
        "id": "aBzA8t5weW6i",
        "colab_type": "code",
        "colab": {
          "base_uri": "https://localhost:8080/",
          "height": 170
        },
        "outputId": "5884609f-1f9b-422a-a2c3-8c8c0fb08ea1"
      },
      "source": [
        "!apt-get install default-jre\n",
        "!java -version "
      ],
      "execution_count": 1,
      "outputs": [
        {
          "output_type": "stream",
          "text": [
            "Reading package lists... Done\n",
            "Building dependency tree       \n",
            "Reading state information... Done\n",
            "default-jre is already the newest version (2:1.11-68ubuntu1~18.04.1).\n",
            "default-jre set to manually installed.\n",
            "0 upgraded, 0 newly installed, 0 to remove and 25 not upgraded.\n",
            "openjdk version \"11.0.6\" 2020-01-14\n",
            "OpenJDK Runtime Environment (build 11.0.6+10-post-Ubuntu-1ubuntu118.04.1)\n",
            "OpenJDK 64-Bit Server VM (build 11.0.6+10-post-Ubuntu-1ubuntu118.04.1, mixed mode, sharing)\n"
          ],
          "name": "stdout"
        }
      ]
    },
    {
      "cell_type": "code",
      "metadata": {
        "id": "iu_EX9h7eoMf",
        "colab_type": "code",
        "colab": {
          "base_uri": "https://localhost:8080/",
          "height": 340
        },
        "outputId": "95d6c615-b69e-4556-a757-e018838e22bd"
      },
      "source": [
        "!pip install h2o"
      ],
      "execution_count": 2,
      "outputs": [
        {
          "output_type": "stream",
          "text": [
            "Collecting h2o\n",
            "\u001b[?25l  Downloading https://files.pythonhosted.org/packages/7d/f3/0da4c917ae0d32295c69280dba7ea6f01127866b5cab95f235d3da80b2d2/h2o-3.30.0.2.tar.gz (129.6MB)\n",
            "\u001b[K     |████████████████████████████████| 129.6MB 51kB/s \n",
            "\u001b[?25hRequirement already satisfied: requests in /usr/local/lib/python3.6/dist-packages (from h2o) (2.23.0)\n",
            "Requirement already satisfied: tabulate in /usr/local/lib/python3.6/dist-packages (from h2o) (0.8.7)\n",
            "Requirement already satisfied: future in /usr/local/lib/python3.6/dist-packages (from h2o) (0.16.0)\n",
            "Collecting colorama>=0.3.8\n",
            "  Downloading https://files.pythonhosted.org/packages/c9/dc/45cdef1b4d119eb96316b3117e6d5708a08029992b2fee2c143c7a0a5cc5/colorama-0.4.3-py2.py3-none-any.whl\n",
            "Requirement already satisfied: certifi>=2017.4.17 in /usr/local/lib/python3.6/dist-packages (from requests->h2o) (2020.4.5.1)\n",
            "Requirement already satisfied: chardet<4,>=3.0.2 in /usr/local/lib/python3.6/dist-packages (from requests->h2o) (3.0.4)\n",
            "Requirement already satisfied: idna<3,>=2.5 in /usr/local/lib/python3.6/dist-packages (from requests->h2o) (2.9)\n",
            "Requirement already satisfied: urllib3!=1.25.0,!=1.25.1,<1.26,>=1.21.1 in /usr/local/lib/python3.6/dist-packages (from requests->h2o) (1.24.3)\n",
            "Building wheels for collected packages: h2o\n",
            "  Building wheel for h2o (setup.py) ... \u001b[?25l\u001b[?25hdone\n",
            "  Created wheel for h2o: filename=h2o-3.30.0.2-py2.py3-none-any.whl size=129672980 sha256=744dc86b25de237cd299ac8bfed9d08cadd38938b7b233374210b9249f4978e0\n",
            "  Stored in directory: /root/.cache/pip/wheels/35/f0/d4/2090fb81ef10fd3dedffd1386a8a4d79b882e8e978fbee4e14\n",
            "Successfully built h2o\n",
            "Installing collected packages: colorama, h2o\n",
            "Successfully installed colorama-0.4.3 h2o-3.30.0.2\n"
          ],
          "name": "stdout"
        }
      ]
    },
    {
      "cell_type": "code",
      "metadata": {
        "id": "5X_OqyXrezxC",
        "colab_type": "code",
        "colab": {}
      },
      "source": [
        "import tensorflow_datasets as tdfs\n",
        "import h2o\n",
        "import numpy as np"
      ],
      "execution_count": 0,
      "outputs": []
    },
    {
      "cell_type": "code",
      "metadata": {
        "id": "pH4Wpnj4ez0I",
        "colab_type": "code",
        "colab": {
          "base_uri": "https://localhost:8080/",
          "height": 545
        },
        "outputId": "daa7336a-19f5-4ad5-b010-d8eb7a412e87"
      },
      "source": [
        "h2o.init()"
      ],
      "execution_count": 4,
      "outputs": [
        {
          "output_type": "stream",
          "text": [
            "Checking whether there is an H2O instance running at http://localhost:54321 ..... not found.\n",
            "Attempting to start a local H2O server...\n",
            "  Java Version: openjdk version \"11.0.6\" 2020-01-14; OpenJDK Runtime Environment (build 11.0.6+10-post-Ubuntu-1ubuntu118.04.1); OpenJDK 64-Bit Server VM (build 11.0.6+10-post-Ubuntu-1ubuntu118.04.1, mixed mode, sharing)\n",
            "  Starting server from /usr/local/lib/python3.6/dist-packages/h2o/backend/bin/h2o.jar\n",
            "  Ice root: /tmp/tmppy5_tx0e\n",
            "  JVM stdout: /tmp/tmppy5_tx0e/h2o_unknownUser_started_from_python.out\n",
            "  JVM stderr: /tmp/tmppy5_tx0e/h2o_unknownUser_started_from_python.err\n",
            "  Server is running at http://127.0.0.1:54321\n",
            "Connecting to H2O server at http://127.0.0.1:54321 ... successful.\n"
          ],
          "name": "stdout"
        },
        {
          "output_type": "display_data",
          "data": {
            "text/html": [
              "<div style=\"overflow:auto\"><table style=\"width:50%\"><tr><td>H2O_cluster_uptime:</td>\n",
              "<td>02 secs</td></tr>\n",
              "<tr><td>H2O_cluster_timezone:</td>\n",
              "<td>Etc/UTC</td></tr>\n",
              "<tr><td>H2O_data_parsing_timezone:</td>\n",
              "<td>UTC</td></tr>\n",
              "<tr><td>H2O_cluster_version:</td>\n",
              "<td>3.30.0.2</td></tr>\n",
              "<tr><td>H2O_cluster_version_age:</td>\n",
              "<td>2 days </td></tr>\n",
              "<tr><td>H2O_cluster_name:</td>\n",
              "<td>H2O_from_python_unknownUser_4erd48</td></tr>\n",
              "<tr><td>H2O_cluster_total_nodes:</td>\n",
              "<td>1</td></tr>\n",
              "<tr><td>H2O_cluster_free_memory:</td>\n",
              "<td>3.180 Gb</td></tr>\n",
              "<tr><td>H2O_cluster_total_cores:</td>\n",
              "<td>2</td></tr>\n",
              "<tr><td>H2O_cluster_allowed_cores:</td>\n",
              "<td>2</td></tr>\n",
              "<tr><td>H2O_cluster_status:</td>\n",
              "<td>accepting new members, healthy</td></tr>\n",
              "<tr><td>H2O_connection_url:</td>\n",
              "<td>http://127.0.0.1:54321</td></tr>\n",
              "<tr><td>H2O_connection_proxy:</td>\n",
              "<td>{\"http\": null, \"https\": null}</td></tr>\n",
              "<tr><td>H2O_internal_security:</td>\n",
              "<td>False</td></tr>\n",
              "<tr><td>H2O_API_Extensions:</td>\n",
              "<td>Amazon S3, XGBoost, Algos, AutoML, Core V3, TargetEncoder, Core V4</td></tr>\n",
              "<tr><td>Python_version:</td>\n",
              "<td>3.6.9 final</td></tr></table></div>"
            ],
            "text/plain": [
              "--------------------------  ------------------------------------------------------------------\n",
              "H2O_cluster_uptime:         02 secs\n",
              "H2O_cluster_timezone:       Etc/UTC\n",
              "H2O_data_parsing_timezone:  UTC\n",
              "H2O_cluster_version:        3.30.0.2\n",
              "H2O_cluster_version_age:    2 days\n",
              "H2O_cluster_name:           H2O_from_python_unknownUser_4erd48\n",
              "H2O_cluster_total_nodes:    1\n",
              "H2O_cluster_free_memory:    3.180 Gb\n",
              "H2O_cluster_total_cores:    2\n",
              "H2O_cluster_allowed_cores:  2\n",
              "H2O_cluster_status:         accepting new members, healthy\n",
              "H2O_connection_url:         http://127.0.0.1:54321\n",
              "H2O_connection_proxy:       {\"http\": null, \"https\": null}\n",
              "H2O_internal_security:      False\n",
              "H2O_API_Extensions:         Amazon S3, XGBoost, Algos, AutoML, Core V3, TargetEncoder, Core V4\n",
              "Python_version:             3.6.9 final\n",
              "--------------------------  ------------------------------------------------------------------"
            ]
          },
          "metadata": {
            "tags": []
          }
        }
      ]
    },
    {
      "cell_type": "code",
      "metadata": {
        "id": "w44Pgxw1ez4J",
        "colab_type": "code",
        "colab": {
          "base_uri": "https://localhost:8080/",
          "height": 418,
          "referenced_widgets": [
            "5aff945cf0ed44e49642ae5e7bc29af7",
            "915e97332c8d41e8b8bf64744fa8685e",
            "9c08b6ea49414763828c3fe65eebf943",
            "a0870b48d06d49c1875a309feb76a3dc",
            "0ad31d95b78e4384b9d8c99348cc18c8",
            "ec8bbad4335241d2a968ef111756c569",
            "776ddd981a1946d2a82adb7b0c212dc8",
            "1d996ef81ac94597b8083e6688338016",
            "1c43c78d608449bea65919b0311b4c33",
            "85c35b46582241c5b52d6cb77b6b8252",
            "458a1816fc5e4fe392281ed695b91ec2",
            "d78df088ca844b79a4af076b6416ff5c",
            "b0f41c0d90834e409270f659fa894462",
            "0ad03bd12cf84960a66f0bf379c331f6",
            "ce7f5deafe0c42d78044946fa49fc76e",
            "209072093ec546d28c82b99e817f079c",
            "744385a4f2d041959f85734d7deb2961",
            "191a671986344c2aaefd232019a2bd47",
            "421e0625a7e845c3a8c5d0530c77c643",
            "5caf59bb19d64989a032d1ef840d5f84",
            "b9998b68286a49a89444b0a60ac9a292",
            "ea0a4df136fa47e89b247fbd3a75714d",
            "55deb523692a4cd598a73d8f5621929c",
            "e00916de38f7486bb1da738db9407e90",
            "5ddf217a9d944074b8b1bdde35096ce7",
            "8b9e24541e1847c69ebc7b40f01f61ea",
            "564735f2c16e41cb83007a05f6ff5619",
            "7cdb70a4c1454e3db4c3f75547bb4a51",
            "d56dd007ed574d0db30372fe5ff771c1",
            "eccb3aaac2a146ce88d845b22f7157e6",
            "3fb349fc11a6430ea5234d119db4bdc3",
            "2ab4229a5b9647a5af4f5f566257b5fb",
            "1596ab9efa4a4cfeaeebb945ef92866f",
            "ef27c7d869dc436ebbef1715fc304aa9",
            "904af2e9a8dc4fe4bd065ffbbabce659",
            "b3f5316ecc4e477ebed1ae784be4af0b",
            "b834df0a22994335a3496438c4b85b8f",
            "95f64015161b4994883b9aae58e2c0bd",
            "b1d286f8da984998b57195147e7f0a9f",
            "14c05748c2a245888eaf2c096d760ac3",
            "8e09b9bf81c740d2ae1d234fa52e5c32",
            "6196aa51303c44809f65cee6bc43cd67",
            "1f919fcfff2148a2982316b3239af9fd",
            "5da1d6948454423ba63c1fa169f6f00f",
            "bb513aad15104819ac4c6de5ef4ed6d7",
            "8effd661d5894fe184382e3c231d2d80",
            "cc803d108cae451c8923ecfa2e8d8be5",
            "60f613ddc22d469ca768124642497b01",
            "9b72ffcd578b4032af9e19d5838cfd4a",
            "747d8f5aeda04aa396e49c8c5018379e",
            "28fb3503a3b74b10a85086afc2cab814",
            "069cad51b16f402e9735654d3db48890",
            "77c3b88c32e54908ae90f91b0cb9ed1a",
            "b23f2b5f8fe74f92a268b1cc7a88be73",
            "89b2b49791da441d81881ffa23e58c2b",
            "b963ca77a77f44dba2176190fc4ab657"
          ]
        },
        "outputId": "61030d8b-dd71-4a17-ef3e-ef5cec6d4d0a"
      },
      "source": [
        "df,info = tdfs.load('amazon_us_reviews/Personal_Care_Appliances_v1_00',with_info= True, batch_size=-1)\n",
        "train_df = df['train']"
      ],
      "execution_count": 5,
      "outputs": [
        {
          "output_type": "stream",
          "text": [
            "Downloading and preparing dataset amazon_us_reviews/Personal_Care_Appliances_v1_00/0.1.0 (download: 16.82 MiB, generated: Unknown size, total: 16.82 MiB) to /root/tensorflow_datasets/amazon_us_reviews/Personal_Care_Appliances_v1_00/0.1.0...\n"
          ],
          "name": "stdout"
        },
        {
          "output_type": "display_data",
          "data": {
            "application/vnd.jupyter.widget-view+json": {
              "model_id": "5aff945cf0ed44e49642ae5e7bc29af7",
              "version_minor": 0,
              "version_major": 2
            },
            "text/plain": [
              "HBox(children=(IntProgress(value=1, bar_style='info', description='Dl Completed...', max=1, style=ProgressStyl…"
            ]
          },
          "metadata": {
            "tags": []
          }
        },
        {
          "output_type": "display_data",
          "data": {
            "application/vnd.jupyter.widget-view+json": {
              "model_id": "1c43c78d608449bea65919b0311b4c33",
              "version_minor": 0,
              "version_major": 2
            },
            "text/plain": [
              "HBox(children=(IntProgress(value=1, bar_style='info', description='Dl Size...', max=1, style=ProgressStyle(des…"
            ]
          },
          "metadata": {
            "tags": []
          }
        },
        {
          "output_type": "display_data",
          "data": {
            "application/vnd.jupyter.widget-view+json": {
              "model_id": "744385a4f2d041959f85734d7deb2961",
              "version_minor": 0,
              "version_major": 2
            },
            "text/plain": [
              "HBox(children=(IntProgress(value=1, bar_style='info', description='Extraction completed...', max=1, style=Prog…"
            ]
          },
          "metadata": {
            "tags": []
          }
        },
        {
          "output_type": "stream",
          "text": [
            "/usr/local/lib/python3.6/dist-packages/urllib3/connectionpool.py:847: InsecureRequestWarning: Unverified HTTPS request is being made. Adding certificate verification is strongly advised. See: https://urllib3.readthedocs.io/en/latest/advanced-usage.html#ssl-warnings\n",
            "  InsecureRequestWarning)\n"
          ],
          "name": "stderr"
        },
        {
          "output_type": "stream",
          "text": [
            "\n",
            "\n",
            "\n",
            "\n",
            "\n",
            "\n"
          ],
          "name": "stdout"
        },
        {
          "output_type": "display_data",
          "data": {
            "application/vnd.jupyter.widget-view+json": {
              "model_id": "5ddf217a9d944074b8b1bdde35096ce7",
              "version_minor": 0,
              "version_major": 2
            },
            "text/plain": [
              "HBox(children=(IntProgress(value=1, bar_style='info', max=1), HTML(value='')))"
            ]
          },
          "metadata": {
            "tags": []
          }
        },
        {
          "output_type": "stream",
          "text": [
            "\rShuffling and writing examples to /root/tensorflow_datasets/amazon_us_reviews/Personal_Care_Appliances_v1_00/0.1.0.incompleteW1MA95/amazon_us_reviews-train.tfrecord\n"
          ],
          "name": "stdout"
        },
        {
          "output_type": "display_data",
          "data": {
            "application/vnd.jupyter.widget-view+json": {
              "model_id": "1596ab9efa4a4cfeaeebb945ef92866f",
              "version_minor": 0,
              "version_major": 2
            },
            "text/plain": [
              "HBox(children=(IntProgress(value=0, max=85981), HTML(value='')))"
            ]
          },
          "metadata": {
            "tags": []
          }
        },
        {
          "output_type": "display_data",
          "data": {
            "application/vnd.jupyter.widget-view+json": {
              "model_id": "8e09b9bf81c740d2ae1d234fa52e5c32",
              "version_minor": 0,
              "version_major": 2
            },
            "text/plain": [
              "HBox(children=(IntProgress(value=0, description='Computing statistics...', max=1, style=ProgressStyle(descript…"
            ]
          },
          "metadata": {
            "tags": []
          }
        },
        {
          "output_type": "stream",
          "text": [
            "\r"
          ],
          "name": "stdout"
        },
        {
          "output_type": "display_data",
          "data": {
            "application/vnd.jupyter.widget-view+json": {
              "model_id": "9b72ffcd578b4032af9e19d5838cfd4a",
              "version_minor": 0,
              "version_major": 2
            },
            "text/plain": [
              "HBox(children=(IntProgress(value=1, bar_style='info', max=1), HTML(value='')))"
            ]
          },
          "metadata": {
            "tags": []
          }
        },
        {
          "output_type": "stream",
          "text": [
            "\r"
          ],
          "name": "stdout"
        },
        {
          "output_type": "stream",
          "text": [
            "ERROR:absl:Statistics generation doesn't work for nested structures yet\n"
          ],
          "name": "stderr"
        },
        {
          "output_type": "stream",
          "text": [
            "\n",
            "Dataset amazon_us_reviews downloaded and prepared to /root/tensorflow_datasets/amazon_us_reviews/Personal_Care_Appliances_v1_00/0.1.0. Subsequent calls will reuse this data.\n"
          ],
          "name": "stdout"
        }
      ]
    },
    {
      "cell_type": "code",
      "metadata": {
        "id": "tG1PhfZvez8K",
        "colab_type": "code",
        "colab": {
          "base_uri": "https://localhost:8080/",
          "height": 955
        },
        "outputId": "81703315-d63e-4fb6-bfd6-80535921cc7c"
      },
      "source": [
        "info"
      ],
      "execution_count": 6,
      "outputs": [
        {
          "output_type": "execute_result",
          "data": {
            "text/plain": [
              "tfds.core.DatasetInfo(\n",
              "    name='amazon_us_reviews',\n",
              "    version=0.1.0,\n",
              "    description='Amazon Customer Reviews (a.k.a. Product Reviews) is one of Amazons iconic products. In a period of over two decades since the first review in 1995, millions of Amazon customers have contributed over a hundred million reviews to express opinions and describe their experiences regarding products on the Amazon.com website. This makes Amazon Customer Reviews a rich source of information for academic researchers in the fields of Natural Language Processing (NLP), Information Retrieval (IR), and Machine Learning (ML), amongst others. Accordingly, we are releasing this data to further research in multiple disciplines related to understanding customer product experiences. Specifically, this dataset was constructed to represent a sample of customer evaluations and opinions, variation in the perception of a product across geographical regions, and promotional intent or bias in reviews.\n",
              "\n",
              "Over 130+ million customer reviews are available to researchers as part of this release. The data is available in TSV files in the amazon-reviews-pds S3 bucket in AWS US East Region. Each line in the data files corresponds to an individual review (tab delimited, with no quote and escape characters).\n",
              "\n",
              "Each Dataset contains the following columns : \n",
              "  marketplace       - 2 letter country code of the marketplace where the review was written.\n",
              "  customer_id       - Random identifier that can be used to aggregate reviews written by a single author.\n",
              "  review_id         - The unique ID of the review.\n",
              "  product_id        - The unique Product ID the review pertains to. In the multilingual dataset the reviews\n",
              "                      for the same product in different countries can be grouped by the same product_id.\n",
              "  product_parent    - Random identifier that can be used to aggregate reviews for the same product.\n",
              "  product_title     - Title of the product.\n",
              "  product_category  - Broad product category that can be used to group reviews \n",
              "                      (also used to group the dataset into coherent parts).\n",
              "  star_rating       - The 1-5 star rating of the review.\n",
              "  helpful_votes     - Number of helpful votes.\n",
              "  total_votes       - Number of total votes the review received.\n",
              "  vine              - Review was written as part of the Vine program.\n",
              "  verified_purchase - The review is on a verified purchase.\n",
              "  review_headline   - The title of the review.\n",
              "  review_body       - The review text.\n",
              "  review_date       - The date the review was written.\n",
              "',\n",
              "    homepage='https://s3.amazonaws.com/amazon-reviews-pds/readme.html',\n",
              "    features=FeaturesDict({\n",
              "        'data': FeaturesDict({\n",
              "            'customer_id': tf.string,\n",
              "            'helpful_votes': tf.int32,\n",
              "            'marketplace': tf.string,\n",
              "            'product_category': tf.string,\n",
              "            'product_id': tf.string,\n",
              "            'product_parent': tf.string,\n",
              "            'product_title': tf.string,\n",
              "            'review_body': tf.string,\n",
              "            'review_date': tf.string,\n",
              "            'review_headline': tf.string,\n",
              "            'review_id': tf.string,\n",
              "            'star_rating': tf.int32,\n",
              "            'total_votes': tf.int32,\n",
              "            'verified_purchase': ClassLabel(shape=(), dtype=tf.int64, num_classes=2),\n",
              "            'vine': ClassLabel(shape=(), dtype=tf.int64, num_classes=2),\n",
              "        }),\n",
              "    }),\n",
              "    total_num_examples=85981,\n",
              "    splits={\n",
              "        'train': 85981,\n",
              "    },\n",
              "    supervised_keys=None,\n",
              "    citation=\"\"\"\"\"\",\n",
              "    redistribution_info=,\n",
              ")"
            ]
          },
          "metadata": {
            "tags": []
          },
          "execution_count": 6
        }
      ]
    },
    {
      "cell_type": "code",
      "metadata": {
        "id": "2Bo0jj65e0Hi",
        "colab_type": "code",
        "colab": {}
      },
      "source": [
        "dataset = tdfs.as_numpy(train_df)"
      ],
      "execution_count": 0,
      "outputs": []
    },
    {
      "cell_type": "code",
      "metadata": {
        "id": "vvZOVzcVe0Jm",
        "colab_type": "code",
        "colab": {
          "base_uri": "https://localhost:8080/",
          "height": 734
        },
        "outputId": "9cf22a6e-808f-450a-fefd-333c976766ab"
      },
      "source": [
        "dataset"
      ],
      "execution_count": 8,
      "outputs": [
        {
          "output_type": "execute_result",
          "data": {
            "text/plain": [
              "{'data': {'customer_id': array([b'13986323', b'50574716', b'50593972', ..., b'40719682',\n",
              "         b'35596948', b'29430209'], dtype=object),\n",
              "  'helpful_votes': array([0, 3, 0, ..., 0, 0, 0], dtype=int32),\n",
              "  'marketplace': array([b'US', b'US', b'US', ..., b'US', b'US', b'US'], dtype=object),\n",
              "  'product_category': array([b'Personal_Care_Appliances', b'Personal_Care_Appliances',\n",
              "         b'Personal_Care_Appliances', ..., b'Personal_Care_Appliances',\n",
              "         b'Personal_Care_Appliances', b'Personal_Care_Appliances'],\n",
              "        dtype=object),\n",
              "  'product_id': array([b'B00847JQZ6', b'B00N5HD340', b'B0077L1X24', ..., b'B000UZ8X2W',\n",
              "         b'B000NURPPK', b'B001EY5GNW'], dtype=object),\n",
              "  'product_parent': array([b'997683625', b'955577225', b'120764066', ..., b'96066145',\n",
              "         b'58591097', b'986877728'], dtype=object),\n",
              "  'product_title': array([b'SE - Reading Glass - Spring Loaded Hinges, 4.0x - RTS62400',\n",
              "         b'Straight Razor',\n",
              "         b'Philips Sonicare Flexcare & Healthy White Plastic Travel Handle Case New Bulk Package',\n",
              "         ...,\n",
              "         b'Remington R-9200 Microflex Ultra TCT Shaver [Health and Beauty]',\n",
              "         b'SUNBEAM Cool Mist HUMIDIFIER with PermaFilter # 1120 \\xe2\\x80\\x93 1 Ea',\n",
              "         b'Andis Blade Set for T-Outliner Trimmer'], dtype=object),\n",
              "  'review_body': array([b\"These glasses are an excellent value.  The fit is good and they are very comfortable.  Because of my legal blindness, there aren't a lot of options to try to see better, but I believe these help with my other visual aids, and because they are reasonably priced I can have more than one pair available.\",\n",
              "         b\"Always wanted to try straight razor shaving (as a DE safety razor user), and this was a cheap way for me to determine I was not into it.<br /><br />Because the blades are disposable and always sharp, I could put a new one in and reasonably rely upon that fact that cuts were probably due to my technique and not the blade.<br /><br />It's very hard to do straight razor shaving on yourself because the ANGLE is difficult to control without switching hands. Being very right-handed, I really couldn't do that. I bet I could shave someone else's face with it though.<br /><br />An immediate upside? Using a DE safety razor (slant edged even) seems SUPER safe now! I'm increased my speed with the DE due to that confidence, and I'd been using it for years now.\",\n",
              "         b'I usually either throw my toothbrush in a plastic bag with spare head so this product is very convenient for keeping all the parts apart, dry and undamaged, and i now keep it in my travel bag all the time ready to go.',\n",
              "         ...,\n",
              "         b\"I have had a Remington before but needed a new one when the batteries died and the cutters were all but gone.  It was cheaper to buy a new one.  The new one has a nice charge level but the trimmer didn't work when I got it.\",\n",
              "         b\"I was surprised that it really didn't do much compared to the 1950s version that I'd inherited. Keeping a wet wash cloth next to my bed for when I start coughing in the middle of the night works better.\",\n",
              "         b'The blades were an excellent fit for my T-line trimmers.  Within five minutes I had my trimmers cleaned, the blades installed, and was putting them to use.  I saw the blades in several locations for almost twice the price I paid, so this worked out to be an awesome deal.'],\n",
              "        dtype=object),\n",
              "  'review_date': array([b'2015-01-04', b'2015-08-05', b'2012-11-17', ..., b'2008-02-08',\n",
              "         b'2007-09-07', b'2012-07-26'], dtype=object),\n",
              "  'review_headline': array([b'These glasses are an excellent value. The fit is good and they are ...',\n",
              "         b'A fantastic way to cheaply try straight razor shaving.',\n",
              "         b'Great for travel', ..., b'Trimmer Not Working',\n",
              "         b'Loud and ineffectual', b'Excellent product, awesomoe price'],\n",
              "        dtype=object),\n",
              "  'review_id': array([b'R3VEUFVA9QJY55', b'R2DTQV5SMJ0CK7', b'R3OJ06NK99WLNJ', ...,\n",
              "         b'R1ZQ0XZXOD9N18', b'R1FJ9OU429X00Y', b'RI28R1W94N1R6'],\n",
              "        dtype=object),\n",
              "  'star_rating': array([4, 5, 4, ..., 3, 2, 5], dtype=int32),\n",
              "  'total_votes': array([0, 3, 0, ..., 0, 0, 0], dtype=int32),\n",
              "  'verified_purchase': array([0, 0, 0, ..., 1, 0, 0]),\n",
              "  'vine': array([1, 1, 1, ..., 1, 1, 1])}}"
            ]
          },
          "metadata": {
            "tags": []
          },
          "execution_count": 8
        }
      ]
    },
    {
      "cell_type": "code",
      "metadata": {
        "id": "8HnVX28Xe0MV",
        "colab_type": "code",
        "colab": {}
      },
      "source": [
        "helpful_votes = dataset['data']['helpful_votes']\n",
        "review_headline = dataset['data']['review_headline']\n",
        "review_body = dataset['data']['review_body']\n",
        "ratings = dataset['data']['star_rating']"
      ],
      "execution_count": 0,
      "outputs": []
    },
    {
      "cell_type": "code",
      "metadata": {
        "id": "mPZEypkfe0PH",
        "colab_type": "code",
        "colab": {
          "base_uri": "https://localhost:8080/",
          "height": 34
        },
        "outputId": "89452154-5450-48d0-c4f4-49a2e0f67f99"
      },
      "source": [
        "data = h2o.H2OFrame(np.hstack((helpful_votes[:,None],review_headline[:,None],review_body[:,None],ratings[:,None])),column_names=['votes','headlines','reviews','ratings'],column_types=['numeric','string','string','numeric'])"
      ],
      "execution_count": 10,
      "outputs": [
        {
          "output_type": "stream",
          "text": [
            "Parse progress: |█████████████████████████████████████████████████████████| 100%\n"
          ],
          "name": "stdout"
        }
      ]
    },
    {
      "cell_type": "code",
      "metadata": {
        "id": "BLv_sPyle0SS",
        "colab_type": "code",
        "colab": {
          "base_uri": "https://localhost:8080/",
          "height": 794
        },
        "outputId": "fde00928-51d2-4c22-cbb2-20a9a050c38d"
      },
      "source": [
        "data"
      ],
      "execution_count": 11,
      "outputs": [
        {
          "output_type": "display_data",
          "data": {
            "text/html": [
              "<table>\n",
              "<thead>\n",
              "<tr><th style=\"text-align: right;\">  votes</th><th>headlines                                                                </th><th>reviews                                                                                                                                                                                                                                                                                                                                                                                                                                                                                                                                                                                                                                                                                                                                                                                                                                                                                                                                                                                                                                                                                                                           </th><th style=\"text-align: right;\">  ratings</th></tr>\n",
              "</thead>\n",
              "<tbody>\n",
              "<tr><td style=\"text-align: right;\">      0</td><td>b&#x27;These glasses are an excellent value. The fit is good and they are ...&#x27;</td><td>b&quot;These glasses are an excellent value.  The fit is good and they are very comfortable.  Because of my legal blindness, there aren&#x27;t a lot of options to try to see better, but I believe these help with my other visual aids, and because they are reasonably priced I can have more than one pair available.&quot;                                                                                                                                                                                                                                                                                                                                                                                                                                                                                                                                                                                                                                                                                                                                                                                                                  </td><td style=\"text-align: right;\">        4</td></tr>\n",
              "<tr><td style=\"text-align: right;\">      3</td><td>b&#x27;A fantastic way to cheaply try straight razor shaving.&#x27;                </td><td>b&quot;Always wanted to try straight razor shaving (as a DE safety razor user), and this was a cheap way for me to determine I was not into it.&lt;br /&gt;&lt;br /&gt;Because the blades are disposable and always sharp, I could put a new one in and reasonably rely upon that fact that cuts were probably due to my technique and not the blade.&lt;br /&gt;&lt;br /&gt;It&#x27;s very hard to do straight razor shaving on yourself because the ANGLE is difficult to control without switching hands. Being very right-handed, I really couldn&#x27;t do that. I bet I could shave someone else&#x27;s face with it though.&lt;br /&gt;&lt;br /&gt;An immediate upside? Using a DE safety razor (slant edged even) seems SUPER safe now! I&#x27;m increased my speed with the DE due to that confidence, and I&#x27;d been using it for years now.&quot;                                                                                                                                                                                                                                                                                                                                          </td><td style=\"text-align: right;\">        5</td></tr>\n",
              "<tr><td style=\"text-align: right;\">      0</td><td>b&#x27;Great for travel&#x27;                                                      </td><td>b&#x27;I usually either throw my toothbrush in a plastic bag with spare head so this product is very convenient for keeping all the parts apart, dry and undamaged, and i now keep it in my travel bag all the time ready to go.&#x27;                                                                                                                                                                                                                                                                                                                                                                                                                                                                                                                                                                                                                                                                                                                                                                                                                                                                                                      </td><td style=\"text-align: right;\">        4</td></tr>\n",
              "<tr><td style=\"text-align: right;\">      0</td><td>b&#x27;Five Stars&#x27;                                                            </td><td>b&#x27;Top quality.&#x27;                                                                                                                                                                                                                                                                                                                                                                                                                                                                                                                                                                                                                                                                                                                                                                                                                                                                                                                                                                                                                                                                                                                   </td><td style=\"text-align: right;\">        5</td></tr>\n",
              "<tr><td style=\"text-align: right;\">      1</td><td>b&#x27;*Product sent not as shown&#x27;                                            </td><td>b&#x27;Today I received  1 Fl. Oz, Natures Balance AlkaMAX alkaline booster liquid unflavored (formally TriMedica) a glass brown bottle with eye dropper.&lt;br /&gt;Supplement Facts; Serving Size: 10 Drops (Approx. 0.5 mL). Servings per Container: Approx. 60&lt;br /&gt;Amount Per Serving % Daily Value&lt;br /&gt;Magnesium (as Magnesium Chloride) 40 mg 10%&lt;br /&gt;Chloride (as Magnesium Chloride) 64 mg 2%&lt;br /&gt;Other Ingredients: Deionized water and trace mineral complex.&lt;br /&gt;Directions: Add 10 drops to 8 oz. of water or other beverage daily as needed or as directed by your health care practitioner. Store in a cool, dry place.&lt;br /&gt;&lt;br /&gt;I have not used product as of yet with changed ingredients of original/as shown in AlkaMax alkaline support white squeeze bottle.&lt;br /&gt;but had to rate to post...heck this new may be better for all I know.&#x27;                                                                                                                                                                                                                                                                          </td><td style=\"text-align: right;\">        3</td></tr>\n",
              "<tr><td style=\"text-align: right;\">      6</td><td>b&#x27;Seems to work well!&#x27;                                                   </td><td>b&#x27;I recently picked this unit up at Bed and Bath where it was $99.00. With a 20% coupon the price was $80 (so comparison shop!) It\\&#x27;s easy to use and seems to work well. I agree with other reviewers about the noise level (loud like a tea kettle boiling), but I use this unit in the living room area so sleeping is not an issue. Having the 2 separate water reservoirs to fill is much easier, weight-wise, as I previously had another humidifier which had one large water reservoir and it was very heavy when full. The unit comes apart quite easily for cleaning and since frequent cleaning is recommended (I usually do it 1x per week, not daily) this is a definite plus. Additionally, one only needs to use vinegar to clean the inside reservoir, which is a lot cheaper than having to buy some kind of \\\\\\\\&quot;special\\\\\\\\&quot; cleaning solution. My one complaint is that it doesn\\&#x27;t, but should, have an automatic shut off when both tanks are empty.I have to remember to turn the unit off when I leave the house. My previous humidifiers all had this auto turn off; seems like every humidifier should.&#x27;</td><td style=\"text-align: right;\">        4</td></tr>\n",
              "<tr><td style=\"text-align: right;\">      8</td><td>b&#x27;deep heat?????&#x27;                                                        </td><td>b&#x27;Not sure what previous reviewer was talking about. The product uses ULTRASOUND waves for pain relief NOT heat.  After repeated use, the pain in my knee and shoulder was feeling great. I think you should re-read the description and reconsider your opinion. Great product sold by a great company.&#x27;                                                                                                                                                                                                                                                                                                                                                                                                                                                                                                                                                                                                                                                                                                                                                                                                                         </td><td style=\"text-align: right;\">        5</td></tr>\n",
              "<tr><td style=\"text-align: right;\">      2</td><td>b&#x27;Thermometer for a toddler&#x27;                                             </td><td>b&quot;The shippers were great....willing to consider speedier shipping options, but in the end the standard shipping arrived quickly enough. The thermometer is fun and easy to use, but with an inquisitive toddler, it would be nice to have the plastic cap attached to the body so that it doesn&#x27;t disappear.  Would buy it again from these sellers.&quot;                                                                                                                                                                                                                                                                                                                                                                                                                                                                                                                                                                                                                                                                                                                                                                            </td><td style=\"text-align: right;\">        4</td></tr>\n",
              "<tr><td style=\"text-align: right;\">      2</td><td>b&#x27;Wow!&#x27;                                                                  </td><td>b&quot;Man, for all you who know what I&#x27;m talking about, this is the best thing I&#x27;ve ever had on my back.  I suffer from back pain constantly and find myself waking up in the middle of the night pushing parts of my back and neck on the edges of walls on the corners of doors and sometimes lying down on tennis or racket balls to get pressure on those dang trigger points.  I opted for the body sticks package not knowing what they would do and it was a good thing.  They are like have racket balls on the ends of sticks to beat your muscle spasms and to lie down on them rolling around on your back. It is worth the money.  They use a device similar to this in physical therapy so if you get your doctor to write you a script for it, insurance may very well pay for it like mine did.  Even so, paid or not, buy this sucker.  Buy two, I thought, just in case it breaks and they for some reason stop manufacturing this thing.  Good stuff.&quot;                                                                                                                                                              </td><td style=\"text-align: right;\">        5</td></tr>\n",
              "<tr><td style=\"text-align: right;\">      1</td><td>b&#x27;Great cane for people with hand and wrist issues&#x27;                      </td><td>b&quot;I purchased this cane to assist me when I have to walk long distances.  I have rheumatoid arthritis that has particularly affected my low back and hips, and it sometimes makes walking difficult.  The problem with using a cane when you have RA is that RA doesn&#x27;t just affect your lower extremities.  My hands, wrists, and shoulders are also affected.  When I tried a normal cane, it was agonizingly painful for my hand and wrist in particular.  That made it not worth using, even though it did help my hip and back.  A friend with similar issues recommended this one, and the difference was amazing.  It is still a bit hard on my hand after awhile, but not to the point that would make it not worth using.  There really is no perfect solution for this circumstance short of a wheelchair, and I&#x27;m nowhere near ready for that yet!  The forearm rest makes it bearable to use this cane, and it does really help me to walk longer distances when I need to!  It is a great product, and I&#x27;m happy that I purchased it!&quot;                                                                               </td><td style=\"text-align: right;\">        4</td></tr>\n",
              "</tbody>\n",
              "</table>"
            ]
          },
          "metadata": {
            "tags": []
          }
        },
        {
          "output_type": "execute_result",
          "data": {
            "text/plain": [
              ""
            ]
          },
          "metadata": {
            "tags": []
          },
          "execution_count": 11
        }
      ]
    },
    {
      "cell_type": "code",
      "metadata": {
        "id": "MpcxP8AKez2x",
        "colab_type": "code",
        "colab": {}
      },
      "source": [
        "data['target'] = (data['ratings']>=4).ifelse('1','0')"
      ],
      "execution_count": 0,
      "outputs": []
    },
    {
      "cell_type": "code",
      "metadata": {
        "id": "j0lk_tzfjsdY",
        "colab_type": "code",
        "colab": {
          "base_uri": "https://localhost:8080/",
          "height": 250
        },
        "outputId": "9b418823-4874-407e-b017-b636e994430e"
      },
      "source": [
        "data['target']"
      ],
      "execution_count": 13,
      "outputs": [
        {
          "output_type": "display_data",
          "data": {
            "text/html": [
              "<table>\n",
              "<thead>\n",
              "<tr><th style=\"text-align: right;\">  target</th></tr>\n",
              "</thead>\n",
              "<tbody>\n",
              "<tr><td style=\"text-align: right;\">       1</td></tr>\n",
              "<tr><td style=\"text-align: right;\">       1</td></tr>\n",
              "<tr><td style=\"text-align: right;\">       1</td></tr>\n",
              "<tr><td style=\"text-align: right;\">       1</td></tr>\n",
              "<tr><td style=\"text-align: right;\">       0</td></tr>\n",
              "<tr><td style=\"text-align: right;\">       1</td></tr>\n",
              "<tr><td style=\"text-align: right;\">       1</td></tr>\n",
              "<tr><td style=\"text-align: right;\">       1</td></tr>\n",
              "<tr><td style=\"text-align: right;\">       1</td></tr>\n",
              "<tr><td style=\"text-align: right;\">       1</td></tr>\n",
              "</tbody>\n",
              "</table>"
            ]
          },
          "metadata": {
            "tags": []
          }
        },
        {
          "output_type": "execute_result",
          "data": {
            "text/plain": [
              ""
            ]
          },
          "metadata": {
            "tags": []
          },
          "execution_count": 13
        }
      ]
    },
    {
      "cell_type": "code",
      "metadata": {
        "id": "HK61FNFijsfn",
        "colab_type": "code",
        "colab": {
          "base_uri": "https://localhost:8080/",
          "height": 34
        },
        "outputId": "d312580b-07db-4dc2-c893-c9dc34ce75b0"
      },
      "source": [
        "data.shape[0]"
      ],
      "execution_count": 14,
      "outputs": [
        {
          "output_type": "execute_result",
          "data": {
            "text/plain": [
              "85981"
            ]
          },
          "metadata": {
            "tags": []
          },
          "execution_count": 14
        }
      ]
    },
    {
      "cell_type": "code",
      "metadata": {
        "id": "Echzww0KjsjT",
        "colab_type": "code",
        "colab": {
          "base_uri": "https://localhost:8080/",
          "height": 82
        },
        "outputId": "b30fd242-88d8-4580-ca4b-fce154de6769"
      },
      "source": [
        "data['target'].table()"
      ],
      "execution_count": 15,
      "outputs": [
        {
          "output_type": "display_data",
          "data": {
            "text/html": [
              "<table>\n",
              "<thead>\n",
              "<tr><th style=\"text-align: right;\">  target</th><th style=\"text-align: right;\">  Count</th></tr>\n",
              "</thead>\n",
              "<tbody>\n",
              "<tr><td style=\"text-align: right;\">       0</td><td style=\"text-align: right;\">  23427</td></tr>\n",
              "<tr><td style=\"text-align: right;\">       1</td><td style=\"text-align: right;\">  62554</td></tr>\n",
              "</tbody>\n",
              "</table>"
            ]
          },
          "metadata": {
            "tags": []
          }
        },
        {
          "output_type": "execute_result",
          "data": {
            "text/plain": [
              ""
            ]
          },
          "metadata": {
            "tags": []
          },
          "execution_count": 15
        }
      ]
    },
    {
      "cell_type": "code",
      "metadata": {
        "id": "lTvUiUBejswy",
        "colab_type": "code",
        "colab": {
          "base_uri": "https://localhost:8080/",
          "height": 1000
        },
        "outputId": "9a1a3459-a02a-4818-e5b0-c5cc4e8626d2"
      },
      "source": [
        "data.describe()"
      ],
      "execution_count": 17,
      "outputs": [
        {
          "output_type": "stream",
          "text": [
            "Rows:85981\n",
            "Cols:5\n",
            "\n",
            "\n"
          ],
          "name": "stdout"
        },
        {
          "output_type": "display_data",
          "data": {
            "text/html": [
              "<table>\n",
              "<thead>\n",
              "<tr><th>       </th><th>votes             </th><th>headlines                                                                </th><th>reviews                                                                                                                                                                                                                                                                                                                                                                                                                                                                                                                                                                                                                                                                                                                                                                                                                                                                                                                                                                                                                                                                                                                           </th><th>ratings          </th><th>target  </th></tr>\n",
              "</thead>\n",
              "<tbody>\n",
              "<tr><td>type   </td><td>int               </td><td>string                                                                   </td><td>string                                                                                                                                                                                                                                                                                                                                                                                                                                                                                                                                                                                                                                                                                                                                                                                                                                                                                                                                                                                                                                                                                                                            </td><td>int              </td><td>enum    </td></tr>\n",
              "<tr><td>mins   </td><td>0.0               </td><td>NaN                                                                      </td><td>NaN                                                                                                                                                                                                                                                                                                                                                                                                                                                                                                                                                                                                                                                                                                                                                                                                                                                                                                                                                                                                                                                                                                                               </td><td>1.0              </td><td>        </td></tr>\n",
              "<tr><td>mean   </td><td>3.3494841883672   </td><td>NaN                                                                      </td><td>NaN                                                                                                                                                                                                                                                                                                                                                                                                                                                                                                                                                                                                                                                                                                                                                                                                                                                                                                                                                                                                                                                                                                                               </td><td>3.977401984159291</td><td>        </td></tr>\n",
              "<tr><td>maxs   </td><td>2785.0            </td><td>NaN                                                                      </td><td>NaN                                                                                                                                                                                                                                                                                                                                                                                                                                                                                                                                                                                                                                                                                                                                                                                                                                                                                                                                                                                                                                                                                                                               </td><td>5.0              </td><td>        </td></tr>\n",
              "<tr><td>sigma  </td><td>19.483167220712946</td><td>NaN                                                                      </td><td>NaN                                                                                                                                                                                                                                                                                                                                                                                                                                                                                                                                                                                                                                                                                                                                                                                                                                                                                                                                                                                                                                                                                                                               </td><td>1.433130291971473</td><td>        </td></tr>\n",
              "<tr><td>zeros  </td><td>44555             </td><td>0                                                                        </td><td>0                                                                                                                                                                                                                                                                                                                                                                                                                                                                                                                                                                                                                                                                                                                                                                                                                                                                                                                                                                                                                                                                                                                                 </td><td>0                </td><td>        </td></tr>\n",
              "<tr><td>missing</td><td>0                 </td><td>0                                                                        </td><td>0                                                                                                                                                                                                                                                                                                                                                                                                                                                                                                                                                                                                                                                                                                                                                                                                                                                                                                                                                                                                                                                                                                                                 </td><td>0                </td><td>0       </td></tr>\n",
              "<tr><td>0      </td><td>0.0               </td><td>b&#x27;These glasses are an excellent value. The fit is good and they are ...&#x27;</td><td>b&quot;These glasses are an excellent value.  The fit is good and they are very comfortable.  Because of my legal blindness, there aren&#x27;t a lot of options to try to see better, but I believe these help with my other visual aids, and because they are reasonably priced I can have more than one pair available.&quot;                                                                                                                                                                                                                                                                                                                                                                                                                                                                                                                                                                                                                                                                                                                                                                                                                  </td><td>4.0              </td><td>1       </td></tr>\n",
              "<tr><td>1      </td><td>3.0               </td><td>b&#x27;A fantastic way to cheaply try straight razor shaving.&#x27;                </td><td>b&quot;Always wanted to try straight razor shaving (as a DE safety razor user), and this was a cheap way for me to determine I was not into it.&lt;br /&gt;&lt;br /&gt;Because the blades are disposable and always sharp, I could put a new one in and reasonably rely upon that fact that cuts were probably due to my technique and not the blade.&lt;br /&gt;&lt;br /&gt;It&#x27;s very hard to do straight razor shaving on yourself because the ANGLE is difficult to control without switching hands. Being very right-handed, I really couldn&#x27;t do that. I bet I could shave someone else&#x27;s face with it though.&lt;br /&gt;&lt;br /&gt;An immediate upside? Using a DE safety razor (slant edged even) seems SUPER safe now! I&#x27;m increased my speed with the DE due to that confidence, and I&#x27;d been using it for years now.&quot;                                                                                                                                                                                                                                                                                                                                          </td><td>5.0              </td><td>1       </td></tr>\n",
              "<tr><td>2      </td><td>0.0               </td><td>b&#x27;Great for travel&#x27;                                                      </td><td>b&#x27;I usually either throw my toothbrush in a plastic bag with spare head so this product is very convenient for keeping all the parts apart, dry and undamaged, and i now keep it in my travel bag all the time ready to go.&#x27;                                                                                                                                                                                                                                                                                                                                                                                                                                                                                                                                                                                                                                                                                                                                                                                                                                                                                                      </td><td>4.0              </td><td>1       </td></tr>\n",
              "<tr><td>3      </td><td>0.0               </td><td>b&#x27;Five Stars&#x27;                                                            </td><td>b&#x27;Top quality.&#x27;                                                                                                                                                                                                                                                                                                                                                                                                                                                                                                                                                                                                                                                                                                                                                                                                                                                                                                                                                                                                                                                                                                                   </td><td>5.0              </td><td>1       </td></tr>\n",
              "<tr><td>4      </td><td>1.0               </td><td>b&#x27;*Product sent not as shown&#x27;                                            </td><td>b&#x27;Today I received  1 Fl. Oz, Natures Balance AlkaMAX alkaline booster liquid unflavored (formally TriMedica) a glass brown bottle with eye dropper.&lt;br /&gt;Supplement Facts; Serving Size: 10 Drops (Approx. 0.5 mL). Servings per Container: Approx. 60&lt;br /&gt;Amount Per Serving % Daily Value&lt;br /&gt;Magnesium (as Magnesium Chloride) 40 mg 10%&lt;br /&gt;Chloride (as Magnesium Chloride) 64 mg 2%&lt;br /&gt;Other Ingredients: Deionized water and trace mineral complex.&lt;br /&gt;Directions: Add 10 drops to 8 oz. of water or other beverage daily as needed or as directed by your health care practitioner. Store in a cool, dry place.&lt;br /&gt;&lt;br /&gt;I have not used product as of yet with changed ingredients of original/as shown in AlkaMax alkaline support white squeeze bottle.&lt;br /&gt;but had to rate to post...heck this new may be better for all I know.&#x27;                                                                                                                                                                                                                                                                          </td><td>3.0              </td><td>0       </td></tr>\n",
              "<tr><td>5      </td><td>6.0               </td><td>b&#x27;Seems to work well!&#x27;                                                   </td><td>b&#x27;I recently picked this unit up at Bed and Bath where it was $99.00. With a 20% coupon the price was $80 (so comparison shop!) It\\&#x27;s easy to use and seems to work well. I agree with other reviewers about the noise level (loud like a tea kettle boiling), but I use this unit in the living room area so sleeping is not an issue. Having the 2 separate water reservoirs to fill is much easier, weight-wise, as I previously had another humidifier which had one large water reservoir and it was very heavy when full. The unit comes apart quite easily for cleaning and since frequent cleaning is recommended (I usually do it 1x per week, not daily) this is a definite plus. Additionally, one only needs to use vinegar to clean the inside reservoir, which is a lot cheaper than having to buy some kind of \\\\\\\\&quot;special\\\\\\\\&quot; cleaning solution. My one complaint is that it doesn\\&#x27;t, but should, have an automatic shut off when both tanks are empty.I have to remember to turn the unit off when I leave the house. My previous humidifiers all had this auto turn off; seems like every humidifier should.&#x27;</td><td>4.0              </td><td>1       </td></tr>\n",
              "<tr><td>6      </td><td>8.0               </td><td>b&#x27;deep heat?????&#x27;                                                        </td><td>b&#x27;Not sure what previous reviewer was talking about. The product uses ULTRASOUND waves for pain relief NOT heat.  After repeated use, the pain in my knee and shoulder was feeling great. I think you should re-read the description and reconsider your opinion. Great product sold by a great company.&#x27;                                                                                                                                                                                                                                                                                                                                                                                                                                                                                                                                                                                                                                                                                                                                                                                                                         </td><td>5.0              </td><td>1       </td></tr>\n",
              "<tr><td>7      </td><td>2.0               </td><td>b&#x27;Thermometer for a toddler&#x27;                                             </td><td>b&quot;The shippers were great....willing to consider speedier shipping options, but in the end the standard shipping arrived quickly enough. The thermometer is fun and easy to use, but with an inquisitive toddler, it would be nice to have the plastic cap attached to the body so that it doesn&#x27;t disappear.  Would buy it again from these sellers.&quot;                                                                                                                                                                                                                                                                                                                                                                                                                                                                                                                                                                                                                                                                                                                                                                            </td><td>4.0              </td><td>1       </td></tr>\n",
              "<tr><td>8      </td><td>2.0               </td><td>b&#x27;Wow!&#x27;                                                                  </td><td>b&quot;Man, for all you who know what I&#x27;m talking about, this is the best thing I&#x27;ve ever had on my back.  I suffer from back pain constantly and find myself waking up in the middle of the night pushing parts of my back and neck on the edges of walls on the corners of doors and sometimes lying down on tennis or racket balls to get pressure on those dang trigger points.  I opted for the body sticks package not knowing what they would do and it was a good thing.  They are like have racket balls on the ends of sticks to beat your muscle spasms and to lie down on them rolling around on your back. It is worth the money.  They use a device similar to this in physical therapy so if you get your doctor to write you a script for it, insurance may very well pay for it like mine did.  Even so, paid or not, buy this sucker.  Buy two, I thought, just in case it breaks and they for some reason stop manufacturing this thing.  Good stuff.&quot;                                                                                                                                                              </td><td>5.0              </td><td>1       </td></tr>\n",
              "<tr><td>9      </td><td>1.0               </td><td>b&#x27;Great cane for people with hand and wrist issues&#x27;                      </td><td>b&quot;I purchased this cane to assist me when I have to walk long distances.  I have rheumatoid arthritis that has particularly affected my low back and hips, and it sometimes makes walking difficult.  The problem with using a cane when you have RA is that RA doesn&#x27;t just affect your lower extremities.  My hands, wrists, and shoulders are also affected.  When I tried a normal cane, it was agonizingly painful for my hand and wrist in particular.  That made it not worth using, even though it did help my hip and back.  A friend with similar issues recommended this one, and the difference was amazing.  It is still a bit hard on my hand after awhile, but not to the point that would make it not worth using.  There really is no perfect solution for this circumstance short of a wheelchair, and I&#x27;m nowhere near ready for that yet!  The forearm rest makes it bearable to use this cane, and it does really help me to walk longer distances when I need to!  It is a great product, and I&#x27;m happy that I purchased it!&quot;                                                                               </td><td>4.0              </td><td>1       </td></tr>\n",
              "</tbody>\n",
              "</table>"
            ]
          },
          "metadata": {
            "tags": []
          }
        }
      ]
    },
    {
      "cell_type": "code",
      "metadata": {
        "id": "CADrGPcijs2X",
        "colab_type": "code",
        "colab": {
          "base_uri": "https://localhost:8080/",
          "height": 51
        },
        "outputId": "93956085-8e88-45b9-81c9-8b3309126041"
      },
      "source": [
        "import nltk\n",
        "from nltk.corpus import stopwords\n",
        "nltk.download('stopwords')\n",
        "stop_words = set(stopwords.words('english'))"
      ],
      "execution_count": 18,
      "outputs": [
        {
          "output_type": "stream",
          "text": [
            "[nltk_data] Downloading package stopwords to /root/nltk_data...\n",
            "[nltk_data]   Unzipping corpora/stopwords.zip.\n"
          ],
          "name": "stdout"
        }
      ]
    },
    {
      "cell_type": "code",
      "metadata": {
        "id": "YCFnaV7hjszs",
        "colab_type": "code",
        "colab": {}
      },
      "source": [
        "def tokenize(line):\n",
        "  tokenized = line.tokenize('\\\\W+')\n",
        "  tokenized = tokenized.tolower()\n",
        "  tokenized = tokenized[(tokenized.nchar()>= 2) | (tokenized.isna()),:]\n",
        "  tokenized_filter = tokenized[(tokenized.isna())| (~tokenized.isin(stop_words)),:]\n",
        "  return tokenized_filter"
      ],
      "execution_count": 0,
      "outputs": []
    },
    {
      "cell_type": "code",
      "metadata": {
        "id": "2kC0RRXIjsau",
        "colab_type": "code",
        "colab": {}
      },
      "source": [
        "word_reviews = tokenize(data['reviews'])"
      ],
      "execution_count": 0,
      "outputs": []
    },
    {
      "cell_type": "code",
      "metadata": {
        "id": "4vUS3OKGnP0F",
        "colab_type": "code",
        "colab": {}
      },
      "source": [
        "word_headings = tokenize(data['headlines'])"
      ],
      "execution_count": 0,
      "outputs": []
    },
    {
      "cell_type": "code",
      "metadata": {
        "id": "MyzHt82SnQB0",
        "colab_type": "code",
        "colab": {
          "base_uri": "https://localhost:8080/",
          "height": 250
        },
        "outputId": "b6c88bc1-5fc8-4f21-b557-9e397de2306e"
      },
      "source": [
        "word_reviews.head()"
      ],
      "execution_count": 24,
      "outputs": [
        {
          "output_type": "display_data",
          "data": {
            "text/html": [
              "<table>\n",
              "<thead>\n",
              "<tr><th>C1         </th></tr>\n",
              "</thead>\n",
              "<tbody>\n",
              "<tr><td>glasses    </td></tr>\n",
              "<tr><td>excellent  </td></tr>\n",
              "<tr><td>value      </td></tr>\n",
              "<tr><td>fit        </td></tr>\n",
              "<tr><td>good       </td></tr>\n",
              "<tr><td>comfortable</td></tr>\n",
              "<tr><td>legal      </td></tr>\n",
              "<tr><td>blindness  </td></tr>\n",
              "<tr><td>lot        </td></tr>\n",
              "<tr><td>options    </td></tr>\n",
              "</tbody>\n",
              "</table>"
            ]
          },
          "metadata": {
            "tags": []
          }
        },
        {
          "output_type": "execute_result",
          "data": {
            "text/plain": [
              ""
            ]
          },
          "metadata": {
            "tags": []
          },
          "execution_count": 24
        }
      ]
    },
    {
      "cell_type": "code",
      "metadata": {
        "id": "aMHf1EConuF2",
        "colab_type": "code",
        "colab": {
          "base_uri": "https://localhost:8080/",
          "height": 233
        },
        "outputId": "70b6ad61-892b-4394-ae78-20f4577159ad"
      },
      "source": [
        "word_headings.head()"
      ],
      "execution_count": 25,
      "outputs": [
        {
          "output_type": "display_data",
          "data": {
            "text/html": [
              "<table>\n",
              "<thead>\n",
              "<tr><th>C1       </th></tr>\n",
              "</thead>\n",
              "<tbody>\n",
              "<tr><td>glasses  </td></tr>\n",
              "<tr><td>excellent</td></tr>\n",
              "<tr><td>value    </td></tr>\n",
              "<tr><td>fit      </td></tr>\n",
              "<tr><td>good     </td></tr>\n",
              "<tr><td>         </td></tr>\n",
              "<tr><td>fantastic</td></tr>\n",
              "<tr><td>way      </td></tr>\n",
              "<tr><td>cheaply  </td></tr>\n",
              "<tr><td>try      </td></tr>\n",
              "</tbody>\n",
              "</table>"
            ]
          },
          "metadata": {
            "tags": []
          }
        },
        {
          "output_type": "execute_result",
          "data": {
            "text/plain": [
              ""
            ]
          },
          "metadata": {
            "tags": []
          },
          "execution_count": 25
        }
      ]
    },
    {
      "cell_type": "code",
      "metadata": {
        "id": "JVs9x5eVnuKs",
        "colab_type": "code",
        "colab": {}
      },
      "source": [
        "from h2o.estimators.word2vec import H2OWord2vecEstimator\n",
        "from h2o.estimators import H2OGradientBoostingEstimator, H2OXGBoostEstimator"
      ],
      "execution_count": 0,
      "outputs": []
    },
    {
      "cell_type": "code",
      "metadata": {
        "id": "Gc0we1LxnuR2",
        "colab_type": "code",
        "colab": {
          "base_uri": "https://localhost:8080/",
          "height": 34
        },
        "outputId": "a9ae8b2e-541d-4c25-b6eb-6ef15a052714"
      },
      "source": [
        "vec_model = H2OWord2vecEstimator(vec_size = 120, model_id = 'w2v_amazon.model')\n",
        "vec_model.train(training_frame = word_reviews)"
      ],
      "execution_count": 27,
      "outputs": [
        {
          "output_type": "stream",
          "text": [
            "word2vec Model Build progress: |██████████████████████████████████████████| 100%\n"
          ],
          "name": "stdout"
        }
      ]
    },
    {
      "cell_type": "code",
      "metadata": {
        "id": "g5seIt94nuZK",
        "colab_type": "code",
        "colab": {
          "base_uri": "https://localhost:8080/",
          "height": 34
        },
        "outputId": "0bbaebe4-45a2-406d-8c79-8cbc7edc9021"
      },
      "source": [
        "h2o.save_model(vec_model,path ='./')"
      ],
      "execution_count": 28,
      "outputs": [
        {
          "output_type": "execute_result",
          "data": {
            "text/plain": [
              "'/content/w2v_amazon.model'"
            ]
          },
          "metadata": {
            "tags": []
          },
          "execution_count": 28
        }
      ]
    },
    {
      "cell_type": "code",
      "metadata": {
        "id": "CJpSWz6Enudv",
        "colab_type": "code",
        "colab": {}
      },
      "source": [
        "vec_model = h2o.load_model('w2v_amazon.model')"
      ],
      "execution_count": 0,
      "outputs": []
    },
    {
      "cell_type": "code",
      "metadata": {
        "id": "mAmEBJ75nuhY",
        "colab_type": "code",
        "colab": {
          "base_uri": "https://localhost:8080/",
          "height": 102
        },
        "outputId": "a2c9f17d-6b2d-4267-b96c-36936bc866d3"
      },
      "source": [
        "vec_model.find_synonyms('glasses',count = 5)"
      ],
      "execution_count": 30,
      "outputs": [
        {
          "output_type": "execute_result",
          "data": {
            "text/plain": [
              "OrderedDict([('sunglasses', 0.8881736397743225),\n",
              "             ('readers', 0.8370149731636047),\n",
              "             ('bifocals', 0.7719966769218445),\n",
              "             ('lenses', 0.7693980932235718),\n",
              "             ('bifocal', 0.7606756687164307)])"
            ]
          },
          "metadata": {
            "tags": []
          },
          "execution_count": 30
        }
      ]
    },
    {
      "cell_type": "code",
      "metadata": {
        "id": "mD_RB76Pnubs",
        "colab_type": "code",
        "colab": {
          "base_uri": "https://localhost:8080/",
          "height": 34
        },
        "outputId": "e8d285cf-8e5d-4464-a942-e8e6eaef756a"
      },
      "source": [
        "vec_model.find_synonyms('perfumnes',count = 5)"
      ],
      "execution_count": 34,
      "outputs": [
        {
          "output_type": "execute_result",
          "data": {
            "text/plain": [
              "OrderedDict()"
            ]
          },
          "metadata": {
            "tags": []
          },
          "execution_count": 34
        }
      ]
    },
    {
      "cell_type": "code",
      "metadata": {
        "id": "MGctfk35nuWe",
        "colab_type": "code",
        "colab": {
          "base_uri": "https://localhost:8080/",
          "height": 102
        },
        "outputId": "10949849-75ff-4019-9b02-e7d5c5229ca2"
      },
      "source": [
        "vec_model.find_synonyms('toothpaste',count = 5)"
      ],
      "execution_count": 33,
      "outputs": [
        {
          "output_type": "execute_result",
          "data": {
            "text/plain": [
              "OrderedDict([('listerine', 0.7155876159667969),\n",
              "             ('mouthwash', 0.7061328887939453),\n",
              "             ('plax', 0.674338698387146),\n",
              "             ('whitening', 0.6589301228523254),\n",
              "             ('mentadent', 0.6580336093902588)])"
            ]
          },
          "metadata": {
            "tags": []
          },
          "execution_count": 33
        }
      ]
    },
    {
      "cell_type": "code",
      "metadata": {
        "id": "jFGXVehunuP_",
        "colab_type": "code",
        "colab": {}
      },
      "source": [
        "review_vec = vec_model.transform(word_reviews, aggregate_method='AVERAGE')"
      ],
      "execution_count": 0,
      "outputs": []
    },
    {
      "cell_type": "code",
      "metadata": {
        "id": "tfPaH5IJnuOd",
        "colab_type": "code",
        "colab": {
          "base_uri": "https://localhost:8080/",
          "height": 34
        },
        "outputId": "bdd32d1c-4e9a-4e55-dba3-e380dcd65335"
      },
      "source": [
        "review_vec.shape"
      ],
      "execution_count": 36,
      "outputs": [
        {
          "output_type": "execute_result",
          "data": {
            "text/plain": [
              "(85981, 120)"
            ]
          },
          "metadata": {
            "tags": []
          },
          "execution_count": 36
        }
      ]
    },
    {
      "cell_type": "code",
      "metadata": {
        "id": "NdCOw928nuIw",
        "colab_type": "code",
        "colab": {
          "base_uri": "https://localhost:8080/",
          "height": 287
        },
        "outputId": "97874ece-45bb-46c1-c436-b23951ab9f59"
      },
      "source": [
        "review_vec.head()"
      ],
      "execution_count": 37,
      "outputs": [
        {
          "output_type": "display_data",
          "data": {
            "text/html": [
              "<table>\n",
              "<thead>\n",
              "<tr><th style=\"text-align: right;\">         C1</th><th style=\"text-align: right;\">        C2</th><th style=\"text-align: right;\">         C3</th><th style=\"text-align: right;\">          C4</th><th style=\"text-align: right;\">         C5</th><th style=\"text-align: right;\">        C6</th><th style=\"text-align: right;\">         C7</th><th style=\"text-align: right;\">        C8</th><th style=\"text-align: right;\">         C9</th><th style=\"text-align: right;\">       C10</th><th style=\"text-align: right;\">       C11</th><th style=\"text-align: right;\">        C12</th><th style=\"text-align: right;\">        C13</th><th style=\"text-align: right;\">       C14</th><th style=\"text-align: right;\">        C15</th><th style=\"text-align: right;\">        C16</th><th style=\"text-align: right;\">        C17</th><th style=\"text-align: right;\">         C18</th><th style=\"text-align: right;\">       C19</th><th style=\"text-align: right;\">       C20</th><th style=\"text-align: right;\">        C21</th><th style=\"text-align: right;\">        C22</th><th style=\"text-align: right;\">         C23</th><th style=\"text-align: right;\">       C24</th><th style=\"text-align: right;\">        C25</th><th style=\"text-align: right;\">       C26</th><th style=\"text-align: right;\">        C27</th><th style=\"text-align: right;\">      C28</th><th style=\"text-align: right;\">       C29</th><th style=\"text-align: right;\">        C30</th><th style=\"text-align: right;\">       C31</th><th style=\"text-align: right;\">       C32</th><th style=\"text-align: right;\">       C33</th><th style=\"text-align: right;\">        C34</th><th style=\"text-align: right;\">       C35</th><th style=\"text-align: right;\">        C36</th><th style=\"text-align: right;\">       C37</th><th style=\"text-align: right;\">        C38</th><th style=\"text-align: right;\">       C39</th><th style=\"text-align: right;\">        C40</th><th style=\"text-align: right;\">        C41</th><th style=\"text-align: right;\">       C42</th><th style=\"text-align: right;\">         C43</th><th style=\"text-align: right;\">      C44</th><th style=\"text-align: right;\">       C45</th><th style=\"text-align: right;\">        C46</th><th style=\"text-align: right;\">       C47</th><th style=\"text-align: right;\">       C48</th><th style=\"text-align: right;\">        C49</th><th style=\"text-align: right;\">       C50</th><th style=\"text-align: right;\">        C51</th><th style=\"text-align: right;\">       C52</th><th style=\"text-align: right;\">        C53</th><th style=\"text-align: right;\">        C54</th><th style=\"text-align: right;\">        C55</th><th style=\"text-align: right;\">      C56</th><th style=\"text-align: right;\">        C57</th><th style=\"text-align: right;\">        C58</th><th style=\"text-align: right;\">       C59</th><th style=\"text-align: right;\">        C60</th><th style=\"text-align: right;\">       C61</th><th style=\"text-align: right;\">       C62</th><th style=\"text-align: right;\">       C63</th><th style=\"text-align: right;\">       C64</th><th style=\"text-align: right;\">        C65</th><th style=\"text-align: right;\">        C66</th><th style=\"text-align: right;\">       C67</th><th style=\"text-align: right;\">       C68</th><th style=\"text-align: right;\">       C69</th><th style=\"text-align: right;\">        C70</th><th style=\"text-align: right;\">        C71</th><th style=\"text-align: right;\">        C72</th><th style=\"text-align: right;\">      C73</th><th style=\"text-align: right;\">        C74</th><th style=\"text-align: right;\">       C75</th><th style=\"text-align: right;\">       C76</th><th style=\"text-align: right;\">        C77</th><th style=\"text-align: right;\">       C78</th><th style=\"text-align: right;\">        C79</th><th style=\"text-align: right;\">         C80</th><th style=\"text-align: right;\">        C81</th><th style=\"text-align: right;\">        C82</th><th style=\"text-align: right;\">       C83</th><th style=\"text-align: right;\">       C84</th><th style=\"text-align: right;\">        C85</th><th style=\"text-align: right;\">       C86</th><th style=\"text-align: right;\">        C87</th><th style=\"text-align: right;\">      C88</th><th style=\"text-align: right;\">       C89</th><th style=\"text-align: right;\">        C90</th><th style=\"text-align: right;\">       C91</th><th style=\"text-align: right;\">       C92</th><th style=\"text-align: right;\">        C93</th><th style=\"text-align: right;\">        C94</th><th style=\"text-align: right;\">        C95</th><th style=\"text-align: right;\">         C96</th><th style=\"text-align: right;\">        C97</th><th style=\"text-align: right;\">        C98</th><th style=\"text-align: right;\">       C99</th><th style=\"text-align: right;\">      C100</th><th style=\"text-align: right;\">       C101</th><th style=\"text-align: right;\">      C102</th><th style=\"text-align: right;\">       C103</th><th style=\"text-align: right;\">      C104</th><th style=\"text-align: right;\">       C105</th><th style=\"text-align: right;\">      C106</th><th style=\"text-align: right;\">        C107</th><th style=\"text-align: right;\">      C108</th><th style=\"text-align: right;\">     C109</th><th style=\"text-align: right;\">      C110</th><th style=\"text-align: right;\">       C111</th><th style=\"text-align: right;\">      C112</th><th style=\"text-align: right;\">      C113</th><th style=\"text-align: right;\">      C114</th><th style=\"text-align: right;\">       C115</th><th style=\"text-align: right;\">      C116</th><th style=\"text-align: right;\">      C117</th><th style=\"text-align: right;\">      C118</th><th style=\"text-align: right;\">     C119</th><th style=\"text-align: right;\">      C120</th></tr>\n",
              "</thead>\n",
              "<tbody>\n",
              "<tr><td style=\"text-align: right;\">-0.0281383 </td><td style=\"text-align: right;\"> 0.0451605</td><td style=\"text-align: right;\"> 0.0208805 </td><td style=\"text-align: right;\"> 0.0364022  </td><td style=\"text-align: right;\"> 0.0490283 </td><td style=\"text-align: right;\"> 0.0597845</td><td style=\"text-align: right;\"> 0.086836  </td><td style=\"text-align: right;\">-0.0205995</td><td style=\"text-align: right;\"> 0.0228449 </td><td style=\"text-align: right;\">0.105774  </td><td style=\"text-align: right;\"> 0.148021 </td><td style=\"text-align: right;\"> 0.104677  </td><td style=\"text-align: right;\"> 0.00195168</td><td style=\"text-align: right;\">-0.0839992</td><td style=\"text-align: right;\">-0.028422  </td><td style=\"text-align: right;\"> 0.0261864 </td><td style=\"text-align: right;\"> 0.0219118 </td><td style=\"text-align: right;\">-0.0224802  </td><td style=\"text-align: right;\"> 0.0537292</td><td style=\"text-align: right;\"> 0.039628 </td><td style=\"text-align: right;\">-0.0893521 </td><td style=\"text-align: right;\"> 0.0422975 </td><td style=\"text-align: right;\"> 0.143983   </td><td style=\"text-align: right;\">0.00826768</td><td style=\"text-align: right;\">-0.0403056 </td><td style=\"text-align: right;\">0.0784658 </td><td style=\"text-align: right;\"> 0.00423847</td><td style=\"text-align: right;\">0.0164394</td><td style=\"text-align: right;\">-0.118442 </td><td style=\"text-align: right;\"> 0.0871048 </td><td style=\"text-align: right;\">-0.0755437</td><td style=\"text-align: right;\">0.155734  </td><td style=\"text-align: right;\"> 0.230034 </td><td style=\"text-align: right;\">-0.00990373</td><td style=\"text-align: right;\">-0.0453658</td><td style=\"text-align: right;\">-0.0623023 </td><td style=\"text-align: right;\"> 0.0599429</td><td style=\"text-align: right;\">-0.0555877 </td><td style=\"text-align: right;\">-0.140618 </td><td style=\"text-align: right;\">0.01435    </td><td style=\"text-align: right;\"> 0.0634803 </td><td style=\"text-align: right;\"> 0.0221044</td><td style=\"text-align: right;\"> 0.00178899 </td><td style=\"text-align: right;\">0.109879 </td><td style=\"text-align: right;\"> 0.0783917</td><td style=\"text-align: right;\">-0.116054  </td><td style=\"text-align: right;\">-0.0148566</td><td style=\"text-align: right;\"> 0.123911 </td><td style=\"text-align: right;\">-0.0241501 </td><td style=\"text-align: right;\">-0.0284834</td><td style=\"text-align: right;\"> 0.0719345 </td><td style=\"text-align: right;\">-0.0178627</td><td style=\"text-align: right;\">-0.0570021 </td><td style=\"text-align: right;\"> 0.0920691 </td><td style=\"text-align: right;\">-0.0542657 </td><td style=\"text-align: right;\">0.182695 </td><td style=\"text-align: right;\"> 0.0540829 </td><td style=\"text-align: right;\"> 0.0297654 </td><td style=\"text-align: right;\">-0.0280399</td><td style=\"text-align: right;\">-0.0220062 </td><td style=\"text-align: right;\"> 0.0284479</td><td style=\"text-align: right;\">-0.0604486</td><td style=\"text-align: right;\"> 0.139157 </td><td style=\"text-align: right;\"> 0.0389688</td><td style=\"text-align: right;\">-0.0864332 </td><td style=\"text-align: right;\">-0.00194377</td><td style=\"text-align: right;\">-0.0109303</td><td style=\"text-align: right;\">-0.117638 </td><td style=\"text-align: right;\">-0.0604054</td><td style=\"text-align: right;\">-0.102923  </td><td style=\"text-align: right;\">-0.0524479 </td><td style=\"text-align: right;\">-0.0442748 </td><td style=\"text-align: right;\">0.158725 </td><td style=\"text-align: right;\">-0.0375727 </td><td style=\"text-align: right;\">-0.164285 </td><td style=\"text-align: right;\">-0.0509256</td><td style=\"text-align: right;\"> 0.0756197 </td><td style=\"text-align: right;\"> 0.0378284</td><td style=\"text-align: right;\"> 0.080267  </td><td style=\"text-align: right;\"> 0.0606812  </td><td style=\"text-align: right;\">-0.0508439 </td><td style=\"text-align: right;\">-0.0139939 </td><td style=\"text-align: right;\">-0.130689 </td><td style=\"text-align: right;\"> 0.0905521</td><td style=\"text-align: right;\"> 0.140889  </td><td style=\"text-align: right;\"> 0.0934242</td><td style=\"text-align: right;\"> 0.00119441</td><td style=\"text-align: right;\">0.0707536</td><td style=\"text-align: right;\"> 0.0451454</td><td style=\"text-align: right;\">-0.0453052 </td><td style=\"text-align: right;\">-0.100579 </td><td style=\"text-align: right;\">-0.0265068</td><td style=\"text-align: right;\">-0.0153192 </td><td style=\"text-align: right;\"> 0.0493424 </td><td style=\"text-align: right;\">-0.0725744 </td><td style=\"text-align: right;\"> 0.159301   </td><td style=\"text-align: right;\"> 0.105778  </td><td style=\"text-align: right;\">-0.0575126 </td><td style=\"text-align: right;\">-0.253128 </td><td style=\"text-align: right;\">-0.0315594</td><td style=\"text-align: right;\">-0.0628594 </td><td style=\"text-align: right;\">-0.0116016</td><td style=\"text-align: right;\">-0.00699913</td><td style=\"text-align: right;\">-0.0794256</td><td style=\"text-align: right;\"> 0.0765776 </td><td style=\"text-align: right;\">-0.130006 </td><td style=\"text-align: right;\"> 0.0307449  </td><td style=\"text-align: right;\">-0.0485227</td><td style=\"text-align: right;\">0.0936148</td><td style=\"text-align: right;\">-0.077482 </td><td style=\"text-align: right;\">-0.0247745 </td><td style=\"text-align: right;\">-0.188623 </td><td style=\"text-align: right;\"> 0.0489733</td><td style=\"text-align: right;\"> 0.0490692</td><td style=\"text-align: right;\">-0.103469  </td><td style=\"text-align: right;\"> 0.253566 </td><td style=\"text-align: right;\">-0.0840114</td><td style=\"text-align: right;\"> 0.1322   </td><td style=\"text-align: right;\">-0.121225</td><td style=\"text-align: right;\">-0.0620176</td></tr>\n",
              "<tr><td style=\"text-align: right;\"> 0.0433192 </td><td style=\"text-align: right;\">-0.0840268</td><td style=\"text-align: right;\"> 0.0425826 </td><td style=\"text-align: right;\">-0.000292823</td><td style=\"text-align: right;\"> 0.00559941</td><td style=\"text-align: right;\">-0.124929 </td><td style=\"text-align: right;\">-0.00813934</td><td style=\"text-align: right;\">-0.0624668</td><td style=\"text-align: right;\"> 0.105256  </td><td style=\"text-align: right;\">0.140612  </td><td style=\"text-align: right;\">-0.0262967</td><td style=\"text-align: right;\"> 0.013893  </td><td style=\"text-align: right;\">-0.0958595 </td><td style=\"text-align: right;\">-0.149584 </td><td style=\"text-align: right;\">-0.0956728 </td><td style=\"text-align: right;\"> 0.0149765 </td><td style=\"text-align: right;\">-0.100034  </td><td style=\"text-align: right;\"> 0.0232381  </td><td style=\"text-align: right;\">-0.0519553</td><td style=\"text-align: right;\"> 0.0117788</td><td style=\"text-align: right;\">-0.150605  </td><td style=\"text-align: right;\">-0.00724392</td><td style=\"text-align: right;\">-0.0146965  </td><td style=\"text-align: right;\">0.123472  </td><td style=\"text-align: right;\">-0.0148585 </td><td style=\"text-align: right;\">0.0899243 </td><td style=\"text-align: right;\">-0.0842476 </td><td style=\"text-align: right;\">0.0778576</td><td style=\"text-align: right;\">-0.209886 </td><td style=\"text-align: right;\">-0.0253203 </td><td style=\"text-align: right;\">-0.161526 </td><td style=\"text-align: right;\">0.114094  </td><td style=\"text-align: right;\">-0.0191719</td><td style=\"text-align: right;\">-0.0799578 </td><td style=\"text-align: right;\"> 0.026333 </td><td style=\"text-align: right;\">-0.0472668 </td><td style=\"text-align: right;\"> 0.0309505</td><td style=\"text-align: right;\">-0.142703  </td><td style=\"text-align: right;\">-0.0498395</td><td style=\"text-align: right;\">0.114788   </td><td style=\"text-align: right;\"> 0.0590307 </td><td style=\"text-align: right;\">-0.0449061</td><td style=\"text-align: right;\">-0.0120751  </td><td style=\"text-align: right;\">0.0971442</td><td style=\"text-align: right;\">-0.106114 </td><td style=\"text-align: right;\">-0.0629573 </td><td style=\"text-align: right;\"> 0.0653218</td><td style=\"text-align: right;\"> 0.0451325</td><td style=\"text-align: right;\"> 0.00542171</td><td style=\"text-align: right;\"> 0.0526864</td><td style=\"text-align: right;\"> 0.150377  </td><td style=\"text-align: right;\">-0.0489438</td><td style=\"text-align: right;\">-0.067726  </td><td style=\"text-align: right;\"> 0.178047  </td><td style=\"text-align: right;\">-0.00484355</td><td style=\"text-align: right;\">0.075601 </td><td style=\"text-align: right;\"> 0.0184764 </td><td style=\"text-align: right;\">-0.0498107 </td><td style=\"text-align: right;\">-0.0478897</td><td style=\"text-align: right;\">-0.119254  </td><td style=\"text-align: right;\">-0.0788942</td><td style=\"text-align: right;\">-0.0493377</td><td style=\"text-align: right;\"> 0.0927758</td><td style=\"text-align: right;\"> 0.0239685</td><td style=\"text-align: right;\">-0.00932156</td><td style=\"text-align: right;\">-0.0603101 </td><td style=\"text-align: right;\"> 0.063082 </td><td style=\"text-align: right;\">-0.141753 </td><td style=\"text-align: right;\">-0.0382907</td><td style=\"text-align: right;\"> 0.00498611</td><td style=\"text-align: right;\"> 0.0236715 </td><td style=\"text-align: right;\">-0.0740937 </td><td style=\"text-align: right;\">0.232219 </td><td style=\"text-align: right;\">-0.0214917 </td><td style=\"text-align: right;\">-0.0817281</td><td style=\"text-align: right;\">-0.0402355</td><td style=\"text-align: right;\"> 0.0643114 </td><td style=\"text-align: right;\">-0.0412106</td><td style=\"text-align: right;\"> 0.116513  </td><td style=\"text-align: right;\"> 0.0439791  </td><td style=\"text-align: right;\">-0.156161  </td><td style=\"text-align: right;\"> 0.00343228</td><td style=\"text-align: right;\">-0.007348 </td><td style=\"text-align: right;\"> 0.138099 </td><td style=\"text-align: right;\"> 0.0357591 </td><td style=\"text-align: right;\">-0.0289391</td><td style=\"text-align: right;\"> 0.0923529 </td><td style=\"text-align: right;\">0.0741014</td><td style=\"text-align: right;\"> 0.149985 </td><td style=\"text-align: right;\"> 0.0268088 </td><td style=\"text-align: right;\">-0.0117311</td><td style=\"text-align: right;\">-0.0499424</td><td style=\"text-align: right;\"> 0.0411574 </td><td style=\"text-align: right;\"> 0.145084  </td><td style=\"text-align: right;\">-0.126042  </td><td style=\"text-align: right;\"> 0.0475984  </td><td style=\"text-align: right;\"> 0.187601  </td><td style=\"text-align: right;\">-0.0306477 </td><td style=\"text-align: right;\">-0.0323729</td><td style=\"text-align: right;\"> 0.0475829</td><td style=\"text-align: right;\"> 0.0138147 </td><td style=\"text-align: right;\">-0.0863087</td><td style=\"text-align: right;\"> 0.0111424 </td><td style=\"text-align: right;\">-0.153721 </td><td style=\"text-align: right;\"> 0.00450265</td><td style=\"text-align: right;\">-0.113574 </td><td style=\"text-align: right;\">-0.00221152 </td><td style=\"text-align: right;\">-0.0819239</td><td style=\"text-align: right;\">0.0856897</td><td style=\"text-align: right;\">-0.0992356</td><td style=\"text-align: right;\"> 0.0557527 </td><td style=\"text-align: right;\">-0.118828 </td><td style=\"text-align: right;\"> 0.0318579</td><td style=\"text-align: right;\">-0.0126614</td><td style=\"text-align: right;\">-0.118974  </td><td style=\"text-align: right;\"> 0.101386 </td><td style=\"text-align: right;\">-0.054774 </td><td style=\"text-align: right;\"> 0.041871 </td><td style=\"text-align: right;\">-0.202018</td><td style=\"text-align: right;\">-0.126616 </td></tr>\n",
              "<tr><td style=\"text-align: right;\"> 0.0344487 </td><td style=\"text-align: right;\"> 0.110007 </td><td style=\"text-align: right;\"> 0.0861735 </td><td style=\"text-align: right;\">-0.0376675  </td><td style=\"text-align: right;\">-0.0826734 </td><td style=\"text-align: right;\">-0.0629142</td><td style=\"text-align: right;\"> 0.157702  </td><td style=\"text-align: right;\"> 0.0516198</td><td style=\"text-align: right;\"> 0.00753716</td><td style=\"text-align: right;\">0.00155863</td><td style=\"text-align: right;\"> 0.0541585</td><td style=\"text-align: right;\"> 0.053212  </td><td style=\"text-align: right;\"> 0.0362179 </td><td style=\"text-align: right;\"> 0.0482439</td><td style=\"text-align: right;\"> 0.00251221</td><td style=\"text-align: right;\"> 0.109569  </td><td style=\"text-align: right;\">-0.00071505</td><td style=\"text-align: right;\"> 0.10421    </td><td style=\"text-align: right;\"> 0.144443 </td><td style=\"text-align: right;\"> 0.0597009</td><td style=\"text-align: right;\">-0.139015  </td><td style=\"text-align: right;\">-0.0423092 </td><td style=\"text-align: right;\">-0.0262226  </td><td style=\"text-align: right;\">0.0955599 </td><td style=\"text-align: right;\"> 0.0142984 </td><td style=\"text-align: right;\">0.00955585</td><td style=\"text-align: right;\">-0.0153332 </td><td style=\"text-align: right;\">0.180859 </td><td style=\"text-align: right;\">-0.0765834</td><td style=\"text-align: right;\"> 0.0882115 </td><td style=\"text-align: right;\">-0.188053 </td><td style=\"text-align: right;\">0.00408752</td><td style=\"text-align: right;\"> 0.0722267</td><td style=\"text-align: right;\">-0.0312545 </td><td style=\"text-align: right;\">-0.0376121</td><td style=\"text-align: right;\">-0.0461079 </td><td style=\"text-align: right;\"> 0.0812354</td><td style=\"text-align: right;\"> 0.00591186</td><td style=\"text-align: right;\"> 0.121651 </td><td style=\"text-align: right;\">0.119304   </td><td style=\"text-align: right;\"> 0.121672  </td><td style=\"text-align: right;\">-0.0715815</td><td style=\"text-align: right;\">-0.0388746  </td><td style=\"text-align: right;\">0.0846652</td><td style=\"text-align: right;\">-0.0088995</td><td style=\"text-align: right;\">-0.097112  </td><td style=\"text-align: right;\"> 0.0667445</td><td style=\"text-align: right;\"> 0.0886653</td><td style=\"text-align: right;\">-0.0311949 </td><td style=\"text-align: right;\">-0.0339122</td><td style=\"text-align: right;\"> 0.0994114 </td><td style=\"text-align: right;\"> 0.121622 </td><td style=\"text-align: right;\"> 0.00600424</td><td style=\"text-align: right;\"> 0.088188  </td><td style=\"text-align: right;\">-0.00837777</td><td style=\"text-align: right;\">0.0581892</td><td style=\"text-align: right;\">-0.0296497 </td><td style=\"text-align: right;\">-0.071109  </td><td style=\"text-align: right;\">-0.0493678</td><td style=\"text-align: right;\">-0.0817493 </td><td style=\"text-align: right;\">-0.0197798</td><td style=\"text-align: right;\">-0.134645 </td><td style=\"text-align: right;\"> 0.158339 </td><td style=\"text-align: right;\">-0.125463 </td><td style=\"text-align: right;\"> 0.0420071 </td><td style=\"text-align: right;\">-0.212747  </td><td style=\"text-align: right;\"> 0.0596774</td><td style=\"text-align: right;\">-0.112956 </td><td style=\"text-align: right;\">-0.196398 </td><td style=\"text-align: right;\"> 0.0254909 </td><td style=\"text-align: right;\">-0.00512949</td><td style=\"text-align: right;\"> 0.0865611 </td><td style=\"text-align: right;\">0.248209 </td><td style=\"text-align: right;\"> 0.0305199 </td><td style=\"text-align: right;\">-0.0549061</td><td style=\"text-align: right;\">-0.0186852</td><td style=\"text-align: right;\">-0.0170033 </td><td style=\"text-align: right;\">-0.0233586</td><td style=\"text-align: right;\"> 0.0477204 </td><td style=\"text-align: right;\">-0.0124354  </td><td style=\"text-align: right;\">-0.00548817</td><td style=\"text-align: right;\">-0.170578  </td><td style=\"text-align: right;\">-0.0728541</td><td style=\"text-align: right;\"> 0.143101 </td><td style=\"text-align: right;\"> 0.109862  </td><td style=\"text-align: right;\"> 0.0939289</td><td style=\"text-align: right;\">-0.0980536 </td><td style=\"text-align: right;\">0.0339828</td><td style=\"text-align: right;\"> 0.152759 </td><td style=\"text-align: right;\"> 0.0010172 </td><td style=\"text-align: right;\"> 0.0766303</td><td style=\"text-align: right;\">-0.123185 </td><td style=\"text-align: right;\"> 0.0282937 </td><td style=\"text-align: right;\"> 0.0945281 </td><td style=\"text-align: right;\">-0.0225884 </td><td style=\"text-align: right;\"> 0.000355505</td><td style=\"text-align: right;\"> 0.0192144 </td><td style=\"text-align: right;\"> 0.0924216 </td><td style=\"text-align: right;\">-0.0479161</td><td style=\"text-align: right;\">-0.0385058</td><td style=\"text-align: right;\">-0.00939356</td><td style=\"text-align: right;\">-0.0215528</td><td style=\"text-align: right;\"> 0.0763373 </td><td style=\"text-align: right;\">-0.124398 </td><td style=\"text-align: right;\"> 0.0139861 </td><td style=\"text-align: right;\">-0.0537154</td><td style=\"text-align: right;\"> 0.0579019  </td><td style=\"text-align: right;\">-0.0955912</td><td style=\"text-align: right;\">0.14538  </td><td style=\"text-align: right;\">-0.0338348</td><td style=\"text-align: right;\">-0.0850346 </td><td style=\"text-align: right;\">-0.138127 </td><td style=\"text-align: right;\">-0.101838 </td><td style=\"text-align: right;\">-0.0261654</td><td style=\"text-align: right;\">-0.16271   </td><td style=\"text-align: right;\"> 0.174373 </td><td style=\"text-align: right;\">-0.0131548</td><td style=\"text-align: right;\"> 0.100661 </td><td style=\"text-align: right;\">-0.102599</td><td style=\"text-align: right;\"> 0.0240359</td></tr>\n",
              "<tr><td style=\"text-align: right;\"> 0.0483391 </td><td style=\"text-align: right;\">-0.0180455</td><td style=\"text-align: right;\"> 0.130798  </td><td style=\"text-align: right;\">-0.108629   </td><td style=\"text-align: right;\"> 0.36218   </td><td style=\"text-align: right;\"> 0.0347741</td><td style=\"text-align: right;\"> 0.157087  </td><td style=\"text-align: right;\">-0.125394 </td><td style=\"text-align: right;\"> 0.0614896 </td><td style=\"text-align: right;\">0.187136  </td><td style=\"text-align: right;\"> 0.111164 </td><td style=\"text-align: right;\">-0.01321   </td><td style=\"text-align: right;\">-0.109332  </td><td style=\"text-align: right;\">-0.102992 </td><td style=\"text-align: right;\">-0.255647  </td><td style=\"text-align: right;\"> 0.238988  </td><td style=\"text-align: right;\"> 0.13452   </td><td style=\"text-align: right;\">-0.0630994  </td><td style=\"text-align: right;\">-0.0552682</td><td style=\"text-align: right;\">-0.0762366</td><td style=\"text-align: right;\">-0.238204  </td><td style=\"text-align: right;\">-0.149038  </td><td style=\"text-align: right;\"> 0.0896998  </td><td style=\"text-align: right;\">0.0314553 </td><td style=\"text-align: right;\"> 0.155254  </td><td style=\"text-align: right;\">0.0753186 </td><td style=\"text-align: right;\">-0.0440049 </td><td style=\"text-align: right;\">0.268502 </td><td style=\"text-align: right;\"> 0.0583931</td><td style=\"text-align: right;\"> 0.00405625</td><td style=\"text-align: right;\">-0.0804265</td><td style=\"text-align: right;\">0.124325  </td><td style=\"text-align: right;\"> 0.036626 </td><td style=\"text-align: right;\"> 0.00559627</td><td style=\"text-align: right;\">-0.0910078</td><td style=\"text-align: right;\">-0.0489482 </td><td style=\"text-align: right;\">-0.170871 </td><td style=\"text-align: right;\"> 0.122243  </td><td style=\"text-align: right;\">-0.106523 </td><td style=\"text-align: right;\">0.0563044  </td><td style=\"text-align: right;\">-0.0219014 </td><td style=\"text-align: right;\">-0.0354059</td><td style=\"text-align: right;\">-0.000561103</td><td style=\"text-align: right;\">0.34548  </td><td style=\"text-align: right;\"> 0.160525 </td><td style=\"text-align: right;\">-0.138781  </td><td style=\"text-align: right;\"> 0.0548683</td><td style=\"text-align: right;\"> 0.124522 </td><td style=\"text-align: right;\">-0.129149  </td><td style=\"text-align: right;\"> 0.146897 </td><td style=\"text-align: right;\"> 0.0765127 </td><td style=\"text-align: right;\"> 0.0732219</td><td style=\"text-align: right;\"> 0.228131  </td><td style=\"text-align: right;\"> 0.0934904 </td><td style=\"text-align: right;\">-0.086095  </td><td style=\"text-align: right;\">0.0900647</td><td style=\"text-align: right;\"> 0.222518  </td><td style=\"text-align: right;\">-0.088452  </td><td style=\"text-align: right;\">-0.0581827</td><td style=\"text-align: right;\">-0.0610127 </td><td style=\"text-align: right;\"> 0.089793 </td><td style=\"text-align: right;\">-0.130952 </td><td style=\"text-align: right;\"> 0.125501 </td><td style=\"text-align: right;\"> 0.0889634</td><td style=\"text-align: right;\">-0.0793157 </td><td style=\"text-align: right;\">-0.114925  </td><td style=\"text-align: right;\"> 0.265278 </td><td style=\"text-align: right;\">-0.0541251</td><td style=\"text-align: right;\">-0.137194 </td><td style=\"text-align: right;\"> 0.0136879 </td><td style=\"text-align: right;\">-0.0315996 </td><td style=\"text-align: right;\"> 0.00839327</td><td style=\"text-align: right;\">0.206911 </td><td style=\"text-align: right;\">-0.00225254</td><td style=\"text-align: right;\">-0.0125865</td><td style=\"text-align: right;\">-0.123934 </td><td style=\"text-align: right;\"> 0.0228934 </td><td style=\"text-align: right;\"> 0.0743688</td><td style=\"text-align: right;\">-0.0685286 </td><td style=\"text-align: right;\"> 0.000519462</td><td style=\"text-align: right;\"> 0.0200448 </td><td style=\"text-align: right;\">-0.128065  </td><td style=\"text-align: right;\">-0.279602 </td><td style=\"text-align: right;\"> 0.0181286</td><td style=\"text-align: right;\"> 0.137973  </td><td style=\"text-align: right;\">-0.0531219</td><td style=\"text-align: right;\"> 0.154041  </td><td style=\"text-align: right;\">0.203375 </td><td style=\"text-align: right;\"> 0.0944299</td><td style=\"text-align: right;\"> 0.0835997 </td><td style=\"text-align: right;\">-0.0425999</td><td style=\"text-align: right;\">-0.387706 </td><td style=\"text-align: right;\">-0.017848  </td><td style=\"text-align: right;\"> 0.0762225 </td><td style=\"text-align: right;\">-0.00639877</td><td style=\"text-align: right;\"> 0.0340671  </td><td style=\"text-align: right;\">-0.00607178</td><td style=\"text-align: right;\">-0.0686995 </td><td style=\"text-align: right;\">-0.114912 </td><td style=\"text-align: right;\">-0.039488 </td><td style=\"text-align: right;\">-0.0869978 </td><td style=\"text-align: right;\">-0.0571135</td><td style=\"text-align: right;\">-0.0422708 </td><td style=\"text-align: right;\">-0.0527115</td><td style=\"text-align: right;\"> 0.200168  </td><td style=\"text-align: right;\">-0.158964 </td><td style=\"text-align: right;\"> 0.142837   </td><td style=\"text-align: right;\">-0.0945681</td><td style=\"text-align: right;\">0.338731 </td><td style=\"text-align: right;\"> 0.0250628</td><td style=\"text-align: right;\">-0.0526641 </td><td style=\"text-align: right;\">-0.0847898</td><td style=\"text-align: right;\">-0.227961 </td><td style=\"text-align: right;\"> 0.0540486</td><td style=\"text-align: right;\">-0.231004  </td><td style=\"text-align: right;\">-0.0785464</td><td style=\"text-align: right;\">-0.117389 </td><td style=\"text-align: right;\">-0.159439 </td><td style=\"text-align: right;\">-0.215832</td><td style=\"text-align: right;\"> 0.105706 </td></tr>\n",
              "<tr><td style=\"text-align: right;\">-0.0422542 </td><td style=\"text-align: right;\">-0.0524308</td><td style=\"text-align: right;\"> 0.0397058 </td><td style=\"text-align: right;\"> 0.093262   </td><td style=\"text-align: right;\"> 0.119976  </td><td style=\"text-align: right;\">-0.0677966</td><td style=\"text-align: right;\"> 0.00159406</td><td style=\"text-align: right;\"> 0.130933 </td><td style=\"text-align: right;\">-0.063736  </td><td style=\"text-align: right;\">0.0646065 </td><td style=\"text-align: right;\">-0.077548 </td><td style=\"text-align: right;\"> 0.0436964 </td><td style=\"text-align: right;\">-0.0319105 </td><td style=\"text-align: right;\"> 0.0944021</td><td style=\"text-align: right;\"> 0.0673774 </td><td style=\"text-align: right;\"> 0.180471  </td><td style=\"text-align: right;\">-0.11892   </td><td style=\"text-align: right;\"> 0.0926175  </td><td style=\"text-align: right;\"> 0.0592089</td><td style=\"text-align: right;\"> 0.0878209</td><td style=\"text-align: right;\"> 0.00800091</td><td style=\"text-align: right;\"> 0.070636  </td><td style=\"text-align: right;\"> 0.000835853</td><td style=\"text-align: right;\">0.0906692 </td><td style=\"text-align: right;\"> 0.00179759</td><td style=\"text-align: right;\">0.12832   </td><td style=\"text-align: right;\">-0.101039  </td><td style=\"text-align: right;\">0.0694996</td><td style=\"text-align: right;\">-0.0633028</td><td style=\"text-align: right;\"> 0.0936107 </td><td style=\"text-align: right;\">-0.206538 </td><td style=\"text-align: right;\">0.115544  </td><td style=\"text-align: right;\"> 0.0822958</td><td style=\"text-align: right;\"> 0.00327467</td><td style=\"text-align: right;\">-0.0774805</td><td style=\"text-align: right;\"> 0.0186678 </td><td style=\"text-align: right;\"> 0.0229163</td><td style=\"text-align: right;\">-0.0801857 </td><td style=\"text-align: right;\"> 0.0876678</td><td style=\"text-align: right;\">0.000320557</td><td style=\"text-align: right;\"> 0.0642401 </td><td style=\"text-align: right;\">-0.0487701</td><td style=\"text-align: right;\"> 0.112684   </td><td style=\"text-align: right;\">0.125235 </td><td style=\"text-align: right;\">-0.0250373</td><td style=\"text-align: right;\">-0.0458112 </td><td style=\"text-align: right;\"> 0.0489124</td><td style=\"text-align: right;\">-0.030076 </td><td style=\"text-align: right;\">-0.0370361 </td><td style=\"text-align: right;\"> 0.0726091</td><td style=\"text-align: right;\">-0.00322844</td><td style=\"text-align: right;\"> 0.194463 </td><td style=\"text-align: right;\">-0.0900596 </td><td style=\"text-align: right;\"> 0.00033871</td><td style=\"text-align: right;\"> 0.0303688 </td><td style=\"text-align: right;\">0.109722 </td><td style=\"text-align: right;\"> 0.158062  </td><td style=\"text-align: right;\">-0.0687844 </td><td style=\"text-align: right;\"> 0.0212823</td><td style=\"text-align: right;\">-0.00795063</td><td style=\"text-align: right;\">-0.0242976</td><td style=\"text-align: right;\"> 0.142032 </td><td style=\"text-align: right;\">-0.0224795</td><td style=\"text-align: right;\">-0.113306 </td><td style=\"text-align: right;\">-0.0813902 </td><td style=\"text-align: right;\">-0.105866  </td><td style=\"text-align: right;\"> 0.0654217</td><td style=\"text-align: right;\">-0.0428615</td><td style=\"text-align: right;\">-0.2019   </td><td style=\"text-align: right;\"> 0.096275  </td><td style=\"text-align: right;\">-0.0314807 </td><td style=\"text-align: right;\">-0.0791809 </td><td style=\"text-align: right;\">0.219139 </td><td style=\"text-align: right;\">-0.0549989 </td><td style=\"text-align: right;\">-0.125325 </td><td style=\"text-align: right;\">-0.146955 </td><td style=\"text-align: right;\"> 0.107087  </td><td style=\"text-align: right;\"> 0.0139834</td><td style=\"text-align: right;\">-0.00407445</td><td style=\"text-align: right;\"> 0.024109   </td><td style=\"text-align: right;\"> 0.116471  </td><td style=\"text-align: right;\"> 0.106872  </td><td style=\"text-align: right;\">-0.0937356</td><td style=\"text-align: right;\">-0.0223563</td><td style=\"text-align: right;\">-0.0189812 </td><td style=\"text-align: right;\"> 0.114869 </td><td style=\"text-align: right;\">-0.0607122 </td><td style=\"text-align: right;\">0.0826629</td><td style=\"text-align: right;\">-0.0373958</td><td style=\"text-align: right;\">-0.00133777</td><td style=\"text-align: right;\">-0.359258 </td><td style=\"text-align: right;\">-0.135814 </td><td style=\"text-align: right;\">-0.0213174 </td><td style=\"text-align: right;\"> 0.0175646 </td><td style=\"text-align: right;\">-0.0270562 </td><td style=\"text-align: right;\"> 0.00915281 </td><td style=\"text-align: right;\"> 0.222515  </td><td style=\"text-align: right;\"> 0.114444  </td><td style=\"text-align: right;\">-0.10489  </td><td style=\"text-align: right;\"> 0.0419532</td><td style=\"text-align: right;\">-0.0527343 </td><td style=\"text-align: right;\"> 0.0765961</td><td style=\"text-align: right;\">-0.0767056 </td><td style=\"text-align: right;\">-0.149935 </td><td style=\"text-align: right;\"> 0.0747286 </td><td style=\"text-align: right;\"> 0.0449906</td><td style=\"text-align: right;\"> 0.121962   </td><td style=\"text-align: right;\">-0.036246 </td><td style=\"text-align: right;\">0.143089 </td><td style=\"text-align: right;\">-0.075363 </td><td style=\"text-align: right;\">-0.00304454</td><td style=\"text-align: right;\">-0.152618 </td><td style=\"text-align: right;\">-0.0297979</td><td style=\"text-align: right;\"> 0.0909585</td><td style=\"text-align: right;\"> 0.00528028</td><td style=\"text-align: right;\"> 0.164615 </td><td style=\"text-align: right;\">-0.0478472</td><td style=\"text-align: right;\"> 0.17061  </td><td style=\"text-align: right;\">-0.150426</td><td style=\"text-align: right;\"> 0.0551171</td></tr>\n",
              "<tr><td style=\"text-align: right;\">-0.054901  </td><td style=\"text-align: right;\">-0.0573618</td><td style=\"text-align: right;\">-0.0432303 </td><td style=\"text-align: right;\"> 0.134973   </td><td style=\"text-align: right;\">-0.0080487 </td><td style=\"text-align: right;\">-0.0121067</td><td style=\"text-align: right;\"> 0.1311    </td><td style=\"text-align: right;\">-0.034898 </td><td style=\"text-align: right;\">-0.0155868 </td><td style=\"text-align: right;\">0.0597838 </td><td style=\"text-align: right;\"> 0.032644 </td><td style=\"text-align: right;\">-0.00654317</td><td style=\"text-align: right;\"> 0.0224663 </td><td style=\"text-align: right;\">-0.0435527</td><td style=\"text-align: right;\"> 0.00238614</td><td style=\"text-align: right;\"> 0.118418  </td><td style=\"text-align: right;\">-0.0752478 </td><td style=\"text-align: right;\"> 0.0374018  </td><td style=\"text-align: right;\"> 0.078847 </td><td style=\"text-align: right;\"> 0.0427851</td><td style=\"text-align: right;\">-0.0760406 </td><td style=\"text-align: right;\"> 0.00525649</td><td style=\"text-align: right;\"> 0.0391029  </td><td style=\"text-align: right;\">0.0670125 </td><td style=\"text-align: right;\"> 0.0309045 </td><td style=\"text-align: right;\">0.0606757 </td><td style=\"text-align: right;\">-0.0358067 </td><td style=\"text-align: right;\">0.0543488</td><td style=\"text-align: right;\">-0.0679804</td><td style=\"text-align: right;\"> 0.0404342 </td><td style=\"text-align: right;\">-0.134518 </td><td style=\"text-align: right;\">0.10096   </td><td style=\"text-align: right;\"> 0.021014 </td><td style=\"text-align: right;\">-0.0172671 </td><td style=\"text-align: right;\">-0.0504452</td><td style=\"text-align: right;\"> 0.0326481 </td><td style=\"text-align: right;\"> 0.0668296</td><td style=\"text-align: right;\"> 0.00898357</td><td style=\"text-align: right;\"> 0.0521386</td><td style=\"text-align: right;\">0.119036   </td><td style=\"text-align: right;\"> 0.146144  </td><td style=\"text-align: right;\">-0.0691695</td><td style=\"text-align: right;\"> 0.0100939  </td><td style=\"text-align: right;\">0.13389  </td><td style=\"text-align: right;\"> 0.0190427</td><td style=\"text-align: right;\">-0.0661077 </td><td style=\"text-align: right;\"> 0.0407648</td><td style=\"text-align: right;\"> 0.0558919</td><td style=\"text-align: right;\"> 0.0698417 </td><td style=\"text-align: right;\">-0.0288361</td><td style=\"text-align: right;\"> 0.13459   </td><td style=\"text-align: right;\"> 0.196498 </td><td style=\"text-align: right;\">-0.0324983 </td><td style=\"text-align: right;\"> 0.0867779 </td><td style=\"text-align: right;\"> 0.0775292 </td><td style=\"text-align: right;\">0.0695776</td><td style=\"text-align: right;\"> 0.0375992 </td><td style=\"text-align: right;\"> 0.013384  </td><td style=\"text-align: right;\">-0.056737 </td><td style=\"text-align: right;\">-0.0611047 </td><td style=\"text-align: right;\">-0.021649 </td><td style=\"text-align: right;\">-0.0942017</td><td style=\"text-align: right;\"> 0.0446491</td><td style=\"text-align: right;\">-0.0426031</td><td style=\"text-align: right;\"> 0.0291053 </td><td style=\"text-align: right;\">-0.0621652 </td><td style=\"text-align: right;\"> 0.0927345</td><td style=\"text-align: right;\">-0.0750044</td><td style=\"text-align: right;\">-0.149285 </td><td style=\"text-align: right;\">-0.00916864</td><td style=\"text-align: right;\">-0.0310741 </td><td style=\"text-align: right;\">-0.0277557 </td><td style=\"text-align: right;\">0.180592 </td><td style=\"text-align: right;\">-0.0676985 </td><td style=\"text-align: right;\">-0.0414261</td><td style=\"text-align: right;\">-0.0640506</td><td style=\"text-align: right;\"> 0.0230613 </td><td style=\"text-align: right;\">-0.0252274</td><td style=\"text-align: right;\"> 0.0708044 </td><td style=\"text-align: right;\">-0.0138095  </td><td style=\"text-align: right;\"> 0.099532  </td><td style=\"text-align: right;\"> 0.0684279 </td><td style=\"text-align: right;\">-0.150832 </td><td style=\"text-align: right;\"> 0.014064 </td><td style=\"text-align: right;\"> 0.00592298</td><td style=\"text-align: right;\"> 0.0735588</td><td style=\"text-align: right;\"> 0.0452075 </td><td style=\"text-align: right;\">0.0914108</td><td style=\"text-align: right;\"> 0.146023 </td><td style=\"text-align: right;\"> 0.0167894 </td><td style=\"text-align: right;\">-0.0346575</td><td style=\"text-align: right;\">-0.140133 </td><td style=\"text-align: right;\"> 0.0185421 </td><td style=\"text-align: right;\"> 0.0831631 </td><td style=\"text-align: right;\"> 0.0793682 </td><td style=\"text-align: right;\">-0.0528233  </td><td style=\"text-align: right;\"> 0.101601  </td><td style=\"text-align: right;\"> 0.0261162 </td><td style=\"text-align: right;\">-0.118202 </td><td style=\"text-align: right;\"> 0.0664152</td><td style=\"text-align: right;\"> 0.0192982 </td><td style=\"text-align: right;\"> 0.0214427</td><td style=\"text-align: right;\"> 0.0424467 </td><td style=\"text-align: right;\">-0.171485 </td><td style=\"text-align: right;\"> 0.0849533 </td><td style=\"text-align: right;\"> 0.0249671</td><td style=\"text-align: right;\"> 0.0575079  </td><td style=\"text-align: right;\">-0.0404406</td><td style=\"text-align: right;\">0.146929 </td><td style=\"text-align: right;\">-0.0180992</td><td style=\"text-align: right;\"> 0.0298909 </td><td style=\"text-align: right;\">-0.130314 </td><td style=\"text-align: right;\">-0.0498267</td><td style=\"text-align: right;\"> 0.0412619</td><td style=\"text-align: right;\">-0.129913  </td><td style=\"text-align: right;\"> 0.17444  </td><td style=\"text-align: right;\">-0.0172656</td><td style=\"text-align: right;\"> 0.10608  </td><td style=\"text-align: right;\">-0.125949</td><td style=\"text-align: right;\">-0.0801983</td></tr>\n",
              "<tr><td style=\"text-align: right;\"> 0.00213688</td><td style=\"text-align: right;\">-0.110696 </td><td style=\"text-align: right;\">-0.00671542</td><td style=\"text-align: right;\"> 0.147976   </td><td style=\"text-align: right;\"> 0.109389  </td><td style=\"text-align: right;\">-0.106459 </td><td style=\"text-align: right;\">-0.0068137 </td><td style=\"text-align: right;\">-0.0372465</td><td style=\"text-align: right;\"> 0.0235581 </td><td style=\"text-align: right;\">0.0778912 </td><td style=\"text-align: right;\"> 0.0622763</td><td style=\"text-align: right;\"> 0.0670965 </td><td style=\"text-align: right;\">-0.0238551 </td><td style=\"text-align: right;\">-0.0523749</td><td style=\"text-align: right;\">-0.0532855 </td><td style=\"text-align: right;\">-0.0441948 </td><td style=\"text-align: right;\">-0.0257313 </td><td style=\"text-align: right;\"> 0.0467679  </td><td style=\"text-align: right;\">-0.0224762</td><td style=\"text-align: right;\"> 0.0401338</td><td style=\"text-align: right;\">-0.0982175 </td><td style=\"text-align: right;\"> 0.121649  </td><td style=\"text-align: right;\"> 0.00866351 </td><td style=\"text-align: right;\">0.0799931 </td><td style=\"text-align: right;\">-0.00750893</td><td style=\"text-align: right;\">0.060272  </td><td style=\"text-align: right;\">-0.0154325 </td><td style=\"text-align: right;\">0.0474196</td><td style=\"text-align: right;\">-0.139803 </td><td style=\"text-align: right;\">-0.0371389 </td><td style=\"text-align: right;\">-0.0603193</td><td style=\"text-align: right;\">0.0734559 </td><td style=\"text-align: right;\"> 0.126138 </td><td style=\"text-align: right;\">-0.136734  </td><td style=\"text-align: right;\">-0.100987 </td><td style=\"text-align: right;\">-0.0405419 </td><td style=\"text-align: right;\"> 0.0106916</td><td style=\"text-align: right;\"> 0.0782862 </td><td style=\"text-align: right;\"> 0.0106181</td><td style=\"text-align: right;\">0.0064636  </td><td style=\"text-align: right;\"> 0.0664027 </td><td style=\"text-align: right;\">-0.0636713</td><td style=\"text-align: right;\">-0.00845706 </td><td style=\"text-align: right;\">0.0871633</td><td style=\"text-align: right;\">-0.0242736</td><td style=\"text-align: right;\">-0.00379695</td><td style=\"text-align: right;\">-0.0665288</td><td style=\"text-align: right;\">-0.0173481</td><td style=\"text-align: right;\"> 0.00390702</td><td style=\"text-align: right;\">-0.0251833</td><td style=\"text-align: right;\"> 0.0714257 </td><td style=\"text-align: right;\"> 0.0124204</td><td style=\"text-align: right;\">-0.0851653 </td><td style=\"text-align: right;\"> 0.0137844 </td><td style=\"text-align: right;\">-0.0751261 </td><td style=\"text-align: right;\">0.0800417</td><td style=\"text-align: right;\"> 0.0147848 </td><td style=\"text-align: right;\"> 0.00733347</td><td style=\"text-align: right;\">-0.0108633</td><td style=\"text-align: right;\">-0.144456  </td><td style=\"text-align: right;\"> 0.0573142</td><td style=\"text-align: right;\">-0.0141364</td><td style=\"text-align: right;\"> 0.108151 </td><td style=\"text-align: right;\">-0.0981555</td><td style=\"text-align: right;\">-0.00439633</td><td style=\"text-align: right;\">-0.119807  </td><td style=\"text-align: right;\">-0.0205257</td><td style=\"text-align: right;\">-0.147634 </td><td style=\"text-align: right;\">-0.146502 </td><td style=\"text-align: right;\">-0.101082  </td><td style=\"text-align: right;\">-0.0149288 </td><td style=\"text-align: right;\">-0.00758669</td><td style=\"text-align: right;\">0.111738 </td><td style=\"text-align: right;\">-0.115688  </td><td style=\"text-align: right;\"> 0.0242635</td><td style=\"text-align: right;\">-0.0548421</td><td style=\"text-align: right;\">-0.00659885</td><td style=\"text-align: right;\">-0.0475284</td><td style=\"text-align: right;\"> 0.0828521 </td><td style=\"text-align: right;\">-0.0833294  </td><td style=\"text-align: right;\"> 0.0323605 </td><td style=\"text-align: right;\">-0.0132665 </td><td style=\"text-align: right;\">-0.0165181</td><td style=\"text-align: right;\">-0.0413359</td><td style=\"text-align: right;\"> 0.0507543 </td><td style=\"text-align: right;\"> 0.032322 </td><td style=\"text-align: right;\"> 0.0189236 </td><td style=\"text-align: right;\">0.0781379</td><td style=\"text-align: right;\"> 0.101181 </td><td style=\"text-align: right;\">-0.167456  </td><td style=\"text-align: right;\">-0.0839295</td><td style=\"text-align: right;\">-0.058879 </td><td style=\"text-align: right;\">-0.102768  </td><td style=\"text-align: right;\"> 0.0384045 </td><td style=\"text-align: right;\"> 0.0516823 </td><td style=\"text-align: right;\"> 0.0168492  </td><td style=\"text-align: right;\"> 0.0624491 </td><td style=\"text-align: right;\">-0.055506  </td><td style=\"text-align: right;\">-0.268175 </td><td style=\"text-align: right;\">-0.0550245</td><td style=\"text-align: right;\">-0.0464549 </td><td style=\"text-align: right;\">-0.119932 </td><td style=\"text-align: right;\"> 0.0279365 </td><td style=\"text-align: right;\">-0.219947 </td><td style=\"text-align: right;\">-0.0307561 </td><td style=\"text-align: right;\"> 0.0493695</td><td style=\"text-align: right;\"> 0.000769398</td><td style=\"text-align: right;\">-0.0201391</td><td style=\"text-align: right;\">0.0888957</td><td style=\"text-align: right;\">-0.0570524</td><td style=\"text-align: right;\"> 0.0661482 </td><td style=\"text-align: right;\">-0.154449 </td><td style=\"text-align: right;\"> 0.0324503</td><td style=\"text-align: right;\"> 0.0638371</td><td style=\"text-align: right;\">-0.0990712 </td><td style=\"text-align: right;\"> 0.162382 </td><td style=\"text-align: right;\"> 0.0368071</td><td style=\"text-align: right;\"> 0.120453 </td><td style=\"text-align: right;\">-0.147621</td><td style=\"text-align: right;\">-0.0888468</td></tr>\n",
              "<tr><td style=\"text-align: right;\"> 0.0362171 </td><td style=\"text-align: right;\">-0.0585854</td><td style=\"text-align: right;\"> 0.137556  </td><td style=\"text-align: right;\"> 0.0210285  </td><td style=\"text-align: right;\"> 0.107949  </td><td style=\"text-align: right;\"> 0.0200054</td><td style=\"text-align: right;\"> 0.157708  </td><td style=\"text-align: right;\">-0.0295959</td><td style=\"text-align: right;\"> 0.104059  </td><td style=\"text-align: right;\">0.0861418 </td><td style=\"text-align: right;\"> 0.092234 </td><td style=\"text-align: right;\"> 0.0617802 </td><td style=\"text-align: right;\">-0.0251697 </td><td style=\"text-align: right;\">-0.0182139</td><td style=\"text-align: right;\">-0.0516481 </td><td style=\"text-align: right;\">-0.00810287</td><td style=\"text-align: right;\">-0.0879771 </td><td style=\"text-align: right;\"> 0.0739249  </td><td style=\"text-align: right;\"> 0.0982409</td><td style=\"text-align: right;\"> 0.0562593</td><td style=\"text-align: right;\">-0.134975  </td><td style=\"text-align: right;\"> 0.0372734 </td><td style=\"text-align: right;\">-0.00610984 </td><td style=\"text-align: right;\">0.0990791 </td><td style=\"text-align: right;\"> 0.0182861 </td><td style=\"text-align: right;\">0.054168  </td><td style=\"text-align: right;\"> 0.033927  </td><td style=\"text-align: right;\">0.0515079</td><td style=\"text-align: right;\">-0.0759278</td><td style=\"text-align: right;\"> 0.0394209 </td><td style=\"text-align: right;\">-0.140599 </td><td style=\"text-align: right;\">0.0115085 </td><td style=\"text-align: right;\"> 0.0898926</td><td style=\"text-align: right;\">-0.0515894 </td><td style=\"text-align: right;\">-0.0281519</td><td style=\"text-align: right;\">-0.0124732 </td><td style=\"text-align: right;\"> 0.0421763</td><td style=\"text-align: right;\"> 0.0488554 </td><td style=\"text-align: right;\">-0.0461526</td><td style=\"text-align: right;\">0.0204757  </td><td style=\"text-align: right;\"> 0.121495  </td><td style=\"text-align: right;\">-0.0586258</td><td style=\"text-align: right;\"> 0.0230037  </td><td style=\"text-align: right;\">0.170373 </td><td style=\"text-align: right;\"> 0.0422733</td><td style=\"text-align: right;\">-0.073653  </td><td style=\"text-align: right;\">-0.0138562</td><td style=\"text-align: right;\"> 0.0721556</td><td style=\"text-align: right;\"> 0.0817697 </td><td style=\"text-align: right;\"> 0.013225 </td><td style=\"text-align: right;\"> 0.0406155 </td><td style=\"text-align: right;\"> 0.0329324</td><td style=\"text-align: right;\">-0.0476837 </td><td style=\"text-align: right;\">-0.0579505 </td><td style=\"text-align: right;\">-0.0492618 </td><td style=\"text-align: right;\">0.121198 </td><td style=\"text-align: right;\"> 0.0495227 </td><td style=\"text-align: right;\"> 0.0503217 </td><td style=\"text-align: right;\">-0.0431755</td><td style=\"text-align: right;\">-0.100842  </td><td style=\"text-align: right;\"> 0.0340873</td><td style=\"text-align: right;\">-0.060498 </td><td style=\"text-align: right;\"> 0.134126 </td><td style=\"text-align: right;\">-0.040954 </td><td style=\"text-align: right;\">-0.0701009 </td><td style=\"text-align: right;\">-0.0677509 </td><td style=\"text-align: right;\">-0.0033583</td><td style=\"text-align: right;\">-0.135127 </td><td style=\"text-align: right;\">-0.151542 </td><td style=\"text-align: right;\">-0.0626473 </td><td style=\"text-align: right;\"> 0.0124447 </td><td style=\"text-align: right;\"> 0.0415918 </td><td style=\"text-align: right;\">0.193546 </td><td style=\"text-align: right;\">-0.0284653 </td><td style=\"text-align: right;\">-0.0939584</td><td style=\"text-align: right;\">-0.0316352</td><td style=\"text-align: right;\">-0.0198966 </td><td style=\"text-align: right;\">-0.0243135</td><td style=\"text-align: right;\">-0.0213812 </td><td style=\"text-align: right;\"> 0.0593554  </td><td style=\"text-align: right;\">-0.0854706 </td><td style=\"text-align: right;\">-0.0210072 </td><td style=\"text-align: right;\">-0.111115 </td><td style=\"text-align: right;\"> 0.0800761</td><td style=\"text-align: right;\"> 0.00714476</td><td style=\"text-align: right;\"> 0.0447902</td><td style=\"text-align: right;\"> 0.025176  </td><td style=\"text-align: right;\">0.0338196</td><td style=\"text-align: right;\"> 0.103787 </td><td style=\"text-align: right;\">-0.0317762 </td><td style=\"text-align: right;\">-0.010444 </td><td style=\"text-align: right;\">-0.134849 </td><td style=\"text-align: right;\">-0.0364657 </td><td style=\"text-align: right;\"> 0.0562523 </td><td style=\"text-align: right;\">-0.0288399 </td><td style=\"text-align: right;\">-0.0297358  </td><td style=\"text-align: right;\"> 0.11242   </td><td style=\"text-align: right;\"> 0.144847  </td><td style=\"text-align: right;\">-0.19046  </td><td style=\"text-align: right;\">-0.0216714</td><td style=\"text-align: right;\">-0.0480273 </td><td style=\"text-align: right;\">-0.0188247</td><td style=\"text-align: right;\"> 0.0430681 </td><td style=\"text-align: right;\">-0.159043 </td><td style=\"text-align: right;\"> 0.0639131 </td><td style=\"text-align: right;\">-0.0915276</td><td style=\"text-align: right;\"> 0.0784031  </td><td style=\"text-align: right;\">-0.0479323</td><td style=\"text-align: right;\">0.100215 </td><td style=\"text-align: right;\">-0.107529 </td><td style=\"text-align: right;\">-0.12725   </td><td style=\"text-align: right;\">-0.142116 </td><td style=\"text-align: right;\">-0.0134692</td><td style=\"text-align: right;\">-0.0653671</td><td style=\"text-align: right;\">-0.091338  </td><td style=\"text-align: right;\"> 0.078437 </td><td style=\"text-align: right;\"> 0.0598634</td><td style=\"text-align: right;\"> 0.0924914</td><td style=\"text-align: right;\">-0.157894</td><td style=\"text-align: right;\">-0.0404233</td></tr>\n",
              "<tr><td style=\"text-align: right;\"> 0.080675  </td><td style=\"text-align: right;\">-0.015435 </td><td style=\"text-align: right;\"> 0.037872  </td><td style=\"text-align: right;\"> 0.153977   </td><td style=\"text-align: right;\"> 0.0427334 </td><td style=\"text-align: right;\">-0.0709589</td><td style=\"text-align: right;\"> 0.0917146 </td><td style=\"text-align: right;\">-0.0736455</td><td style=\"text-align: right;\"> 0.0201312 </td><td style=\"text-align: right;\">0.100373  </td><td style=\"text-align: right;\"> 0.0350712</td><td style=\"text-align: right;\"> 0.0580679 </td><td style=\"text-align: right;\">-0.0213871 </td><td style=\"text-align: right;\"> 0.0138225</td><td style=\"text-align: right;\"> 0.0333515 </td><td style=\"text-align: right;\">-0.0464946 </td><td style=\"text-align: right;\">-0.0111477 </td><td style=\"text-align: right;\"> 8.06665e-05</td><td style=\"text-align: right;\">-0.0908804</td><td style=\"text-align: right;\"> 0.0628535</td><td style=\"text-align: right;\">-0.184167  </td><td style=\"text-align: right;\"> 0.0198209 </td><td style=\"text-align: right;\">-0.0403416  </td><td style=\"text-align: right;\">0.00372855</td><td style=\"text-align: right;\"> 0.0995936 </td><td style=\"text-align: right;\">0.0466473 </td><td style=\"text-align: right;\"> 0.0644384 </td><td style=\"text-align: right;\">0.0603497</td><td style=\"text-align: right;\">-0.151173 </td><td style=\"text-align: right;\"> 0.0256448 </td><td style=\"text-align: right;\">-0.109335 </td><td style=\"text-align: right;\">0.0578532 </td><td style=\"text-align: right;\"> 0.0264918</td><td style=\"text-align: right;\">-0.076539  </td><td style=\"text-align: right;\">-0.0916736</td><td style=\"text-align: right;\">-0.00758483</td><td style=\"text-align: right;\"> 0.0183086</td><td style=\"text-align: right;\">-0.03051   </td><td style=\"text-align: right;\"> 0.0820298</td><td style=\"text-align: right;\">0.0630614  </td><td style=\"text-align: right;\"> 0.0907992 </td><td style=\"text-align: right;\">-0.0559616</td><td style=\"text-align: right;\">-0.0284976  </td><td style=\"text-align: right;\">0.0580457</td><td style=\"text-align: right;\"> 0.014013 </td><td style=\"text-align: right;\"> 0.00305171</td><td style=\"text-align: right;\"> 0.046576 </td><td style=\"text-align: right;\"> 0.0705312</td><td style=\"text-align: right;\"> 0.0289737 </td><td style=\"text-align: right;\">-0.0155834</td><td style=\"text-align: right;\"> 0.0556366 </td><td style=\"text-align: right;\"> 0.0523063</td><td style=\"text-align: right;\">-0.0777368 </td><td style=\"text-align: right;\"> 0.01755   </td><td style=\"text-align: right;\">-0.0205565 </td><td style=\"text-align: right;\">0.0209506</td><td style=\"text-align: right;\"> 0.0335794 </td><td style=\"text-align: right;\"> 0.0441215 </td><td style=\"text-align: right;\"> 0.0238069</td><td style=\"text-align: right;\">-0.0905081 </td><td style=\"text-align: right;\"> 0.0549429</td><td style=\"text-align: right;\">-0.0348187</td><td style=\"text-align: right;\"> 0.0355871</td><td style=\"text-align: right;\">-0.126006 </td><td style=\"text-align: right;\"> 0.00247803</td><td style=\"text-align: right;\">-0.076782  </td><td style=\"text-align: right;\"> 0.0394149</td><td style=\"text-align: right;\">-0.148739 </td><td style=\"text-align: right;\">-0.136386 </td><td style=\"text-align: right;\">-0.0210714 </td><td style=\"text-align: right;\">-0.0740039 </td><td style=\"text-align: right;\"> 0.0347315 </td><td style=\"text-align: right;\">0.0859784</td><td style=\"text-align: right;\">-0.0192062 </td><td style=\"text-align: right;\"> 0.0713494</td><td style=\"text-align: right;\">-0.0379719</td><td style=\"text-align: right;\">-0.0142661 </td><td style=\"text-align: right;\">-0.0268926</td><td style=\"text-align: right;\"> 0.0819205 </td><td style=\"text-align: right;\">-0.0656468  </td><td style=\"text-align: right;\">-0.0272008 </td><td style=\"text-align: right;\">-0.0238338 </td><td style=\"text-align: right;\">-0.0407358</td><td style=\"text-align: right;\"> 0.113661 </td><td style=\"text-align: right;\">-0.0123639 </td><td style=\"text-align: right;\"> 0.0568195</td><td style=\"text-align: right;\"> 0.00737337</td><td style=\"text-align: right;\">0.110616 </td><td style=\"text-align: right;\"> 0.135777 </td><td style=\"text-align: right;\">-0.0206801 </td><td style=\"text-align: right;\">-0.0184309</td><td style=\"text-align: right;\">-0.0827126</td><td style=\"text-align: right;\">-0.0238396 </td><td style=\"text-align: right;\">-0.00760378</td><td style=\"text-align: right;\">-0.0467781 </td><td style=\"text-align: right;\"> 0.0916893  </td><td style=\"text-align: right;\"> 0.115672  </td><td style=\"text-align: right;\"> 0.00757579</td><td style=\"text-align: right;\">-0.279347 </td><td style=\"text-align: right;\">-0.0606473</td><td style=\"text-align: right;\">-0.0663908 </td><td style=\"text-align: right;\">-0.0315569</td><td style=\"text-align: right;\"> 0.0760713 </td><td style=\"text-align: right;\">-0.129208 </td><td style=\"text-align: right;\"> 0.00962302</td><td style=\"text-align: right;\">-0.0668735</td><td style=\"text-align: right;\"> 0.105328   </td><td style=\"text-align: right;\"> 0.0121707</td><td style=\"text-align: right;\">0.112198 </td><td style=\"text-align: right;\">-0.0978225</td><td style=\"text-align: right;\"> 0.0194571 </td><td style=\"text-align: right;\">-0.176068 </td><td style=\"text-align: right;\">-0.0338741</td><td style=\"text-align: right;\">-0.0530383</td><td style=\"text-align: right;\">-0.126454  </td><td style=\"text-align: right;\"> 0.132619 </td><td style=\"text-align: right;\">-0.0536276</td><td style=\"text-align: right;\"> 0.023762 </td><td style=\"text-align: right;\">-0.174712</td><td style=\"text-align: right;\">-0.0931078</td></tr>\n",
              "<tr><td style=\"text-align: right;\"> 0.0723566 </td><td style=\"text-align: right;\">-0.0329828</td><td style=\"text-align: right;\">-0.0032748 </td><td style=\"text-align: right;\"> 0.125186   </td><td style=\"text-align: right;\"> 0.124423  </td><td style=\"text-align: right;\">-0.0309925</td><td style=\"text-align: right;\"> 0.0178012 </td><td style=\"text-align: right;\">-0.116337 </td><td style=\"text-align: right;\">-0.0202925 </td><td style=\"text-align: right;\">0.0882687 </td><td style=\"text-align: right;\"> 0.0338151</td><td style=\"text-align: right;\"> 0.034403  </td><td style=\"text-align: right;\">-0.0251063 </td><td style=\"text-align: right;\">-0.0548726</td><td style=\"text-align: right;\"> 0.0338936 </td><td style=\"text-align: right;\">-0.0373273 </td><td style=\"text-align: right;\">-0.0146741 </td><td style=\"text-align: right;\"> 0.0544862  </td><td style=\"text-align: right;\">-0.0352842</td><td style=\"text-align: right;\"> 0.0298994</td><td style=\"text-align: right;\">-0.0820568 </td><td style=\"text-align: right;\"> 0.145304  </td><td style=\"text-align: right;\">-0.0460189  </td><td style=\"text-align: right;\">0.0238213 </td><td style=\"text-align: right;\"> 0.0442565 </td><td style=\"text-align: right;\">0.144505  </td><td style=\"text-align: right;\"> 0.0343529 </td><td style=\"text-align: right;\">0.0612714</td><td style=\"text-align: right;\">-0.166313 </td><td style=\"text-align: right;\">-0.0310437 </td><td style=\"text-align: right;\">-0.0658946</td><td style=\"text-align: right;\">0.0593566 </td><td style=\"text-align: right;\"> 0.0640237</td><td style=\"text-align: right;\">-0.0950553 </td><td style=\"text-align: right;\">-0.124515 </td><td style=\"text-align: right;\">-0.0448082 </td><td style=\"text-align: right;\"> 0.13269  </td><td style=\"text-align: right;\"> 0.0185934 </td><td style=\"text-align: right;\"> 0.0303608</td><td style=\"text-align: right;\">0.0868836  </td><td style=\"text-align: right;\">-0.00436393</td><td style=\"text-align: right;\">-0.0109192</td><td style=\"text-align: right;\"> 0.00480517 </td><td style=\"text-align: right;\">0.0870307</td><td style=\"text-align: right;\">-0.0249306</td><td style=\"text-align: right;\">-0.0624709 </td><td style=\"text-align: right;\"> 0.0372082</td><td style=\"text-align: right;\"> 0.0412988</td><td style=\"text-align: right;\"> 0.106249  </td><td style=\"text-align: right;\">-0.0653794</td><td style=\"text-align: right;\"> 0.0435308 </td><td style=\"text-align: right;\"> 0.0496   </td><td style=\"text-align: right;\">-0.0254753 </td><td style=\"text-align: right;\"> 0.0789084 </td><td style=\"text-align: right;\">-0.0222703 </td><td style=\"text-align: right;\">0.0746756</td><td style=\"text-align: right;\">-0.00904186</td><td style=\"text-align: right;\"> 0.0966777 </td><td style=\"text-align: right;\">-0.0693171</td><td style=\"text-align: right;\"> 0.0115451 </td><td style=\"text-align: right;\"> 0.0552446</td><td style=\"text-align: right;\">-0.111995 </td><td style=\"text-align: right;\"> 0.0916501</td><td style=\"text-align: right;\">-0.0951222</td><td style=\"text-align: right;\">-0.00158487</td><td style=\"text-align: right;\">-0.102205  </td><td style=\"text-align: right;\"> 0.0675481</td><td style=\"text-align: right;\">-0.0649471</td><td style=\"text-align: right;\">-0.14877  </td><td style=\"text-align: right;\">-0.0315413 </td><td style=\"text-align: right;\">-0.0484991 </td><td style=\"text-align: right;\">-0.029718  </td><td style=\"text-align: right;\">0.089439 </td><td style=\"text-align: right;\">-0.0383343 </td><td style=\"text-align: right;\"> 0.0180914</td><td style=\"text-align: right;\">-0.0860169</td><td style=\"text-align: right;\">-0.0699841 </td><td style=\"text-align: right;\">-0.0432841</td><td style=\"text-align: right;\"> 0.105577  </td><td style=\"text-align: right;\">-0.0511444  </td><td style=\"text-align: right;\">-0.0473955 </td><td style=\"text-align: right;\"> 0.0424999 </td><td style=\"text-align: right;\">-0.0194252</td><td style=\"text-align: right;\"> 0.0798699</td><td style=\"text-align: right;\"> 0.038173  </td><td style=\"text-align: right;\"> 0.0896659</td><td style=\"text-align: right;\">-0.0291746 </td><td style=\"text-align: right;\">0.125566 </td><td style=\"text-align: right;\"> 0.0734766</td><td style=\"text-align: right;\">-0.107022  </td><td style=\"text-align: right;\"> 0.0127034</td><td style=\"text-align: right;\">-0.0174689</td><td style=\"text-align: right;\">-0.00609796</td><td style=\"text-align: right;\">-0.0159535 </td><td style=\"text-align: right;\">-0.134529  </td><td style=\"text-align: right;\"> 0.0590843  </td><td style=\"text-align: right;\"> 0.188097  </td><td style=\"text-align: right;\">-0.0273018 </td><td style=\"text-align: right;\">-0.272925 </td><td style=\"text-align: right;\">-0.0473671</td><td style=\"text-align: right;\"> 0.0303173 </td><td style=\"text-align: right;\">-0.110324 </td><td style=\"text-align: right;\">-0.00747232</td><td style=\"text-align: right;\">-0.119312 </td><td style=\"text-align: right;\">-0.00415321</td><td style=\"text-align: right;\">-0.0393936</td><td style=\"text-align: right;\">-0.0623379  </td><td style=\"text-align: right;\">-0.0583136</td><td style=\"text-align: right;\">0.0601631</td><td style=\"text-align: right;\">-0.0915282</td><td style=\"text-align: right;\"> 0.03979   </td><td style=\"text-align: right;\">-0.188105 </td><td style=\"text-align: right;\">-0.0326291</td><td style=\"text-align: right;\"> 0.0063396</td><td style=\"text-align: right;\">-0.129153  </td><td style=\"text-align: right;\"> 0.120743 </td><td style=\"text-align: right;\">-0.0321568</td><td style=\"text-align: right;\"> 0.10854  </td><td style=\"text-align: right;\">-0.102182</td><td style=\"text-align: right;\">-0.0850195</td></tr>\n",
              "</tbody>\n",
              "</table>"
            ]
          },
          "metadata": {
            "tags": []
          }
        },
        {
          "output_type": "execute_result",
          "data": {
            "text/plain": [
              ""
            ]
          },
          "metadata": {
            "tags": []
          },
          "execution_count": 37
        }
      ]
    },
    {
      "cell_type": "code",
      "metadata": {
        "id": "wSnBidNYnuEg",
        "colab_type": "code",
        "colab": {}
      },
      "source": [
        "data_ext = data.cbind(review_vec)"
      ],
      "execution_count": 0,
      "outputs": []
    },
    {
      "cell_type": "code",
      "metadata": {
        "id": "NyvclImgu-xB",
        "colab_type": "code",
        "colab": {}
      },
      "source": [
        "headline_vec = vec_model.transform(word_headings, aggregate_method='AVERAGE')\n",
        "headline_vec.names = ['headline_' + s for s in headline_vec.names]"
      ],
      "execution_count": 0,
      "outputs": []
    },
    {
      "cell_type": "code",
      "metadata": {
        "id": "x66SWTCqu-1E",
        "colab_type": "code",
        "colab": {
          "base_uri": "https://localhost:8080/",
          "height": 34
        },
        "outputId": "6cffff87-31a8-4ef1-964f-344b160b0057"
      },
      "source": [
        "headline_vec.shape"
      ],
      "execution_count": 44,
      "outputs": [
        {
          "output_type": "execute_result",
          "data": {
            "text/plain": [
              "(85981, 120)"
            ]
          },
          "metadata": {
            "tags": []
          },
          "execution_count": 44
        }
      ]
    },
    {
      "cell_type": "code",
      "metadata": {
        "id": "jVVFCcl5u_GL",
        "colab_type": "code",
        "colab": {
          "base_uri": "https://localhost:8080/",
          "height": 270
        },
        "outputId": "ec73dc68-27db-4faf-c84e-8bf50210c848"
      },
      "source": [
        "headline_vec.head()"
      ],
      "execution_count": 45,
      "outputs": [
        {
          "output_type": "display_data",
          "data": {
            "text/html": [
              "<table>\n",
              "<thead>\n",
              "<tr><th style=\"text-align: right;\">  headline_C1</th><th style=\"text-align: right;\">  headline_C2</th><th style=\"text-align: right;\">  headline_C3</th><th style=\"text-align: right;\">  headline_C4</th><th style=\"text-align: right;\">  headline_C5</th><th style=\"text-align: right;\">  headline_C6</th><th style=\"text-align: right;\">  headline_C7</th><th style=\"text-align: right;\">  headline_C8</th><th style=\"text-align: right;\">  headline_C9</th><th style=\"text-align: right;\">  headline_C10</th><th style=\"text-align: right;\">  headline_C11</th><th style=\"text-align: right;\">  headline_C12</th><th style=\"text-align: right;\">  headline_C13</th><th style=\"text-align: right;\">  headline_C14</th><th style=\"text-align: right;\">  headline_C15</th><th style=\"text-align: right;\">  headline_C16</th><th style=\"text-align: right;\">  headline_C17</th><th style=\"text-align: right;\">  headline_C18</th><th style=\"text-align: right;\">  headline_C19</th><th style=\"text-align: right;\">  headline_C20</th><th style=\"text-align: right;\">  headline_C21</th><th style=\"text-align: right;\">  headline_C22</th><th style=\"text-align: right;\">  headline_C23</th><th style=\"text-align: right;\">  headline_C24</th><th style=\"text-align: right;\">  headline_C25</th><th style=\"text-align: right;\">  headline_C26</th><th style=\"text-align: right;\">  headline_C27</th><th style=\"text-align: right;\">  headline_C28</th><th style=\"text-align: right;\">  headline_C29</th><th style=\"text-align: right;\">  headline_C30</th><th style=\"text-align: right;\">  headline_C31</th><th style=\"text-align: right;\">  headline_C32</th><th style=\"text-align: right;\">  headline_C33</th><th style=\"text-align: right;\">  headline_C34</th><th style=\"text-align: right;\">  headline_C35</th><th style=\"text-align: right;\">  headline_C36</th><th style=\"text-align: right;\">  headline_C37</th><th style=\"text-align: right;\">  headline_C38</th><th style=\"text-align: right;\">  headline_C39</th><th style=\"text-align: right;\">  headline_C40</th><th style=\"text-align: right;\">  headline_C41</th><th style=\"text-align: right;\">  headline_C42</th><th style=\"text-align: right;\">  headline_C43</th><th style=\"text-align: right;\">  headline_C44</th><th style=\"text-align: right;\">  headline_C45</th><th style=\"text-align: right;\">  headline_C46</th><th style=\"text-align: right;\">  headline_C47</th><th style=\"text-align: right;\">  headline_C48</th><th style=\"text-align: right;\">  headline_C49</th><th style=\"text-align: right;\">  headline_C50</th><th style=\"text-align: right;\">  headline_C51</th><th style=\"text-align: right;\">  headline_C52</th><th style=\"text-align: right;\">  headline_C53</th><th style=\"text-align: right;\">  headline_C54</th><th style=\"text-align: right;\">  headline_C55</th><th style=\"text-align: right;\">  headline_C56</th><th style=\"text-align: right;\">  headline_C57</th><th style=\"text-align: right;\">  headline_C58</th><th style=\"text-align: right;\">  headline_C59</th><th style=\"text-align: right;\">  headline_C60</th><th style=\"text-align: right;\">  headline_C61</th><th style=\"text-align: right;\">  headline_C62</th><th style=\"text-align: right;\">  headline_C63</th><th style=\"text-align: right;\">  headline_C64</th><th style=\"text-align: right;\">  headline_C65</th><th style=\"text-align: right;\">  headline_C66</th><th style=\"text-align: right;\">  headline_C67</th><th style=\"text-align: right;\">  headline_C68</th><th style=\"text-align: right;\">  headline_C69</th><th style=\"text-align: right;\">  headline_C70</th><th style=\"text-align: right;\">  headline_C71</th><th style=\"text-align: right;\">  headline_C72</th><th style=\"text-align: right;\">  headline_C73</th><th style=\"text-align: right;\">  headline_C74</th><th style=\"text-align: right;\">  headline_C75</th><th style=\"text-align: right;\">  headline_C76</th><th style=\"text-align: right;\">  headline_C77</th><th style=\"text-align: right;\">  headline_C78</th><th style=\"text-align: right;\">  headline_C79</th><th style=\"text-align: right;\">  headline_C80</th><th style=\"text-align: right;\">  headline_C81</th><th style=\"text-align: right;\">  headline_C82</th><th style=\"text-align: right;\">  headline_C83</th><th style=\"text-align: right;\">  headline_C84</th><th style=\"text-align: right;\">  headline_C85</th><th style=\"text-align: right;\">  headline_C86</th><th style=\"text-align: right;\">  headline_C87</th><th style=\"text-align: right;\">  headline_C88</th><th style=\"text-align: right;\">  headline_C89</th><th style=\"text-align: right;\">  headline_C90</th><th style=\"text-align: right;\">  headline_C91</th><th style=\"text-align: right;\">  headline_C92</th><th style=\"text-align: right;\">  headline_C93</th><th style=\"text-align: right;\">  headline_C94</th><th style=\"text-align: right;\">  headline_C95</th><th style=\"text-align: right;\">  headline_C96</th><th style=\"text-align: right;\">  headline_C97</th><th style=\"text-align: right;\">  headline_C98</th><th style=\"text-align: right;\">  headline_C99</th><th style=\"text-align: right;\">  headline_C100</th><th style=\"text-align: right;\">  headline_C101</th><th style=\"text-align: right;\">  headline_C102</th><th style=\"text-align: right;\">  headline_C103</th><th style=\"text-align: right;\">  headline_C104</th><th style=\"text-align: right;\">  headline_C105</th><th style=\"text-align: right;\">  headline_C106</th><th style=\"text-align: right;\">  headline_C107</th><th style=\"text-align: right;\">  headline_C108</th><th style=\"text-align: right;\">  headline_C109</th><th style=\"text-align: right;\">  headline_C110</th><th style=\"text-align: right;\">  headline_C111</th><th style=\"text-align: right;\">  headline_C112</th><th style=\"text-align: right;\">  headline_C113</th><th style=\"text-align: right;\">  headline_C114</th><th style=\"text-align: right;\">  headline_C115</th><th style=\"text-align: right;\">  headline_C116</th><th style=\"text-align: right;\">  headline_C117</th><th style=\"text-align: right;\">  headline_C118</th><th style=\"text-align: right;\">  headline_C119</th><th style=\"text-align: right;\">  headline_C120</th></tr>\n",
              "</thead>\n",
              "<tbody>\n",
              "<tr><td style=\"text-align: right;\">    0.0167663</td><td style=\"text-align: right;\">   0.0881088 </td><td style=\"text-align: right;\">   0.111646  </td><td style=\"text-align: right;\">  -0.0138981 </td><td style=\"text-align: right;\">    0.154785 </td><td style=\"text-align: right;\">   0.00923273</td><td style=\"text-align: right;\">    0.150713 </td><td style=\"text-align: right;\">    0.073704 </td><td style=\"text-align: right;\">    0.0595506</td><td style=\"text-align: right;\">     0.098139 </td><td style=\"text-align: right;\">    0.160629  </td><td style=\"text-align: right;\">     0.141856 </td><td style=\"text-align: right;\">     0.0430556</td><td style=\"text-align: right;\">     0.1206   </td><td style=\"text-align: right;\">   -0.0104009 </td><td style=\"text-align: right;\">   -0.0508928 </td><td style=\"text-align: right;\">    0.099596  </td><td style=\"text-align: right;\">    0.0246462 </td><td style=\"text-align: right;\">     0.0818179</td><td style=\"text-align: right;\">    -0.0720243</td><td style=\"text-align: right;\">   -0.00496578</td><td style=\"text-align: right;\">    -0.0259296</td><td style=\"text-align: right;\">     0.245674 </td><td style=\"text-align: right;\">    -0.0847367</td><td style=\"text-align: right;\">   -0.113406  </td><td style=\"text-align: right;\">   0.111383   </td><td style=\"text-align: right;\">     0.0570566</td><td style=\"text-align: right;\">     0.0729151</td><td style=\"text-align: right;\">    -0.240214 </td><td style=\"text-align: right;\">     0.114176 </td><td style=\"text-align: right;\">    -0.199124 </td><td style=\"text-align: right;\">     0.245643 </td><td style=\"text-align: right;\">     0.259764 </td><td style=\"text-align: right;\">     0.0599958</td><td style=\"text-align: right;\">   -0.00820469</td><td style=\"text-align: right;\">    -0.0820662</td><td style=\"text-align: right;\">    -0.0788216</td><td style=\"text-align: right;\">    -0.0483936</td><td style=\"text-align: right;\">    -0.280738 </td><td style=\"text-align: right;\">     0.0228901</td><td style=\"text-align: right;\">    0.0363569 </td><td style=\"text-align: right;\">    -0.0960519</td><td style=\"text-align: right;\">    0.0321904 </td><td style=\"text-align: right;\">     0.258716 </td><td style=\"text-align: right;\">    0.118458  </td><td style=\"text-align: right;\">    -0.276433 </td><td style=\"text-align: right;\">   -0.149877  </td><td style=\"text-align: right;\">     0.039462 </td><td style=\"text-align: right;\">   0.0167982  </td><td style=\"text-align: right;\">    -0.0086158</td><td style=\"text-align: right;\">     0.0721662</td><td style=\"text-align: right;\">    -0.0685812</td><td style=\"text-align: right;\">   0.165516   </td><td style=\"text-align: right;\">     0.120818 </td><td style=\"text-align: right;\">    -0.118754 </td><td style=\"text-align: right;\">     0.271874 </td><td style=\"text-align: right;\">     0.163167 </td><td style=\"text-align: right;\">    -0.115543 </td><td style=\"text-align: right;\">    -0.0439408</td><td style=\"text-align: right;\">    0.0422503 </td><td style=\"text-align: right;\">   -0.00889166</td><td style=\"text-align: right;\">    -0.0574289</td><td style=\"text-align: right;\">     0.21757  </td><td style=\"text-align: right;\">     0.0731451</td><td style=\"text-align: right;\">    -0.142796 </td><td style=\"text-align: right;\">    -0.13098  </td><td style=\"text-align: right;\">    0.0224685 </td><td style=\"text-align: right;\">    -0.0648514</td><td style=\"text-align: right;\">     0.0721488</td><td style=\"text-align: right;\">    -0.221539 </td><td style=\"text-align: right;\">   -0.0732108 </td><td style=\"text-align: right;\">    0.00269813</td><td style=\"text-align: right;\">    0.275357  </td><td style=\"text-align: right;\">    -0.0325674</td><td style=\"text-align: right;\">    -0.0418642</td><td style=\"text-align: right;\">   -0.0245192 </td><td style=\"text-align: right;\">    0.00873421</td><td style=\"text-align: right;\">    0.0848084 </td><td style=\"text-align: right;\">     0.0861872</td><td style=\"text-align: right;\">    0.16978   </td><td style=\"text-align: right;\">   -0.0753107 </td><td style=\"text-align: right;\">    -0.0420052</td><td style=\"text-align: right;\">    -0.1794   </td><td style=\"text-align: right;\">     0.189948 </td><td style=\"text-align: right;\">    0.167713  </td><td style=\"text-align: right;\">   0.0905051  </td><td style=\"text-align: right;\">    -0.0650456</td><td style=\"text-align: right;\">     0.171882 </td><td style=\"text-align: right;\">    -0.0260678</td><td style=\"text-align: right;\">    -0.0599921</td><td style=\"text-align: right;\">    -0.114264 </td><td style=\"text-align: right;\">     0.0388735</td><td style=\"text-align: right;\">   -0.00548821</td><td style=\"text-align: right;\">    0.0408349 </td><td style=\"text-align: right;\">   -0.0713809 </td><td style=\"text-align: right;\">    0.241354  </td><td style=\"text-align: right;\">    0.0536725 </td><td style=\"text-align: right;\">   -0.04727   </td><td style=\"text-align: right;\">    -0.183559 </td><td style=\"text-align: right;\">    -0.0614663 </td><td style=\"text-align: right;\">     -0.0192838</td><td style=\"text-align: right;\">     -0.0176944</td><td style=\"text-align: right;\">      0.0788246</td><td style=\"text-align: right;\">     -0.0570179</td><td style=\"text-align: right;\">      0.262824 </td><td style=\"text-align: right;\">     -0.249551 </td><td style=\"text-align: right;\">    -0.00255683</td><td style=\"text-align: right;\">     -0.217247 </td><td style=\"text-align: right;\">      0.141975 </td><td style=\"text-align: right;\">     -0.0432307</td><td style=\"text-align: right;\">    -0.0935973 </td><td style=\"text-align: right;\">      -0.170606</td><td style=\"text-align: right;\">    -0.0401705 </td><td style=\"text-align: right;\">     0.0169646 </td><td style=\"text-align: right;\">     -0.0456447</td><td style=\"text-align: right;\">      0.123534 </td><td style=\"text-align: right;\">    -0.0514049 </td><td style=\"text-align: right;\">      0.116387 </td><td style=\"text-align: right;\">     -0.0857338</td><td style=\"text-align: right;\">     -0.0736334</td></tr>\n",
              "<tr><td style=\"text-align: right;\">    0.0649395</td><td style=\"text-align: right;\">  -0.0657293 </td><td style=\"text-align: right;\">   0.113735  </td><td style=\"text-align: right;\">  -0.00803743</td><td style=\"text-align: right;\">   -0.0374132</td><td style=\"text-align: right;\">  -0.0836401 </td><td style=\"text-align: right;\">    0.12788  </td><td style=\"text-align: right;\">    0.0482955</td><td style=\"text-align: right;\">    0.125796 </td><td style=\"text-align: right;\">     0.179572 </td><td style=\"text-align: right;\">    0.0905048 </td><td style=\"text-align: right;\">    -0.0796498</td><td style=\"text-align: right;\">    -0.0515725</td><td style=\"text-align: right;\">    -0.176556 </td><td style=\"text-align: right;\">   -0.101979  </td><td style=\"text-align: right;\">   -0.0600458 </td><td style=\"text-align: right;\">   -0.00939516</td><td style=\"text-align: right;\">    0.0784705 </td><td style=\"text-align: right;\">    -0.0729509</td><td style=\"text-align: right;\">    -0.0115156</td><td style=\"text-align: right;\">   -0.27681   </td><td style=\"text-align: right;\">    -0.201764 </td><td style=\"text-align: right;\">    -0.0769149</td><td style=\"text-align: right;\">     0.146217 </td><td style=\"text-align: right;\">    0.0115752 </td><td style=\"text-align: right;\">   0.0723127  </td><td style=\"text-align: right;\">    -0.101176 </td><td style=\"text-align: right;\">     0.0853413</td><td style=\"text-align: right;\">    -0.205427 </td><td style=\"text-align: right;\">    -0.10697  </td><td style=\"text-align: right;\">    -0.246169 </td><td style=\"text-align: right;\">     0.096733 </td><td style=\"text-align: right;\">     0.0923295</td><td style=\"text-align: right;\">    -0.0515423</td><td style=\"text-align: right;\">    0.0990973 </td><td style=\"text-align: right;\">    -0.0476268</td><td style=\"text-align: right;\">     0.0529002</td><td style=\"text-align: right;\">    -0.292375 </td><td style=\"text-align: right;\">    -0.0698126</td><td style=\"text-align: right;\">     0.0430496</td><td style=\"text-align: right;\">    0.0548981 </td><td style=\"text-align: right;\">    -0.125123 </td><td style=\"text-align: right;\">   -0.0445572 </td><td style=\"text-align: right;\">     0.183838 </td><td style=\"text-align: right;\">   -0.191803  </td><td style=\"text-align: right;\">    -0.113339 </td><td style=\"text-align: right;\">   -0.0336056 </td><td style=\"text-align: right;\">     0.141244 </td><td style=\"text-align: right;\">  -0.0277923  </td><td style=\"text-align: right;\">     0.0498601</td><td style=\"text-align: right;\">     0.101638 </td><td style=\"text-align: right;\">    -0.153838 </td><td style=\"text-align: right;\">  -0.0558707  </td><td style=\"text-align: right;\">     0.229572 </td><td style=\"text-align: right;\">    -0.0306826</td><td style=\"text-align: right;\">    -0.0919603</td><td style=\"text-align: right;\">     0.124459 </td><td style=\"text-align: right;\">    -0.125255 </td><td style=\"text-align: right;\">    -0.0240612</td><td style=\"text-align: right;\">   -0.109863  </td><td style=\"text-align: right;\">   -0.0583818 </td><td style=\"text-align: right;\">    -0.0741707</td><td style=\"text-align: right;\">     0.0745107</td><td style=\"text-align: right;\">     0.0229306</td><td style=\"text-align: right;\">     0.0637089</td><td style=\"text-align: right;\">    -0.113114 </td><td style=\"text-align: right;\">    0.0174251 </td><td style=\"text-align: right;\">    -0.134052 </td><td style=\"text-align: right;\">    -0.0978362</td><td style=\"text-align: right;\">     0.0603094</td><td style=\"text-align: right;\">    0.079886  </td><td style=\"text-align: right;\">   -0.144606  </td><td style=\"text-align: right;\">    0.307759  </td><td style=\"text-align: right;\">     0.10239  </td><td style=\"text-align: right;\">    -0.113752 </td><td style=\"text-align: right;\">   -0.0363983 </td><td style=\"text-align: right;\">    0.105025  </td><td style=\"text-align: right;\">   -0.0514303 </td><td style=\"text-align: right;\">     0.0563328</td><td style=\"text-align: right;\">    0.121196  </td><td style=\"text-align: right;\">   -0.122017  </td><td style=\"text-align: right;\">    -0.0588448</td><td style=\"text-align: right;\">     0.022086 </td><td style=\"text-align: right;\">     0.148775 </td><td style=\"text-align: right;\">    0.0245279 </td><td style=\"text-align: right;\">   0.000852151</td><td style=\"text-align: right;\">    -0.0120437</td><td style=\"text-align: right;\">     0.0898042</td><td style=\"text-align: right;\">     0.222571 </td><td style=\"text-align: right;\">    -0.0154381</td><td style=\"text-align: right;\">     0.0339385</td><td style=\"text-align: right;\">    -0.108664 </td><td style=\"text-align: right;\">   -0.0177979 </td><td style=\"text-align: right;\">    0.220305  </td><td style=\"text-align: right;\">   -0.117877  </td><td style=\"text-align: right;\">    0.00777352</td><td style=\"text-align: right;\">    0.122141  </td><td style=\"text-align: right;\">   -0.104649  </td><td style=\"text-align: right;\">     0.0112748</td><td style=\"text-align: right;\">     0.0281187 </td><td style=\"text-align: right;\">     -0.0845959</td><td style=\"text-align: right;\">     -0.124184 </td><td style=\"text-align: right;\">      0.0269022</td><td style=\"text-align: right;\">     -0.135383 </td><td style=\"text-align: right;\">      0.0351611</td><td style=\"text-align: right;\">     -0.130415 </td><td style=\"text-align: right;\">    -0.0158209 </td><td style=\"text-align: right;\">     -0.025496 </td><td style=\"text-align: right;\">      0.0809825</td><td style=\"text-align: right;\">     -0.142759 </td><td style=\"text-align: right;\">     0.149223  </td><td style=\"text-align: right;\">      -0.124816</td><td style=\"text-align: right;\">     0.0411221 </td><td style=\"text-align: right;\">    -0.00596335</td><td style=\"text-align: right;\">     -0.0856953</td><td style=\"text-align: right;\">      0.0636514</td><td style=\"text-align: right;\">     0.00538526</td><td style=\"text-align: right;\">      0.0141371</td><td style=\"text-align: right;\">     -0.23845  </td><td style=\"text-align: right;\">     -0.122459 </td></tr>\n",
              "<tr><td style=\"text-align: right;\">   -0.110395 </td><td style=\"text-align: right;\">   0.115206  </td><td style=\"text-align: right;\">   0.00372923</td><td style=\"text-align: right;\">   0.0831589 </td><td style=\"text-align: right;\">    0.0447137</td><td style=\"text-align: right;\">  -0.0756845 </td><td style=\"text-align: right;\">    0.156453 </td><td style=\"text-align: right;\">    0.112376 </td><td style=\"text-align: right;\">    0.10142  </td><td style=\"text-align: right;\">    -0.0567061</td><td style=\"text-align: right;\">    0.00563576</td><td style=\"text-align: right;\">     0.22895  </td><td style=\"text-align: right;\">     0.164542 </td><td style=\"text-align: right;\">     0.2786   </td><td style=\"text-align: right;\">   -0.0453136 </td><td style=\"text-align: right;\">    0.0684436 </td><td style=\"text-align: right;\">   -0.0269431 </td><td style=\"text-align: right;\">    0.272724  </td><td style=\"text-align: right;\">     0.133477 </td><td style=\"text-align: right;\">     0.134361 </td><td style=\"text-align: right;\">    0.0448317 </td><td style=\"text-align: right;\">    -0.124322 </td><td style=\"text-align: right;\">    -0.0249639</td><td style=\"text-align: right;\">    -0.144571 </td><td style=\"text-align: right;\">   -0.012102  </td><td style=\"text-align: right;\">   0.0396341  </td><td style=\"text-align: right;\">     0.0548469</td><td style=\"text-align: right;\">     0.0967603</td><td style=\"text-align: right;\">    -0.25705  </td><td style=\"text-align: right;\">     0.0185894</td><td style=\"text-align: right;\">    -0.238427 </td><td style=\"text-align: right;\">    -0.0280098</td><td style=\"text-align: right;\">     0.13016  </td><td style=\"text-align: right;\">     0.128747 </td><td style=\"text-align: right;\">   -0.0567313 </td><td style=\"text-align: right;\">     0.0519261</td><td style=\"text-align: right;\">     0.10443  </td><td style=\"text-align: right;\">     0.213788 </td><td style=\"text-align: right;\">     0.0175803</td><td style=\"text-align: right;\">     0.149404 </td><td style=\"text-align: right;\">    0.136432  </td><td style=\"text-align: right;\">     0.103932 </td><td style=\"text-align: right;\">   -0.0867833 </td><td style=\"text-align: right;\">     0.131278 </td><td style=\"text-align: right;\">    0.150812  </td><td style=\"text-align: right;\">     0.0123889</td><td style=\"text-align: right;\">   -0.187982  </td><td style=\"text-align: right;\">     0.203414 </td><td style=\"text-align: right;\">  -0.0742001  </td><td style=\"text-align: right;\">    -0.194317 </td><td style=\"text-align: right;\">     0.174665 </td><td style=\"text-align: right;\">    -0.0328817</td><td style=\"text-align: right;\">   0.0735069  </td><td style=\"text-align: right;\">     0.125468 </td><td style=\"text-align: right;\">    -0.110139 </td><td style=\"text-align: right;\">     0.192374 </td><td style=\"text-align: right;\">     0.188211 </td><td style=\"text-align: right;\">    -0.0352562</td><td style=\"text-align: right;\">    -0.10582  </td><td style=\"text-align: right;\">   -0.0970609 </td><td style=\"text-align: right;\">   -0.118754  </td><td style=\"text-align: right;\">    -0.012132 </td><td style=\"text-align: right;\">     0.18977  </td><td style=\"text-align: right;\">    -0.123983 </td><td style=\"text-align: right;\">     0.141083 </td><td style=\"text-align: right;\">    -0.0953255</td><td style=\"text-align: right;\">    0.0271488 </td><td style=\"text-align: right;\">     0.0256472</td><td style=\"text-align: right;\">    -0.0628729</td><td style=\"text-align: right;\">    -0.0151084</td><td style=\"text-align: right;\">    0.00462528</td><td style=\"text-align: right;\">    0.105159  </td><td style=\"text-align: right;\">    0.331428  </td><td style=\"text-align: right;\">     0.0274022</td><td style=\"text-align: right;\">    -0.205787 </td><td style=\"text-align: right;\">   -0.0603115 </td><td style=\"text-align: right;\">   -0.133459  </td><td style=\"text-align: right;\">    0.0836761 </td><td style=\"text-align: right;\">     0.146354 </td><td style=\"text-align: right;\">   -0.00384596</td><td style=\"text-align: right;\">   -0.124256  </td><td style=\"text-align: right;\">    -0.374908 </td><td style=\"text-align: right;\">    -0.06613  </td><td style=\"text-align: right;\">    -0.0284255</td><td style=\"text-align: right;\">   -0.0257798 </td><td style=\"text-align: right;\">   0.0975119  </td><td style=\"text-align: right;\">    -0.232491 </td><td style=\"text-align: right;\">     0.258939 </td><td style=\"text-align: right;\">     0.166188 </td><td style=\"text-align: right;\">    -0.17772  </td><td style=\"text-align: right;\">     0.0826256</td><td style=\"text-align: right;\">    -0.122624 </td><td style=\"text-align: right;\">    0.142057  </td><td style=\"text-align: right;\">    0.303236  </td><td style=\"text-align: right;\">    0.111038  </td><td style=\"text-align: right;\">   -0.012557  </td><td style=\"text-align: right;\">   -0.104032  </td><td style=\"text-align: right;\">    0.00158537</td><td style=\"text-align: right;\">    -0.115648 </td><td style=\"text-align: right;\">     0.110338  </td><td style=\"text-align: right;\">      0.0234205</td><td style=\"text-align: right;\">     -0.0360407</td><td style=\"text-align: right;\">     -0.0745327</td><td style=\"text-align: right;\">     -0.130939 </td><td style=\"text-align: right;\">      0.0364606</td><td style=\"text-align: right;\">     -0.129096 </td><td style=\"text-align: right;\">    -0.0686847 </td><td style=\"text-align: right;\">     -0.178276 </td><td style=\"text-align: right;\">      0.071117 </td><td style=\"text-align: right;\">      0.0566844</td><td style=\"text-align: right;\">    -0.142142  </td><td style=\"text-align: right;\">      -0.306464</td><td style=\"text-align: right;\">    -0.220964  </td><td style=\"text-align: right;\">     0.0678278 </td><td style=\"text-align: right;\">     -0.141606 </td><td style=\"text-align: right;\">      0.247741 </td><td style=\"text-align: right;\">     0.123105  </td><td style=\"text-align: right;\">      0.218792 </td><td style=\"text-align: right;\">     -0.146586 </td><td style=\"text-align: right;\">     -0.314548 </td></tr>\n",
              "<tr><td style=\"text-align: right;\">   -0.111278 </td><td style=\"text-align: right;\">  -0.110965  </td><td style=\"text-align: right;\">   0.0481192 </td><td style=\"text-align: right;\">   0.559952  </td><td style=\"text-align: right;\">    0.200147 </td><td style=\"text-align: right;\">  -0.033167  </td><td style=\"text-align: right;\">   -0.181476 </td><td style=\"text-align: right;\">    0.216288 </td><td style=\"text-align: right;\">    0.0764817</td><td style=\"text-align: right;\">     0.210429 </td><td style=\"text-align: right;\">    0.240834  </td><td style=\"text-align: right;\">     0.150649 </td><td style=\"text-align: right;\">    -0.0143943</td><td style=\"text-align: right;\">    -0.333869 </td><td style=\"text-align: right;\">    0.241295  </td><td style=\"text-align: right;\">    0.175088  </td><td style=\"text-align: right;\">    0.164502  </td><td style=\"text-align: right;\">   -0.355424  </td><td style=\"text-align: right;\">     0.355123 </td><td style=\"text-align: right;\">     0.419163 </td><td style=\"text-align: right;\">   -0.131901  </td><td style=\"text-align: right;\">     0.0422728</td><td style=\"text-align: right;\">     0.0482126</td><td style=\"text-align: right;\">    -0.327003 </td><td style=\"text-align: right;\">   -0.232276  </td><td style=\"text-align: right;\">   0.240651   </td><td style=\"text-align: right;\">    -0.0119568</td><td style=\"text-align: right;\">    -0.193656 </td><td style=\"text-align: right;\">    -0.058336 </td><td style=\"text-align: right;\">    -0.101822 </td><td style=\"text-align: right;\">    -0.28144  </td><td style=\"text-align: right;\">     0.180651 </td><td style=\"text-align: right;\">     0.0933884</td><td style=\"text-align: right;\">     0.0139633</td><td style=\"text-align: right;\">   -0.0558699 </td><td style=\"text-align: right;\">     0.291807 </td><td style=\"text-align: right;\">    -0.498085 </td><td style=\"text-align: right;\">     0.103036 </td><td style=\"text-align: right;\">    -0.0372434</td><td style=\"text-align: right;\">    -0.164289 </td><td style=\"text-align: right;\">    0.326991  </td><td style=\"text-align: right;\">    -0.204775 </td><td style=\"text-align: right;\">    0.00638495</td><td style=\"text-align: right;\">     0.0258584</td><td style=\"text-align: right;\">   -0.3413    </td><td style=\"text-align: right;\">     0.200109 </td><td style=\"text-align: right;\">   -0.136113  </td><td style=\"text-align: right;\">    -0.255081 </td><td style=\"text-align: right;\">   0.305419   </td><td style=\"text-align: right;\">    -0.0576343</td><td style=\"text-align: right;\">    -0.0253953</td><td style=\"text-align: right;\">     0.129674 </td><td style=\"text-align: right;\">  -0.000771095</td><td style=\"text-align: right;\">     0.304438 </td><td style=\"text-align: right;\">     0.165387 </td><td style=\"text-align: right;\">     0.209573 </td><td style=\"text-align: right;\">    -0.21049  </td><td style=\"text-align: right;\">    -0.257318 </td><td style=\"text-align: right;\">     0.121521 </td><td style=\"text-align: right;\">   -0.09218   </td><td style=\"text-align: right;\">   -0.198478  </td><td style=\"text-align: right;\">     0.168393 </td><td style=\"text-align: right;\">     0.328349 </td><td style=\"text-align: right;\">    -0.0763371</td><td style=\"text-align: right;\">    -0.247985 </td><td style=\"text-align: right;\">    -0.404517 </td><td style=\"text-align: right;\">   -0.020517  </td><td style=\"text-align: right;\">    -0.258009 </td><td style=\"text-align: right;\">    -0.401897 </td><td style=\"text-align: right;\">    -0.026406 </td><td style=\"text-align: right;\">    0.132798  </td><td style=\"text-align: right;\">   -0.131798  </td><td style=\"text-align: right;\">    0.00600484</td><td style=\"text-align: right;\">     0.308108 </td><td style=\"text-align: right;\">    -0.0803699</td><td style=\"text-align: right;\">   -0.106219  </td><td style=\"text-align: right;\">    0.158146  </td><td style=\"text-align: right;\">    0.272737  </td><td style=\"text-align: right;\">    -0.107224 </td><td style=\"text-align: right;\">    0.425426  </td><td style=\"text-align: right;\">   -0.0734435 </td><td style=\"text-align: right;\">    -0.361767 </td><td style=\"text-align: right;\">     0.145884 </td><td style=\"text-align: right;\">     0.0571649</td><td style=\"text-align: right;\">   -0.186056  </td><td style=\"text-align: right;\">  -0.111952   </td><td style=\"text-align: right;\">    -0.0195787</td><td style=\"text-align: right;\">     0.0016449</td><td style=\"text-align: right;\">     0.212539 </td><td style=\"text-align: right;\">    -0.279021 </td><td style=\"text-align: right;\">    -0.261598 </td><td style=\"text-align: right;\">    -0.393381 </td><td style=\"text-align: right;\">    0.194964  </td><td style=\"text-align: right;\">    0.0955711 </td><td style=\"text-align: right;\">    0.154683  </td><td style=\"text-align: right;\">   -0.200136  </td><td style=\"text-align: right;\">    0.206178  </td><td style=\"text-align: right;\">    0.00615218</td><td style=\"text-align: right;\">    -0.174414 </td><td style=\"text-align: right;\">    -0.208956  </td><td style=\"text-align: right;\">      0.210521 </td><td style=\"text-align: right;\">     -0.291172 </td><td style=\"text-align: right;\">      0.145063 </td><td style=\"text-align: right;\">     -0.0745135</td><td style=\"text-align: right;\">      0.0812613</td><td style=\"text-align: right;\">     -0.367235 </td><td style=\"text-align: right;\">    -0.0932869 </td><td style=\"text-align: right;\">      0.275824 </td><td style=\"text-align: right;\">      0.295559 </td><td style=\"text-align: right;\">     -0.386626 </td><td style=\"text-align: right;\">     0.10925   </td><td style=\"text-align: right;\">       0.139067</td><td style=\"text-align: right;\">     0.0624735 </td><td style=\"text-align: right;\">     0.166197  </td><td style=\"text-align: right;\">     -0.215992 </td><td style=\"text-align: right;\">      0.0865133</td><td style=\"text-align: right;\">    -0.219443  </td><td style=\"text-align: right;\">      0.103747 </td><td style=\"text-align: right;\">     -0.0276032</td><td style=\"text-align: right;\">      0.31339  </td></tr>\n",
              "<tr><td style=\"text-align: right;\">   -0.0600532</td><td style=\"text-align: right;\">  -0.0458204 </td><td style=\"text-align: right;\">  -0.105115  </td><td style=\"text-align: right;\">  -0.0843004 </td><td style=\"text-align: right;\">    0.0715183</td><td style=\"text-align: right;\">   0.0132414 </td><td style=\"text-align: right;\">   -0.0821537</td><td style=\"text-align: right;\">   -0.0280754</td><td style=\"text-align: right;\">    0.102875 </td><td style=\"text-align: right;\">     0.15919  </td><td style=\"text-align: right;\">    0.179509  </td><td style=\"text-align: right;\">     0.167715 </td><td style=\"text-align: right;\">     0.14243  </td><td style=\"text-align: right;\">    -0.0216979</td><td style=\"text-align: right;\">   -0.117432  </td><td style=\"text-align: right;\">    0.00166043</td><td style=\"text-align: right;\">    0.0425343 </td><td style=\"text-align: right;\">   -0.136395  </td><td style=\"text-align: right;\">    -0.0854466</td><td style=\"text-align: right;\">     0.125297 </td><td style=\"text-align: right;\">   -0.15835   </td><td style=\"text-align: right;\">     0.205865 </td><td style=\"text-align: right;\">     0.334603 </td><td style=\"text-align: right;\">     0.312035 </td><td style=\"text-align: right;\">   -0.00857443</td><td style=\"text-align: right;\">   0.000808189</td><td style=\"text-align: right;\">     0.0690051</td><td style=\"text-align: right;\">     0.0268828</td><td style=\"text-align: right;\">    -0.0278787</td><td style=\"text-align: right;\">    -0.106999 </td><td style=\"text-align: right;\">     0.0642421</td><td style=\"text-align: right;\">     0.0187624</td><td style=\"text-align: right;\">     0.271473 </td><td style=\"text-align: right;\">    -0.132805 </td><td style=\"text-align: right;\">    0.154856  </td><td style=\"text-align: right;\">     0.0395274</td><td style=\"text-align: right;\">    -0.165588 </td><td style=\"text-align: right;\">    -0.0494702</td><td style=\"text-align: right;\">     0.0527933</td><td style=\"text-align: right;\">     0.025812 </td><td style=\"text-align: right;\">   -0.00410524</td><td style=\"text-align: right;\">    -0.0819418</td><td style=\"text-align: right;\">    0.0593564 </td><td style=\"text-align: right;\">     0.183023 </td><td style=\"text-align: right;\">    0.00456081</td><td style=\"text-align: right;\">    -0.0668529</td><td style=\"text-align: right;\">    0.0709928 </td><td style=\"text-align: right;\">     0.0336143</td><td style=\"text-align: right;\">  -0.0325762  </td><td style=\"text-align: right;\">    -0.290253 </td><td style=\"text-align: right;\">    -0.146779 </td><td style=\"text-align: right;\">     0.130926 </td><td style=\"text-align: right;\">  -0.0678738  </td><td style=\"text-align: right;\">    -0.253638 </td><td style=\"text-align: right;\">    -0.0183319</td><td style=\"text-align: right;\">     0.135467 </td><td style=\"text-align: right;\">    -0.102522 </td><td style=\"text-align: right;\">    -0.0013482</td><td style=\"text-align: right;\">     0.0128196</td><td style=\"text-align: right;\">   -0.00732301</td><td style=\"text-align: right;\">    0.127299  </td><td style=\"text-align: right;\">     0.215786 </td><td style=\"text-align: right;\">     0.130835 </td><td style=\"text-align: right;\">    -0.063255 </td><td style=\"text-align: right;\">    -0.213806 </td><td style=\"text-align: right;\">    -0.340233 </td><td style=\"text-align: right;\">   -0.00679829</td><td style=\"text-align: right;\">    -0.210139 </td><td style=\"text-align: right;\">    -0.260738 </td><td style=\"text-align: right;\">    -0.158681 </td><td style=\"text-align: right;\">   -0.072227  </td><td style=\"text-align: right;\">    0.0775042 </td><td style=\"text-align: right;\">    0.221818  </td><td style=\"text-align: right;\">     0.0154899</td><td style=\"text-align: right;\">     0.139682 </td><td style=\"text-align: right;\">   -0.0228284 </td><td style=\"text-align: right;\">    0.00971064</td><td style=\"text-align: right;\">   -0.0864308 </td><td style=\"text-align: right;\">    -0.0256612</td><td style=\"text-align: right;\">    0.0986743 </td><td style=\"text-align: right;\">    0.0743725 </td><td style=\"text-align: right;\">    -0.0398152</td><td style=\"text-align: right;\">    -0.17038  </td><td style=\"text-align: right;\">    -0.195918 </td><td style=\"text-align: right;\">    0.0649189 </td><td style=\"text-align: right;\">  -0.0329536  </td><td style=\"text-align: right;\">    -0.132949 </td><td style=\"text-align: right;\">     0.189901 </td><td style=\"text-align: right;\">     0.147066 </td><td style=\"text-align: right;\">    -0.208416 </td><td style=\"text-align: right;\">    -0.251182 </td><td style=\"text-align: right;\">    -0.0372661</td><td style=\"text-align: right;\">   -0.280634  </td><td style=\"text-align: right;\">   -0.0138628 </td><td style=\"text-align: right;\">   -0.00297959</td><td style=\"text-align: right;\">    0.0421292 </td><td style=\"text-align: right;\">    0.120599  </td><td style=\"text-align: right;\">    0.0469407 </td><td style=\"text-align: right;\">    -0.159343 </td><td style=\"text-align: right;\">     0.0728351 </td><td style=\"text-align: right;\">     -0.196764 </td><td style=\"text-align: right;\">     -0.0275134</td><td style=\"text-align: right;\">      0.0223994</td><td style=\"text-align: right;\">     -0.213133 </td><td style=\"text-align: right;\">      0.0348605</td><td style=\"text-align: right;\">     -0.0796414</td><td style=\"text-align: right;\">    -0.0931116 </td><td style=\"text-align: right;\">      0.0524075</td><td style=\"text-align: right;\">      0.0833983</td><td style=\"text-align: right;\">     -0.239283 </td><td style=\"text-align: right;\">    -0.140121  </td><td style=\"text-align: right;\">      -0.203408</td><td style=\"text-align: right;\">     0.0696626 </td><td style=\"text-align: right;\">     0.0228749 </td><td style=\"text-align: right;\">     -0.0171869</td><td style=\"text-align: right;\">      0.102628 </td><td style=\"text-align: right;\">     0.103458  </td><td style=\"text-align: right;\">     -0.0498616</td><td style=\"text-align: right;\">     -0.110911 </td><td style=\"text-align: right;\">      0.0198293</td></tr>\n",
              "<tr><td style=\"text-align: right;\">    0.0743141</td><td style=\"text-align: right;\">   0.0289663 </td><td style=\"text-align: right;\">  -0.113377  </td><td style=\"text-align: right;\">   0.209044  </td><td style=\"text-align: right;\">    0.14348  </td><td style=\"text-align: right;\">   0.0147469 </td><td style=\"text-align: right;\">    0.190812 </td><td style=\"text-align: right;\">   -0.137238 </td><td style=\"text-align: right;\">   -0.0726204</td><td style=\"text-align: right;\">    -0.0687853</td><td style=\"text-align: right;\">    0.0462991 </td><td style=\"text-align: right;\">    -0.0258033</td><td style=\"text-align: right;\">    -0.0100511</td><td style=\"text-align: right;\">    -0.0185303</td><td style=\"text-align: right;\">    0.0230002 </td><td style=\"text-align: right;\">   -0.177829  </td><td style=\"text-align: right;\">    0.00179867</td><td style=\"text-align: right;\">    0.0609781 </td><td style=\"text-align: right;\">    -0.0682704</td><td style=\"text-align: right;\">     0.0953136</td><td style=\"text-align: right;\">   -0.205578  </td><td style=\"text-align: right;\">    -0.173446 </td><td style=\"text-align: right;\">     0.0477734</td><td style=\"text-align: right;\">    -0.0368282</td><td style=\"text-align: right;\">   -0.0647905 </td><td style=\"text-align: right;\">  -0.0748906  </td><td style=\"text-align: right;\">    -0.0239939</td><td style=\"text-align: right;\">     0.12294  </td><td style=\"text-align: right;\">     0.0193494</td><td style=\"text-align: right;\">     0.146324 </td><td style=\"text-align: right;\">    -0.259255 </td><td style=\"text-align: right;\">     0.140029 </td><td style=\"text-align: right;\">     0.340414 </td><td style=\"text-align: right;\">    -0.076032 </td><td style=\"text-align: right;\">   -0.0532054 </td><td style=\"text-align: right;\">    -0.132943 </td><td style=\"text-align: right;\">     0.0222917</td><td style=\"text-align: right;\">    -0.0127398</td><td style=\"text-align: right;\">     0.0933916</td><td style=\"text-align: right;\">     0.027354 </td><td style=\"text-align: right;\">    0.00520774</td><td style=\"text-align: right;\">    -0.127284 </td><td style=\"text-align: right;\">   -0.0967867 </td><td style=\"text-align: right;\">     0.0710742</td><td style=\"text-align: right;\">    0.0040859 </td><td style=\"text-align: right;\">    -0.0901305</td><td style=\"text-align: right;\">   -0.00659738</td><td style=\"text-align: right;\">     0.12965  </td><td style=\"text-align: right;\">  -0.0479425  </td><td style=\"text-align: right;\">    -0.0171371</td><td style=\"text-align: right;\">    -0.0481314</td><td style=\"text-align: right;\">    -0.0566457</td><td style=\"text-align: right;\">   0.0105921  </td><td style=\"text-align: right;\">     0.0279197</td><td style=\"text-align: right;\">    -0.052529 </td><td style=\"text-align: right;\">     0.0906196</td><td style=\"text-align: right;\">     0.0790767</td><td style=\"text-align: right;\">     0.0311601</td><td style=\"text-align: right;\">    -0.084788 </td><td style=\"text-align: right;\">   -0.0110306 </td><td style=\"text-align: right;\">   -0.0502088 </td><td style=\"text-align: right;\">    -0.186488 </td><td style=\"text-align: right;\">     0.0903043</td><td style=\"text-align: right;\">     0.0747285</td><td style=\"text-align: right;\">    -0.0607416</td><td style=\"text-align: right;\">    -0.0498241</td><td style=\"text-align: right;\">    0.0662198 </td><td style=\"text-align: right;\">    -0.11991  </td><td style=\"text-align: right;\">     0.0324888</td><td style=\"text-align: right;\">    -0.0746269</td><td style=\"text-align: right;\">   -0.121706  </td><td style=\"text-align: right;\">   -0.0450063 </td><td style=\"text-align: right;\">    0.265615  </td><td style=\"text-align: right;\">     0.108792 </td><td style=\"text-align: right;\">     0.0256859</td><td style=\"text-align: right;\">   -0.0327138 </td><td style=\"text-align: right;\">   -0.00492458</td><td style=\"text-align: right;\">   -0.0720231 </td><td style=\"text-align: right;\">     0.203954 </td><td style=\"text-align: right;\">   -0.0311907 </td><td style=\"text-align: right;\">    0.0518275 </td><td style=\"text-align: right;\">     0.0110853</td><td style=\"text-align: right;\">    -0.221053 </td><td style=\"text-align: right;\">    -0.054684 </td><td style=\"text-align: right;\">   -0.0452487 </td><td style=\"text-align: right;\">   0.0151763  </td><td style=\"text-align: right;\">     0.0786573</td><td style=\"text-align: right;\">     0.222934 </td><td style=\"text-align: right;\">     0.173027 </td><td style=\"text-align: right;\">    -0.127319 </td><td style=\"text-align: right;\">    -0.13721  </td><td style=\"text-align: right;\">    -0.0779234</td><td style=\"text-align: right;\">   -0.110811  </td><td style=\"text-align: right;\">    0.0926933 </td><td style=\"text-align: right;\">   -0.105314  </td><td style=\"text-align: right;\">    0.00675669</td><td style=\"text-align: right;\">    0.117434  </td><td style=\"text-align: right;\">   -0.0197591 </td><td style=\"text-align: right;\">    -0.212831 </td><td style=\"text-align: right;\">    -0.0402843 </td><td style=\"text-align: right;\">      0.0534743</td><td style=\"text-align: right;\">      0.0491578</td><td style=\"text-align: right;\">      0.107964 </td><td style=\"text-align: right;\">     -0.0675892</td><td style=\"text-align: right;\">      0.129792 </td><td style=\"text-align: right;\">     -0.111123 </td><td style=\"text-align: right;\">     0.0703566 </td><td style=\"text-align: right;\">     -0.0251097</td><td style=\"text-align: right;\">      0.167002 </td><td style=\"text-align: right;\">     -0.0336238</td><td style=\"text-align: right;\">     0.0481613 </td><td style=\"text-align: right;\">      -0.135607</td><td style=\"text-align: right;\">     0.0204753 </td><td style=\"text-align: right;\">     0.0896835 </td><td style=\"text-align: right;\">     -0.101093 </td><td style=\"text-align: right;\">      0.0465992</td><td style=\"text-align: right;\">     0.0152038 </td><td style=\"text-align: right;\">      0.145648 </td><td style=\"text-align: right;\">     -0.0179418</td><td style=\"text-align: right;\">      0.0401317</td></tr>\n",
              "<tr><td style=\"text-align: right;\">   -0.0270063</td><td style=\"text-align: right;\">  -0.245299  </td><td style=\"text-align: right;\">  -0.0218789 </td><td style=\"text-align: right;\">   0.423387  </td><td style=\"text-align: right;\">    0.351705 </td><td style=\"text-align: right;\">  -0.35807   </td><td style=\"text-align: right;\">    0.223408 </td><td style=\"text-align: right;\">   -0.0663569</td><td style=\"text-align: right;\">   -0.0617276</td><td style=\"text-align: right;\">    -0.0132831</td><td style=\"text-align: right;\">   -0.216711  </td><td style=\"text-align: right;\">     0.0734242</td><td style=\"text-align: right;\">    -0.407869 </td><td style=\"text-align: right;\">    -0.0505999</td><td style=\"text-align: right;\">    0.0346269 </td><td style=\"text-align: right;\">    0.0231234 </td><td style=\"text-align: right;\">    0.0132294 </td><td style=\"text-align: right;\">    0.0155703 </td><td style=\"text-align: right;\">     0.164812 </td><td style=\"text-align: right;\">     0.0424118</td><td style=\"text-align: right;\">    0.0699626 </td><td style=\"text-align: right;\">     0.0582091</td><td style=\"text-align: right;\">    -0.155708 </td><td style=\"text-align: right;\">    -0.145179 </td><td style=\"text-align: right;\">   -0.0104334 </td><td style=\"text-align: right;\">  -0.0232104  </td><td style=\"text-align: right;\">     0.154336 </td><td style=\"text-align: right;\">     0.202302 </td><td style=\"text-align: right;\">    -0.250604 </td><td style=\"text-align: right;\">    -0.0732583</td><td style=\"text-align: right;\">    -0.109831 </td><td style=\"text-align: right;\">    -0.0127057</td><td style=\"text-align: right;\">     0.202716 </td><td style=\"text-align: right;\">    -0.186009 </td><td style=\"text-align: right;\">   -0.117538  </td><td style=\"text-align: right;\">    -0.162059 </td><td style=\"text-align: right;\">     0.0260009</td><td style=\"text-align: right;\">    -0.15352  </td><td style=\"text-align: right;\">    -0.154635 </td><td style=\"text-align: right;\">     0.184981 </td><td style=\"text-align: right;\">   -0.0384353 </td><td style=\"text-align: right;\">    -0.114332 </td><td style=\"text-align: right;\">    0.153734  </td><td style=\"text-align: right;\">    -0.0963642</td><td style=\"text-align: right;\">    0.199143  </td><td style=\"text-align: right;\">     0.149605 </td><td style=\"text-align: right;\">    0.0770617 </td><td style=\"text-align: right;\">    -0.0155438</td><td style=\"text-align: right;\">  -0.000722647</td><td style=\"text-align: right;\">     0.0443071</td><td style=\"text-align: right;\">    -0.0462272</td><td style=\"text-align: right;\">     0.0274224</td><td style=\"text-align: right;\">   0.238131   </td><td style=\"text-align: right;\">     0.214485 </td><td style=\"text-align: right;\">     0.099532 </td><td style=\"text-align: right;\">    -0.0158395</td><td style=\"text-align: right;\">     0.0145826</td><td style=\"text-align: right;\">    -0.345724 </td><td style=\"text-align: right;\">     0.0435723</td><td style=\"text-align: right;\">   -0.533545  </td><td style=\"text-align: right;\">   -0.0373415 </td><td style=\"text-align: right;\">    -0.278455 </td><td style=\"text-align: right;\">     0.0984059</td><td style=\"text-align: right;\">    -0.162111 </td><td style=\"text-align: right;\">    -0.048559 </td><td style=\"text-align: right;\">     0.265723 </td><td style=\"text-align: right;\">    0.0967555 </td><td style=\"text-align: right;\">    -0.24208  </td><td style=\"text-align: right;\">    -0.325675 </td><td style=\"text-align: right;\">    -0.327351 </td><td style=\"text-align: right;\">   -0.0605646 </td><td style=\"text-align: right;\">    0.305796  </td><td style=\"text-align: right;\">   -0.136121  </td><td style=\"text-align: right;\">    -0.257025 </td><td style=\"text-align: right;\">     0.289518 </td><td style=\"text-align: right;\">    0.00348162</td><td style=\"text-align: right;\">    0.0157429 </td><td style=\"text-align: right;\">    0.130996  </td><td style=\"text-align: right;\">    -0.0117808</td><td style=\"text-align: right;\">   -0.267169  </td><td style=\"text-align: right;\">    0.22      </td><td style=\"text-align: right;\">    -0.185462 </td><td style=\"text-align: right;\">    -0.162079 </td><td style=\"text-align: right;\">    -0.0128023</td><td style=\"text-align: right;\">    0.175448  </td><td style=\"text-align: right;\">   0.168204   </td><td style=\"text-align: right;\">    -0.227542 </td><td style=\"text-align: right;\">    -0.0907367</td><td style=\"text-align: right;\">     0.112451 </td><td style=\"text-align: right;\">     0.0515387</td><td style=\"text-align: right;\">    -0.156311 </td><td style=\"text-align: right;\">    -0.180795 </td><td style=\"text-align: right;\">   -0.146248  </td><td style=\"text-align: right;\">   -0.108794  </td><td style=\"text-align: right;\">    0.24463   </td><td style=\"text-align: right;\">   -0.0311809 </td><td style=\"text-align: right;\">    0.356818  </td><td style=\"text-align: right;\">    0.0219134 </td><td style=\"text-align: right;\">    -0.464736 </td><td style=\"text-align: right;\">    -0.0781613 </td><td style=\"text-align: right;\">      0.129149 </td><td style=\"text-align: right;\">     -0.050988 </td><td style=\"text-align: right;\">      0.174133 </td><td style=\"text-align: right;\">     -0.17679  </td><td style=\"text-align: right;\">     -0.0217853</td><td style=\"text-align: right;\">      0.197131 </td><td style=\"text-align: right;\">     0.132802  </td><td style=\"text-align: right;\">      0.168677 </td><td style=\"text-align: right;\">      0.0957292</td><td style=\"text-align: right;\">      0.0135886</td><td style=\"text-align: right;\">    -0.0229356 </td><td style=\"text-align: right;\">      -0.223292</td><td style=\"text-align: right;\">     0.0353176 </td><td style=\"text-align: right;\">    -0.199203  </td><td style=\"text-align: right;\">     -0.0642312</td><td style=\"text-align: right;\">      0.233771 </td><td style=\"text-align: right;\">    -0.0726398 </td><td style=\"text-align: right;\">     -0.0520976</td><td style=\"text-align: right;\">     -0.171198 </td><td style=\"text-align: right;\">     -0.145849 </td></tr>\n",
              "<tr><td style=\"text-align: right;\">   -0.393652 </td><td style=\"text-align: right;\">  -0.104856  </td><td style=\"text-align: right;\">   0.11455   </td><td style=\"text-align: right;\">  -0.175807  </td><td style=\"text-align: right;\">   -0.168632 </td><td style=\"text-align: right;\">  -0.212054  </td><td style=\"text-align: right;\">    0.313327 </td><td style=\"text-align: right;\">   -0.455077 </td><td style=\"text-align: right;\">    0.290817 </td><td style=\"text-align: right;\">     0.347907 </td><td style=\"text-align: right;\">   -0.202731  </td><td style=\"text-align: right;\">    -0.110977 </td><td style=\"text-align: right;\">    -0.0194762</td><td style=\"text-align: right;\">     0.259662 </td><td style=\"text-align: right;\">    0.0885772 </td><td style=\"text-align: right;\">    0.332069  </td><td style=\"text-align: right;\">   -0.645513  </td><td style=\"text-align: right;\">    0.121075  </td><td style=\"text-align: right;\">     0.381194 </td><td style=\"text-align: right;\">    -0.117507 </td><td style=\"text-align: right;\">   -0.233496  </td><td style=\"text-align: right;\">     0.189112 </td><td style=\"text-align: right;\">    -0.585464 </td><td style=\"text-align: right;\">     0.0451882</td><td style=\"text-align: right;\">    0.0085625 </td><td style=\"text-align: right;\">  -0.0342226  </td><td style=\"text-align: right;\">     0.130914 </td><td style=\"text-align: right;\">    -0.279918 </td><td style=\"text-align: right;\">    -0.104852 </td><td style=\"text-align: right;\">     0.39928  </td><td style=\"text-align: right;\">    -0.494786 </td><td style=\"text-align: right;\">    -0.0757697</td><td style=\"text-align: right;\">    -0.10684  </td><td style=\"text-align: right;\">    -0.1466   </td><td style=\"text-align: right;\">    0.130147  </td><td style=\"text-align: right;\">    -0.0136164</td><td style=\"text-align: right;\">     0.329474 </td><td style=\"text-align: right;\">     0.133212 </td><td style=\"text-align: right;\">    -0.21671  </td><td style=\"text-align: right;\">     0.121408 </td><td style=\"text-align: right;\">   -0.117527  </td><td style=\"text-align: right;\">    -0.417305 </td><td style=\"text-align: right;\">    0.124225  </td><td style=\"text-align: right;\">     0.506436 </td><td style=\"text-align: right;\">    0.012833  </td><td style=\"text-align: right;\">    -0.0332531</td><td style=\"text-align: right;\">    0.187656  </td><td style=\"text-align: right;\">     0.193291 </td><td style=\"text-align: right;\">   0.039645   </td><td style=\"text-align: right;\">     0.0346671</td><td style=\"text-align: right;\">     0.0115359</td><td style=\"text-align: right;\">    -0.119111 </td><td style=\"text-align: right;\">  -0.434403   </td><td style=\"text-align: right;\">    -0.154792 </td><td style=\"text-align: right;\">    -0.359529 </td><td style=\"text-align: right;\">     0.299277 </td><td style=\"text-align: right;\">    -0.349419 </td><td style=\"text-align: right;\">     0.132631 </td><td style=\"text-align: right;\">     0.143808 </td><td style=\"text-align: right;\">    0.116301  </td><td style=\"text-align: right;\">    0.0445538 </td><td style=\"text-align: right;\">    -0.0863861</td><td style=\"text-align: right;\">     0.0777305</td><td style=\"text-align: right;\">    -0.146427 </td><td style=\"text-align: right;\">    -0.339262 </td><td style=\"text-align: right;\">    -0.0217106</td><td style=\"text-align: right;\">   -0.506514  </td><td style=\"text-align: right;\">    -0.127847 </td><td style=\"text-align: right;\">     0.315847 </td><td style=\"text-align: right;\">    -0.0945307</td><td style=\"text-align: right;\">    0.419641  </td><td style=\"text-align: right;\">    0.115334  </td><td style=\"text-align: right;\">   -0.110067  </td><td style=\"text-align: right;\">     0.141689 </td><td style=\"text-align: right;\">    -0.119678 </td><td style=\"text-align: right;\">   -0.17449   </td><td style=\"text-align: right;\">   -0.0937585 </td><td style=\"text-align: right;\">    0.0811728 </td><td style=\"text-align: right;\">    -0.0376537</td><td style=\"text-align: right;\">    0.432693  </td><td style=\"text-align: right;\">    0.0592014 </td><td style=\"text-align: right;\">    -0.0601446</td><td style=\"text-align: right;\">    -0.263464 </td><td style=\"text-align: right;\">    -0.31943  </td><td style=\"text-align: right;\">   -0.00437625</td><td style=\"text-align: right;\">   0.335136   </td><td style=\"text-align: right;\">     0.162296 </td><td style=\"text-align: right;\">     0.0379477</td><td style=\"text-align: right;\">    -0.0214019</td><td style=\"text-align: right;\">    -0.0750208</td><td style=\"text-align: right;\">     0.266545 </td><td style=\"text-align: right;\">    -0.0781243</td><td style=\"text-align: right;\">    0.218973  </td><td style=\"text-align: right;\">    0.0327898 </td><td style=\"text-align: right;\">    0.0777607 </td><td style=\"text-align: right;\">    0.0834559 </td><td style=\"text-align: right;\">   -0.0851328 </td><td style=\"text-align: right;\">    0.4988    </td><td style=\"text-align: right;\">    -0.462703 </td><td style=\"text-align: right;\">     0.0288839 </td><td style=\"text-align: right;\">      0.117381 </td><td style=\"text-align: right;\">     -0.287422 </td><td style=\"text-align: right;\">      0.530621 </td><td style=\"text-align: right;\">     -0.243623 </td><td style=\"text-align: right;\">     -0.134633 </td><td style=\"text-align: right;\">     -0.306435 </td><td style=\"text-align: right;\">     0.354218  </td><td style=\"text-align: right;\">     -0.233144 </td><td style=\"text-align: right;\">      0.0271652</td><td style=\"text-align: right;\">     -0.195696 </td><td style=\"text-align: right;\">    -0.210653  </td><td style=\"text-align: right;\">      -0.109338</td><td style=\"text-align: right;\">     0.222151  </td><td style=\"text-align: right;\">    -0.0722436 </td><td style=\"text-align: right;\">     -0.0620407</td><td style=\"text-align: right;\">      0.234384 </td><td style=\"text-align: right;\">     0.30765   </td><td style=\"text-align: right;\">      0.210858 </td><td style=\"text-align: right;\">     -0.0544647</td><td style=\"text-align: right;\">     -0.0767318</td></tr>\n",
              "<tr><td style=\"text-align: right;\">    0.110731 </td><td style=\"text-align: right;\">  -0.0171249 </td><td style=\"text-align: right;\">   0.117079  </td><td style=\"text-align: right;\">   0.394386  </td><td style=\"text-align: right;\">   -0.109045 </td><td style=\"text-align: right;\">  -0.111924  </td><td style=\"text-align: right;\">    0.0180465</td><td style=\"text-align: right;\">   -0.107596 </td><td style=\"text-align: right;\">    0.0798661</td><td style=\"text-align: right;\">    -0.01467  </td><td style=\"text-align: right;\">   -0.238466  </td><td style=\"text-align: right;\">     0.0165187</td><td style=\"text-align: right;\">    -0.0994187</td><td style=\"text-align: right;\">    -0.239881 </td><td style=\"text-align: right;\">    0.131687  </td><td style=\"text-align: right;\">    0.0999135 </td><td style=\"text-align: right;\">   -0.0721426 </td><td style=\"text-align: right;\">    0.00365985</td><td style=\"text-align: right;\">    -0.0500882</td><td style=\"text-align: right;\">     0.0362747</td><td style=\"text-align: right;\">   -0.192971  </td><td style=\"text-align: right;\">     0.239725 </td><td style=\"text-align: right;\">    -0.0517797</td><td style=\"text-align: right;\">     0.0577034</td><td style=\"text-align: right;\">    0.0804392 </td><td style=\"text-align: right;\">  -0.0344947  </td><td style=\"text-align: right;\">     0.0872988</td><td style=\"text-align: right;\">     0.246564 </td><td style=\"text-align: right;\">    -0.318055 </td><td style=\"text-align: right;\">    -0.320124 </td><td style=\"text-align: right;\">    -0.195771 </td><td style=\"text-align: right;\">     0.0770347</td><td style=\"text-align: right;\">    -0.184261 </td><td style=\"text-align: right;\">    -0.398657 </td><td style=\"text-align: right;\">    0.0632579 </td><td style=\"text-align: right;\">    -0.0991872</td><td style=\"text-align: right;\">    -0.11267  </td><td style=\"text-align: right;\">    -0.114733 </td><td style=\"text-align: right;\">    -0.100601 </td><td style=\"text-align: right;\">    -0.0496081</td><td style=\"text-align: right;\">   -0.115629  </td><td style=\"text-align: right;\">    -0.146815 </td><td style=\"text-align: right;\">    0.383291  </td><td style=\"text-align: right;\">     0.0157648</td><td style=\"text-align: right;\">    0.329552  </td><td style=\"text-align: right;\">    -0.129559 </td><td style=\"text-align: right;\">   -0.126936  </td><td style=\"text-align: right;\">     0.0166806</td><td style=\"text-align: right;\">   0.0222636  </td><td style=\"text-align: right;\">     0.0513355</td><td style=\"text-align: right;\">    -0.152575 </td><td style=\"text-align: right;\">    -0.0293326</td><td style=\"text-align: right;\">   0.0144126  </td><td style=\"text-align: right;\">    -0.370227 </td><td style=\"text-align: right;\">    -0.294158 </td><td style=\"text-align: right;\">    -0.282075 </td><td style=\"text-align: right;\">     0.44672  </td><td style=\"text-align: right;\">     0.204996 </td><td style=\"text-align: right;\">     0.150645 </td><td style=\"text-align: right;\">   -0.254729  </td><td style=\"text-align: right;\">   -0.0509687 </td><td style=\"text-align: right;\">    -0.0241789</td><td style=\"text-align: right;\">     0.19463  </td><td style=\"text-align: right;\">     0.0730095</td><td style=\"text-align: right;\">    -0.0691959</td><td style=\"text-align: right;\">    -0.0592928</td><td style=\"text-align: right;\">   -0.0710356 </td><td style=\"text-align: right;\">     0.27579  </td><td style=\"text-align: right;\">    -0.0319439</td><td style=\"text-align: right;\">     0.129979 </td><td style=\"text-align: right;\">   -0.0413456 </td><td style=\"text-align: right;\">   -0.424552  </td><td style=\"text-align: right;\">    0.0782994 </td><td style=\"text-align: right;\">     0.0566874</td><td style=\"text-align: right;\">     0.156818 </td><td style=\"text-align: right;\">    0.129299  </td><td style=\"text-align: right;\">    0.108074  </td><td style=\"text-align: right;\">    0.0990329 </td><td style=\"text-align: right;\">    -0.0313199</td><td style=\"text-align: right;\">    0.113114  </td><td style=\"text-align: right;\">   -0.148488  </td><td style=\"text-align: right;\">     0.141906 </td><td style=\"text-align: right;\">    -0.0164786</td><td style=\"text-align: right;\">     0.271752 </td><td style=\"text-align: right;\">    0.0666452 </td><td style=\"text-align: right;\">   0.0162863  </td><td style=\"text-align: right;\">    -0.124315 </td><td style=\"text-align: right;\">     0.117354 </td><td style=\"text-align: right;\">     0.408088 </td><td style=\"text-align: right;\">     0.0565358</td><td style=\"text-align: right;\">    -0.172988 </td><td style=\"text-align: right;\">    -0.250964 </td><td style=\"text-align: right;\">   -0.0695745 </td><td style=\"text-align: right;\">    0.338654  </td><td style=\"text-align: right;\">   -0.192107  </td><td style=\"text-align: right;\">    0.106452  </td><td style=\"text-align: right;\">    0.00692481</td><td style=\"text-align: right;\">   -0.0102551 </td><td style=\"text-align: right;\">    -0.203932 </td><td style=\"text-align: right;\">     0.00729667</td><td style=\"text-align: right;\">      0.0738582</td><td style=\"text-align: right;\">     -0.31271  </td><td style=\"text-align: right;\">     -0.0798205</td><td style=\"text-align: right;\">      0.0567535</td><td style=\"text-align: right;\">     -0.177628 </td><td style=\"text-align: right;\">      0.149467 </td><td style=\"text-align: right;\">     0.103679  </td><td style=\"text-align: right;\">      0.313718 </td><td style=\"text-align: right;\">     -0.0463172</td><td style=\"text-align: right;\">     -0.0369373</td><td style=\"text-align: right;\">     0.00198938</td><td style=\"text-align: right;\">      -0.314405</td><td style=\"text-align: right;\">     0.103635  </td><td style=\"text-align: right;\">     0.301093  </td><td style=\"text-align: right;\">     -0.065466 </td><td style=\"text-align: right;\">      0.168224 </td><td style=\"text-align: right;\">     0.129298  </td><td style=\"text-align: right;\">     -0.0133591</td><td style=\"text-align: right;\">     -0.44251  </td><td style=\"text-align: right;\">     -0.0779726</td></tr>\n",
              "<tr><td style=\"text-align: right;\">    0.0806833</td><td style=\"text-align: right;\">   0.00150323</td><td style=\"text-align: right;\">  -0.11896   </td><td style=\"text-align: right;\">   0.151619  </td><td style=\"text-align: right;\">    0.242127 </td><td style=\"text-align: right;\">   0.0219632 </td><td style=\"text-align: right;\">    0.0649286</td><td style=\"text-align: right;\">   -0.15327  </td><td style=\"text-align: right;\">    0.114881 </td><td style=\"text-align: right;\">     0.133905 </td><td style=\"text-align: right;\">    0.0343864 </td><td style=\"text-align: right;\">    -0.0146666</td><td style=\"text-align: right;\">    -0.0555384</td><td style=\"text-align: right;\">     0.0646156</td><td style=\"text-align: right;\">   -0.00449437</td><td style=\"text-align: right;\">   -0.0170184 </td><td style=\"text-align: right;\">    0.00993196</td><td style=\"text-align: right;\">    0.161857  </td><td style=\"text-align: right;\">    -0.135882 </td><td style=\"text-align: right;\">     0.0607682</td><td style=\"text-align: right;\">   -0.0760861 </td><td style=\"text-align: right;\">     0.153031 </td><td style=\"text-align: right;\">    -0.12882  </td><td style=\"text-align: right;\">    -0.0528304</td><td style=\"text-align: right;\">    0.00883617</td><td style=\"text-align: right;\">   0.161522   </td><td style=\"text-align: right;\">     0.0537315</td><td style=\"text-align: right;\">    -0.0307756</td><td style=\"text-align: right;\">    -0.16845  </td><td style=\"text-align: right;\">    -0.106047 </td><td style=\"text-align: right;\">    -0.0185733</td><td style=\"text-align: right;\">     0.0681451</td><td style=\"text-align: right;\">    -0.0214403</td><td style=\"text-align: right;\">    -0.177101 </td><td style=\"text-align: right;\">   -0.0794743 </td><td style=\"text-align: right;\">    -0.0503915</td><td style=\"text-align: right;\">     0.0819076</td><td style=\"text-align: right;\">     0.0141233</td><td style=\"text-align: right;\">    -0.0333163</td><td style=\"text-align: right;\">     0.0287794</td><td style=\"text-align: right;\">    0.0179648 </td><td style=\"text-align: right;\">     0.0482332</td><td style=\"text-align: right;\">    0.155102  </td><td style=\"text-align: right;\">     0.168044 </td><td style=\"text-align: right;\">   -0.0282538 </td><td style=\"text-align: right;\">     0.0494723</td><td style=\"text-align: right;\">    0.0190776 </td><td style=\"text-align: right;\">     0.0124077</td><td style=\"text-align: right;\">   0.138764   </td><td style=\"text-align: right;\">    -0.0409255</td><td style=\"text-align: right;\">    -0.0164059</td><td style=\"text-align: right;\">    -0.0163685</td><td style=\"text-align: right;\">   0.0151718  </td><td style=\"text-align: right;\">     0.0461056</td><td style=\"text-align: right;\">    -0.11874  </td><td style=\"text-align: right;\">     0.109858 </td><td style=\"text-align: right;\">    -0.11241  </td><td style=\"text-align: right;\">     0.114286 </td><td style=\"text-align: right;\">    -0.0281859</td><td style=\"text-align: right;\">    0.0545001 </td><td style=\"text-align: right;\">    0.0268419 </td><td style=\"text-align: right;\">    -0.162395 </td><td style=\"text-align: right;\">     0.0204469</td><td style=\"text-align: right;\">    -0.177894 </td><td style=\"text-align: right;\">     0.0897148</td><td style=\"text-align: right;\">    -0.186907 </td><td style=\"text-align: right;\">    0.071404  </td><td style=\"text-align: right;\">    -0.0340401</td><td style=\"text-align: right;\">    -0.0914258</td><td style=\"text-align: right;\">    -0.0645074</td><td style=\"text-align: right;\">    0.0124612 </td><td style=\"text-align: right;\">   -0.0389341 </td><td style=\"text-align: right;\">    0.226507  </td><td style=\"text-align: right;\">    -0.0793582</td><td style=\"text-align: right;\">     0.0334654</td><td style=\"text-align: right;\">   -0.10509   </td><td style=\"text-align: right;\">   -0.269777  </td><td style=\"text-align: right;\">   -0.00277096</td><td style=\"text-align: right;\">     0.140374 </td><td style=\"text-align: right;\">   -0.0998999 </td><td style=\"text-align: right;\">   -0.00618871</td><td style=\"text-align: right;\">     0.0911856</td><td style=\"text-align: right;\">    -0.051469 </td><td style=\"text-align: right;\">     0.185559 </td><td style=\"text-align: right;\">    0.186848  </td><td style=\"text-align: right;\">   0.060983   </td><td style=\"text-align: right;\">     0.032456 </td><td style=\"text-align: right;\">     0.0852476</td><td style=\"text-align: right;\">     0.112178 </td><td style=\"text-align: right;\">    -0.254822 </td><td style=\"text-align: right;\">     0.0503586</td><td style=\"text-align: right;\">    -0.0219921</td><td style=\"text-align: right;\">    0.0322668 </td><td style=\"text-align: right;\">   -0.00086071</td><td style=\"text-align: right;\">   -0.112013  </td><td style=\"text-align: right;\">    0.0847977 </td><td style=\"text-align: right;\">    0.167998  </td><td style=\"text-align: right;\">   -0.0948677 </td><td style=\"text-align: right;\">    -0.268116 </td><td style=\"text-align: right;\">     0.0293645 </td><td style=\"text-align: right;\">      0.0399387</td><td style=\"text-align: right;\">     -0.154187 </td><td style=\"text-align: right;\">      0.0292526</td><td style=\"text-align: right;\">     -0.0293214</td><td style=\"text-align: right;\">      0.0499661</td><td style=\"text-align: right;\">     -0.157216 </td><td style=\"text-align: right;\">    -0.0674522 </td><td style=\"text-align: right;\">     -0.120504 </td><td style=\"text-align: right;\">      0.0532604</td><td style=\"text-align: right;\">     -0.197547 </td><td style=\"text-align: right;\">    -0.0904218 </td><td style=\"text-align: right;\">      -0.160797</td><td style=\"text-align: right;\">     0.00688187</td><td style=\"text-align: right;\">    -0.0476512 </td><td style=\"text-align: right;\">     -0.0542764</td><td style=\"text-align: right;\">      0.127684 </td><td style=\"text-align: right;\">    -0.0593541 </td><td style=\"text-align: right;\">      0.216512 </td><td style=\"text-align: right;\">     -0.1533   </td><td style=\"text-align: right;\">     -0.111966 </td></tr>\n",
              "</tbody>\n",
              "</table>"
            ]
          },
          "metadata": {
            "tags": []
          }
        },
        {
          "output_type": "execute_result",
          "data": {
            "text/plain": [
              ""
            ]
          },
          "metadata": {
            "tags": []
          },
          "execution_count": 45
        }
      ]
    },
    {
      "cell_type": "code",
      "metadata": {
        "id": "TBlAMs3ju_JP",
        "colab_type": "code",
        "colab": {}
      },
      "source": [
        "data_final = data_ext.cbind(headline_vec)"
      ],
      "execution_count": 0,
      "outputs": []
    },
    {
      "cell_type": "code",
      "metadata": {
        "id": "X8mcHU4Mvl7b",
        "colab_type": "code",
        "colab": {}
      },
      "source": [
        "train_data, valid_data = data_final.split_frame(ratios=[0.8])"
      ],
      "execution_count": 0,
      "outputs": []
    },
    {
      "cell_type": "code",
      "metadata": {
        "id": "MeCQZ77FvmBn",
        "colab_type": "code",
        "colab": {
          "base_uri": "https://localhost:8080/",
          "height": 34
        },
        "outputId": "6ffa2b86-1e10-452d-c53a-be54478c1518"
      },
      "source": [
        "train_data.shape"
      ],
      "execution_count": 48,
      "outputs": [
        {
          "output_type": "execute_result",
          "data": {
            "text/plain": [
              "(68649, 245)"
            ]
          },
          "metadata": {
            "tags": []
          },
          "execution_count": 48
        }
      ]
    },
    {
      "cell_type": "code",
      "metadata": {
        "id": "3ElfmnZqvmFi",
        "colab_type": "code",
        "colab": {
          "base_uri": "https://localhost:8080/",
          "height": 34
        },
        "outputId": "2501d1ea-b901-4af8-f347-3ce0787ac5b7"
      },
      "source": [
        "valid_data.shape"
      ],
      "execution_count": 49,
      "outputs": [
        {
          "output_type": "execute_result",
          "data": {
            "text/plain": [
              "(17332, 245)"
            ]
          },
          "metadata": {
            "tags": []
          },
          "execution_count": 49
        }
      ]
    },
    {
      "cell_type": "code",
      "metadata": {
        "id": "CMcVRAc8vmT_",
        "colab_type": "code",
        "colab": {
          "base_uri": "https://localhost:8080/",
          "height": 181
        },
        "outputId": "26be2a68-3ebb-4a35-ba70-d8b958819946"
      },
      "source": [
        "print(train_data['target'].table())\n",
        "print(valid_data['target'].table())"
      ],
      "execution_count": 50,
      "outputs": [
        {
          "output_type": "display_data",
          "data": {
            "text/html": [
              "<table>\n",
              "<thead>\n",
              "<tr><th style=\"text-align: right;\">  target</th><th style=\"text-align: right;\">  Count</th></tr>\n",
              "</thead>\n",
              "<tbody>\n",
              "<tr><td style=\"text-align: right;\">       0</td><td style=\"text-align: right;\">  18741</td></tr>\n",
              "<tr><td style=\"text-align: right;\">       1</td><td style=\"text-align: right;\">  49908</td></tr>\n",
              "</tbody>\n",
              "</table>"
            ]
          },
          "metadata": {
            "tags": []
          }
        },
        {
          "output_type": "stream",
          "text": [
            "\n"
          ],
          "name": "stdout"
        },
        {
          "output_type": "display_data",
          "data": {
            "text/html": [
              "<table>\n",
              "<thead>\n",
              "<tr><th style=\"text-align: right;\">  target</th><th style=\"text-align: right;\">  Count</th></tr>\n",
              "</thead>\n",
              "<tbody>\n",
              "<tr><td style=\"text-align: right;\">       0</td><td style=\"text-align: right;\">   4686</td></tr>\n",
              "<tr><td style=\"text-align: right;\">       1</td><td style=\"text-align: right;\">  12646</td></tr>\n",
              "</tbody>\n",
              "</table>"
            ]
          },
          "metadata": {
            "tags": []
          }
        },
        {
          "output_type": "stream",
          "text": [
            "\n"
          ],
          "name": "stdout"
        }
      ]
    },
    {
      "cell_type": "markdown",
      "metadata": {
        "id": "Is7P6kte1Yg4",
        "colab_type": "text"
      },
      "source": [
        "Buliding Model\n"
      ]
    },
    {
      "cell_type": "code",
      "metadata": {
        "id": "HZf4NWfXvmSP",
        "colab_type": "code",
        "colab": {}
      },
      "source": [
        "#Base model\n",
        "gbm_basemodel = H2OGradientBoostingEstimator(stopping_metric = 'AUC', stopping_tolerance = 0.001,stopping_rounds = 5, score_tree_interval = 10)"
      ],
      "execution_count": 0,
      "outputs": []
    },
    {
      "cell_type": "code",
      "metadata": {
        "id": "rjiHmkNBvmP9",
        "colab_type": "code",
        "colab": {
          "base_uri": "https://localhost:8080/",
          "height": 34
        },
        "outputId": "46634441-0357-4d4a-b35f-7964585e4a78"
      },
      "source": [
        "gbm_basemodel.train(x = review_vec.names, y = 'target', training_frame=train_data, validation_frame = valid_data)"
      ],
      "execution_count": 53,
      "outputs": [
        {
          "output_type": "stream",
          "text": [
            "gbm Model Build progress: |███████████████████████████████████████████████| 100%\n"
          ],
          "name": "stdout"
        }
      ]
    },
    {
      "cell_type": "code",
      "metadata": {
        "id": "F33ivPXwvmNN",
        "colab_type": "code",
        "colab": {
          "base_uri": "https://localhost:8080/",
          "height": 34
        },
        "outputId": "c4024efa-f151-4432-b1dc-7ed50d207ee4"
      },
      "source": [
        "print('Basemodel AUC :' + str(round(gbm_basemodel.auc(valid = True),3)))"
      ],
      "execution_count": 54,
      "outputs": [
        {
          "output_type": "stream",
          "text": [
            "Basemodel AUC :0.878\n"
          ],
          "name": "stdout"
        }
      ]
    },
    {
      "cell_type": "code",
      "metadata": {
        "id": "cXEUbyx2vmLw",
        "colab_type": "code",
        "colab": {
          "base_uri": "https://localhost:8080/",
          "height": 176
        },
        "outputId": "7a429d7f-fb2c-43e0-8ba8-c6e476342b89"
      },
      "source": [
        "gbm_basemodel.confusion_matrix(valid = True)"
      ],
      "execution_count": 55,
      "outputs": [
        {
          "output_type": "stream",
          "text": [
            "\n",
            "Confusion Matrix (Act/Pred) for max f1 @ threshold = 0.507596474922298: \n"
          ],
          "name": "stdout"
        },
        {
          "output_type": "display_data",
          "data": {
            "text/html": [
              "<div>\n",
              "<style scoped>\n",
              "    .dataframe tbody tr th:only-of-type {\n",
              "        vertical-align: middle;\n",
              "    }\n",
              "\n",
              "    .dataframe tbody tr th {\n",
              "        vertical-align: top;\n",
              "    }\n",
              "\n",
              "    .dataframe thead th {\n",
              "        text-align: right;\n",
              "    }\n",
              "</style>\n",
              "<table border=\"1\" class=\"dataframe\">\n",
              "  <thead>\n",
              "    <tr style=\"text-align: right;\">\n",
              "      <th></th>\n",
              "      <th></th>\n",
              "      <th>0</th>\n",
              "      <th>1</th>\n",
              "      <th>Error</th>\n",
              "      <th>Rate</th>\n",
              "    </tr>\n",
              "  </thead>\n",
              "  <tbody>\n",
              "    <tr>\n",
              "      <th>0</th>\n",
              "      <td>0</td>\n",
              "      <td>2408.0</td>\n",
              "      <td>2278.0</td>\n",
              "      <td>0.4861</td>\n",
              "      <td>(2278.0/4686.0)</td>\n",
              "    </tr>\n",
              "    <tr>\n",
              "      <th>1</th>\n",
              "      <td>1</td>\n",
              "      <td>682.0</td>\n",
              "      <td>11964.0</td>\n",
              "      <td>0.0539</td>\n",
              "      <td>(682.0/12646.0)</td>\n",
              "    </tr>\n",
              "    <tr>\n",
              "      <th>2</th>\n",
              "      <td>Total</td>\n",
              "      <td>3090.0</td>\n",
              "      <td>14242.0</td>\n",
              "      <td>0.1708</td>\n",
              "      <td>(2960.0/17332.0)</td>\n",
              "    </tr>\n",
              "  </tbody>\n",
              "</table>\n",
              "</div>"
            ],
            "text/plain": [
              "               0        1   Error               Rate\n",
              "0      0  2408.0   2278.0  0.4861    (2278.0/4686.0)\n",
              "1      1   682.0  11964.0  0.0539    (682.0/12646.0)\n",
              "2  Total  3090.0  14242.0  0.1708   (2960.0/17332.0)"
            ]
          },
          "metadata": {
            "tags": []
          }
        },
        {
          "output_type": "execute_result",
          "data": {
            "text/plain": [
              ""
            ]
          },
          "metadata": {
            "tags": []
          },
          "execution_count": 55
        }
      ]
    },
    {
      "cell_type": "markdown",
      "metadata": {
        "id": "g9Ga56BL2lf8",
        "colab_type": "text"
      },
      "source": [
        "Adding balance class to balance the target variable\n"
      ]
    },
    {
      "cell_type": "code",
      "metadata": {
        "id": "9Xibl7Yrvl-T",
        "colab_type": "code",
        "colab": {
          "base_uri": "https://localhost:8080/",
          "height": 34
        },
        "outputId": "b6266908-0a39-464b-e7a8-9e29db948362"
      },
      "source": [
        "gbm_basemodel_balanced = H2OGradientBoostingEstimator(stopping_metric = 'AUC', stopping_tolerance = 0.001,stopping_rounds = 5, score_tree_interval = 10)\n",
        "gbm_basemodel_balanced.train(x = review_vec.names, y = 'target', training_frame=train_data, validation_frame = valid_data)"
      ],
      "execution_count": 56,
      "outputs": [
        {
          "output_type": "stream",
          "text": [
            "gbm Model Build progress: |███████████████████████████████████████████████| 100%\n"
          ],
          "name": "stdout"
        }
      ]
    },
    {
      "cell_type": "code",
      "metadata": {
        "id": "ePBGqtRLvl5S",
        "colab_type": "code",
        "colab": {
          "base_uri": "https://localhost:8080/",
          "height": 34
        },
        "outputId": "c04cf1e0-6e69-4f0e-c9a3-65e6db2f1b92"
      },
      "source": [
        "print('Basemodel_balanced AUC :' + str(round(gbm_basemodel_balanced.auc(valid = True),3)))"
      ],
      "execution_count": 57,
      "outputs": [
        {
          "output_type": "stream",
          "text": [
            "Basemodel_balanced AUC :0.878\n"
          ],
          "name": "stdout"
        }
      ]
    },
    {
      "cell_type": "code",
      "metadata": {
        "id": "TVUaecBpu_PL",
        "colab_type": "code",
        "colab": {
          "base_uri": "https://localhost:8080/",
          "height": 176
        },
        "outputId": "e6044ea5-db95-4d54-aec5-828509ed257a"
      },
      "source": [
        "gbm_basemodel_balanced.confusion_matrix(valid = True)"
      ],
      "execution_count": 58,
      "outputs": [
        {
          "output_type": "stream",
          "text": [
            "\n",
            "Confusion Matrix (Act/Pred) for max f1 @ threshold = 0.507596474922298: \n"
          ],
          "name": "stdout"
        },
        {
          "output_type": "display_data",
          "data": {
            "text/html": [
              "<div>\n",
              "<style scoped>\n",
              "    .dataframe tbody tr th:only-of-type {\n",
              "        vertical-align: middle;\n",
              "    }\n",
              "\n",
              "    .dataframe tbody tr th {\n",
              "        vertical-align: top;\n",
              "    }\n",
              "\n",
              "    .dataframe thead th {\n",
              "        text-align: right;\n",
              "    }\n",
              "</style>\n",
              "<table border=\"1\" class=\"dataframe\">\n",
              "  <thead>\n",
              "    <tr style=\"text-align: right;\">\n",
              "      <th></th>\n",
              "      <th></th>\n",
              "      <th>0</th>\n",
              "      <th>1</th>\n",
              "      <th>Error</th>\n",
              "      <th>Rate</th>\n",
              "    </tr>\n",
              "  </thead>\n",
              "  <tbody>\n",
              "    <tr>\n",
              "      <th>0</th>\n",
              "      <td>0</td>\n",
              "      <td>2408.0</td>\n",
              "      <td>2278.0</td>\n",
              "      <td>0.4861</td>\n",
              "      <td>(2278.0/4686.0)</td>\n",
              "    </tr>\n",
              "    <tr>\n",
              "      <th>1</th>\n",
              "      <td>1</td>\n",
              "      <td>682.0</td>\n",
              "      <td>11964.0</td>\n",
              "      <td>0.0539</td>\n",
              "      <td>(682.0/12646.0)</td>\n",
              "    </tr>\n",
              "    <tr>\n",
              "      <th>2</th>\n",
              "      <td>Total</td>\n",
              "      <td>3090.0</td>\n",
              "      <td>14242.0</td>\n",
              "      <td>0.1708</td>\n",
              "      <td>(2960.0/17332.0)</td>\n",
              "    </tr>\n",
              "  </tbody>\n",
              "</table>\n",
              "</div>"
            ],
            "text/plain": [
              "               0        1   Error               Rate\n",
              "0      0  2408.0   2278.0  0.4861    (2278.0/4686.0)\n",
              "1      1   682.0  11964.0  0.0539    (682.0/12646.0)\n",
              "2  Total  3090.0  14242.0  0.1708   (2960.0/17332.0)"
            ]
          },
          "metadata": {
            "tags": []
          }
        },
        {
          "output_type": "execute_result",
          "data": {
            "text/plain": [
              ""
            ]
          },
          "metadata": {
            "tags": []
          },
          "execution_count": 58
        }
      ]
    },
    {
      "cell_type": "markdown",
      "metadata": {
        "id": "4IDq4QrL3QvI",
        "colab_type": "text"
      },
      "source": [
        "Adding votes and headlines \n"
      ]
    },
    {
      "cell_type": "code",
      "metadata": {
        "id": "xtzKdjEc3WAR",
        "colab_type": "code",
        "colab": {
          "base_uri": "https://localhost:8080/",
          "height": 34
        },
        "outputId": "a3b32199-a155-472a-b81a-d4353826c0c9"
      },
      "source": [
        "gbm_rvh = H2OGradientBoostingEstimator(stopping_metric = 'AUC', stopping_tolerance = 0.001,stopping_rounds = 5, score_tree_interval = 10)\n",
        "gbm_rvh.train(x =['votes'] + review_vec.names, y = 'target', training_frame=train_data, validation_frame = valid_data)"
      ],
      "execution_count": 60,
      "outputs": [
        {
          "output_type": "stream",
          "text": [
            "gbm Model Build progress: |███████████████████████████████████████████████| 100%\n"
          ],
          "name": "stdout"
        }
      ]
    },
    {
      "cell_type": "code",
      "metadata": {
        "id": "jyaXEkKh3WDz",
        "colab_type": "code",
        "colab": {
          "base_uri": "https://localhost:8080/",
          "height": 34
        },
        "outputId": "b0e7dd7c-0b95-43ce-c600-2ef94c10ca68"
      },
      "source": [
        "print('gbm_rvh AUC :' + str(round(gbm_rvh.auc(valid = True),3)))"
      ],
      "execution_count": 62,
      "outputs": [
        {
          "output_type": "stream",
          "text": [
            "Basemodel_rvh AUC :0.877\n"
          ],
          "name": "stdout"
        }
      ]
    },
    {
      "cell_type": "code",
      "metadata": {
        "id": "z3hAe1Lo3WJP",
        "colab_type": "code",
        "colab": {
          "base_uri": "https://localhost:8080/",
          "height": 176
        },
        "outputId": "cce4aa96-7a43-4813-8f41-2a3975e2088e"
      },
      "source": [
        "gbm_rvh.confusion_matrix(valid=True)"
      ],
      "execution_count": 63,
      "outputs": [
        {
          "output_type": "stream",
          "text": [
            "\n",
            "Confusion Matrix (Act/Pred) for max f1 @ threshold = 0.4793484210001646: \n"
          ],
          "name": "stdout"
        },
        {
          "output_type": "display_data",
          "data": {
            "text/html": [
              "<div>\n",
              "<style scoped>\n",
              "    .dataframe tbody tr th:only-of-type {\n",
              "        vertical-align: middle;\n",
              "    }\n",
              "\n",
              "    .dataframe tbody tr th {\n",
              "        vertical-align: top;\n",
              "    }\n",
              "\n",
              "    .dataframe thead th {\n",
              "        text-align: right;\n",
              "    }\n",
              "</style>\n",
              "<table border=\"1\" class=\"dataframe\">\n",
              "  <thead>\n",
              "    <tr style=\"text-align: right;\">\n",
              "      <th></th>\n",
              "      <th></th>\n",
              "      <th>0</th>\n",
              "      <th>1</th>\n",
              "      <th>Error</th>\n",
              "      <th>Rate</th>\n",
              "    </tr>\n",
              "  </thead>\n",
              "  <tbody>\n",
              "    <tr>\n",
              "      <th>0</th>\n",
              "      <td>0</td>\n",
              "      <td>2259.0</td>\n",
              "      <td>2427.0</td>\n",
              "      <td>0.5179</td>\n",
              "      <td>(2427.0/4686.0)</td>\n",
              "    </tr>\n",
              "    <tr>\n",
              "      <th>1</th>\n",
              "      <td>1</td>\n",
              "      <td>545.0</td>\n",
              "      <td>12101.0</td>\n",
              "      <td>0.0431</td>\n",
              "      <td>(545.0/12646.0)</td>\n",
              "    </tr>\n",
              "    <tr>\n",
              "      <th>2</th>\n",
              "      <td>Total</td>\n",
              "      <td>2804.0</td>\n",
              "      <td>14528.0</td>\n",
              "      <td>0.1715</td>\n",
              "      <td>(2972.0/17332.0)</td>\n",
              "    </tr>\n",
              "  </tbody>\n",
              "</table>\n",
              "</div>"
            ],
            "text/plain": [
              "               0        1   Error               Rate\n",
              "0      0  2259.0   2427.0  0.5179    (2427.0/4686.0)\n",
              "1      1   545.0  12101.0  0.0431    (545.0/12646.0)\n",
              "2  Total  2804.0  14528.0  0.1715   (2972.0/17332.0)"
            ]
          },
          "metadata": {
            "tags": []
          }
        },
        {
          "output_type": "execute_result",
          "data": {
            "text/plain": [
              ""
            ]
          },
          "metadata": {
            "tags": []
          },
          "execution_count": 63
        }
      ]
    },
    {
      "cell_type": "code",
      "metadata": {
        "id": "XOpj8Y-D3WSK",
        "colab_type": "code",
        "colab": {
          "base_uri": "https://localhost:8080/",
          "height": 34
        },
        "outputId": "e91be818-a931-4cc3-d751-c45da0e7ce1a"
      },
      "source": [
        "gbm_all_cols = H2OGradientBoostingEstimator(stopping_metric = 'AUC', stopping_tolerance = 0.001,stopping_rounds = 5, score_tree_interval = 10)\n",
        "gbm_all_cols.train(x =['votes'] +headline_vec.names + review_vec.names, y = 'target', training_frame=train_data, validation_frame = valid_data)"
      ],
      "execution_count": 64,
      "outputs": [
        {
          "output_type": "stream",
          "text": [
            "gbm Model Build progress: |███████████████████████████████████████████████| 100%\n"
          ],
          "name": "stdout"
        }
      ]
    },
    {
      "cell_type": "code",
      "metadata": {
        "id": "eqcxqiib3WQq",
        "colab_type": "code",
        "colab": {
          "base_uri": "https://localhost:8080/",
          "height": 34
        },
        "outputId": "b0c27665-c54d-4fa1-fdb2-fe9996cb424e"
      },
      "source": [
        "print('all_columns AUC :' + str(round(gbm_all_cols.auc(valid = True),3)))"
      ],
      "execution_count": 66,
      "outputs": [
        {
          "output_type": "stream",
          "text": [
            " AUC :0.924\n"
          ],
          "name": "stdout"
        }
      ]
    },
    {
      "cell_type": "code",
      "metadata": {
        "id": "y3mxPoLz3WNI",
        "colab_type": "code",
        "colab": {
          "base_uri": "https://localhost:8080/",
          "height": 176
        },
        "outputId": "17467c28-683e-40ef-e32c-77f5144d1a0f"
      },
      "source": [
        "gbm_all_cols.confusion_matrix(valid=True)"
      ],
      "execution_count": 67,
      "outputs": [
        {
          "output_type": "stream",
          "text": [
            "\n",
            "Confusion Matrix (Act/Pred) for max f1 @ threshold = 0.5141929781528712: \n"
          ],
          "name": "stdout"
        },
        {
          "output_type": "display_data",
          "data": {
            "text/html": [
              "<div>\n",
              "<style scoped>\n",
              "    .dataframe tbody tr th:only-of-type {\n",
              "        vertical-align: middle;\n",
              "    }\n",
              "\n",
              "    .dataframe tbody tr th {\n",
              "        vertical-align: top;\n",
              "    }\n",
              "\n",
              "    .dataframe thead th {\n",
              "        text-align: right;\n",
              "    }\n",
              "</style>\n",
              "<table border=\"1\" class=\"dataframe\">\n",
              "  <thead>\n",
              "    <tr style=\"text-align: right;\">\n",
              "      <th></th>\n",
              "      <th></th>\n",
              "      <th>0</th>\n",
              "      <th>1</th>\n",
              "      <th>Error</th>\n",
              "      <th>Rate</th>\n",
              "    </tr>\n",
              "  </thead>\n",
              "  <tbody>\n",
              "    <tr>\n",
              "      <th>0</th>\n",
              "      <td>0</td>\n",
              "      <td>3016.0</td>\n",
              "      <td>1670.0</td>\n",
              "      <td>0.3564</td>\n",
              "      <td>(1670.0/4686.0)</td>\n",
              "    </tr>\n",
              "    <tr>\n",
              "      <th>1</th>\n",
              "      <td>1</td>\n",
              "      <td>587.0</td>\n",
              "      <td>12059.0</td>\n",
              "      <td>0.0464</td>\n",
              "      <td>(587.0/12646.0)</td>\n",
              "    </tr>\n",
              "    <tr>\n",
              "      <th>2</th>\n",
              "      <td>Total</td>\n",
              "      <td>3603.0</td>\n",
              "      <td>13729.0</td>\n",
              "      <td>0.1302</td>\n",
              "      <td>(2257.0/17332.0)</td>\n",
              "    </tr>\n",
              "  </tbody>\n",
              "</table>\n",
              "</div>"
            ],
            "text/plain": [
              "               0        1   Error               Rate\n",
              "0      0  3016.0   1670.0  0.3564    (1670.0/4686.0)\n",
              "1      1   587.0  12059.0  0.0464    (587.0/12646.0)\n",
              "2  Total  3603.0  13729.0  0.1302   (2257.0/17332.0)"
            ]
          },
          "metadata": {
            "tags": []
          }
        },
        {
          "output_type": "execute_result",
          "data": {
            "text/plain": [
              ""
            ]
          },
          "metadata": {
            "tags": []
          },
          "execution_count": 67
        }
      ]
    },
    {
      "cell_type": "code",
      "metadata": {
        "id": "3921cpam3WHS",
        "colab_type": "code",
        "colab": {
          "base_uri": "https://localhost:8080/",
          "height": 34
        },
        "outputId": "d3a11f9e-0e31-46ca-b73f-e9c2b4c4c1f8"
      },
      "source": [
        "gbm_wo_votes = H2OGradientBoostingEstimator(stopping_metric = 'AUC', stopping_tolerance = 0.001,stopping_rounds = 5, score_tree_interval = 10)\n",
        "gbm_wo_votes.train(x =headline_vec.names + review_vec.names, y = 'target', training_frame=train_data, validation_frame = valid_data)"
      ],
      "execution_count": 68,
      "outputs": [
        {
          "output_type": "stream",
          "text": [
            "gbm Model Build progress: |███████████████████████████████████████████████| 100%\n"
          ],
          "name": "stdout"
        }
      ]
    },
    {
      "cell_type": "code",
      "metadata": {
        "id": "8fSuSOtb3V-o",
        "colab_type": "code",
        "colab": {
          "base_uri": "https://localhost:8080/",
          "height": 34
        },
        "outputId": "d0c7dec7-0a47-4e83-db8d-068fd95a5889"
      },
      "source": [
        "print('AUC excluding votes column :' + str(round(gbm_wo_votes.auc(valid = True),3)))"
      ],
      "execution_count": 69,
      "outputs": [
        {
          "output_type": "stream",
          "text": [
            "AUC excluding votes column :0.924\n"
          ],
          "name": "stdout"
        }
      ]
    },
    {
      "cell_type": "code",
      "metadata": {
        "id": "vtBCfiYq5mXL",
        "colab_type": "code",
        "colab": {
          "base_uri": "https://localhost:8080/",
          "height": 459
        },
        "outputId": "0ff542ad-6269-499b-84bc-08eea74fd111"
      },
      "source": [
        "gbm_wo_votes.score_history()"
      ],
      "execution_count": 70,
      "outputs": [
        {
          "output_type": "execute_result",
          "data": {
            "text/html": [
              "<div>\n",
              "<style scoped>\n",
              "    .dataframe tbody tr th:only-of-type {\n",
              "        vertical-align: middle;\n",
              "    }\n",
              "\n",
              "    .dataframe tbody tr th {\n",
              "        vertical-align: top;\n",
              "    }\n",
              "\n",
              "    .dataframe thead th {\n",
              "        text-align: right;\n",
              "    }\n",
              "</style>\n",
              "<table border=\"1\" class=\"dataframe\">\n",
              "  <thead>\n",
              "    <tr style=\"text-align: right;\">\n",
              "      <th></th>\n",
              "      <th></th>\n",
              "      <th>timestamp</th>\n",
              "      <th>duration</th>\n",
              "      <th>number_of_trees</th>\n",
              "      <th>training_rmse</th>\n",
              "      <th>training_logloss</th>\n",
              "      <th>training_auc</th>\n",
              "      <th>training_pr_auc</th>\n",
              "      <th>training_lift</th>\n",
              "      <th>training_classification_error</th>\n",
              "      <th>validation_rmse</th>\n",
              "      <th>validation_logloss</th>\n",
              "      <th>validation_auc</th>\n",
              "      <th>validation_pr_auc</th>\n",
              "      <th>validation_lift</th>\n",
              "      <th>validation_classification_error</th>\n",
              "    </tr>\n",
              "  </thead>\n",
              "  <tbody>\n",
              "    <tr>\n",
              "      <th>0</th>\n",
              "      <td></td>\n",
              "      <td>2020-05-01 11:00:29</td>\n",
              "      <td>0.014 sec</td>\n",
              "      <td>0.0</td>\n",
              "      <td>0.445500</td>\n",
              "      <td>0.586217</td>\n",
              "      <td>0.500000</td>\n",
              "      <td>0.727003</td>\n",
              "      <td>1.000000</td>\n",
              "      <td>0.272997</td>\n",
              "      <td>0.444157</td>\n",
              "      <td>0.583641</td>\n",
              "      <td>0.500000</td>\n",
              "      <td>0.729633</td>\n",
              "      <td>1.000000</td>\n",
              "      <td>0.270367</td>\n",
              "    </tr>\n",
              "    <tr>\n",
              "      <th>1</th>\n",
              "      <td></td>\n",
              "      <td>2020-05-01 11:00:39</td>\n",
              "      <td>9.738 sec</td>\n",
              "      <td>10.0</td>\n",
              "      <td>0.363910</td>\n",
              "      <td>0.426213</td>\n",
              "      <td>0.894429</td>\n",
              "      <td>0.954370</td>\n",
              "      <td>1.373055</td>\n",
              "      <td>0.154918</td>\n",
              "      <td>0.364061</td>\n",
              "      <td>0.426634</td>\n",
              "      <td>0.889312</td>\n",
              "      <td>0.952520</td>\n",
              "      <td>1.370552</td>\n",
              "      <td>0.158147</td>\n",
              "    </tr>\n",
              "    <tr>\n",
              "      <th>2</th>\n",
              "      <td></td>\n",
              "      <td>2020-05-01 11:00:49</td>\n",
              "      <td>19.521 sec</td>\n",
              "      <td>20.0</td>\n",
              "      <td>0.333517</td>\n",
              "      <td>0.367215</td>\n",
              "      <td>0.912941</td>\n",
              "      <td>0.962983</td>\n",
              "      <td>1.375511</td>\n",
              "      <td>0.139405</td>\n",
              "      <td>0.336316</td>\n",
              "      <td>0.371727</td>\n",
              "      <td>0.905495</td>\n",
              "      <td>0.959980</td>\n",
              "      <td>1.370552</td>\n",
              "      <td>0.144588</td>\n",
              "    </tr>\n",
              "    <tr>\n",
              "      <th>3</th>\n",
              "      <td></td>\n",
              "      <td>2020-05-01 11:00:59</td>\n",
              "      <td>29.390 sec</td>\n",
              "      <td>30.0</td>\n",
              "      <td>0.317128</td>\n",
              "      <td>0.334590</td>\n",
              "      <td>0.923708</td>\n",
              "      <td>0.967810</td>\n",
              "      <td>1.375511</td>\n",
              "      <td>0.129208</td>\n",
              "      <td>0.322611</td>\n",
              "      <td>0.343092</td>\n",
              "      <td>0.914118</td>\n",
              "      <td>0.964069</td>\n",
              "      <td>1.370552</td>\n",
              "      <td>0.139107</td>\n",
              "    </tr>\n",
              "    <tr>\n",
              "      <th>4</th>\n",
              "      <td></td>\n",
              "      <td>2020-05-01 11:01:10</td>\n",
              "      <td>40.885 sec</td>\n",
              "      <td>40.0</td>\n",
              "      <td>0.306213</td>\n",
              "      <td>0.312914</td>\n",
              "      <td>0.931211</td>\n",
              "      <td>0.971120</td>\n",
              "      <td>1.375511</td>\n",
              "      <td>0.121895</td>\n",
              "      <td>0.314318</td>\n",
              "      <td>0.325310</td>\n",
              "      <td>0.919975</td>\n",
              "      <td>0.966754</td>\n",
              "      <td>1.370552</td>\n",
              "      <td>0.132818</td>\n",
              "    </tr>\n",
              "    <tr>\n",
              "      <th>5</th>\n",
              "      <td></td>\n",
              "      <td>2020-05-01 11:01:21</td>\n",
              "      <td>51.173 sec</td>\n",
              "      <td>50.0</td>\n",
              "      <td>0.298066</td>\n",
              "      <td>0.297182</td>\n",
              "      <td>0.937115</td>\n",
              "      <td>0.973745</td>\n",
              "      <td>1.375511</td>\n",
              "      <td>0.115879</td>\n",
              "      <td>0.309041</td>\n",
              "      <td>0.313837</td>\n",
              "      <td>0.923722</td>\n",
              "      <td>0.968450</td>\n",
              "      <td>1.370552</td>\n",
              "      <td>0.130395</td>\n",
              "    </tr>\n",
              "  </tbody>\n",
              "</table>\n",
              "</div>"
            ],
            "text/plain": [
              "               timestamp  ... validation_lift  validation_classification_error\n",
              "0    2020-05-01 11:00:29  ...        1.000000                         0.270367\n",
              "1    2020-05-01 11:00:39  ...        1.370552                         0.158147\n",
              "2    2020-05-01 11:00:49  ...        1.370552                         0.144588\n",
              "3    2020-05-01 11:00:59  ...        1.370552                         0.139107\n",
              "4    2020-05-01 11:01:10  ...        1.370552                         0.132818\n",
              "5    2020-05-01 11:01:21  ...        1.370552                         0.130395\n",
              "\n",
              "[6 rows x 16 columns]"
            ]
          },
          "metadata": {
            "tags": []
          },
          "execution_count": 70
        }
      ]
    },
    {
      "cell_type": "code",
      "metadata": {
        "id": "_o02QOKB5mf2",
        "colab_type": "code",
        "colab": {
          "base_uri": "https://localhost:8080/",
          "height": 34
        },
        "outputId": "6e08f5ef-206c-4878-a8dd-9173ba6d5248"
      },
      "source": [
        "gbm_model = H2OGradientBoostingEstimator(ntrees = 100, learn_rate = 0.1, max_depth = 6, stopping_metric = 'AUC', stopping_tolerance = 0.001,stopping_rounds = 5, score_tree_interval = 10)\n",
        "gbm_model.train(x =headline_vec.names + review_vec.names, y = 'target', training_frame=train_data, validation_frame = valid_data)"
      ],
      "execution_count": 71,
      "outputs": [
        {
          "output_type": "stream",
          "text": [
            "gbm Model Build progress: |███████████████████████████████████████████████| 100%\n"
          ],
          "name": "stdout"
        }
      ]
    },
    {
      "cell_type": "code",
      "metadata": {
        "id": "Q5zLSIB75mjj",
        "colab_type": "code",
        "colab": {
          "base_uri": "https://localhost:8080/",
          "height": 34
        },
        "outputId": "19a978e7-1a53-4593-c575-949c80a2c472"
      },
      "source": [
        "print('AUC:' + str(round(gbm_model.auc(valid = True),3)))"
      ],
      "execution_count": 74,
      "outputs": [
        {
          "output_type": "stream",
          "text": [
            "AUC:0.937\n"
          ],
          "name": "stdout"
        }
      ]
    },
    {
      "cell_type": "code",
      "metadata": {
        "id": "_A8uQged5mdR",
        "colab_type": "code",
        "colab": {
          "base_uri": "https://localhost:8080/",
          "height": 176
        },
        "outputId": "3bc9a7ac-5dda-4dfb-b0a0-4fe79887c1d5"
      },
      "source": [
        "gbm_model.confusion_matrix(valid= True)"
      ],
      "execution_count": 76,
      "outputs": [
        {
          "output_type": "stream",
          "text": [
            "\n",
            "Confusion Matrix (Act/Pred) for max f1 @ threshold = 0.5022445782698665: \n"
          ],
          "name": "stdout"
        },
        {
          "output_type": "display_data",
          "data": {
            "text/html": [
              "<div>\n",
              "<style scoped>\n",
              "    .dataframe tbody tr th:only-of-type {\n",
              "        vertical-align: middle;\n",
              "    }\n",
              "\n",
              "    .dataframe tbody tr th {\n",
              "        vertical-align: top;\n",
              "    }\n",
              "\n",
              "    .dataframe thead th {\n",
              "        text-align: right;\n",
              "    }\n",
              "</style>\n",
              "<table border=\"1\" class=\"dataframe\">\n",
              "  <thead>\n",
              "    <tr style=\"text-align: right;\">\n",
              "      <th></th>\n",
              "      <th></th>\n",
              "      <th>0</th>\n",
              "      <th>1</th>\n",
              "      <th>Error</th>\n",
              "      <th>Rate</th>\n",
              "    </tr>\n",
              "  </thead>\n",
              "  <tbody>\n",
              "    <tr>\n",
              "      <th>0</th>\n",
              "      <td>0</td>\n",
              "      <td>3262.0</td>\n",
              "      <td>1424.0</td>\n",
              "      <td>0.3039</td>\n",
              "      <td>(1424.0/4686.0)</td>\n",
              "    </tr>\n",
              "    <tr>\n",
              "      <th>1</th>\n",
              "      <td>1</td>\n",
              "      <td>625.0</td>\n",
              "      <td>12021.0</td>\n",
              "      <td>0.0494</td>\n",
              "      <td>(625.0/12646.0)</td>\n",
              "    </tr>\n",
              "    <tr>\n",
              "      <th>2</th>\n",
              "      <td>Total</td>\n",
              "      <td>3887.0</td>\n",
              "      <td>13445.0</td>\n",
              "      <td>0.1182</td>\n",
              "      <td>(2049.0/17332.0)</td>\n",
              "    </tr>\n",
              "  </tbody>\n",
              "</table>\n",
              "</div>"
            ],
            "text/plain": [
              "               0        1   Error               Rate\n",
              "0      0  3262.0   1424.0  0.3039    (1424.0/4686.0)\n",
              "1      1   625.0  12021.0  0.0494    (625.0/12646.0)\n",
              "2  Total  3887.0  13445.0  0.1182   (2049.0/17332.0)"
            ]
          },
          "metadata": {
            "tags": []
          }
        },
        {
          "output_type": "execute_result",
          "data": {
            "text/plain": [
              ""
            ]
          },
          "metadata": {
            "tags": []
          },
          "execution_count": 76
        }
      ]
    },
    {
      "cell_type": "code",
      "metadata": {
        "id": "GpfTpApw5mb4",
        "colab_type": "code",
        "colab": {
          "base_uri": "https://localhost:8080/",
          "height": 612
        },
        "outputId": "686c9efe-ecb5-4ecd-d877-508c2d7dd81a"
      },
      "source": [
        "gbm_model.varimp_plot()"
      ],
      "execution_count": 77,
      "outputs": [
        {
          "output_type": "display_data",
          "data": {
            "image/png": "[encoded data removed]",
            "text/plain": [
              "<Figure size 1008x720 with 1 Axes>"
            ]
          },
          "metadata": {
            "tags": [],
            "needs_background": "light"
          }
        }
      ]
    },
    {
      "cell_type": "markdown",
      "metadata": {
        "id": "7DfmB-x57P6J",
        "colab_type": "text"
      },
      "source": [
        "Hyperparameter tuning\n"
      ]
    },
    {
      "cell_type": "code",
      "metadata": {
        "id": "e96qDUPw5mVq",
        "colab_type": "code",
        "colab": {}
      },
      "source": [
        "ntrees_options = [100,200,500,1000]\n",
        "max_depth_options = [5,6,7,8]\n",
        "learn_rate_options = [0.01, 0.05, 0.1, 0.2]"
      ],
      "execution_count": 0,
      "outputs": []
    },
    {
      "cell_type": "code",
      "metadata": {
        "id": "h9tSIKK_5mT5",
        "colab_type": "code",
        "colab": {}
      },
      "source": [
        "hyper_parameters = {'ntrees': ntrees_options, 'max_depth': max_depth_options, 'learn_rate': learn_rate_options}\n",
        "search_criteria = {'strategy':'RandomDiscrete','max_models':4}"
      ],
      "execution_count": 0,
      "outputs": []
    },
    {
      "cell_type": "code",
      "metadata": {
        "id": "LPIGGBF-5mRl",
        "colab_type": "code",
        "colab": {}
      },
      "source": [
        "from h2o.grid.grid_search import H2OGridSearch\n",
        "grid_search = H2OGridSearch(H2OGradientBoostingEstimator, hyper_params = hyper_parameters, search_criteria = search_criteria)"
      ],
      "execution_count": 0,
      "outputs": []
    },
    {
      "cell_type": "code",
      "metadata": {
        "id": "Ft7exlX73V73",
        "colab_type": "code",
        "colab": {
          "base_uri": "https://localhost:8080/",
          "height": 34
        },
        "outputId": "575d763c-eb1c-49f3-ce5c-a8bd77898613"
      },
      "source": [
        "grid_search.train(x =headline_vec.names+review_vec.names, y = 'target', training_frame=train_data, validation_frame = valid_data)"
      ],
      "execution_count": 93,
      "outputs": [
        {
          "output_type": "stream",
          "text": [
            "gbm Grid Build progress: |████████████████████████████████████████████████| 100%\n"
          ],
          "name": "stdout"
        }
      ]
    },
    {
      "cell_type": "code",
      "metadata": {
        "id": "RfLyW_z_u_E9",
        "colab_type": "code",
        "colab": {
          "base_uri": "https://localhost:8080/",
          "height": 153
        },
        "outputId": "1730dc4c-b586-4956-927b-16a2a367915b"
      },
      "source": [
        "print(grid_search.get_grid(sort_by= 'auc', decreasing= True))"
      ],
      "execution_count": 94,
      "outputs": [
        {
          "output_type": "stream",
          "text": [
            "     ...                 auc\n",
            "0    ...  0.9441004779075828\n",
            "1    ...  0.9411859156414579\n",
            "2    ...  0.9369902939555872\n",
            "3    ...  0.9106036626643822\n",
            "\n",
            "[4 rows x 6 columns]\n",
            "\n"
          ],
          "name": "stdout"
        }
      ]
    },
    {
      "cell_type": "code",
      "metadata": {
        "id": "MNRh_DjSu-ux",
        "colab_type": "code",
        "colab": {
          "base_uri": "https://localhost:8080/",
          "height": 1000
        },
        "outputId": "49656eea-0d84-4892-a8ce-132f3bac145e"
      },
      "source": [
        "grid_search.models[0]"
      ],
      "execution_count": 95,
      "outputs": [
        {
          "output_type": "stream",
          "text": [
            "Model Details\n",
            "=============\n",
            "H2OGradientBoostingEstimator :  Gradient Boosting Machine\n",
            "Model Key:  Grid_GBM_py_384_sid_82c8_model_python_1588323961238_89_model_1\n",
            "\n",
            "\n",
            "Model Summary: \n"
          ],
          "name": "stdout"
        },
        {
          "output_type": "display_data",
          "data": {
            "text/html": [
              "<div>\n",
              "<style scoped>\n",
              "    .dataframe tbody tr th:only-of-type {\n",
              "        vertical-align: middle;\n",
              "    }\n",
              "\n",
              "    .dataframe tbody tr th {\n",
              "        vertical-align: top;\n",
              "    }\n",
              "\n",
              "    .dataframe thead th {\n",
              "        text-align: right;\n",
              "    }\n",
              "</style>\n",
              "<table border=\"1\" class=\"dataframe\">\n",
              "  <thead>\n",
              "    <tr style=\"text-align: right;\">\n",
              "      <th></th>\n",
              "      <th></th>\n",
              "      <th>number_of_trees</th>\n",
              "      <th>number_of_internal_trees</th>\n",
              "      <th>model_size_in_bytes</th>\n",
              "      <th>min_depth</th>\n",
              "      <th>max_depth</th>\n",
              "      <th>mean_depth</th>\n",
              "      <th>min_leaves</th>\n",
              "      <th>max_leaves</th>\n",
              "      <th>mean_leaves</th>\n",
              "    </tr>\n",
              "  </thead>\n",
              "  <tbody>\n",
              "    <tr>\n",
              "      <th>0</th>\n",
              "      <td></td>\n",
              "      <td>500.0</td>\n",
              "      <td>500.0</td>\n",
              "      <td>721269.0</td>\n",
              "      <td>7.0</td>\n",
              "      <td>7.0</td>\n",
              "      <td>7.0</td>\n",
              "      <td>71.0</td>\n",
              "      <td>128.0</td>\n",
              "      <td>110.252</td>\n",
              "    </tr>\n",
              "  </tbody>\n",
              "</table>\n",
              "</div>"
            ],
            "text/plain": [
              "     number_of_trees  ...  max_leaves  mean_leaves\n",
              "0              500.0  ...       128.0      110.252\n",
              "\n",
              "[1 rows x 10 columns]"
            ]
          },
          "metadata": {
            "tags": []
          }
        },
        {
          "output_type": "stream",
          "text": [
            "\n",
            "\n",
            "ModelMetricsBinomial: gbm\n",
            "** Reported on train data. **\n",
            "\n",
            "MSE: 0.018551008583525787\n",
            "RMSE: 0.13620208729504032\n",
            "LogLoss: 0.08943472835967435\n",
            "Mean Per-Class Error: 0.015278860662447213\n",
            "AUC: 0.9984602788067134\n",
            "AUCPR: 0.9993765861051718\n",
            "Gini: 0.9969205576134268\n",
            "\n",
            "Confusion Matrix (Act/Pred) for max f1 @ threshold = 0.5571009193361358: \n"
          ],
          "name": "stdout"
        },
        {
          "output_type": "display_data",
          "data": {
            "text/html": [
              "<div>\n",
              "<style scoped>\n",
              "    .dataframe tbody tr th:only-of-type {\n",
              "        vertical-align: middle;\n",
              "    }\n",
              "\n",
              "    .dataframe tbody tr th {\n",
              "        vertical-align: top;\n",
              "    }\n",
              "\n",
              "    .dataframe thead th {\n",
              "        text-align: right;\n",
              "    }\n",
              "</style>\n",
              "<table border=\"1\" class=\"dataframe\">\n",
              "  <thead>\n",
              "    <tr style=\"text-align: right;\">\n",
              "      <th></th>\n",
              "      <th></th>\n",
              "      <th>0</th>\n",
              "      <th>1</th>\n",
              "      <th>Error</th>\n",
              "      <th>Rate</th>\n",
              "    </tr>\n",
              "  </thead>\n",
              "  <tbody>\n",
              "    <tr>\n",
              "      <th>0</th>\n",
              "      <td>0</td>\n",
              "      <td>18182.0</td>\n",
              "      <td>559.0</td>\n",
              "      <td>0.0298</td>\n",
              "      <td>(559.0/18741.0)</td>\n",
              "    </tr>\n",
              "    <tr>\n",
              "      <th>1</th>\n",
              "      <td>1</td>\n",
              "      <td>307.0</td>\n",
              "      <td>49601.0</td>\n",
              "      <td>0.0062</td>\n",
              "      <td>(307.0/49908.0)</td>\n",
              "    </tr>\n",
              "    <tr>\n",
              "      <th>2</th>\n",
              "      <td>Total</td>\n",
              "      <td>18489.0</td>\n",
              "      <td>50160.0</td>\n",
              "      <td>0.0126</td>\n",
              "      <td>(866.0/68649.0)</td>\n",
              "    </tr>\n",
              "  </tbody>\n",
              "</table>\n",
              "</div>"
            ],
            "text/plain": [
              "                0        1   Error              Rate\n",
              "0      0  18182.0    559.0  0.0298   (559.0/18741.0)\n",
              "1      1    307.0  49601.0  0.0062   (307.0/49908.0)\n",
              "2  Total  18489.0  50160.0  0.0126   (866.0/68649.0)"
            ]
          },
          "metadata": {
            "tags": []
          }
        },
        {
          "output_type": "stream",
          "text": [
            "\n",
            "Maximum Metrics: Maximum metrics at their respective thresholds\n"
          ],
          "name": "stdout"
        },
        {
          "output_type": "display_data",
          "data": {
            "text/html": [
              "<div>\n",
              "<style scoped>\n",
              "    .dataframe tbody tr th:only-of-type {\n",
              "        vertical-align: middle;\n",
              "    }\n",
              "\n",
              "    .dataframe tbody tr th {\n",
              "        vertical-align: top;\n",
              "    }\n",
              "\n",
              "    .dataframe thead th {\n",
              "        text-align: right;\n",
              "    }\n",
              "</style>\n",
              "<table border=\"1\" class=\"dataframe\">\n",
              "  <thead>\n",
              "    <tr style=\"text-align: right;\">\n",
              "      <th></th>\n",
              "      <th>metric</th>\n",
              "      <th>threshold</th>\n",
              "      <th>value</th>\n",
              "      <th>idx</th>\n",
              "    </tr>\n",
              "  </thead>\n",
              "  <tbody>\n",
              "    <tr>\n",
              "      <th>0</th>\n",
              "      <td>max f1</td>\n",
              "      <td>0.557101</td>\n",
              "      <td>0.991346</td>\n",
              "      <td>202.0</td>\n",
              "    </tr>\n",
              "    <tr>\n",
              "      <th>1</th>\n",
              "      <td>max f2</td>\n",
              "      <td>0.490953</td>\n",
              "      <td>0.993693</td>\n",
              "      <td>215.0</td>\n",
              "    </tr>\n",
              "    <tr>\n",
              "      <th>2</th>\n",
              "      <td>max f0point5</td>\n",
              "      <td>0.675165</td>\n",
              "      <td>0.992488</td>\n",
              "      <td>172.0</td>\n",
              "    </tr>\n",
              "    <tr>\n",
              "      <th>3</th>\n",
              "      <td>max accuracy</td>\n",
              "      <td>0.557101</td>\n",
              "      <td>0.987385</td>\n",
              "      <td>202.0</td>\n",
              "    </tr>\n",
              "    <tr>\n",
              "      <th>4</th>\n",
              "      <td>max precision</td>\n",
              "      <td>0.998843</td>\n",
              "      <td>1.000000</td>\n",
              "      <td>0.0</td>\n",
              "    </tr>\n",
              "    <tr>\n",
              "      <th>5</th>\n",
              "      <td>max recall</td>\n",
              "      <td>0.052679</td>\n",
              "      <td>1.000000</td>\n",
              "      <td>365.0</td>\n",
              "    </tr>\n",
              "    <tr>\n",
              "      <th>6</th>\n",
              "      <td>max specificity</td>\n",
              "      <td>0.998843</td>\n",
              "      <td>1.000000</td>\n",
              "      <td>0.0</td>\n",
              "    </tr>\n",
              "    <tr>\n",
              "      <th>7</th>\n",
              "      <td>max absolute_mcc</td>\n",
              "      <td>0.557101</td>\n",
              "      <td>0.968127</td>\n",
              "      <td>202.0</td>\n",
              "    </tr>\n",
              "    <tr>\n",
              "      <th>8</th>\n",
              "      <td>max min_per_class_accuracy</td>\n",
              "      <td>0.659903</td>\n",
              "      <td>0.984612</td>\n",
              "      <td>176.0</td>\n",
              "    </tr>\n",
              "    <tr>\n",
              "      <th>9</th>\n",
              "      <td>max mean_per_class_accuracy</td>\n",
              "      <td>0.671406</td>\n",
              "      <td>0.984721</td>\n",
              "      <td>173.0</td>\n",
              "    </tr>\n",
              "    <tr>\n",
              "      <th>10</th>\n",
              "      <td>max tns</td>\n",
              "      <td>0.998843</td>\n",
              "      <td>18741.000000</td>\n",
              "      <td>0.0</td>\n",
              "    </tr>\n",
              "    <tr>\n",
              "      <th>11</th>\n",
              "      <td>max fns</td>\n",
              "      <td>0.998843</td>\n",
              "      <td>47444.000000</td>\n",
              "      <td>0.0</td>\n",
              "    </tr>\n",
              "    <tr>\n",
              "      <th>12</th>\n",
              "      <td>max fps</td>\n",
              "      <td>0.001354</td>\n",
              "      <td>18741.000000</td>\n",
              "      <td>399.0</td>\n",
              "    </tr>\n",
              "    <tr>\n",
              "      <th>13</th>\n",
              "      <td>max tps</td>\n",
              "      <td>0.052679</td>\n",
              "      <td>49908.000000</td>\n",
              "      <td>365.0</td>\n",
              "    </tr>\n",
              "    <tr>\n",
              "      <th>14</th>\n",
              "      <td>max tnr</td>\n",
              "      <td>0.998843</td>\n",
              "      <td>1.000000</td>\n",
              "      <td>0.0</td>\n",
              "    </tr>\n",
              "    <tr>\n",
              "      <th>15</th>\n",
              "      <td>max fnr</td>\n",
              "      <td>0.998843</td>\n",
              "      <td>0.950629</td>\n",
              "      <td>0.0</td>\n",
              "    </tr>\n",
              "    <tr>\n",
              "      <th>16</th>\n",
              "      <td>max fpr</td>\n",
              "      <td>0.001354</td>\n",
              "      <td>1.000000</td>\n",
              "      <td>399.0</td>\n",
              "    </tr>\n",
              "    <tr>\n",
              "      <th>17</th>\n",
              "      <td>max tpr</td>\n",
              "      <td>0.052679</td>\n",
              "      <td>1.000000</td>\n",
              "      <td>365.0</td>\n",
              "    </tr>\n",
              "  </tbody>\n",
              "</table>\n",
              "</div>"
            ],
            "text/plain": [
              "                         metric  threshold         value    idx\n",
              "0                        max f1   0.557101      0.991346  202.0\n",
              "1                        max f2   0.490953      0.993693  215.0\n",
              "2                  max f0point5   0.675165      0.992488  172.0\n",
              "3                  max accuracy   0.557101      0.987385  202.0\n",
              "4                 max precision   0.998843      1.000000    0.0\n",
              "5                    max recall   0.052679      1.000000  365.0\n",
              "6               max specificity   0.998843      1.000000    0.0\n",
              "7              max absolute_mcc   0.557101      0.968127  202.0\n",
              "8    max min_per_class_accuracy   0.659903      0.984612  176.0\n",
              "9   max mean_per_class_accuracy   0.671406      0.984721  173.0\n",
              "10                      max tns   0.998843  18741.000000    0.0\n",
              "11                      max fns   0.998843  47444.000000    0.0\n",
              "12                      max fps   0.001354  18741.000000  399.0\n",
              "13                      max tps   0.052679  49908.000000  365.0\n",
              "14                      max tnr   0.998843      1.000000    0.0\n",
              "15                      max fnr   0.998843      0.950629    0.0\n",
              "16                      max fpr   0.001354      1.000000  399.0\n",
              "17                      max tpr   0.052679      1.000000  365.0"
            ]
          },
          "metadata": {
            "tags": []
          }
        },
        {
          "output_type": "stream",
          "text": [
            "\n",
            "Gains/Lift Table: Avg response rate: 72.70 %, avg score: 72.70 %\n"
          ],
          "name": "stdout"
        },
        {
          "output_type": "display_data",
          "data": {
            "text/html": [
              "<div>\n",
              "<style scoped>\n",
              "    .dataframe tbody tr th:only-of-type {\n",
              "        vertical-align: middle;\n",
              "    }\n",
              "\n",
              "    .dataframe tbody tr th {\n",
              "        vertical-align: top;\n",
              "    }\n",
              "\n",
              "    .dataframe thead th {\n",
              "        text-align: right;\n",
              "    }\n",
              "</style>\n",
              "<table border=\"1\" class=\"dataframe\">\n",
              "  <thead>\n",
              "    <tr style=\"text-align: right;\">\n",
              "      <th></th>\n",
              "      <th></th>\n",
              "      <th>group</th>\n",
              "      <th>cumulative_data_fraction</th>\n",
              "      <th>lower_threshold</th>\n",
              "      <th>lift</th>\n",
              "      <th>cumulative_lift</th>\n",
              "      <th>response_rate</th>\n",
              "      <th>score</th>\n",
              "      <th>cumulative_response_rate</th>\n",
              "      <th>cumulative_score</th>\n",
              "      <th>capture_rate</th>\n",
              "      <th>cumulative_capture_rate</th>\n",
              "      <th>gain</th>\n",
              "      <th>cumulative_gain</th>\n",
              "    </tr>\n",
              "  </thead>\n",
              "  <tbody>\n",
              "    <tr>\n",
              "      <th>0</th>\n",
              "      <td></td>\n",
              "      <td>1</td>\n",
              "      <td>0.010066</td>\n",
              "      <td>0.998986</td>\n",
              "      <td>1.375511</td>\n",
              "      <td>1.375511</td>\n",
              "      <td>1.000000</td>\n",
              "      <td>0.999157</td>\n",
              "      <td>1.000000</td>\n",
              "      <td>0.999157</td>\n",
              "      <td>0.013845</td>\n",
              "      <td>0.013845</td>\n",
              "      <td>37.551094</td>\n",
              "      <td>37.551094</td>\n",
              "    </tr>\n",
              "    <tr>\n",
              "      <th>1</th>\n",
              "      <td></td>\n",
              "      <td>2</td>\n",
              "      <td>0.020000</td>\n",
              "      <td>0.998808</td>\n",
              "      <td>1.375511</td>\n",
              "      <td>1.375511</td>\n",
              "      <td>1.000000</td>\n",
              "      <td>0.998871</td>\n",
              "      <td>1.000000</td>\n",
              "      <td>0.999015</td>\n",
              "      <td>0.013665</td>\n",
              "      <td>0.027511</td>\n",
              "      <td>37.551094</td>\n",
              "      <td>37.551094</td>\n",
              "    </tr>\n",
              "    <tr>\n",
              "      <th>2</th>\n",
              "      <td></td>\n",
              "      <td>3</td>\n",
              "      <td>0.030008</td>\n",
              "      <td>0.998610</td>\n",
              "      <td>1.375511</td>\n",
              "      <td>1.375511</td>\n",
              "      <td>1.000000</td>\n",
              "      <td>0.998715</td>\n",
              "      <td>1.000000</td>\n",
              "      <td>0.998915</td>\n",
              "      <td>0.013765</td>\n",
              "      <td>0.041276</td>\n",
              "      <td>37.551094</td>\n",
              "      <td>37.551094</td>\n",
              "    </tr>\n",
              "    <tr>\n",
              "      <th>3</th>\n",
              "      <td></td>\n",
              "      <td>4</td>\n",
              "      <td>0.040001</td>\n",
              "      <td>0.998432</td>\n",
              "      <td>1.375511</td>\n",
              "      <td>1.375511</td>\n",
              "      <td>1.000000</td>\n",
              "      <td>0.998515</td>\n",
              "      <td>1.000000</td>\n",
              "      <td>0.998815</td>\n",
              "      <td>0.013745</td>\n",
              "      <td>0.055021</td>\n",
              "      <td>37.551094</td>\n",
              "      <td>37.551094</td>\n",
              "    </tr>\n",
              "    <tr>\n",
              "      <th>4</th>\n",
              "      <td></td>\n",
              "      <td>5</td>\n",
              "      <td>0.050008</td>\n",
              "      <td>0.998260</td>\n",
              "      <td>1.375511</td>\n",
              "      <td>1.375511</td>\n",
              "      <td>1.000000</td>\n",
              "      <td>0.998354</td>\n",
              "      <td>1.000000</td>\n",
              "      <td>0.998723</td>\n",
              "      <td>0.013765</td>\n",
              "      <td>0.068787</td>\n",
              "      <td>37.551094</td>\n",
              "      <td>37.551094</td>\n",
              "    </tr>\n",
              "    <tr>\n",
              "      <th>5</th>\n",
              "      <td></td>\n",
              "      <td>6</td>\n",
              "      <td>0.100001</td>\n",
              "      <td>0.996877</td>\n",
              "      <td>1.375511</td>\n",
              "      <td>1.375511</td>\n",
              "      <td>1.000000</td>\n",
              "      <td>0.997616</td>\n",
              "      <td>1.000000</td>\n",
              "      <td>0.998169</td>\n",
              "      <td>0.068767</td>\n",
              "      <td>0.137553</td>\n",
              "      <td>37.551094</td>\n",
              "      <td>37.551094</td>\n",
              "    </tr>\n",
              "    <tr>\n",
              "      <th>6</th>\n",
              "      <td></td>\n",
              "      <td>7</td>\n",
              "      <td>0.150009</td>\n",
              "      <td>0.995028</td>\n",
              "      <td>1.375511</td>\n",
              "      <td>1.375511</td>\n",
              "      <td>1.000000</td>\n",
              "      <td>0.995981</td>\n",
              "      <td>1.000000</td>\n",
              "      <td>0.997440</td>\n",
              "      <td>0.068787</td>\n",
              "      <td>0.206340</td>\n",
              "      <td>37.551094</td>\n",
              "      <td>37.551094</td>\n",
              "    </tr>\n",
              "    <tr>\n",
              "      <th>7</th>\n",
              "      <td></td>\n",
              "      <td>8</td>\n",
              "      <td>0.200003</td>\n",
              "      <td>0.992606</td>\n",
              "      <td>1.375511</td>\n",
              "      <td>1.375511</td>\n",
              "      <td>1.000000</td>\n",
              "      <td>0.993874</td>\n",
              "      <td>1.000000</td>\n",
              "      <td>0.996549</td>\n",
              "      <td>0.068767</td>\n",
              "      <td>0.275106</td>\n",
              "      <td>37.551094</td>\n",
              "      <td>37.551094</td>\n",
              "    </tr>\n",
              "    <tr>\n",
              "      <th>8</th>\n",
              "      <td></td>\n",
              "      <td>9</td>\n",
              "      <td>0.300004</td>\n",
              "      <td>0.985696</td>\n",
              "      <td>1.375311</td>\n",
              "      <td>1.375444</td>\n",
              "      <td>0.999854</td>\n",
              "      <td>0.989412</td>\n",
              "      <td>0.999951</td>\n",
              "      <td>0.994170</td>\n",
              "      <td>0.137533</td>\n",
              "      <td>0.412639</td>\n",
              "      <td>37.531057</td>\n",
              "      <td>37.544415</td>\n",
              "    </tr>\n",
              "    <tr>\n",
              "      <th>9</th>\n",
              "      <td></td>\n",
              "      <td>10</td>\n",
              "      <td>0.400006</td>\n",
              "      <td>0.974146</td>\n",
              "      <td>1.374509</td>\n",
              "      <td>1.375210</td>\n",
              "      <td>0.999272</td>\n",
              "      <td>0.980400</td>\n",
              "      <td>0.999782</td>\n",
              "      <td>0.990727</td>\n",
              "      <td>0.137453</td>\n",
              "      <td>0.550092</td>\n",
              "      <td>37.450911</td>\n",
              "      <td>37.521039</td>\n",
              "    </tr>\n",
              "    <tr>\n",
              "      <th>10</th>\n",
              "      <td></td>\n",
              "      <td>11</td>\n",
              "      <td>0.500007</td>\n",
              "      <td>0.953589</td>\n",
              "      <td>1.374108</td>\n",
              "      <td>1.374990</td>\n",
              "      <td>0.998980</td>\n",
              "      <td>0.964840</td>\n",
              "      <td>0.999621</td>\n",
              "      <td>0.985550</td>\n",
              "      <td>0.137413</td>\n",
              "      <td>0.687505</td>\n",
              "      <td>37.410838</td>\n",
              "      <td>37.498999</td>\n",
              "    </tr>\n",
              "    <tr>\n",
              "      <th>11</th>\n",
              "      <td></td>\n",
              "      <td>12</td>\n",
              "      <td>0.599994</td>\n",
              "      <td>0.911402</td>\n",
              "      <td>1.373106</td>\n",
              "      <td>1.374676</td>\n",
              "      <td>0.998252</td>\n",
              "      <td>0.935591</td>\n",
              "      <td>0.999393</td>\n",
              "      <td>0.977224</td>\n",
              "      <td>0.137293</td>\n",
              "      <td>0.824798</td>\n",
              "      <td>37.310620</td>\n",
              "      <td>37.467606</td>\n",
              "    </tr>\n",
              "    <tr>\n",
              "      <th>12</th>\n",
              "      <td></td>\n",
              "      <td>13</td>\n",
              "      <td>0.699996</td>\n",
              "      <td>0.767432</td>\n",
              "      <td>1.356276</td>\n",
              "      <td>1.372047</td>\n",
              "      <td>0.986016</td>\n",
              "      <td>0.859960</td>\n",
              "      <td>0.997482</td>\n",
              "      <td>0.960472</td>\n",
              "      <td>0.135630</td>\n",
              "      <td>0.960427</td>\n",
              "      <td>35.627583</td>\n",
              "      <td>37.204740</td>\n",
              "    </tr>\n",
              "    <tr>\n",
              "      <th>13</th>\n",
              "      <td></td>\n",
              "      <td>14</td>\n",
              "      <td>0.799997</td>\n",
              "      <td>0.184566</td>\n",
              "      <td>0.392917</td>\n",
              "      <td>1.249654</td>\n",
              "      <td>0.285652</td>\n",
              "      <td>0.427641</td>\n",
              "      <td>0.908502</td>\n",
              "      <td>0.893867</td>\n",
              "      <td>0.039292</td>\n",
              "      <td>0.999719</td>\n",
              "      <td>-60.708275</td>\n",
              "      <td>24.965391</td>\n",
              "    </tr>\n",
              "    <tr>\n",
              "      <th>14</th>\n",
              "      <td></td>\n",
              "      <td>15</td>\n",
              "      <td>0.899999</td>\n",
              "      <td>0.043297</td>\n",
              "      <td>0.002805</td>\n",
              "      <td>1.111113</td>\n",
              "      <td>0.002039</td>\n",
              "      <td>0.102993</td>\n",
              "      <td>0.807782</td>\n",
              "      <td>0.805990</td>\n",
              "      <td>0.000281</td>\n",
              "      <td>1.000000</td>\n",
              "      <td>-99.719488</td>\n",
              "      <td>11.111291</td>\n",
              "    </tr>\n",
              "    <tr>\n",
              "      <th>15</th>\n",
              "      <td></td>\n",
              "      <td>16</td>\n",
              "      <td>1.000000</td>\n",
              "      <td>0.000199</td>\n",
              "      <td>0.000000</td>\n",
              "      <td>1.000000</td>\n",
              "      <td>0.000000</td>\n",
              "      <td>0.016012</td>\n",
              "      <td>0.727003</td>\n",
              "      <td>0.726991</td>\n",
              "      <td>0.000000</td>\n",
              "      <td>1.000000</td>\n",
              "      <td>-100.000000</td>\n",
              "      <td>0.000000</td>\n",
              "    </tr>\n",
              "  </tbody>\n",
              "</table>\n",
              "</div>"
            ],
            "text/plain": [
              "      group  ...        gain  cumulative_gain\n",
              "0         1  ...   37.551094        37.551094\n",
              "1         2  ...   37.551094        37.551094\n",
              "2         3  ...   37.551094        37.551094\n",
              "3         4  ...   37.551094        37.551094\n",
              "4         5  ...   37.551094        37.551094\n",
              "5         6  ...   37.551094        37.551094\n",
              "6         7  ...   37.551094        37.551094\n",
              "7         8  ...   37.551094        37.551094\n",
              "8         9  ...   37.531057        37.544415\n",
              "9        10  ...   37.450911        37.521039\n",
              "10       11  ...   37.410838        37.498999\n",
              "11       12  ...   37.310620        37.467606\n",
              "12       13  ...   35.627583        37.204740\n",
              "13       14  ...  -60.708275        24.965391\n",
              "14       15  ...  -99.719488        11.111291\n",
              "15       16  ... -100.000000         0.000000\n",
              "\n",
              "[16 rows x 14 columns]"
            ]
          },
          "metadata": {
            "tags": []
          }
        },
        {
          "output_type": "stream",
          "text": [
            "\n",
            "\n",
            "ModelMetricsBinomial: gbm\n",
            "** Reported on validation data. **\n",
            "\n",
            "MSE: 0.08038058981031387\n",
            "RMSE: 0.28351470827862507\n",
            "LogLoss: 0.2609476098888711\n",
            "Mean Per-Class Error: 0.13213026523698712\n",
            "AUC: 0.9441004779075828\n",
            "AUCPR: 0.9773053730151119\n",
            "Gini: 0.8882009558151656\n",
            "\n",
            "Confusion Matrix (Act/Pred) for max f1 @ threshold = 0.49206397778746214: \n"
          ],
          "name": "stdout"
        },
        {
          "output_type": "display_data",
          "data": {
            "text/html": [
              "<div>\n",
              "<style scoped>\n",
              "    .dataframe tbody tr th:only-of-type {\n",
              "        vertical-align: middle;\n",
              "    }\n",
              "\n",
              "    .dataframe tbody tr th {\n",
              "        vertical-align: top;\n",
              "    }\n",
              "\n",
              "    .dataframe thead th {\n",
              "        text-align: right;\n",
              "    }\n",
              "</style>\n",
              "<table border=\"1\" class=\"dataframe\">\n",
              "  <thead>\n",
              "    <tr style=\"text-align: right;\">\n",
              "      <th></th>\n",
              "      <th></th>\n",
              "      <th>0</th>\n",
              "      <th>1</th>\n",
              "      <th>Error</th>\n",
              "      <th>Rate</th>\n",
              "    </tr>\n",
              "  </thead>\n",
              "  <tbody>\n",
              "    <tr>\n",
              "      <th>0</th>\n",
              "      <td>0</td>\n",
              "      <td>3386.0</td>\n",
              "      <td>1300.0</td>\n",
              "      <td>0.2774</td>\n",
              "      <td>(1300.0/4686.0)</td>\n",
              "    </tr>\n",
              "    <tr>\n",
              "      <th>1</th>\n",
              "      <td>1</td>\n",
              "      <td>617.0</td>\n",
              "      <td>12029.0</td>\n",
              "      <td>0.0488</td>\n",
              "      <td>(617.0/12646.0)</td>\n",
              "    </tr>\n",
              "    <tr>\n",
              "      <th>2</th>\n",
              "      <td>Total</td>\n",
              "      <td>4003.0</td>\n",
              "      <td>13329.0</td>\n",
              "      <td>0.1106</td>\n",
              "      <td>(1917.0/17332.0)</td>\n",
              "    </tr>\n",
              "  </tbody>\n",
              "</table>\n",
              "</div>"
            ],
            "text/plain": [
              "               0        1   Error               Rate\n",
              "0      0  3386.0   1300.0  0.2774    (1300.0/4686.0)\n",
              "1      1   617.0  12029.0  0.0488    (617.0/12646.0)\n",
              "2  Total  4003.0  13329.0  0.1106   (1917.0/17332.0)"
            ]
          },
          "metadata": {
            "tags": []
          }
        },
        {
          "output_type": "stream",
          "text": [
            "\n",
            "Maximum Metrics: Maximum metrics at their respective thresholds\n"
          ],
          "name": "stdout"
        },
        {
          "output_type": "display_data",
          "data": {
            "text/html": [
              "<div>\n",
              "<style scoped>\n",
              "    .dataframe tbody tr th:only-of-type {\n",
              "        vertical-align: middle;\n",
              "    }\n",
              "\n",
              "    .dataframe tbody tr th {\n",
              "        vertical-align: top;\n",
              "    }\n",
              "\n",
              "    .dataframe thead th {\n",
              "        text-align: right;\n",
              "    }\n",
              "</style>\n",
              "<table border=\"1\" class=\"dataframe\">\n",
              "  <thead>\n",
              "    <tr style=\"text-align: right;\">\n",
              "      <th></th>\n",
              "      <th>metric</th>\n",
              "      <th>threshold</th>\n",
              "      <th>value</th>\n",
              "      <th>idx</th>\n",
              "    </tr>\n",
              "  </thead>\n",
              "  <tbody>\n",
              "    <tr>\n",
              "      <th>0</th>\n",
              "      <td>max f1</td>\n",
              "      <td>0.492064</td>\n",
              "      <td>0.926198</td>\n",
              "      <td>236.0</td>\n",
              "    </tr>\n",
              "    <tr>\n",
              "      <th>1</th>\n",
              "      <td>max f2</td>\n",
              "      <td>0.177009</td>\n",
              "      <td>0.956427</td>\n",
              "      <td>328.0</td>\n",
              "    </tr>\n",
              "    <tr>\n",
              "      <th>2</th>\n",
              "      <td>max f0point5</td>\n",
              "      <td>0.798911</td>\n",
              "      <td>0.929946</td>\n",
              "      <td>128.0</td>\n",
              "    </tr>\n",
              "    <tr>\n",
              "      <th>3</th>\n",
              "      <td>max accuracy</td>\n",
              "      <td>0.535978</td>\n",
              "      <td>0.889684</td>\n",
              "      <td>222.0</td>\n",
              "    </tr>\n",
              "    <tr>\n",
              "      <th>4</th>\n",
              "      <td>max precision</td>\n",
              "      <td>0.998908</td>\n",
              "      <td>1.000000</td>\n",
              "      <td>0.0</td>\n",
              "    </tr>\n",
              "    <tr>\n",
              "      <th>5</th>\n",
              "      <td>max recall</td>\n",
              "      <td>0.003814</td>\n",
              "      <td>1.000000</td>\n",
              "      <td>397.0</td>\n",
              "    </tr>\n",
              "    <tr>\n",
              "      <th>6</th>\n",
              "      <td>max specificity</td>\n",
              "      <td>0.998908</td>\n",
              "      <td>1.000000</td>\n",
              "      <td>0.0</td>\n",
              "    </tr>\n",
              "    <tr>\n",
              "      <th>7</th>\n",
              "      <td>max absolute_mcc</td>\n",
              "      <td>0.535978</td>\n",
              "      <td>0.712602</td>\n",
              "      <td>222.0</td>\n",
              "    </tr>\n",
              "    <tr>\n",
              "      <th>8</th>\n",
              "      <td>max min_per_class_accuracy</td>\n",
              "      <td>0.776317</td>\n",
              "      <td>0.866624</td>\n",
              "      <td>137.0</td>\n",
              "    </tr>\n",
              "    <tr>\n",
              "      <th>9</th>\n",
              "      <td>max mean_per_class_accuracy</td>\n",
              "      <td>0.764901</td>\n",
              "      <td>0.867870</td>\n",
              "      <td>142.0</td>\n",
              "    </tr>\n",
              "    <tr>\n",
              "      <th>10</th>\n",
              "      <td>max tns</td>\n",
              "      <td>0.998908</td>\n",
              "      <td>4686.000000</td>\n",
              "      <td>0.0</td>\n",
              "    </tr>\n",
              "    <tr>\n",
              "      <th>11</th>\n",
              "      <td>max fns</td>\n",
              "      <td>0.998908</td>\n",
              "      <td>12187.000000</td>\n",
              "      <td>0.0</td>\n",
              "    </tr>\n",
              "    <tr>\n",
              "      <th>12</th>\n",
              "      <td>max fps</td>\n",
              "      <td>0.001471</td>\n",
              "      <td>4686.000000</td>\n",
              "      <td>399.0</td>\n",
              "    </tr>\n",
              "    <tr>\n",
              "      <th>13</th>\n",
              "      <td>max tps</td>\n",
              "      <td>0.003814</td>\n",
              "      <td>12646.000000</td>\n",
              "      <td>397.0</td>\n",
              "    </tr>\n",
              "    <tr>\n",
              "      <th>14</th>\n",
              "      <td>max tnr</td>\n",
              "      <td>0.998908</td>\n",
              "      <td>1.000000</td>\n",
              "      <td>0.0</td>\n",
              "    </tr>\n",
              "    <tr>\n",
              "      <th>15</th>\n",
              "      <td>max fnr</td>\n",
              "      <td>0.998908</td>\n",
              "      <td>0.963704</td>\n",
              "      <td>0.0</td>\n",
              "    </tr>\n",
              "    <tr>\n",
              "      <th>16</th>\n",
              "      <td>max fpr</td>\n",
              "      <td>0.001471</td>\n",
              "      <td>1.000000</td>\n",
              "      <td>399.0</td>\n",
              "    </tr>\n",
              "    <tr>\n",
              "      <th>17</th>\n",
              "      <td>max tpr</td>\n",
              "      <td>0.003814</td>\n",
              "      <td>1.000000</td>\n",
              "      <td>397.0</td>\n",
              "    </tr>\n",
              "  </tbody>\n",
              "</table>\n",
              "</div>"
            ],
            "text/plain": [
              "                         metric  threshold         value    idx\n",
              "0                        max f1   0.492064      0.926198  236.0\n",
              "1                        max f2   0.177009      0.956427  328.0\n",
              "2                  max f0point5   0.798911      0.929946  128.0\n",
              "3                  max accuracy   0.535978      0.889684  222.0\n",
              "4                 max precision   0.998908      1.000000    0.0\n",
              "5                    max recall   0.003814      1.000000  397.0\n",
              "6               max specificity   0.998908      1.000000    0.0\n",
              "7              max absolute_mcc   0.535978      0.712602  222.0\n",
              "8    max min_per_class_accuracy   0.776317      0.866624  137.0\n",
              "9   max mean_per_class_accuracy   0.764901      0.867870  142.0\n",
              "10                      max tns   0.998908   4686.000000    0.0\n",
              "11                      max fns   0.998908  12187.000000    0.0\n",
              "12                      max fps   0.001471   4686.000000  399.0\n",
              "13                      max tps   0.003814  12646.000000  397.0\n",
              "14                      max tnr   0.998908      1.000000    0.0\n",
              "15                      max fnr   0.998908      0.963704    0.0\n",
              "16                      max fpr   0.001471      1.000000  399.0\n",
              "17                      max tpr   0.003814      1.000000  397.0"
            ]
          },
          "metadata": {
            "tags": []
          }
        },
        {
          "output_type": "stream",
          "text": [
            "\n",
            "Gains/Lift Table: Avg response rate: 72.96 %, avg score: 74.03 %\n"
          ],
          "name": "stdout"
        },
        {
          "output_type": "display_data",
          "data": {
            "text/html": [
              "<div>\n",
              "<style scoped>\n",
              "    .dataframe tbody tr th:only-of-type {\n",
              "        vertical-align: middle;\n",
              "    }\n",
              "\n",
              "    .dataframe tbody tr th {\n",
              "        vertical-align: top;\n",
              "    }\n",
              "\n",
              "    .dataframe thead th {\n",
              "        text-align: right;\n",
              "    }\n",
              "</style>\n",
              "<table border=\"1\" class=\"dataframe\">\n",
              "  <thead>\n",
              "    <tr style=\"text-align: right;\">\n",
              "      <th></th>\n",
              "      <th></th>\n",
              "      <th>group</th>\n",
              "      <th>cumulative_data_fraction</th>\n",
              "      <th>lower_threshold</th>\n",
              "      <th>lift</th>\n",
              "      <th>cumulative_lift</th>\n",
              "      <th>response_rate</th>\n",
              "      <th>score</th>\n",
              "      <th>cumulative_response_rate</th>\n",
              "      <th>cumulative_score</th>\n",
              "      <th>capture_rate</th>\n",
              "      <th>cumulative_capture_rate</th>\n",
              "      <th>gain</th>\n",
              "      <th>cumulative_gain</th>\n",
              "    </tr>\n",
              "  </thead>\n",
              "  <tbody>\n",
              "    <tr>\n",
              "      <th>0</th>\n",
              "      <td></td>\n",
              "      <td>1</td>\n",
              "      <td>0.010039</td>\n",
              "      <td>0.998963</td>\n",
              "      <td>1.370552</td>\n",
              "      <td>1.370552</td>\n",
              "      <td>1.000000</td>\n",
              "      <td>0.999136</td>\n",
              "      <td>1.000000</td>\n",
              "      <td>0.999136</td>\n",
              "      <td>0.013759</td>\n",
              "      <td>0.013759</td>\n",
              "      <td>37.055195</td>\n",
              "      <td>37.055195</td>\n",
              "    </tr>\n",
              "    <tr>\n",
              "      <th>1</th>\n",
              "      <td></td>\n",
              "      <td>2</td>\n",
              "      <td>0.020136</td>\n",
              "      <td>0.998785</td>\n",
              "      <td>1.370552</td>\n",
              "      <td>1.370552</td>\n",
              "      <td>1.000000</td>\n",
              "      <td>0.998859</td>\n",
              "      <td>1.000000</td>\n",
              "      <td>0.998997</td>\n",
              "      <td>0.013838</td>\n",
              "      <td>0.027598</td>\n",
              "      <td>37.055195</td>\n",
              "      <td>37.055195</td>\n",
              "    </tr>\n",
              "    <tr>\n",
              "      <th>2</th>\n",
              "      <td></td>\n",
              "      <td>3</td>\n",
              "      <td>0.030002</td>\n",
              "      <td>0.998593</td>\n",
              "      <td>1.370552</td>\n",
              "      <td>1.370552</td>\n",
              "      <td>1.000000</td>\n",
              "      <td>0.998700</td>\n",
              "      <td>1.000000</td>\n",
              "      <td>0.998899</td>\n",
              "      <td>0.013522</td>\n",
              "      <td>0.041120</td>\n",
              "      <td>37.055195</td>\n",
              "      <td>37.055195</td>\n",
              "    </tr>\n",
              "    <tr>\n",
              "      <th>3</th>\n",
              "      <td></td>\n",
              "      <td>4</td>\n",
              "      <td>0.042984</td>\n",
              "      <td>0.998412</td>\n",
              "      <td>1.370552</td>\n",
              "      <td>1.370552</td>\n",
              "      <td>1.000000</td>\n",
              "      <td>0.998480</td>\n",
              "      <td>1.000000</td>\n",
              "      <td>0.998773</td>\n",
              "      <td>0.017792</td>\n",
              "      <td>0.058912</td>\n",
              "      <td>37.055195</td>\n",
              "      <td>37.055195</td>\n",
              "    </tr>\n",
              "    <tr>\n",
              "      <th>4</th>\n",
              "      <td></td>\n",
              "      <td>5</td>\n",
              "      <td>0.050023</td>\n",
              "      <td>0.998229</td>\n",
              "      <td>1.370552</td>\n",
              "      <td>1.370552</td>\n",
              "      <td>1.000000</td>\n",
              "      <td>0.998318</td>\n",
              "      <td>1.000000</td>\n",
              "      <td>0.998709</td>\n",
              "      <td>0.009647</td>\n",
              "      <td>0.068559</td>\n",
              "      <td>37.055195</td>\n",
              "      <td>37.055195</td>\n",
              "    </tr>\n",
              "    <tr>\n",
              "      <th>5</th>\n",
              "      <td></td>\n",
              "      <td>6</td>\n",
              "      <td>0.100046</td>\n",
              "      <td>0.996731</td>\n",
              "      <td>1.370552</td>\n",
              "      <td>1.370552</td>\n",
              "      <td>1.000000</td>\n",
              "      <td>0.997546</td>\n",
              "      <td>1.000000</td>\n",
              "      <td>0.998127</td>\n",
              "      <td>0.068559</td>\n",
              "      <td>0.137118</td>\n",
              "      <td>37.055195</td>\n",
              "      <td>37.055195</td>\n",
              "    </tr>\n",
              "    <tr>\n",
              "      <th>6</th>\n",
              "      <td></td>\n",
              "      <td>7</td>\n",
              "      <td>0.150012</td>\n",
              "      <td>0.994763</td>\n",
              "      <td>1.364221</td>\n",
              "      <td>1.368443</td>\n",
              "      <td>0.995381</td>\n",
              "      <td>0.995772</td>\n",
              "      <td>0.998462</td>\n",
              "      <td>0.997343</td>\n",
              "      <td>0.068164</td>\n",
              "      <td>0.205282</td>\n",
              "      <td>36.422146</td>\n",
              "      <td>36.844341</td>\n",
              "    </tr>\n",
              "    <tr>\n",
              "      <th>7</th>\n",
              "      <td></td>\n",
              "      <td>8</td>\n",
              "      <td>0.200035</td>\n",
              "      <td>0.992187</td>\n",
              "      <td>1.359486</td>\n",
              "      <td>1.366204</td>\n",
              "      <td>0.991926</td>\n",
              "      <td>0.993512</td>\n",
              "      <td>0.996827</td>\n",
              "      <td>0.996385</td>\n",
              "      <td>0.068006</td>\n",
              "      <td>0.273288</td>\n",
              "      <td>35.948637</td>\n",
              "      <td>36.620350</td>\n",
              "    </tr>\n",
              "    <tr>\n",
              "      <th>8</th>\n",
              "      <td></td>\n",
              "      <td>9</td>\n",
              "      <td>0.300023</td>\n",
              "      <td>0.983742</td>\n",
              "      <td>1.361062</td>\n",
              "      <td>1.364490</td>\n",
              "      <td>0.993076</td>\n",
              "      <td>0.988422</td>\n",
              "      <td>0.995577</td>\n",
              "      <td>0.993731</td>\n",
              "      <td>0.136090</td>\n",
              "      <td>0.409378</td>\n",
              "      <td>36.106169</td>\n",
              "      <td>36.448990</td>\n",
              "    </tr>\n",
              "    <tr>\n",
              "      <th>9</th>\n",
              "      <td></td>\n",
              "      <td>10</td>\n",
              "      <td>0.400012</td>\n",
              "      <td>0.967948</td>\n",
              "      <td>1.334963</td>\n",
              "      <td>1.357109</td>\n",
              "      <td>0.974033</td>\n",
              "      <td>0.976611</td>\n",
              "      <td>0.990192</td>\n",
              "      <td>0.989452</td>\n",
              "      <td>0.133481</td>\n",
              "      <td>0.542859</td>\n",
              "      <td>33.496347</td>\n",
              "      <td>35.710936</td>\n",
              "    </tr>\n",
              "    <tr>\n",
              "      <th>10</th>\n",
              "      <td></td>\n",
              "      <td>11</td>\n",
              "      <td>0.500000</td>\n",
              "      <td>0.936921</td>\n",
              "      <td>1.292257</td>\n",
              "      <td>1.344140</td>\n",
              "      <td>0.942874</td>\n",
              "      <td>0.954229</td>\n",
              "      <td>0.980729</td>\n",
              "      <td>0.982408</td>\n",
              "      <td>0.129211</td>\n",
              "      <td>0.672070</td>\n",
              "      <td>29.225729</td>\n",
              "      <td>34.414044</td>\n",
              "    </tr>\n",
              "    <tr>\n",
              "      <th>11</th>\n",
              "      <td></td>\n",
              "      <td>12</td>\n",
              "      <td>0.599988</td>\n",
              "      <td>0.870360</td>\n",
              "      <td>1.213963</td>\n",
              "      <td>1.322446</td>\n",
              "      <td>0.885747</td>\n",
              "      <td>0.907692</td>\n",
              "      <td>0.964900</td>\n",
              "      <td>0.969956</td>\n",
              "      <td>0.121382</td>\n",
              "      <td>0.793452</td>\n",
              "      <td>21.396264</td>\n",
              "      <td>32.244623</td>\n",
              "    </tr>\n",
              "    <tr>\n",
              "      <th>12</th>\n",
              "      <td></td>\n",
              "      <td>13</td>\n",
              "      <td>0.699977</td>\n",
              "      <td>0.707498</td>\n",
              "      <td>1.035229</td>\n",
              "      <td>1.281419</td>\n",
              "      <td>0.755338</td>\n",
              "      <td>0.800875</td>\n",
              "      <td>0.934965</td>\n",
              "      <td>0.945804</td>\n",
              "      <td>0.103511</td>\n",
              "      <td>0.896963</td>\n",
              "      <td>3.522937</td>\n",
              "      <td>28.141863</td>\n",
              "    </tr>\n",
              "    <tr>\n",
              "      <th>13</th>\n",
              "      <td></td>\n",
              "      <td>14</td>\n",
              "      <td>0.799965</td>\n",
              "      <td>0.378507</td>\n",
              "      <td>0.707815</td>\n",
              "      <td>1.209723</td>\n",
              "      <td>0.516445</td>\n",
              "      <td>0.558614</td>\n",
              "      <td>0.882654</td>\n",
              "      <td>0.897409</td>\n",
              "      <td>0.070773</td>\n",
              "      <td>0.967737</td>\n",
              "      <td>-29.218465</td>\n",
              "      <td>20.972339</td>\n",
              "    </tr>\n",
              "    <tr>\n",
              "      <th>14</th>\n",
              "      <td></td>\n",
              "      <td>15</td>\n",
              "      <td>0.899954</td>\n",
              "      <td>0.063922</td>\n",
              "      <td>0.290244</td>\n",
              "      <td>1.107566</td>\n",
              "      <td>0.211771</td>\n",
              "      <td>0.203282</td>\n",
              "      <td>0.808116</td>\n",
              "      <td>0.820288</td>\n",
              "      <td>0.029021</td>\n",
              "      <td>0.996758</td>\n",
              "      <td>-70.975616</td>\n",
              "      <td>10.756554</td>\n",
              "    </tr>\n",
              "    <tr>\n",
              "      <th>15</th>\n",
              "      <td></td>\n",
              "      <td>16</td>\n",
              "      <td>1.000000</td>\n",
              "      <td>0.000266</td>\n",
              "      <td>0.032406</td>\n",
              "      <td>1.000000</td>\n",
              "      <td>0.023645</td>\n",
              "      <td>0.020429</td>\n",
              "      <td>0.729633</td>\n",
              "      <td>0.740266</td>\n",
              "      <td>0.003242</td>\n",
              "      <td>1.000000</td>\n",
              "      <td>-96.759364</td>\n",
              "      <td>0.000000</td>\n",
              "    </tr>\n",
              "  </tbody>\n",
              "</table>\n",
              "</div>"
            ],
            "text/plain": [
              "      group  ...       gain  cumulative_gain\n",
              "0         1  ...  37.055195        37.055195\n",
              "1         2  ...  37.055195        37.055195\n",
              "2         3  ...  37.055195        37.055195\n",
              "3         4  ...  37.055195        37.055195\n",
              "4         5  ...  37.055195        37.055195\n",
              "5         6  ...  37.055195        37.055195\n",
              "6         7  ...  36.422146        36.844341\n",
              "7         8  ...  35.948637        36.620350\n",
              "8         9  ...  36.106169        36.448990\n",
              "9        10  ...  33.496347        35.710936\n",
              "10       11  ...  29.225729        34.414044\n",
              "11       12  ...  21.396264        32.244623\n",
              "12       13  ...   3.522937        28.141863\n",
              "13       14  ... -29.218465        20.972339\n",
              "14       15  ... -70.975616        10.756554\n",
              "15       16  ... -96.759364         0.000000\n",
              "\n",
              "[16 rows x 14 columns]"
            ]
          },
          "metadata": {
            "tags": []
          }
        },
        {
          "output_type": "stream",
          "text": [
            "\n",
            "\n",
            "Scoring History: \n"
          ],
          "name": "stdout"
        },
        {
          "output_type": "display_data",
          "data": {
            "text/html": [
              "<div>\n",
              "<style scoped>\n",
              "    .dataframe tbody tr th:only-of-type {\n",
              "        vertical-align: middle;\n",
              "    }\n",
              "\n",
              "    .dataframe tbody tr th {\n",
              "        vertical-align: top;\n",
              "    }\n",
              "\n",
              "    .dataframe thead th {\n",
              "        text-align: right;\n",
              "    }\n",
              "</style>\n",
              "<table border=\"1\" class=\"dataframe\">\n",
              "  <thead>\n",
              "    <tr style=\"text-align: right;\">\n",
              "      <th></th>\n",
              "      <th></th>\n",
              "      <th>timestamp</th>\n",
              "      <th>duration</th>\n",
              "      <th>number_of_trees</th>\n",
              "      <th>training_rmse</th>\n",
              "      <th>training_logloss</th>\n",
              "      <th>training_auc</th>\n",
              "      <th>training_pr_auc</th>\n",
              "      <th>training_lift</th>\n",
              "      <th>training_classification_error</th>\n",
              "      <th>validation_rmse</th>\n",
              "      <th>validation_logloss</th>\n",
              "      <th>validation_auc</th>\n",
              "      <th>validation_pr_auc</th>\n",
              "      <th>validation_lift</th>\n",
              "      <th>validation_classification_error</th>\n",
              "    </tr>\n",
              "  </thead>\n",
              "  <tbody>\n",
              "    <tr>\n",
              "      <th>0</th>\n",
              "      <td></td>\n",
              "      <td>2020-05-01 11:23:32</td>\n",
              "      <td>0.140 sec</td>\n",
              "      <td>0.0</td>\n",
              "      <td>0.445500</td>\n",
              "      <td>0.586217</td>\n",
              "      <td>0.500000</td>\n",
              "      <td>0.727003</td>\n",
              "      <td>1.000000</td>\n",
              "      <td>0.272997</td>\n",
              "      <td>0.444157</td>\n",
              "      <td>0.583641</td>\n",
              "      <td>0.500000</td>\n",
              "      <td>0.729633</td>\n",
              "      <td>1.000000</td>\n",
              "      <td>0.270367</td>\n",
              "    </tr>\n",
              "    <tr>\n",
              "      <th>1</th>\n",
              "      <td></td>\n",
              "      <td>2020-05-01 11:23:34</td>\n",
              "      <td>2.303 sec</td>\n",
              "      <td>1.0</td>\n",
              "      <td>0.436893</td>\n",
              "      <td>0.567423</td>\n",
              "      <td>0.867414</td>\n",
              "      <td>0.940408</td>\n",
              "      <td>1.358974</td>\n",
              "      <td>0.174161</td>\n",
              "      <td>0.435822</td>\n",
              "      <td>0.565493</td>\n",
              "      <td>0.854563</td>\n",
              "      <td>0.933837</td>\n",
              "      <td>1.349520</td>\n",
              "      <td>0.180475</td>\n",
              "    </tr>\n",
              "    <tr>\n",
              "      <th>2</th>\n",
              "      <td></td>\n",
              "      <td>2020-05-01 11:23:35</td>\n",
              "      <td>3.755 sec</td>\n",
              "      <td>2.0</td>\n",
              "      <td>0.428932</td>\n",
              "      <td>0.550811</td>\n",
              "      <td>0.876738</td>\n",
              "      <td>0.946650</td>\n",
              "      <td>1.371289</td>\n",
              "      <td>0.170141</td>\n",
              "      <td>0.428203</td>\n",
              "      <td>0.549651</td>\n",
              "      <td>0.861346</td>\n",
              "      <td>0.939237</td>\n",
              "      <td>1.363984</td>\n",
              "      <td>0.176033</td>\n",
              "    </tr>\n",
              "    <tr>\n",
              "      <th>3</th>\n",
              "      <td></td>\n",
              "      <td>2020-05-01 11:23:40</td>\n",
              "      <td>8.145 sec</td>\n",
              "      <td>5.0</td>\n",
              "      <td>0.408132</td>\n",
              "      <td>0.509804</td>\n",
              "      <td>0.893259</td>\n",
              "      <td>0.954056</td>\n",
              "      <td>1.372314</td>\n",
              "      <td>0.157235</td>\n",
              "      <td>0.408320</td>\n",
              "      <td>0.510501</td>\n",
              "      <td>0.877616</td>\n",
              "      <td>0.947120</td>\n",
              "      <td>1.366375</td>\n",
              "      <td>0.165705</td>\n",
              "    </tr>\n",
              "    <tr>\n",
              "      <th>4</th>\n",
              "      <td></td>\n",
              "      <td>2020-05-01 11:23:44</td>\n",
              "      <td>12.472 sec</td>\n",
              "      <td>8.0</td>\n",
              "      <td>0.391271</td>\n",
              "      <td>0.478213</td>\n",
              "      <td>0.903629</td>\n",
              "      <td>0.958717</td>\n",
              "      <td>1.373556</td>\n",
              "      <td>0.147227</td>\n",
              "      <td>0.392740</td>\n",
              "      <td>0.481192</td>\n",
              "      <td>0.886640</td>\n",
              "      <td>0.951368</td>\n",
              "      <td>1.368885</td>\n",
              "      <td>0.160282</td>\n",
              "    </tr>\n",
              "    <tr>\n",
              "      <th>5</th>\n",
              "      <td></td>\n",
              "      <td>2020-05-01 11:23:48</td>\n",
              "      <td>16.785 sec</td>\n",
              "      <td>11.0</td>\n",
              "      <td>0.377182</td>\n",
              "      <td>0.452346</td>\n",
              "      <td>0.909280</td>\n",
              "      <td>0.961110</td>\n",
              "      <td>1.375025</td>\n",
              "      <td>0.141517</td>\n",
              "      <td>0.380136</td>\n",
              "      <td>0.457798</td>\n",
              "      <td>0.890829</td>\n",
              "      <td>0.953261</td>\n",
              "      <td>1.370552</td>\n",
              "      <td>0.156300</td>\n",
              "    </tr>\n",
              "    <tr>\n",
              "      <th>6</th>\n",
              "      <td></td>\n",
              "      <td>2020-05-01 11:23:53</td>\n",
              "      <td>21.215 sec</td>\n",
              "      <td>14.0</td>\n",
              "      <td>0.364870</td>\n",
              "      <td>0.429920</td>\n",
              "      <td>0.915494</td>\n",
              "      <td>0.963732</td>\n",
              "      <td>1.375229</td>\n",
              "      <td>0.135515</td>\n",
              "      <td>0.369226</td>\n",
              "      <td>0.437545</td>\n",
              "      <td>0.896328</td>\n",
              "      <td>0.955712</td>\n",
              "      <td>1.370552</td>\n",
              "      <td>0.152666</td>\n",
              "    </tr>\n",
              "    <tr>\n",
              "      <th>7</th>\n",
              "      <td></td>\n",
              "      <td>2020-05-01 11:23:57</td>\n",
              "      <td>25.435 sec</td>\n",
              "      <td>17.0</td>\n",
              "      <td>0.354493</td>\n",
              "      <td>0.411009</td>\n",
              "      <td>0.920290</td>\n",
              "      <td>0.965856</td>\n",
              "      <td>1.375146</td>\n",
              "      <td>0.131233</td>\n",
              "      <td>0.360230</td>\n",
              "      <td>0.420708</td>\n",
              "      <td>0.900438</td>\n",
              "      <td>0.957682</td>\n",
              "      <td>1.370552</td>\n",
              "      <td>0.148973</td>\n",
              "    </tr>\n",
              "    <tr>\n",
              "      <th>8</th>\n",
              "      <td></td>\n",
              "      <td>2020-05-01 11:24:01</td>\n",
              "      <td>29.672 sec</td>\n",
              "      <td>20.0</td>\n",
              "      <td>0.345567</td>\n",
              "      <td>0.394628</td>\n",
              "      <td>0.924172</td>\n",
              "      <td>0.967600</td>\n",
              "      <td>1.375511</td>\n",
              "      <td>0.128480</td>\n",
              "      <td>0.352742</td>\n",
              "      <td>0.406414</td>\n",
              "      <td>0.903813</td>\n",
              "      <td>0.959277</td>\n",
              "      <td>1.370552</td>\n",
              "      <td>0.146030</td>\n",
              "    </tr>\n",
              "    <tr>\n",
              "      <th>9</th>\n",
              "      <td></td>\n",
              "      <td>2020-05-01 11:24:06</td>\n",
              "      <td>33.889 sec</td>\n",
              "      <td>23.0</td>\n",
              "      <td>0.338044</td>\n",
              "      <td>0.380679</td>\n",
              "      <td>0.927198</td>\n",
              "      <td>0.968977</td>\n",
              "      <td>1.375511</td>\n",
              "      <td>0.123862</td>\n",
              "      <td>0.346551</td>\n",
              "      <td>0.394369</td>\n",
              "      <td>0.906345</td>\n",
              "      <td>0.960504</td>\n",
              "      <td>1.370552</td>\n",
              "      <td>0.144242</td>\n",
              "    </tr>\n",
              "    <tr>\n",
              "      <th>10</th>\n",
              "      <td></td>\n",
              "      <td>2020-05-01 11:24:10</td>\n",
              "      <td>38.139 sec</td>\n",
              "      <td>26.0</td>\n",
              "      <td>0.331218</td>\n",
              "      <td>0.368158</td>\n",
              "      <td>0.930389</td>\n",
              "      <td>0.970409</td>\n",
              "      <td>1.375511</td>\n",
              "      <td>0.121225</td>\n",
              "      <td>0.341164</td>\n",
              "      <td>0.383924</td>\n",
              "      <td>0.908876</td>\n",
              "      <td>0.961595</td>\n",
              "      <td>1.370552</td>\n",
              "      <td>0.141934</td>\n",
              "    </tr>\n",
              "    <tr>\n",
              "      <th>11</th>\n",
              "      <td></td>\n",
              "      <td>2020-05-01 11:24:14</td>\n",
              "      <td>42.406 sec</td>\n",
              "      <td>29.0</td>\n",
              "      <td>0.325315</td>\n",
              "      <td>0.357176</td>\n",
              "      <td>0.933117</td>\n",
              "      <td>0.971620</td>\n",
              "      <td>1.375511</td>\n",
              "      <td>0.119011</td>\n",
              "      <td>0.336607</td>\n",
              "      <td>0.374860</td>\n",
              "      <td>0.910958</td>\n",
              "      <td>0.962540</td>\n",
              "      <td>1.370552</td>\n",
              "      <td>0.141242</td>\n",
              "    </tr>\n",
              "    <tr>\n",
              "      <th>12</th>\n",
              "      <td></td>\n",
              "      <td>2020-05-01 11:24:18</td>\n",
              "      <td>46.689 sec</td>\n",
              "      <td>32.0</td>\n",
              "      <td>0.319964</td>\n",
              "      <td>0.347145</td>\n",
              "      <td>0.935687</td>\n",
              "      <td>0.972782</td>\n",
              "      <td>1.375511</td>\n",
              "      <td>0.115908</td>\n",
              "      <td>0.332607</td>\n",
              "      <td>0.366773</td>\n",
              "      <td>0.912714</td>\n",
              "      <td>0.963376</td>\n",
              "      <td>1.370552</td>\n",
              "      <td>0.139857</td>\n",
              "    </tr>\n",
              "    <tr>\n",
              "      <th>13</th>\n",
              "      <td></td>\n",
              "      <td>2020-05-01 11:24:23</td>\n",
              "      <td>50.933 sec</td>\n",
              "      <td>35.0</td>\n",
              "      <td>0.315167</td>\n",
              "      <td>0.338211</td>\n",
              "      <td>0.938045</td>\n",
              "      <td>0.973846</td>\n",
              "      <td>1.375511</td>\n",
              "      <td>0.114233</td>\n",
              "      <td>0.329224</td>\n",
              "      <td>0.359831</td>\n",
              "      <td>0.914249</td>\n",
              "      <td>0.964106</td>\n",
              "      <td>1.370552</td>\n",
              "      <td>0.138068</td>\n",
              "    </tr>\n",
              "    <tr>\n",
              "      <th>14</th>\n",
              "      <td></td>\n",
              "      <td>2020-05-01 11:24:27</td>\n",
              "      <td>55.202 sec</td>\n",
              "      <td>38.0</td>\n",
              "      <td>0.310662</td>\n",
              "      <td>0.329835</td>\n",
              "      <td>0.940318</td>\n",
              "      <td>0.974834</td>\n",
              "      <td>1.375511</td>\n",
              "      <td>0.111611</td>\n",
              "      <td>0.326031</td>\n",
              "      <td>0.353261</td>\n",
              "      <td>0.916008</td>\n",
              "      <td>0.964918</td>\n",
              "      <td>1.370552</td>\n",
              "      <td>0.136222</td>\n",
              "    </tr>\n",
              "    <tr>\n",
              "      <th>15</th>\n",
              "      <td></td>\n",
              "      <td>2020-05-01 11:24:31</td>\n",
              "      <td>59.437 sec</td>\n",
              "      <td>41.0</td>\n",
              "      <td>0.306688</td>\n",
              "      <td>0.322343</td>\n",
              "      <td>0.942365</td>\n",
              "      <td>0.975754</td>\n",
              "      <td>1.375511</td>\n",
              "      <td>0.109514</td>\n",
              "      <td>0.323335</td>\n",
              "      <td>0.347596</td>\n",
              "      <td>0.917373</td>\n",
              "      <td>0.965508</td>\n",
              "      <td>1.370552</td>\n",
              "      <td>0.134837</td>\n",
              "    </tr>\n",
              "    <tr>\n",
              "      <th>16</th>\n",
              "      <td></td>\n",
              "      <td>2020-05-01 11:24:35</td>\n",
              "      <td>1 min  3.658 sec</td>\n",
              "      <td>44.0</td>\n",
              "      <td>0.302869</td>\n",
              "      <td>0.315234</td>\n",
              "      <td>0.944383</td>\n",
              "      <td>0.976645</td>\n",
              "      <td>1.375511</td>\n",
              "      <td>0.107984</td>\n",
              "      <td>0.320838</td>\n",
              "      <td>0.342323</td>\n",
              "      <td>0.918778</td>\n",
              "      <td>0.966150</td>\n",
              "      <td>1.370552</td>\n",
              "      <td>0.135876</td>\n",
              "    </tr>\n",
              "    <tr>\n",
              "      <th>17</th>\n",
              "      <td></td>\n",
              "      <td>2020-05-01 11:24:39</td>\n",
              "      <td>1 min  7.850 sec</td>\n",
              "      <td>47.0</td>\n",
              "      <td>0.299553</td>\n",
              "      <td>0.309077</td>\n",
              "      <td>0.946039</td>\n",
              "      <td>0.977386</td>\n",
              "      <td>1.375511</td>\n",
              "      <td>0.105493</td>\n",
              "      <td>0.318688</td>\n",
              "      <td>0.337760</td>\n",
              "      <td>0.920057</td>\n",
              "      <td>0.966747</td>\n",
              "      <td>1.370552</td>\n",
              "      <td>0.135357</td>\n",
              "    </tr>\n",
              "    <tr>\n",
              "      <th>18</th>\n",
              "      <td></td>\n",
              "      <td>2020-05-01 11:24:44</td>\n",
              "      <td>1 min 12.093 sec</td>\n",
              "      <td>50.0</td>\n",
              "      <td>0.296264</td>\n",
              "      <td>0.303007</td>\n",
              "      <td>0.947819</td>\n",
              "      <td>0.978168</td>\n",
              "      <td>1.375511</td>\n",
              "      <td>0.103556</td>\n",
              "      <td>0.316582</td>\n",
              "      <td>0.333376</td>\n",
              "      <td>0.921239</td>\n",
              "      <td>0.967250</td>\n",
              "      <td>1.370552</td>\n",
              "      <td>0.133856</td>\n",
              "    </tr>\n",
              "    <tr>\n",
              "      <th>19</th>\n",
              "      <td></td>\n",
              "      <td>2020-05-01 11:24:48</td>\n",
              "      <td>1 min 16.343 sec</td>\n",
              "      <td>53.0</td>\n",
              "      <td>0.293232</td>\n",
              "      <td>0.297355</td>\n",
              "      <td>0.949348</td>\n",
              "      <td>0.978848</td>\n",
              "      <td>1.375511</td>\n",
              "      <td>0.101793</td>\n",
              "      <td>0.314759</td>\n",
              "      <td>0.329412</td>\n",
              "      <td>0.922254</td>\n",
              "      <td>0.967712</td>\n",
              "      <td>1.370552</td>\n",
              "      <td>0.132587</td>\n",
              "    </tr>\n",
              "  </tbody>\n",
              "</table>\n",
              "</div>"
            ],
            "text/plain": [
              "                timestamp  ... validation_lift  validation_classification_error\n",
              "0     2020-05-01 11:23:32  ...        1.000000                         0.270367\n",
              "1     2020-05-01 11:23:34  ...        1.349520                         0.180475\n",
              "2     2020-05-01 11:23:35  ...        1.363984                         0.176033\n",
              "3     2020-05-01 11:23:40  ...        1.366375                         0.165705\n",
              "4     2020-05-01 11:23:44  ...        1.368885                         0.160282\n",
              "5     2020-05-01 11:23:48  ...        1.370552                         0.156300\n",
              "6     2020-05-01 11:23:53  ...        1.370552                         0.152666\n",
              "7     2020-05-01 11:23:57  ...        1.370552                         0.148973\n",
              "8     2020-05-01 11:24:01  ...        1.370552                         0.146030\n",
              "9     2020-05-01 11:24:06  ...        1.370552                         0.144242\n",
              "10    2020-05-01 11:24:10  ...        1.370552                         0.141934\n",
              "11    2020-05-01 11:24:14  ...        1.370552                         0.141242\n",
              "12    2020-05-01 11:24:18  ...        1.370552                         0.139857\n",
              "13    2020-05-01 11:24:23  ...        1.370552                         0.138068\n",
              "14    2020-05-01 11:24:27  ...        1.370552                         0.136222\n",
              "15    2020-05-01 11:24:31  ...        1.370552                         0.134837\n",
              "16    2020-05-01 11:24:35  ...        1.370552                         0.135876\n",
              "17    2020-05-01 11:24:39  ...        1.370552                         0.135357\n",
              "18    2020-05-01 11:24:44  ...        1.370552                         0.133856\n",
              "19    2020-05-01 11:24:48  ...        1.370552                         0.132587\n",
              "\n",
              "[20 rows x 16 columns]"
            ]
          },
          "metadata": {
            "tags": []
          }
        },
        {
          "output_type": "stream",
          "text": [
            "\n",
            "See the whole table with table.as_data_frame()\n",
            "\n",
            "Variable Importances: \n"
          ],
          "name": "stdout"
        },
        {
          "output_type": "display_data",
          "data": {
            "text/html": [
              "<div>\n",
              "<style scoped>\n",
              "    .dataframe tbody tr th:only-of-type {\n",
              "        vertical-align: middle;\n",
              "    }\n",
              "\n",
              "    .dataframe tbody tr th {\n",
              "        vertical-align: top;\n",
              "    }\n",
              "\n",
              "    .dataframe thead th {\n",
              "        text-align: right;\n",
              "    }\n",
              "</style>\n",
              "<table border=\"1\" class=\"dataframe\">\n",
              "  <thead>\n",
              "    <tr style=\"text-align: right;\">\n",
              "      <th></th>\n",
              "      <th>variable</th>\n",
              "      <th>relative_importance</th>\n",
              "      <th>scaled_importance</th>\n",
              "      <th>percentage</th>\n",
              "    </tr>\n",
              "  </thead>\n",
              "  <tbody>\n",
              "    <tr>\n",
              "      <th>0</th>\n",
              "      <td>headline_C29</td>\n",
              "      <td>9920.183594</td>\n",
              "      <td>1.000000</td>\n",
              "      <td>0.089822</td>\n",
              "    </tr>\n",
              "    <tr>\n",
              "      <th>1</th>\n",
              "      <td>headline_C11</td>\n",
              "      <td>8405.688477</td>\n",
              "      <td>0.847332</td>\n",
              "      <td>0.076109</td>\n",
              "    </tr>\n",
              "    <tr>\n",
              "      <th>2</th>\n",
              "      <td>C57</td>\n",
              "      <td>4325.777832</td>\n",
              "      <td>0.436058</td>\n",
              "      <td>0.039168</td>\n",
              "    </tr>\n",
              "    <tr>\n",
              "      <th>3</th>\n",
              "      <td>headline_C24</td>\n",
              "      <td>4093.447021</td>\n",
              "      <td>0.412638</td>\n",
              "      <td>0.037064</td>\n",
              "    </tr>\n",
              "    <tr>\n",
              "      <th>4</th>\n",
              "      <td>C118</td>\n",
              "      <td>3510.360840</td>\n",
              "      <td>0.353860</td>\n",
              "      <td>0.031785</td>\n",
              "    </tr>\n",
              "    <tr>\n",
              "      <th>5</th>\n",
              "      <td>C29</td>\n",
              "      <td>3119.352539</td>\n",
              "      <td>0.314445</td>\n",
              "      <td>0.028244</td>\n",
              "    </tr>\n",
              "    <tr>\n",
              "      <th>6</th>\n",
              "      <td>headline_C102</td>\n",
              "      <td>2677.878418</td>\n",
              "      <td>0.269942</td>\n",
              "      <td>0.024247</td>\n",
              "    </tr>\n",
              "    <tr>\n",
              "      <th>7</th>\n",
              "      <td>C53</td>\n",
              "      <td>2487.118164</td>\n",
              "      <td>0.250713</td>\n",
              "      <td>0.022520</td>\n",
              "    </tr>\n",
              "    <tr>\n",
              "      <th>8</th>\n",
              "      <td>C11</td>\n",
              "      <td>2216.497070</td>\n",
              "      <td>0.223433</td>\n",
              "      <td>0.020069</td>\n",
              "    </tr>\n",
              "    <tr>\n",
              "      <th>9</th>\n",
              "      <td>C24</td>\n",
              "      <td>2173.369873</td>\n",
              "      <td>0.219086</td>\n",
              "      <td>0.019679</td>\n",
              "    </tr>\n",
              "    <tr>\n",
              "      <th>10</th>\n",
              "      <td>C14</td>\n",
              "      <td>2056.550049</td>\n",
              "      <td>0.207310</td>\n",
              "      <td>0.018621</td>\n",
              "    </tr>\n",
              "    <tr>\n",
              "      <th>11</th>\n",
              "      <td>C18</td>\n",
              "      <td>1982.447754</td>\n",
              "      <td>0.199840</td>\n",
              "      <td>0.017950</td>\n",
              "    </tr>\n",
              "    <tr>\n",
              "      <th>12</th>\n",
              "      <td>headline_C47</td>\n",
              "      <td>1914.039917</td>\n",
              "      <td>0.192944</td>\n",
              "      <td>0.017331</td>\n",
              "    </tr>\n",
              "    <tr>\n",
              "      <th>13</th>\n",
              "      <td>headline_C53</td>\n",
              "      <td>1836.777588</td>\n",
              "      <td>0.185156</td>\n",
              "      <td>0.016631</td>\n",
              "    </tr>\n",
              "    <tr>\n",
              "      <th>14</th>\n",
              "      <td>headline_C87</td>\n",
              "      <td>1777.634155</td>\n",
              "      <td>0.179194</td>\n",
              "      <td>0.016096</td>\n",
              "    </tr>\n",
              "    <tr>\n",
              "      <th>15</th>\n",
              "      <td>headline_C118</td>\n",
              "      <td>1770.466675</td>\n",
              "      <td>0.178471</td>\n",
              "      <td>0.016031</td>\n",
              "    </tr>\n",
              "    <tr>\n",
              "      <th>16</th>\n",
              "      <td>headline_C111</td>\n",
              "      <td>1568.335815</td>\n",
              "      <td>0.158095</td>\n",
              "      <td>0.014200</td>\n",
              "    </tr>\n",
              "    <tr>\n",
              "      <th>17</th>\n",
              "      <td>headline_C114</td>\n",
              "      <td>1505.423340</td>\n",
              "      <td>0.151754</td>\n",
              "      <td>0.013631</td>\n",
              "    </tr>\n",
              "    <tr>\n",
              "      <th>18</th>\n",
              "      <td>C102</td>\n",
              "      <td>1459.496948</td>\n",
              "      <td>0.147124</td>\n",
              "      <td>0.013215</td>\n",
              "    </tr>\n",
              "    <tr>\n",
              "      <th>19</th>\n",
              "      <td>headline_C3</td>\n",
              "      <td>1456.072021</td>\n",
              "      <td>0.146779</td>\n",
              "      <td>0.013184</td>\n",
              "    </tr>\n",
              "  </tbody>\n",
              "</table>\n",
              "</div>"
            ],
            "text/plain": [
              "         variable  relative_importance  scaled_importance  percentage\n",
              "0    headline_C29          9920.183594           1.000000    0.089822\n",
              "1    headline_C11          8405.688477           0.847332    0.076109\n",
              "2             C57          4325.777832           0.436058    0.039168\n",
              "3    headline_C24          4093.447021           0.412638    0.037064\n",
              "4            C118          3510.360840           0.353860    0.031785\n",
              "5             C29          3119.352539           0.314445    0.028244\n",
              "6   headline_C102          2677.878418           0.269942    0.024247\n",
              "7             C53          2487.118164           0.250713    0.022520\n",
              "8             C11          2216.497070           0.223433    0.020069\n",
              "9             C24          2173.369873           0.219086    0.019679\n",
              "10            C14          2056.550049           0.207310    0.018621\n",
              "11            C18          1982.447754           0.199840    0.017950\n",
              "12   headline_C47          1914.039917           0.192944    0.017331\n",
              "13   headline_C53          1836.777588           0.185156    0.016631\n",
              "14   headline_C87          1777.634155           0.179194    0.016096\n",
              "15  headline_C118          1770.466675           0.178471    0.016031\n",
              "16  headline_C111          1568.335815           0.158095    0.014200\n",
              "17  headline_C114          1505.423340           0.151754    0.013631\n",
              "18           C102          1459.496948           0.147124    0.013215\n",
              "19    headline_C3          1456.072021           0.146779    0.013184"
            ]
          },
          "metadata": {
            "tags": []
          }
        },
        {
          "output_type": "stream",
          "text": [
            "\n",
            "See the whole table with table.as_data_frame()\n"
          ],
          "name": "stdout"
        },
        {
          "output_type": "execute_result",
          "data": {
            "text/plain": [
              ""
            ]
          },
          "metadata": {
            "tags": []
          },
          "execution_count": 95
        }
      ]
    },
    {
      "cell_type": "code",
      "metadata": {
        "id": "79wJa7YYEyrT",
        "colab_type": "code",
        "colab": {}
      },
      "source": [
        ""
      ],
      "execution_count": 0,
      "outputs": []
    },
    {
      "cell_type": "code",
      "metadata": {
        "id": "6p-xEHR7EyoZ",
        "colab_type": "code",
        "colab": {}
      },
      "source": [
        "train_data, valid_data, test_data = data_final.split_frame(ratios=[0.7,0.15])"
      ],
      "execution_count": 0,
      "outputs": []
    },
    {
      "cell_type": "code",
      "metadata": {
        "id": "yicj0FDAFe7p",
        "colab_type": "code",
        "colab": {
          "base_uri": "https://localhost:8080/",
          "height": 34
        },
        "outputId": "e372e038-b385-4506-a51e-12bcad280df2"
      },
      "source": [
        "gbm_final = H2OGradientBoostingEstimator(ntrees = 500, max_depth = 7, stopping_metric = 'AUC', stopping_tolerance = 0.001,stopping_rounds = 5, score_tree_interval = 10)\n",
        "gbm_final.train(x =headline_vec.names + review_vec.names, y = 'target', training_frame=train_data, validation_frame = valid_data)"
      ],
      "execution_count": 97,
      "outputs": [
        {
          "output_type": "stream",
          "text": [
            "gbm Model Build progress: |███████████████████████████████████████████████| 100%\n"
          ],
          "name": "stdout"
        }
      ]
    },
    {
      "cell_type": "code",
      "metadata": {
        "id": "kHK1e5pVFe5q",
        "colab_type": "code",
        "colab": {
          "base_uri": "https://localhost:8080/",
          "height": 34
        },
        "outputId": "89a21921-d1a0-43f9-a804-6a414fec4452"
      },
      "source": [
        "print('Final_Model AUC:' + str(round(gbm_final.auc(valid = True),3)))"
      ],
      "execution_count": 98,
      "outputs": [
        {
          "output_type": "stream",
          "text": [
            "Final_Model AUC:0.939\n"
          ],
          "name": "stdout"
        }
      ]
    },
    {
      "cell_type": "code",
      "metadata": {
        "id": "001LPDaTFe3N",
        "colab_type": "code",
        "colab": {
          "base_uri": "https://localhost:8080/",
          "height": 176
        },
        "outputId": "b90f9d7a-f60f-43fd-b920-3a36afd858c4"
      },
      "source": [
        "gbm_final.confusion_matrix(valid = True)"
      ],
      "execution_count": 99,
      "outputs": [
        {
          "output_type": "stream",
          "text": [
            "\n",
            "Confusion Matrix (Act/Pred) for max f1 @ threshold = 0.4576815426383282: \n"
          ],
          "name": "stdout"
        },
        {
          "output_type": "display_data",
          "data": {
            "text/html": [
              "<div>\n",
              "<style scoped>\n",
              "    .dataframe tbody tr th:only-of-type {\n",
              "        vertical-align: middle;\n",
              "    }\n",
              "\n",
              "    .dataframe tbody tr th {\n",
              "        vertical-align: top;\n",
              "    }\n",
              "\n",
              "    .dataframe thead th {\n",
              "        text-align: right;\n",
              "    }\n",
              "</style>\n",
              "<table border=\"1\" class=\"dataframe\">\n",
              "  <thead>\n",
              "    <tr style=\"text-align: right;\">\n",
              "      <th></th>\n",
              "      <th></th>\n",
              "      <th>0</th>\n",
              "      <th>1</th>\n",
              "      <th>Error</th>\n",
              "      <th>Rate</th>\n",
              "    </tr>\n",
              "  </thead>\n",
              "  <tbody>\n",
              "    <tr>\n",
              "      <th>0</th>\n",
              "      <td>0</td>\n",
              "      <td>2377.0</td>\n",
              "      <td>1069.0</td>\n",
              "      <td>0.3102</td>\n",
              "      <td>(1069.0/3446.0)</td>\n",
              "    </tr>\n",
              "    <tr>\n",
              "      <th>1</th>\n",
              "      <td>1</td>\n",
              "      <td>390.0</td>\n",
              "      <td>9086.0</td>\n",
              "      <td>0.0412</td>\n",
              "      <td>(390.0/9476.0)</td>\n",
              "    </tr>\n",
              "    <tr>\n",
              "      <th>2</th>\n",
              "      <td>Total</td>\n",
              "      <td>2767.0</td>\n",
              "      <td>10155.0</td>\n",
              "      <td>0.1129</td>\n",
              "      <td>(1459.0/12922.0)</td>\n",
              "    </tr>\n",
              "  </tbody>\n",
              "</table>\n",
              "</div>"
            ],
            "text/plain": [
              "               0        1   Error               Rate\n",
              "0      0  2377.0   1069.0  0.3102    (1069.0/3446.0)\n",
              "1      1   390.0   9086.0  0.0412     (390.0/9476.0)\n",
              "2  Total  2767.0  10155.0  0.1129   (1459.0/12922.0)"
            ]
          },
          "metadata": {
            "tags": []
          }
        },
        {
          "output_type": "execute_result",
          "data": {
            "text/plain": [
              ""
            ]
          },
          "metadata": {
            "tags": []
          },
          "execution_count": 99
        }
      ]
    },
    {
      "cell_type": "code",
      "metadata": {
        "id": "wGHd9aLYGhNh",
        "colab_type": "code",
        "colab": {
          "base_uri": "https://localhost:8080/",
          "height": 1000
        },
        "outputId": "4502d85b-0f2e-4aa8-b8db-6c7f1ad00368"
      },
      "source": [
        "gbm_final.model_performance(test_data)"
      ],
      "execution_count": 100,
      "outputs": [
        {
          "output_type": "stream",
          "text": [
            "\n",
            "ModelMetricsBinomial: gbm\n",
            "** Reported on test data. **\n",
            "\n",
            "MSE: 0.08375716298481511\n",
            "RMSE: 0.28940829805797746\n",
            "LogLoss: 0.27394897576191873\n",
            "Mean Per-Class Error: 0.13570360195313957\n",
            "AUC: 0.9412918842064667\n",
            "AUCPR: 0.9755813950595168\n",
            "Gini: 0.8825837684129334\n",
            "\n",
            "Confusion Matrix (Act/Pred) for max f1 @ threshold = 0.5205613682159469: \n"
          ],
          "name": "stdout"
        },
        {
          "output_type": "display_data",
          "data": {
            "text/html": [
              "<div>\n",
              "<style scoped>\n",
              "    .dataframe tbody tr th:only-of-type {\n",
              "        vertical-align: middle;\n",
              "    }\n",
              "\n",
              "    .dataframe tbody tr th {\n",
              "        vertical-align: top;\n",
              "    }\n",
              "\n",
              "    .dataframe thead th {\n",
              "        text-align: right;\n",
              "    }\n",
              "</style>\n",
              "<table border=\"1\" class=\"dataframe\">\n",
              "  <thead>\n",
              "    <tr style=\"text-align: right;\">\n",
              "      <th></th>\n",
              "      <th></th>\n",
              "      <th>0</th>\n",
              "      <th>1</th>\n",
              "      <th>Error</th>\n",
              "      <th>Rate</th>\n",
              "    </tr>\n",
              "  </thead>\n",
              "  <tbody>\n",
              "    <tr>\n",
              "      <th>0</th>\n",
              "      <td>0</td>\n",
              "      <td>2594.0</td>\n",
              "      <td>959.0</td>\n",
              "      <td>0.2699</td>\n",
              "      <td>(959.0/3553.0)</td>\n",
              "    </tr>\n",
              "    <tr>\n",
              "      <th>1</th>\n",
              "      <td>1</td>\n",
              "      <td>498.0</td>\n",
              "      <td>8792.0</td>\n",
              "      <td>0.0536</td>\n",
              "      <td>(498.0/9290.0)</td>\n",
              "    </tr>\n",
              "    <tr>\n",
              "      <th>2</th>\n",
              "      <td>Total</td>\n",
              "      <td>3092.0</td>\n",
              "      <td>9751.0</td>\n",
              "      <td>0.1134</td>\n",
              "      <td>(1457.0/12843.0)</td>\n",
              "    </tr>\n",
              "  </tbody>\n",
              "</table>\n",
              "</div>"
            ],
            "text/plain": [
              "               0       1   Error               Rate\n",
              "0      0  2594.0   959.0  0.2699     (959.0/3553.0)\n",
              "1      1   498.0  8792.0  0.0536     (498.0/9290.0)\n",
              "2  Total  3092.0  9751.0  0.1134   (1457.0/12843.0)"
            ]
          },
          "metadata": {
            "tags": []
          }
        },
        {
          "output_type": "stream",
          "text": [
            "\n",
            "Maximum Metrics: Maximum metrics at their respective thresholds\n"
          ],
          "name": "stdout"
        },
        {
          "output_type": "display_data",
          "data": {
            "text/html": [
              "<div>\n",
              "<style scoped>\n",
              "    .dataframe tbody tr th:only-of-type {\n",
              "        vertical-align: middle;\n",
              "    }\n",
              "\n",
              "    .dataframe tbody tr th {\n",
              "        vertical-align: top;\n",
              "    }\n",
              "\n",
              "    .dataframe thead th {\n",
              "        text-align: right;\n",
              "    }\n",
              "</style>\n",
              "<table border=\"1\" class=\"dataframe\">\n",
              "  <thead>\n",
              "    <tr style=\"text-align: right;\">\n",
              "      <th></th>\n",
              "      <th>metric</th>\n",
              "      <th>threshold</th>\n",
              "      <th>value</th>\n",
              "      <th>idx</th>\n",
              "    </tr>\n",
              "  </thead>\n",
              "  <tbody>\n",
              "    <tr>\n",
              "      <th>0</th>\n",
              "      <td>max f1</td>\n",
              "      <td>0.520561</td>\n",
              "      <td>0.923481</td>\n",
              "      <td>220.0</td>\n",
              "    </tr>\n",
              "    <tr>\n",
              "      <th>1</th>\n",
              "      <td>max f2</td>\n",
              "      <td>0.184923</td>\n",
              "      <td>0.954252</td>\n",
              "      <td>319.0</td>\n",
              "    </tr>\n",
              "    <tr>\n",
              "      <th>2</th>\n",
              "      <td>max f0point5</td>\n",
              "      <td>0.805609</td>\n",
              "      <td>0.926563</td>\n",
              "      <td>124.0</td>\n",
              "    </tr>\n",
              "    <tr>\n",
              "      <th>3</th>\n",
              "      <td>max accuracy</td>\n",
              "      <td>0.520561</td>\n",
              "      <td>0.886553</td>\n",
              "      <td>220.0</td>\n",
              "    </tr>\n",
              "    <tr>\n",
              "      <th>4</th>\n",
              "      <td>max precision</td>\n",
              "      <td>0.999274</td>\n",
              "      <td>1.000000</td>\n",
              "      <td>0.0</td>\n",
              "    </tr>\n",
              "    <tr>\n",
              "      <th>5</th>\n",
              "      <td>max recall</td>\n",
              "      <td>0.000727</td>\n",
              "      <td>1.000000</td>\n",
              "      <td>399.0</td>\n",
              "    </tr>\n",
              "    <tr>\n",
              "      <th>6</th>\n",
              "      <td>max specificity</td>\n",
              "      <td>0.999274</td>\n",
              "      <td>1.000000</td>\n",
              "      <td>0.0</td>\n",
              "    </tr>\n",
              "    <tr>\n",
              "      <th>7</th>\n",
              "      <td>max absolute_mcc</td>\n",
              "      <td>0.578940</td>\n",
              "      <td>0.710056</td>\n",
              "      <td>203.0</td>\n",
              "    </tr>\n",
              "    <tr>\n",
              "      <th>8</th>\n",
              "      <td>max min_per_class_accuracy</td>\n",
              "      <td>0.795627</td>\n",
              "      <td>0.862651</td>\n",
              "      <td>128.0</td>\n",
              "    </tr>\n",
              "    <tr>\n",
              "      <th>9</th>\n",
              "      <td>max mean_per_class_accuracy</td>\n",
              "      <td>0.805609</td>\n",
              "      <td>0.864296</td>\n",
              "      <td>124.0</td>\n",
              "    </tr>\n",
              "    <tr>\n",
              "      <th>10</th>\n",
              "      <td>max tns</td>\n",
              "      <td>0.999274</td>\n",
              "      <td>3553.000000</td>\n",
              "      <td>0.0</td>\n",
              "    </tr>\n",
              "    <tr>\n",
              "      <th>11</th>\n",
              "      <td>max fns</td>\n",
              "      <td>0.999274</td>\n",
              "      <td>8919.000000</td>\n",
              "      <td>0.0</td>\n",
              "    </tr>\n",
              "    <tr>\n",
              "      <th>12</th>\n",
              "      <td>max fps</td>\n",
              "      <td>0.000727</td>\n",
              "      <td>3553.000000</td>\n",
              "      <td>399.0</td>\n",
              "    </tr>\n",
              "    <tr>\n",
              "      <th>13</th>\n",
              "      <td>max tps</td>\n",
              "      <td>0.000727</td>\n",
              "      <td>9290.000000</td>\n",
              "      <td>399.0</td>\n",
              "    </tr>\n",
              "    <tr>\n",
              "      <th>14</th>\n",
              "      <td>max tnr</td>\n",
              "      <td>0.999274</td>\n",
              "      <td>1.000000</td>\n",
              "      <td>0.0</td>\n",
              "    </tr>\n",
              "    <tr>\n",
              "      <th>15</th>\n",
              "      <td>max fnr</td>\n",
              "      <td>0.999274</td>\n",
              "      <td>0.960065</td>\n",
              "      <td>0.0</td>\n",
              "    </tr>\n",
              "    <tr>\n",
              "      <th>16</th>\n",
              "      <td>max fpr</td>\n",
              "      <td>0.000727</td>\n",
              "      <td>1.000000</td>\n",
              "      <td>399.0</td>\n",
              "    </tr>\n",
              "    <tr>\n",
              "      <th>17</th>\n",
              "      <td>max tpr</td>\n",
              "      <td>0.000727</td>\n",
              "      <td>1.000000</td>\n",
              "      <td>399.0</td>\n",
              "    </tr>\n",
              "  </tbody>\n",
              "</table>\n",
              "</div>"
            ],
            "text/plain": [
              "                         metric  threshold        value    idx\n",
              "0                        max f1   0.520561     0.923481  220.0\n",
              "1                        max f2   0.184923     0.954252  319.0\n",
              "2                  max f0point5   0.805609     0.926563  124.0\n",
              "3                  max accuracy   0.520561     0.886553  220.0\n",
              "4                 max precision   0.999274     1.000000    0.0\n",
              "5                    max recall   0.000727     1.000000  399.0\n",
              "6               max specificity   0.999274     1.000000    0.0\n",
              "7              max absolute_mcc   0.578940     0.710056  203.0\n",
              "8    max min_per_class_accuracy   0.795627     0.862651  128.0\n",
              "9   max mean_per_class_accuracy   0.805609     0.864296  124.0\n",
              "10                      max tns   0.999274  3553.000000    0.0\n",
              "11                      max fns   0.999274  8919.000000    0.0\n",
              "12                      max fps   0.000727  3553.000000  399.0\n",
              "13                      max tps   0.000727  9290.000000  399.0\n",
              "14                      max tnr   0.999274     1.000000    0.0\n",
              "15                      max fnr   0.999274     0.960065    0.0\n",
              "16                      max fpr   0.000727     1.000000  399.0\n",
              "17                      max tpr   0.000727     1.000000  399.0"
            ]
          },
          "metadata": {
            "tags": []
          }
        },
        {
          "output_type": "stream",
          "text": [
            "\n",
            "Gains/Lift Table: Avg response rate: 72.34 %, avg score: 73.96 %\n"
          ],
          "name": "stdout"
        },
        {
          "output_type": "display_data",
          "data": {
            "text/html": [
              "<div>\n",
              "<style scoped>\n",
              "    .dataframe tbody tr th:only-of-type {\n",
              "        vertical-align: middle;\n",
              "    }\n",
              "\n",
              "    .dataframe tbody tr th {\n",
              "        vertical-align: top;\n",
              "    }\n",
              "\n",
              "    .dataframe thead th {\n",
              "        text-align: right;\n",
              "    }\n",
              "</style>\n",
              "<table border=\"1\" class=\"dataframe\">\n",
              "  <thead>\n",
              "    <tr style=\"text-align: right;\">\n",
              "      <th></th>\n",
              "      <th></th>\n",
              "      <th>group</th>\n",
              "      <th>cumulative_data_fraction</th>\n",
              "      <th>lower_threshold</th>\n",
              "      <th>lift</th>\n",
              "      <th>cumulative_lift</th>\n",
              "      <th>response_rate</th>\n",
              "      <th>score</th>\n",
              "      <th>cumulative_response_rate</th>\n",
              "      <th>cumulative_score</th>\n",
              "      <th>capture_rate</th>\n",
              "      <th>cumulative_capture_rate</th>\n",
              "      <th>gain</th>\n",
              "      <th>cumulative_gain</th>\n",
              "    </tr>\n",
              "  </thead>\n",
              "  <tbody>\n",
              "    <tr>\n",
              "      <th>0</th>\n",
              "      <td></td>\n",
              "      <td>1</td>\n",
              "      <td>0.011057</td>\n",
              "      <td>0.999338</td>\n",
              "      <td>1.382454</td>\n",
              "      <td>1.382454</td>\n",
              "      <td>1.000000</td>\n",
              "      <td>0.999451</td>\n",
              "      <td>1.000000</td>\n",
              "      <td>0.999451</td>\n",
              "      <td>0.015285</td>\n",
              "      <td>0.015285</td>\n",
              "      <td>38.245425</td>\n",
              "      <td>38.245425</td>\n",
              "    </tr>\n",
              "    <tr>\n",
              "      <th>1</th>\n",
              "      <td></td>\n",
              "      <td>2</td>\n",
              "      <td>0.020011</td>\n",
              "      <td>0.999189</td>\n",
              "      <td>1.382454</td>\n",
              "      <td>1.382454</td>\n",
              "      <td>1.000000</td>\n",
              "      <td>0.999254</td>\n",
              "      <td>1.000000</td>\n",
              "      <td>0.999363</td>\n",
              "      <td>0.012379</td>\n",
              "      <td>0.027664</td>\n",
              "      <td>38.245425</td>\n",
              "      <td>38.245425</td>\n",
              "    </tr>\n",
              "    <tr>\n",
              "      <th>2</th>\n",
              "      <td></td>\n",
              "      <td>3</td>\n",
              "      <td>0.030055</td>\n",
              "      <td>0.999079</td>\n",
              "      <td>1.382454</td>\n",
              "      <td>1.382454</td>\n",
              "      <td>1.000000</td>\n",
              "      <td>0.999131</td>\n",
              "      <td>1.000000</td>\n",
              "      <td>0.999286</td>\n",
              "      <td>0.013886</td>\n",
              "      <td>0.041550</td>\n",
              "      <td>38.245425</td>\n",
              "      <td>38.245425</td>\n",
              "    </tr>\n",
              "    <tr>\n",
              "      <th>3</th>\n",
              "      <td></td>\n",
              "      <td>4</td>\n",
              "      <td>0.040022</td>\n",
              "      <td>0.998939</td>\n",
              "      <td>1.382454</td>\n",
              "      <td>1.382454</td>\n",
              "      <td>1.000000</td>\n",
              "      <td>0.999013</td>\n",
              "      <td>1.000000</td>\n",
              "      <td>0.999218</td>\n",
              "      <td>0.013778</td>\n",
              "      <td>0.055328</td>\n",
              "      <td>38.245425</td>\n",
              "      <td>38.245425</td>\n",
              "    </tr>\n",
              "    <tr>\n",
              "      <th>4</th>\n",
              "      <td></td>\n",
              "      <td>5</td>\n",
              "      <td>0.050066</td>\n",
              "      <td>0.998850</td>\n",
              "      <td>1.382454</td>\n",
              "      <td>1.382454</td>\n",
              "      <td>1.000000</td>\n",
              "      <td>0.998899</td>\n",
              "      <td>1.000000</td>\n",
              "      <td>0.999154</td>\n",
              "      <td>0.013886</td>\n",
              "      <td>0.069214</td>\n",
              "      <td>38.245425</td>\n",
              "      <td>38.245425</td>\n",
              "    </tr>\n",
              "    <tr>\n",
              "      <th>5</th>\n",
              "      <td></td>\n",
              "      <td>6</td>\n",
              "      <td>0.100055</td>\n",
              "      <td>0.997889</td>\n",
              "      <td>1.382454</td>\n",
              "      <td>1.382454</td>\n",
              "      <td>1.000000</td>\n",
              "      <td>0.998425</td>\n",
              "      <td>1.000000</td>\n",
              "      <td>0.998790</td>\n",
              "      <td>0.069107</td>\n",
              "      <td>0.138321</td>\n",
              "      <td>38.245425</td>\n",
              "      <td>38.245425</td>\n",
              "    </tr>\n",
              "    <tr>\n",
              "      <th>6</th>\n",
              "      <td></td>\n",
              "      <td>7</td>\n",
              "      <td>0.150043</td>\n",
              "      <td>0.996598</td>\n",
              "      <td>1.380301</td>\n",
              "      <td>1.381737</td>\n",
              "      <td>0.998442</td>\n",
              "      <td>0.997280</td>\n",
              "      <td>0.999481</td>\n",
              "      <td>0.998287</td>\n",
              "      <td>0.068999</td>\n",
              "      <td>0.207320</td>\n",
              "      <td>38.030090</td>\n",
              "      <td>38.173684</td>\n",
              "    </tr>\n",
              "    <tr>\n",
              "      <th>7</th>\n",
              "      <td></td>\n",
              "      <td>8</td>\n",
              "      <td>0.200031</td>\n",
              "      <td>0.994754</td>\n",
              "      <td>1.373841</td>\n",
              "      <td>1.379764</td>\n",
              "      <td>0.993769</td>\n",
              "      <td>0.995719</td>\n",
              "      <td>0.998054</td>\n",
              "      <td>0.997645</td>\n",
              "      <td>0.068676</td>\n",
              "      <td>0.275996</td>\n",
              "      <td>37.384083</td>\n",
              "      <td>37.976361</td>\n",
              "    </tr>\n",
              "    <tr>\n",
              "      <th>8</th>\n",
              "      <td></td>\n",
              "      <td>9</td>\n",
              "      <td>0.300008</td>\n",
              "      <td>0.988593</td>\n",
              "      <td>1.364151</td>\n",
              "      <td>1.374561</td>\n",
              "      <td>0.986760</td>\n",
              "      <td>0.992027</td>\n",
              "      <td>0.994290</td>\n",
              "      <td>0.995773</td>\n",
              "      <td>0.136383</td>\n",
              "      <td>0.412379</td>\n",
              "      <td>36.415073</td>\n",
              "      <td>37.456066</td>\n",
              "    </tr>\n",
              "    <tr>\n",
              "      <th>9</th>\n",
              "      <td></td>\n",
              "      <td>10</td>\n",
              "      <td>0.399984</td>\n",
              "      <td>0.975568</td>\n",
              "      <td>1.348001</td>\n",
              "      <td>1.367922</td>\n",
              "      <td>0.975078</td>\n",
              "      <td>0.982824</td>\n",
              "      <td>0.989488</td>\n",
              "      <td>0.992536</td>\n",
              "      <td>0.134769</td>\n",
              "      <td>0.547147</td>\n",
              "      <td>34.800056</td>\n",
              "      <td>36.792193</td>\n",
              "    </tr>\n",
              "    <tr>\n",
              "      <th>10</th>\n",
              "      <td></td>\n",
              "      <td>11</td>\n",
              "      <td>0.500039</td>\n",
              "      <td>0.947970</td>\n",
              "      <td>1.282401</td>\n",
              "      <td>1.350810</td>\n",
              "      <td>0.927626</td>\n",
              "      <td>0.963709</td>\n",
              "      <td>0.977110</td>\n",
              "      <td>0.986768</td>\n",
              "      <td>0.128310</td>\n",
              "      <td>0.675457</td>\n",
              "      <td>28.240114</td>\n",
              "      <td>35.080978</td>\n",
              "    </tr>\n",
              "    <tr>\n",
              "      <th>11</th>\n",
              "      <td></td>\n",
              "      <td>12</td>\n",
              "      <td>0.600016</td>\n",
              "      <td>0.882854</td>\n",
              "      <td>1.213416</td>\n",
              "      <td>1.327917</td>\n",
              "      <td>0.877726</td>\n",
              "      <td>0.920437</td>\n",
              "      <td>0.960550</td>\n",
              "      <td>0.975716</td>\n",
              "      <td>0.121313</td>\n",
              "      <td>0.796771</td>\n",
              "      <td>21.341584</td>\n",
              "      <td>32.791674</td>\n",
              "    </tr>\n",
              "    <tr>\n",
              "      <th>12</th>\n",
              "      <td></td>\n",
              "      <td>13</td>\n",
              "      <td>0.699992</td>\n",
              "      <td>0.709161</td>\n",
              "      <td>1.027151</td>\n",
              "      <td>1.284960</td>\n",
              "      <td>0.742991</td>\n",
              "      <td>0.809774</td>\n",
              "      <td>0.929477</td>\n",
              "      <td>0.952015</td>\n",
              "      <td>0.102691</td>\n",
              "      <td>0.899462</td>\n",
              "      <td>2.715059</td>\n",
              "      <td>28.495970</td>\n",
              "    </tr>\n",
              "    <tr>\n",
              "      <th>13</th>\n",
              "      <td></td>\n",
              "      <td>14</td>\n",
              "      <td>0.799969</td>\n",
              "      <td>0.340462</td>\n",
              "      <td>0.689074</td>\n",
              "      <td>1.210488</td>\n",
              "      <td>0.498442</td>\n",
              "      <td>0.543436</td>\n",
              "      <td>0.875608</td>\n",
              "      <td>0.900953</td>\n",
              "      <td>0.068891</td>\n",
              "      <td>0.968353</td>\n",
              "      <td>-31.092623</td>\n",
              "      <td>21.048846</td>\n",
              "    </tr>\n",
              "    <tr>\n",
              "      <th>14</th>\n",
              "      <td></td>\n",
              "      <td>15</td>\n",
              "      <td>0.899945</td>\n",
              "      <td>0.050871</td>\n",
              "      <td>0.275630</td>\n",
              "      <td>1.106633</td>\n",
              "      <td>0.199377</td>\n",
              "      <td>0.173809</td>\n",
              "      <td>0.800485</td>\n",
              "      <td>0.820173</td>\n",
              "      <td>0.027557</td>\n",
              "      <td>0.995910</td>\n",
              "      <td>-72.437049</td>\n",
              "      <td>10.663322</td>\n",
              "    </tr>\n",
              "    <tr>\n",
              "      <th>15</th>\n",
              "      <td></td>\n",
              "      <td>16</td>\n",
              "      <td>1.000000</td>\n",
              "      <td>0.000144</td>\n",
              "      <td>0.040882</td>\n",
              "      <td>1.000000</td>\n",
              "      <td>0.029572</td>\n",
              "      <td>0.015265</td>\n",
              "      <td>0.723351</td>\n",
              "      <td>0.739638</td>\n",
              "      <td>0.004090</td>\n",
              "      <td>1.000000</td>\n",
              "      <td>-95.911808</td>\n",
              "      <td>0.000000</td>\n",
              "    </tr>\n",
              "  </tbody>\n",
              "</table>\n",
              "</div>"
            ],
            "text/plain": [
              "      group  ...       gain  cumulative_gain\n",
              "0         1  ...  38.245425        38.245425\n",
              "1         2  ...  38.245425        38.245425\n",
              "2         3  ...  38.245425        38.245425\n",
              "3         4  ...  38.245425        38.245425\n",
              "4         5  ...  38.245425        38.245425\n",
              "5         6  ...  38.245425        38.245425\n",
              "6         7  ...  38.030090        38.173684\n",
              "7         8  ...  37.384083        37.976361\n",
              "8         9  ...  36.415073        37.456066\n",
              "9        10  ...  34.800056        36.792193\n",
              "10       11  ...  28.240114        35.080978\n",
              "11       12  ...  21.341584        32.791674\n",
              "12       13  ...   2.715059        28.495970\n",
              "13       14  ... -31.092623        21.048846\n",
              "14       15  ... -72.437049        10.663322\n",
              "15       16  ... -95.911808         0.000000\n",
              "\n",
              "[16 rows x 14 columns]"
            ]
          },
          "metadata": {
            "tags": []
          }
        },
        {
          "output_type": "stream",
          "text": [
            "\n"
          ],
          "name": "stdout"
        },
        {
          "output_type": "execute_result",
          "data": {
            "text/plain": [
              ""
            ]
          },
          "metadata": {
            "tags": []
          },
          "execution_count": 100
        }
      ]
    },
    {
      "cell_type": "code",
      "metadata": {
        "id": "dZTNn4AlGhg7",
        "colab_type": "code",
        "colab": {
          "base_uri": "https://localhost:8080/",
          "height": 1000
        },
        "outputId": "ab0adf9e-d413-422a-876c-f3f4a757d376"
      },
      "source": [
        "gbm_final.score_history()"
      ],
      "execution_count": 101,
      "outputs": [
        {
          "output_type": "execute_result",
          "data": {
            "text/html": [
              "<div>\n",
              "<style scoped>\n",
              "    .dataframe tbody tr th:only-of-type {\n",
              "        vertical-align: middle;\n",
              "    }\n",
              "\n",
              "    .dataframe tbody tr th {\n",
              "        vertical-align: top;\n",
              "    }\n",
              "\n",
              "    .dataframe thead th {\n",
              "        text-align: right;\n",
              "    }\n",
              "</style>\n",
              "<table border=\"1\" class=\"dataframe\">\n",
              "  <thead>\n",
              "    <tr style=\"text-align: right;\">\n",
              "      <th></th>\n",
              "      <th></th>\n",
              "      <th>timestamp</th>\n",
              "      <th>duration</th>\n",
              "      <th>number_of_trees</th>\n",
              "      <th>training_rmse</th>\n",
              "      <th>training_logloss</th>\n",
              "      <th>training_auc</th>\n",
              "      <th>training_pr_auc</th>\n",
              "      <th>training_lift</th>\n",
              "      <th>training_classification_error</th>\n",
              "      <th>validation_rmse</th>\n",
              "      <th>validation_logloss</th>\n",
              "      <th>validation_auc</th>\n",
              "      <th>validation_pr_auc</th>\n",
              "      <th>validation_lift</th>\n",
              "      <th>validation_classification_error</th>\n",
              "    </tr>\n",
              "  </thead>\n",
              "  <tbody>\n",
              "    <tr>\n",
              "      <th>0</th>\n",
              "      <td></td>\n",
              "      <td>2020-05-01 11:54:11</td>\n",
              "      <td>0.016 sec</td>\n",
              "      <td>0.0</td>\n",
              "      <td>0.445408</td>\n",
              "      <td>0.586041</td>\n",
              "      <td>0.500000</td>\n",
              "      <td>0.727182</td>\n",
              "      <td>1.000000</td>\n",
              "      <td>0.272818</td>\n",
              "      <td>0.442265</td>\n",
              "      <td>0.580021</td>\n",
              "      <td>0.500000</td>\n",
              "      <td>0.733323</td>\n",
              "      <td>1.000000</td>\n",
              "      <td>0.266677</td>\n",
              "    </tr>\n",
              "    <tr>\n",
              "      <th>1</th>\n",
              "      <td></td>\n",
              "      <td>2020-05-01 11:54:26</td>\n",
              "      <td>14.192 sec</td>\n",
              "      <td>10.0</td>\n",
              "      <td>0.343272</td>\n",
              "      <td>0.390786</td>\n",
              "      <td>0.923511</td>\n",
              "      <td>0.967289</td>\n",
              "      <td>1.375171</td>\n",
              "      <td>0.128006</td>\n",
              "      <td>0.352157</td>\n",
              "      <td>0.405618</td>\n",
              "      <td>0.895416</td>\n",
              "      <td>0.955840</td>\n",
              "      <td>1.363656</td>\n",
              "      <td>0.150751</td>\n",
              "    </tr>\n",
              "    <tr>\n",
              "      <th>2</th>\n",
              "      <td></td>\n",
              "      <td>2020-05-01 11:54:40</td>\n",
              "      <td>28.259 sec</td>\n",
              "      <td>20.0</td>\n",
              "      <td>0.305405</td>\n",
              "      <td>0.320196</td>\n",
              "      <td>0.942278</td>\n",
              "      <td>0.975669</td>\n",
              "      <td>1.375171</td>\n",
              "      <td>0.109423</td>\n",
              "      <td>0.325400</td>\n",
              "      <td>0.351148</td>\n",
              "      <td>0.909601</td>\n",
              "      <td>0.962015</td>\n",
              "      <td>1.363656</td>\n",
              "      <td>0.141077</td>\n",
              "    </tr>\n",
              "    <tr>\n",
              "      <th>3</th>\n",
              "      <td></td>\n",
              "      <td>2020-05-01 11:54:54</td>\n",
              "      <td>42.293 sec</td>\n",
              "      <td>30.0</td>\n",
              "      <td>0.284323</td>\n",
              "      <td>0.281231</td>\n",
              "      <td>0.953420</td>\n",
              "      <td>0.980568</td>\n",
              "      <td>1.375171</td>\n",
              "      <td>0.097300</td>\n",
              "      <td>0.313860</td>\n",
              "      <td>0.325456</td>\n",
              "      <td>0.917560</td>\n",
              "      <td>0.965865</td>\n",
              "      <td>1.363656</td>\n",
              "      <td>0.133571</td>\n",
              "    </tr>\n",
              "    <tr>\n",
              "      <th>4</th>\n",
              "      <td></td>\n",
              "      <td>2020-05-01 11:55:08</td>\n",
              "      <td>56.581 sec</td>\n",
              "      <td>40.0</td>\n",
              "      <td>0.268499</td>\n",
              "      <td>0.253752</td>\n",
              "      <td>0.961979</td>\n",
              "      <td>0.984266</td>\n",
              "      <td>1.375171</td>\n",
              "      <td>0.086406</td>\n",
              "      <td>0.306859</td>\n",
              "      <td>0.309888</td>\n",
              "      <td>0.923079</td>\n",
              "      <td>0.968400</td>\n",
              "      <td>1.363656</td>\n",
              "      <td>0.129314</td>\n",
              "    </tr>\n",
              "    <tr>\n",
              "      <th>5</th>\n",
              "      <td></td>\n",
              "      <td>2020-05-01 11:55:22</td>\n",
              "      <td>1 min 10.500 sec</td>\n",
              "      <td>50.0</td>\n",
              "      <td>0.256370</td>\n",
              "      <td>0.233578</td>\n",
              "      <td>0.968130</td>\n",
              "      <td>0.986910</td>\n",
              "      <td>1.375171</td>\n",
              "      <td>0.078584</td>\n",
              "      <td>0.302808</td>\n",
              "      <td>0.300510</td>\n",
              "      <td>0.926166</td>\n",
              "      <td>0.969819</td>\n",
              "      <td>1.363656</td>\n",
              "      <td>0.126606</td>\n",
              "    </tr>\n",
              "    <tr>\n",
              "      <th>6</th>\n",
              "      <td></td>\n",
              "      <td>2020-05-01 11:55:36</td>\n",
              "      <td>1 min 24.213 sec</td>\n",
              "      <td>60.0</td>\n",
              "      <td>0.245414</td>\n",
              "      <td>0.216614</td>\n",
              "      <td>0.973394</td>\n",
              "      <td>0.989143</td>\n",
              "      <td>1.375171</td>\n",
              "      <td>0.071360</td>\n",
              "      <td>0.299866</td>\n",
              "      <td>0.294035</td>\n",
              "      <td>0.928526</td>\n",
              "      <td>0.970837</td>\n",
              "      <td>1.363656</td>\n",
              "      <td>0.125290</td>\n",
              "    </tr>\n",
              "    <tr>\n",
              "      <th>7</th>\n",
              "      <td></td>\n",
              "      <td>2020-05-01 11:55:49</td>\n",
              "      <td>1 min 37.224 sec</td>\n",
              "      <td>70.0</td>\n",
              "      <td>0.236020</td>\n",
              "      <td>0.202489</td>\n",
              "      <td>0.977555</td>\n",
              "      <td>0.990911</td>\n",
              "      <td>1.375171</td>\n",
              "      <td>0.064734</td>\n",
              "      <td>0.297652</td>\n",
              "      <td>0.289086</td>\n",
              "      <td>0.930302</td>\n",
              "      <td>0.971628</td>\n",
              "      <td>1.363656</td>\n",
              "      <td>0.124129</td>\n",
              "    </tr>\n",
              "    <tr>\n",
              "      <th>8</th>\n",
              "      <td></td>\n",
              "      <td>2020-05-01 11:56:02</td>\n",
              "      <td>1 min 50.363 sec</td>\n",
              "      <td>80.0</td>\n",
              "      <td>0.227621</td>\n",
              "      <td>0.190486</td>\n",
              "      <td>0.980750</td>\n",
              "      <td>0.992244</td>\n",
              "      <td>1.375171</td>\n",
              "      <td>0.059336</td>\n",
              "      <td>0.295866</td>\n",
              "      <td>0.285304</td>\n",
              "      <td>0.931734</td>\n",
              "      <td>0.972256</td>\n",
              "      <td>1.363656</td>\n",
              "      <td>0.123201</td>\n",
              "    </tr>\n",
              "    <tr>\n",
              "      <th>9</th>\n",
              "      <td></td>\n",
              "      <td>2020-05-01 11:56:14</td>\n",
              "      <td>2 min  2.692 sec</td>\n",
              "      <td>90.0</td>\n",
              "      <td>0.219661</td>\n",
              "      <td>0.179605</td>\n",
              "      <td>0.983581</td>\n",
              "      <td>0.993410</td>\n",
              "      <td>1.375171</td>\n",
              "      <td>0.054172</td>\n",
              "      <td>0.294636</td>\n",
              "      <td>0.282488</td>\n",
              "      <td>0.932826</td>\n",
              "      <td>0.972736</td>\n",
              "      <td>1.363656</td>\n",
              "      <td>0.120957</td>\n",
              "    </tr>\n",
              "    <tr>\n",
              "      <th>10</th>\n",
              "      <td></td>\n",
              "      <td>2020-05-01 11:56:26</td>\n",
              "      <td>2 min 15.013 sec</td>\n",
              "      <td>100.0</td>\n",
              "      <td>0.212342</td>\n",
              "      <td>0.170083</td>\n",
              "      <td>0.985896</td>\n",
              "      <td>0.994354</td>\n",
              "      <td>1.375171</td>\n",
              "      <td>0.049754</td>\n",
              "      <td>0.293392</td>\n",
              "      <td>0.280090</td>\n",
              "      <td>0.933817</td>\n",
              "      <td>0.973112</td>\n",
              "      <td>1.363656</td>\n",
              "      <td>0.120647</td>\n",
              "    </tr>\n",
              "    <tr>\n",
              "      <th>11</th>\n",
              "      <td></td>\n",
              "      <td>2020-05-01 11:56:41</td>\n",
              "      <td>2 min 29.511 sec</td>\n",
              "      <td>110.0</td>\n",
              "      <td>0.205243</td>\n",
              "      <td>0.161134</td>\n",
              "      <td>0.987987</td>\n",
              "      <td>0.995210</td>\n",
              "      <td>1.375171</td>\n",
              "      <td>0.045536</td>\n",
              "      <td>0.292406</td>\n",
              "      <td>0.277969</td>\n",
              "      <td>0.934668</td>\n",
              "      <td>0.973505</td>\n",
              "      <td>1.363656</td>\n",
              "      <td>0.120028</td>\n",
              "    </tr>\n",
              "    <tr>\n",
              "      <th>12</th>\n",
              "      <td></td>\n",
              "      <td>2020-05-01 11:56:54</td>\n",
              "      <td>2 min 42.372 sec</td>\n",
              "      <td>120.0</td>\n",
              "      <td>0.198042</td>\n",
              "      <td>0.152409</td>\n",
              "      <td>0.989834</td>\n",
              "      <td>0.995952</td>\n",
              "      <td>1.375171</td>\n",
              "      <td>0.041335</td>\n",
              "      <td>0.292023</td>\n",
              "      <td>0.277164</td>\n",
              "      <td>0.934896</td>\n",
              "      <td>0.973515</td>\n",
              "      <td>1.363656</td>\n",
              "      <td>0.120337</td>\n",
              "    </tr>\n",
              "    <tr>\n",
              "      <th>13</th>\n",
              "      <td></td>\n",
              "      <td>2020-05-01 11:57:06</td>\n",
              "      <td>2 min 54.588 sec</td>\n",
              "      <td>130.0</td>\n",
              "      <td>0.191643</td>\n",
              "      <td>0.144856</td>\n",
              "      <td>0.991349</td>\n",
              "      <td>0.996570</td>\n",
              "      <td>1.375171</td>\n",
              "      <td>0.037880</td>\n",
              "      <td>0.291363</td>\n",
              "      <td>0.275929</td>\n",
              "      <td>0.935386</td>\n",
              "      <td>0.973637</td>\n",
              "      <td>1.363656</td>\n",
              "      <td>0.119331</td>\n",
              "    </tr>\n",
              "    <tr>\n",
              "      <th>14</th>\n",
              "      <td></td>\n",
              "      <td>2020-05-01 11:57:18</td>\n",
              "      <td>3 min  6.852 sec</td>\n",
              "      <td>140.0</td>\n",
              "      <td>0.185544</td>\n",
              "      <td>0.137934</td>\n",
              "      <td>0.992622</td>\n",
              "      <td>0.997079</td>\n",
              "      <td>1.375171</td>\n",
              "      <td>0.034277</td>\n",
              "      <td>0.290956</td>\n",
              "      <td>0.275261</td>\n",
              "      <td>0.935620</td>\n",
              "      <td>0.973762</td>\n",
              "      <td>1.363656</td>\n",
              "      <td>0.118712</td>\n",
              "    </tr>\n",
              "    <tr>\n",
              "      <th>15</th>\n",
              "      <td></td>\n",
              "      <td>2020-05-01 11:57:31</td>\n",
              "      <td>3 min 19.621 sec</td>\n",
              "      <td>150.0</td>\n",
              "      <td>0.179392</td>\n",
              "      <td>0.131115</td>\n",
              "      <td>0.993776</td>\n",
              "      <td>0.997540</td>\n",
              "      <td>1.375171</td>\n",
              "      <td>0.030972</td>\n",
              "      <td>0.290561</td>\n",
              "      <td>0.274629</td>\n",
              "      <td>0.935878</td>\n",
              "      <td>0.973823</td>\n",
              "      <td>1.363656</td>\n",
              "      <td>0.117397</td>\n",
              "    </tr>\n",
              "    <tr>\n",
              "      <th>16</th>\n",
              "      <td></td>\n",
              "      <td>2020-05-01 11:57:44</td>\n",
              "      <td>3 min 32.192 sec</td>\n",
              "      <td>160.0</td>\n",
              "      <td>0.173036</td>\n",
              "      <td>0.124344</td>\n",
              "      <td>0.994819</td>\n",
              "      <td>0.997958</td>\n",
              "      <td>1.375171</td>\n",
              "      <td>0.027850</td>\n",
              "      <td>0.290251</td>\n",
              "      <td>0.274022</td>\n",
              "      <td>0.936076</td>\n",
              "      <td>0.973884</td>\n",
              "      <td>1.363656</td>\n",
              "      <td>0.117706</td>\n",
              "    </tr>\n",
              "    <tr>\n",
              "      <th>17</th>\n",
              "      <td></td>\n",
              "      <td>2020-05-01 11:57:56</td>\n",
              "      <td>3 min 44.467 sec</td>\n",
              "      <td>170.0</td>\n",
              "      <td>0.167127</td>\n",
              "      <td>0.118214</td>\n",
              "      <td>0.995688</td>\n",
              "      <td>0.998302</td>\n",
              "      <td>1.375171</td>\n",
              "      <td>0.024728</td>\n",
              "      <td>0.289666</td>\n",
              "      <td>0.273285</td>\n",
              "      <td>0.936421</td>\n",
              "      <td>0.974014</td>\n",
              "      <td>1.363656</td>\n",
              "      <td>0.115694</td>\n",
              "    </tr>\n",
              "    <tr>\n",
              "      <th>18</th>\n",
              "      <td></td>\n",
              "      <td>2020-05-01 11:58:08</td>\n",
              "      <td>3 min 56.913 sec</td>\n",
              "      <td>180.0</td>\n",
              "      <td>0.161200</td>\n",
              "      <td>0.112346</td>\n",
              "      <td>0.996444</td>\n",
              "      <td>0.998600</td>\n",
              "      <td>1.375171</td>\n",
              "      <td>0.021821</td>\n",
              "      <td>0.289395</td>\n",
              "      <td>0.272753</td>\n",
              "      <td>0.936677</td>\n",
              "      <td>0.974112</td>\n",
              "      <td>1.363656</td>\n",
              "      <td>0.114920</td>\n",
              "    </tr>\n",
              "    <tr>\n",
              "      <th>19</th>\n",
              "      <td></td>\n",
              "      <td>2020-05-01 11:58:21</td>\n",
              "      <td>4 min  9.263 sec</td>\n",
              "      <td>190.0</td>\n",
              "      <td>0.155936</td>\n",
              "      <td>0.107139</td>\n",
              "      <td>0.996998</td>\n",
              "      <td>0.998820</td>\n",
              "      <td>1.375171</td>\n",
              "      <td>0.019696</td>\n",
              "      <td>0.289075</td>\n",
              "      <td>0.272342</td>\n",
              "      <td>0.937066</td>\n",
              "      <td>0.974307</td>\n",
              "      <td>1.363656</td>\n",
              "      <td>0.113914</td>\n",
              "    </tr>\n",
              "    <tr>\n",
              "      <th>20</th>\n",
              "      <td></td>\n",
              "      <td>2020-05-01 11:58:33</td>\n",
              "      <td>4 min 21.551 sec</td>\n",
              "      <td>200.0</td>\n",
              "      <td>0.150432</td>\n",
              "      <td>0.101904</td>\n",
              "      <td>0.997498</td>\n",
              "      <td>0.999017</td>\n",
              "      <td>1.375171</td>\n",
              "      <td>0.017570</td>\n",
              "      <td>0.288904</td>\n",
              "      <td>0.272011</td>\n",
              "      <td>0.937396</td>\n",
              "      <td>0.974466</td>\n",
              "      <td>1.363656</td>\n",
              "      <td>0.113759</td>\n",
              "    </tr>\n",
              "    <tr>\n",
              "      <th>21</th>\n",
              "      <td></td>\n",
              "      <td>2020-05-01 11:58:46</td>\n",
              "      <td>4 min 34.160 sec</td>\n",
              "      <td>210.0</td>\n",
              "      <td>0.144805</td>\n",
              "      <td>0.096715</td>\n",
              "      <td>0.997964</td>\n",
              "      <td>0.999200</td>\n",
              "      <td>1.375171</td>\n",
              "      <td>0.015577</td>\n",
              "      <td>0.288625</td>\n",
              "      <td>0.271826</td>\n",
              "      <td>0.937632</td>\n",
              "      <td>0.974487</td>\n",
              "      <td>1.363656</td>\n",
              "      <td>0.114069</td>\n",
              "    </tr>\n",
              "    <tr>\n",
              "      <th>22</th>\n",
              "      <td></td>\n",
              "      <td>2020-05-01 11:58:58</td>\n",
              "      <td>4 min 46.438 sec</td>\n",
              "      <td>220.0</td>\n",
              "      <td>0.139735</td>\n",
              "      <td>0.092162</td>\n",
              "      <td>0.998308</td>\n",
              "      <td>0.999334</td>\n",
              "      <td>1.375171</td>\n",
              "      <td>0.013784</td>\n",
              "      <td>0.288307</td>\n",
              "      <td>0.271376</td>\n",
              "      <td>0.937965</td>\n",
              "      <td>0.974619</td>\n",
              "      <td>1.363656</td>\n",
              "      <td>0.113837</td>\n",
              "    </tr>\n",
              "    <tr>\n",
              "      <th>23</th>\n",
              "      <td></td>\n",
              "      <td>2020-05-01 11:59:10</td>\n",
              "      <td>4 min 58.782 sec</td>\n",
              "      <td>230.0</td>\n",
              "      <td>0.134438</td>\n",
              "      <td>0.087636</td>\n",
              "      <td>0.998658</td>\n",
              "      <td>0.999471</td>\n",
              "      <td>1.375171</td>\n",
              "      <td>0.011940</td>\n",
              "      <td>0.288423</td>\n",
              "      <td>0.271462</td>\n",
              "      <td>0.938140</td>\n",
              "      <td>0.974745</td>\n",
              "      <td>1.363656</td>\n",
              "      <td>0.113914</td>\n",
              "    </tr>\n",
              "    <tr>\n",
              "      <th>24</th>\n",
              "      <td></td>\n",
              "      <td>2020-05-01 11:59:22</td>\n",
              "      <td>5 min 11.091 sec</td>\n",
              "      <td>240.0</td>\n",
              "      <td>0.129284</td>\n",
              "      <td>0.083240</td>\n",
              "      <td>0.998919</td>\n",
              "      <td>0.999573</td>\n",
              "      <td>1.375171</td>\n",
              "      <td>0.010562</td>\n",
              "      <td>0.288473</td>\n",
              "      <td>0.271502</td>\n",
              "      <td>0.938334</td>\n",
              "      <td>0.974844</td>\n",
              "      <td>1.363656</td>\n",
              "      <td>0.113450</td>\n",
              "    </tr>\n",
              "    <tr>\n",
              "      <th>25</th>\n",
              "      <td></td>\n",
              "      <td>2020-05-01 11:59:35</td>\n",
              "      <td>5 min 23.329 sec</td>\n",
              "      <td>250.0</td>\n",
              "      <td>0.124573</td>\n",
              "      <td>0.079290</td>\n",
              "      <td>0.999114</td>\n",
              "      <td>0.999650</td>\n",
              "      <td>1.375171</td>\n",
              "      <td>0.009433</td>\n",
              "      <td>0.288547</td>\n",
              "      <td>0.271702</td>\n",
              "      <td>0.938511</td>\n",
              "      <td>0.974947</td>\n",
              "      <td>1.363656</td>\n",
              "      <td>0.113063</td>\n",
              "    </tr>\n",
              "    <tr>\n",
              "      <th>26</th>\n",
              "      <td></td>\n",
              "      <td>2020-05-01 11:59:47</td>\n",
              "      <td>5 min 35.600 sec</td>\n",
              "      <td>260.0</td>\n",
              "      <td>0.119796</td>\n",
              "      <td>0.075418</td>\n",
              "      <td>0.999300</td>\n",
              "      <td>0.999724</td>\n",
              "      <td>1.375171</td>\n",
              "      <td>0.008254</td>\n",
              "      <td>0.288669</td>\n",
              "      <td>0.272178</td>\n",
              "      <td>0.938543</td>\n",
              "      <td>0.974963</td>\n",
              "      <td>1.363656</td>\n",
              "      <td>0.113914</td>\n",
              "    </tr>\n",
              "    <tr>\n",
              "      <th>27</th>\n",
              "      <td></td>\n",
              "      <td>2020-05-01 11:59:59</td>\n",
              "      <td>5 min 48.046 sec</td>\n",
              "      <td>270.0</td>\n",
              "      <td>0.114855</td>\n",
              "      <td>0.071527</td>\n",
              "      <td>0.999460</td>\n",
              "      <td>0.999787</td>\n",
              "      <td>1.375171</td>\n",
              "      <td>0.007158</td>\n",
              "      <td>0.288561</td>\n",
              "      <td>0.272169</td>\n",
              "      <td>0.938774</td>\n",
              "      <td>0.975046</td>\n",
              "      <td>1.363656</td>\n",
              "      <td>0.113140</td>\n",
              "    </tr>\n",
              "    <tr>\n",
              "      <th>28</th>\n",
              "      <td></td>\n",
              "      <td>2020-05-01 12:00:12</td>\n",
              "      <td>6 min  0.469 sec</td>\n",
              "      <td>280.0</td>\n",
              "      <td>0.110177</td>\n",
              "      <td>0.067942</td>\n",
              "      <td>0.999584</td>\n",
              "      <td>0.999837</td>\n",
              "      <td>1.375171</td>\n",
              "      <td>0.006028</td>\n",
              "      <td>0.288330</td>\n",
              "      <td>0.272061</td>\n",
              "      <td>0.938989</td>\n",
              "      <td>0.975053</td>\n",
              "      <td>1.363656</td>\n",
              "      <td>0.113140</td>\n",
              "    </tr>\n",
              "    <tr>\n",
              "      <th>29</th>\n",
              "      <td></td>\n",
              "      <td>2020-05-01 12:00:24</td>\n",
              "      <td>6 min 12.972 sec</td>\n",
              "      <td>290.0</td>\n",
              "      <td>0.105100</td>\n",
              "      <td>0.064191</td>\n",
              "      <td>0.999683</td>\n",
              "      <td>0.999875</td>\n",
              "      <td>1.375171</td>\n",
              "      <td>0.004816</td>\n",
              "      <td>0.288509</td>\n",
              "      <td>0.272687</td>\n",
              "      <td>0.938966</td>\n",
              "      <td>0.975099</td>\n",
              "      <td>1.363656</td>\n",
              "      <td>0.112908</td>\n",
              "    </tr>\n",
              "  </tbody>\n",
              "</table>\n",
              "</div>"
            ],
            "text/plain": [
              "                timestamp  ... validation_lift  validation_classification_error\n",
              "0     2020-05-01 11:54:11  ...        1.000000                         0.266677\n",
              "1     2020-05-01 11:54:26  ...        1.363656                         0.150751\n",
              "2     2020-05-01 11:54:40  ...        1.363656                         0.141077\n",
              "3     2020-05-01 11:54:54  ...        1.363656                         0.133571\n",
              "4     2020-05-01 11:55:08  ...        1.363656                         0.129314\n",
              "5     2020-05-01 11:55:22  ...        1.363656                         0.126606\n",
              "6     2020-05-01 11:55:36  ...        1.363656                         0.125290\n",
              "7     2020-05-01 11:55:49  ...        1.363656                         0.124129\n",
              "8     2020-05-01 11:56:02  ...        1.363656                         0.123201\n",
              "9     2020-05-01 11:56:14  ...        1.363656                         0.120957\n",
              "10    2020-05-01 11:56:26  ...        1.363656                         0.120647\n",
              "11    2020-05-01 11:56:41  ...        1.363656                         0.120028\n",
              "12    2020-05-01 11:56:54  ...        1.363656                         0.120337\n",
              "13    2020-05-01 11:57:06  ...        1.363656                         0.119331\n",
              "14    2020-05-01 11:57:18  ...        1.363656                         0.118712\n",
              "15    2020-05-01 11:57:31  ...        1.363656                         0.117397\n",
              "16    2020-05-01 11:57:44  ...        1.363656                         0.117706\n",
              "17    2020-05-01 11:57:56  ...        1.363656                         0.115694\n",
              "18    2020-05-01 11:58:08  ...        1.363656                         0.114920\n",
              "19    2020-05-01 11:58:21  ...        1.363656                         0.113914\n",
              "20    2020-05-01 11:58:33  ...        1.363656                         0.113759\n",
              "21    2020-05-01 11:58:46  ...        1.363656                         0.114069\n",
              "22    2020-05-01 11:58:58  ...        1.363656                         0.113837\n",
              "23    2020-05-01 11:59:10  ...        1.363656                         0.113914\n",
              "24    2020-05-01 11:59:22  ...        1.363656                         0.113450\n",
              "25    2020-05-01 11:59:35  ...        1.363656                         0.113063\n",
              "26    2020-05-01 11:59:47  ...        1.363656                         0.113914\n",
              "27    2020-05-01 11:59:59  ...        1.363656                         0.113140\n",
              "28    2020-05-01 12:00:12  ...        1.363656                         0.113140\n",
              "29    2020-05-01 12:00:24  ...        1.363656                         0.112908\n",
              "\n",
              "[30 rows x 16 columns]"
            ]
          },
          "metadata": {
            "tags": []
          },
          "execution_count": 101
        }
      ]
    }
  ]
}